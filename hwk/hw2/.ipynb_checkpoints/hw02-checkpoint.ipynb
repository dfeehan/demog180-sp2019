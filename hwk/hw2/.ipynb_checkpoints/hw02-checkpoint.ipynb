{
 "cells": [
  {
   "cell_type": "markdown",
   "metadata": {},
   "source": [
    "## Homework 2 "
   ]
  },
  {
   "cell_type": "markdown",
   "metadata": {},
   "source": [
    "### Personal network surveys"
   ]
  },
  {
   "cell_type": "markdown",
   "metadata": {},
   "source": [
    "In this homework, we will be analyzing some data from the [General Social Survey](http://gss.norc.org/) (GSS).\n",
    "The GSS is the survey that was the basis of the debate over whether or not Americans are becoming more socially isolated, which we discussed in class."
   ]
  },
  {
   "cell_type": "code",
   "execution_count": null,
   "metadata": {
    "collapsed": true
   },
   "outputs": [],
   "source": [
    "from IPython.core.display import HTML\n",
    "from datascience import *\n",
    "\n",
    "import matplotlib\n",
    "matplotlib.use('Agg')\n",
    "%matplotlib inline\n",
    "import matplotlib.pyplot as plt\n",
    "import numpy as np\n",
    "plt.style.use('fivethirtyeight')"
   ]
  },
  {
   "cell_type": "code",
   "execution_count": null,
   "metadata": {
    "collapsed": false
   },
   "outputs": [],
   "source": [
    "import os\n",
    "os.getcwd()"
   ]
  },
  {
   "cell_type": "code",
   "execution_count": null,
   "metadata": {
    "collapsed": false
   },
   "outputs": [],
   "source": [
    "#Loading testing data\n",
    "from client.api.notebook import Notebook \n",
    "hw02 = Notebook('hw02.ok')\n",
    "_ = hw02.auth(inline=True)"
   ]
  },
  {
   "cell_type": "markdown",
   "metadata": {},
   "source": [
    "The file `GSS.csv` has an extract from the GSS which we will analyze today.\n",
    "\n",
    "Here is the [codebook](http://gss.norc.org/documents/codebook/GSS_Codebook.pdf) for the entire GSS. Of course, the GSS is huge, so you will have to search through for the variable names included in this extract. (Don't do this by hand -- use your pdf viewer's search function.)"
   ]
  },
  {
   "cell_type": "markdown",
   "metadata": {},
   "source": [
    "Read the GSS extract into a Table called `gss_data`."
   ]
  },
  {
   "cell_type": "code",
   "execution_count": null,
   "metadata": {
    "collapsed": true
   },
   "outputs": [],
   "source": [
    "url = 'GSS.csv'\n",
    "gss_data = Table.read_table(url)"
   ]
  },
  {
   "cell_type": "markdown",
   "metadata": {},
   "source": [
    "**Question.** How many rows and how many columns does `gss_data` have? Print out the first several rows to take a look at its contents."
   ]
  },
  {
   "cell_type": "code",
   "execution_count": null,
   "metadata": {
    "collapsed": true
   },
   "outputs": [],
   "source": [
    "gss_number_of_rows = ...\n",
    "gss_number_of_cols = ...\n",
    "\n",
    "print(\"num rows: \", gss_number_of_rows)\n",
    "print(\"num cols: \", gss_number_of_cols)"
   ]
  },
  {
   "cell_type": "code",
   "execution_count": null,
   "metadata": {
    "collapsed": true
   },
   "outputs": [],
   "source": [
    "_ = hw02.grade('q1')"
   ]
  },
  {
   "cell_type": "code",
   "execution_count": null,
   "metadata": {
    "collapsed": true
   },
   "outputs": [],
   "source": [
    "gss_data"
   ]
  },
  {
   "cell_type": "markdown",
   "metadata": {},
   "source": [
    "**Question** What range of years is covered by this dataset? Answer this by finding the largest and smallest year."
   ]
  },
  {
   "cell_type": "code",
   "execution_count": null,
   "metadata": {
    "collapsed": true
   },
   "outputs": [],
   "source": [
    "largest_year = ...\n",
    "smallest_year = ...\n",
    "\n",
    "print(\"earliest year: \", smallest_year)\n",
    "print(\"latest year: \", largest_year)"
   ]
  },
  {
   "cell_type": "code",
   "execution_count": null,
   "metadata": {
    "collapsed": true
   },
   "outputs": [],
   "source": [
    "_ = hw02.grade('q2')"
   ]
  },
  {
   "cell_type": "markdown",
   "metadata": {},
   "source": [
    "We are interested in the years when the 'important matters' question was asked of survey respondents. It turns out that this question was only asked for 1985 and 2004. In order to continue with our analysis, we will pick out only the rows of the dataset that correspond to the years we are interested in."
   ]
  },
  {
   "cell_type": "markdown",
   "metadata": {},
   "source": [
    "**Question** Make two new datasets: `gss_1985` and `gss_2004` which have only the responses from 1985 and from 2004."
   ]
  },
  {
   "cell_type": "code",
   "execution_count": null,
   "metadata": {
    "collapsed": true
   },
   "outputs": [],
   "source": [
    "gss_1985 = gss_data.where('year', are.equal_to(1985))\n",
    "gss_2004 = gss_data.where('year', are.equal_to(2004))"
   ]
  },
  {
   "cell_type": "code",
   "execution_count": null,
   "metadata": {
    "collapsed": true
   },
   "outputs": [],
   "source": [
    "_ = hw02.grade('q3')"
   ]
  },
  {
   "cell_type": "code",
   "execution_count": null,
   "metadata": {
    "collapsed": true
   },
   "outputs": [],
   "source": [
    "_ = hw02.grade('q4')"
   ]
  },
  {
   "cell_type": "markdown",
   "metadata": {},
   "source": [
    "**Question** How many responses are there from 1985, and how many from 2004? "
   ]
  },
  {
   "cell_type": "code",
   "execution_count": null,
   "metadata": {
    "collapsed": true
   },
   "outputs": [],
   "source": [
    "responses_from_1985 = ...\n",
    "responses_from_2004 = ..."
   ]
  },
  {
   "cell_type": "code",
   "execution_count": null,
   "metadata": {
    "collapsed": true
   },
   "outputs": [],
   "source": [
    "_ = hw02.grade('q5')"
   ]
  },
  {
   "cell_type": "markdown",
   "metadata": {},
   "source": [
    "**Question** Make a table of the responses to the `numgiven` question for each year."
   ]
  },
  {
   "cell_type": "code",
   "execution_count": null,
   "metadata": {
    "collapsed": true
   },
   "outputs": [],
   "source": [
    "gss_1985_numgiven = ..."
   ]
  },
  {
   "cell_type": "code",
   "execution_count": null,
   "metadata": {
    "collapsed": true
   },
   "outputs": [],
   "source": [
    "gss_2004_numgiven = ..."
   ]
  },
  {
   "cell_type": "markdown",
   "metadata": {},
   "source": [
    "Your table for 2004 should show that quite a few respondents have -1 as the value of `numgiven`. These respondents actually did not answer the important matters name generator."
   ]
  },
  {
   "cell_type": "markdown",
   "metadata": {},
   "source": [
    "**Question** Narrow the 2004 dataset down so that it does not have the respondents who have -1 values for `numgiven`"
   ]
  },
  {
   "cell_type": "code",
   "execution_count": null,
   "metadata": {
    "collapsed": false
   },
   "outputs": [],
   "source": [
    "gss_2004_interviewed = gss_2004.where('numgiven', are.above(-1))"
   ]
  },
  {
   "cell_type": "code",
   "execution_count": null,
   "metadata": {
    "collapsed": false
   },
   "outputs": [],
   "source": [
    "_ = hw02.grade('q7')"
   ]
  },
  {
   "cell_type": "markdown",
   "metadata": {},
   "source": [
    "**Question** Narrow both datasets down so that they only have respondents who were asked the `numgiven` question and who provided answers to that question."
   ]
  },
  {
   "cell_type": "code",
   "execution_count": null,
   "metadata": {
    "collapsed": true
   },
   "outputs": [],
   "source": [
    "gss_1985_responded = gss_1985.where('numgiven', are.not_equal_to(9))\n",
    "gss_2004_responded = gss_2004_interviewed.where('numgiven', are.not_equal_to(9))"
   ]
  },
  {
   "cell_type": "code",
   "execution_count": null,
   "metadata": {
    "collapsed": false
   },
   "outputs": [],
   "source": [
    "_ = hw02.grade('q7b')"
   ]
  },
  {
   "cell_type": "markdown",
   "metadata": {},
   "source": [
    "Now we have the set of respondents we will study in more detail: those who responded to the 'important matters' name generator.\n",
    "\n",
    "**For the problems below, please use `gss_1985_responded` and `gss_2004_responded`.**"
   ]
  },
  {
   "cell_type": "markdown",
   "metadata": {},
   "source": [
    "Many analysts have focused on how many survey respondents report that they don't discuss important matters with anyone.  They interpret the fraction of respondents who don't report discussing important matters with anyone as an indicator for the amount of social isolation. (These respondents who report not discussing important matters with anyone have `numgiven` equal to 0.)"
   ]
  },
  {
   "cell_type": "markdown",
   "metadata": {},
   "source": [
    "**Question.** Do you think this is a good way to try to quantify social isolation? Name one way this could be a good measure of social isolation, and one way this could be a bad measure of social isolation. Please be specific."
   ]
  },
  {
   "cell_type": "markdown",
   "metadata": {},
   "source": [
    "<div class='response'>\n",
    "[answer here]\n",
    "</div>"
   ]
  },
  {
   "cell_type": "markdown",
   "metadata": {},
   "source": [
    "**Question** For both the 1985 and 2004 datasets, create a new variable, `isolated` which has the value False if the respondent reports discussing important matters with anyone, and True otherwise."
   ]
  },
  {
   "cell_type": "code",
   "execution_count": null,
   "metadata": {
    "collapsed": true
   },
   "outputs": [],
   "source": [
    "isolated_1985 = ...\n",
    "isolated_2004 = ..."
   ]
  },
  {
   "cell_type": "code",
   "execution_count": null,
   "metadata": {
    "collapsed": true
   },
   "outputs": [],
   "source": [
    "_ = hw02.grade('q8')"
   ]
  },
  {
   "cell_type": "markdown",
   "metadata": {},
   "source": [
    "**Question** Using the variable you just created, what proportion of respondents was socially isolated in 1985? In 2004?"
   ]
  },
  {
   "cell_type": "code",
   "execution_count": null,
   "metadata": {
    "collapsed": true
   },
   "outputs": [],
   "source": [
    "proportion_isolated_1985 = ...\n",
    "proportion_isolated_2004 = ...\n",
    "\n",
    "print(\"Proportion isolated in 1985: \", proportion_isolated_1985)\n",
    "print(\"Proportion isolated in 2004: \", proportion_isolated_2004)"
   ]
  },
  {
   "cell_type": "code",
   "execution_count": null,
   "metadata": {
    "collapsed": true
   },
   "outputs": [],
   "source": [
    "_ = hw02.grade('q9')"
   ]
  },
  {
   "cell_type": "code",
   "execution_count": null,
   "metadata": {
    "collapsed": true
   },
   "outputs": [],
   "source": [
    "_ = hw02.grade('q10')"
   ]
  },
  {
   "cell_type": "code",
   "execution_count": null,
   "metadata": {
    "collapsed": true
   },
   "outputs": [],
   "source": [
    "gss_1985"
   ]
  },
  {
   "cell_type": "markdown",
   "metadata": {},
   "source": [
    "Here is a function that you may find useful in answering the next question. Given a row in a GSS dataset, the function returns `True` if one of the alters is a spouse, and `False` otherwise:"
   ]
  },
  {
   "cell_type": "code",
   "execution_count": null,
   "metadata": {
    "collapsed": true
   },
   "outputs": [],
   "source": [
    "def reports_spouse(row):\n",
    "    return(row.item('spouse1') == 1 or row.item('spouse2') == 1 or row.item('spouse3') == 1 or row.item('spouse4') == 1 or row.item('spouse5') == 1)"
   ]
  },
  {
   "cell_type": "markdown",
   "metadata": {},
   "source": [
    "**Question** What proportion of married respondents named a spouse?"
   ]
  },
  {
   "cell_type": "code",
   "execution_count": null,
   "metadata": {
    "collapsed": true
   },
   "outputs": [],
   "source": [
    "married_1985 = gss_1985_responded.where(\"marital\", are.equal_to(...))\n",
    "married_spouses_1985 = married_1985.apply(...)\n",
    "married_spouses_proportion_1985 = ...\n",
    "\n",
    "married_2004 = gss_2004_responded.where(\"marital\", are.equal_to(...))\n",
    "married_spouses_2004 = married_2004.apply(...)\n",
    "married_spouses_proportion_2004 = ...\n",
    "\n",
    "print(\"proportion of married respondents naming spouse in 1985: \", married_spouses_proportion_1985)\n",
    "print(\"proportion of married respondents naming spouse in 2004: \", married_spouses_proportion_2004)"
   ]
  },
  {
   "cell_type": "code",
   "execution_count": null,
   "metadata": {
    "collapsed": true
   },
   "outputs": [],
   "source": [
    "_ = hw02.grade('q14')"
   ]
  },
  {
   "cell_type": "markdown",
   "metadata": {},
   "source": [
    "### Homophily"
   ]
  },
  {
   "cell_type": "markdown",
   "metadata": {},
   "source": [
    "Below, you will find the functions that we used to convert data from wide to long as part of Lab 1. The `wide_to_long` function has been slightly modified to account for the different format of the variable names in the GSS dataset, but it works in the same way we saw in the lab."
   ]
  },
  {
   "cell_type": "code",
   "execution_count": null,
   "metadata": {
    "collapsed": true
   },
   "outputs": [],
   "source": [
    "def repeat_single_col(data, var_name, times=5):\n",
    "    \"\"\"Repeats a single column multiple times.\n",
    "    \n",
    "    Parameters\n",
    "    ----------\n",
    "    var_name : str\n",
    "        Text that contains the name of the column to repeat.\n",
    "    \n",
    "    Returns\n",
    "    -------\n",
    "    np.array\n",
    "        A single array with the contents of the column repeated five times.\n",
    "    \n",
    "    Examples\n",
    "    --------\n",
    "    >>> repeat_single_col(Table().with_columns(['respondent_age', [10]]),\n",
    "                          'respondent_age')\n",
    "    \n",
    "    array([10, 10, 10, 10, 10])\n",
    "    \"\"\"\n",
    "    new_col = np.tile(data.column(var_name), times)\n",
    "    return new_col\n",
    "\n",
    "def wide_to_long(data, var_name, times=5):\n",
    "    \"\"\"Given columns of alter characteristics, stack them into one long column.\n",
    "    \n",
    "    Parameters\n",
    "    ----------\n",
    "    data : Table\n",
    "        The data table containing the alter characteristics\n",
    "    var_name : str\n",
    "        Text that contains the variable name; columns of the dataset should\n",
    "        match the pattern: [var_name][alter_number]\n",
    "        For example, if var_name is 'age' then this function expects to find\n",
    "        columns in the survey dataset named \n",
    "        'age1', 'age2', 'age3', 'age4', and 'age5'\n",
    "    times : int\n",
    "        The number of columns for each characteristic\n",
    "    \n",
    "    Returns\n",
    "    -------\n",
    "    np.array\n",
    "        A single array with the contents of all of the columns stacked on top of one another.\n",
    "    \n",
    "    Examples\n",
    "    --------\n",
    "    >>> wide_to_long(Table().with_columns(['age1', [10, 15],\n",
    "                                           'age2', [30, 35],\n",
    "                                           'age3', [20, 15],\n",
    "                                           'age4', [60, 70],\n",
    "                                           'age5', [20, 25]]),\n",
    "                     'age')\n",
    "    \n",
    "    array([10, 15, 30, 35, 20, 15, 60, 70, 20, 25])\n",
    "    \"\"\"\n",
    "    new_col = np.concatenate([data.column(var_name + str(idx)) for idx in range(1,times+1)])\n",
    "    return new_col"
   ]
  },
  {
   "cell_type": "markdown",
   "metadata": {},
   "source": [
    "**Question** Now we will use these functions to convert the wide-format data from 1985 and 2004 into long format. This will enable us to examine whether or not there is evidence of homophily in the GSS confidant reports from those two years.\n",
    "\n",
    "Follow the pattern that we used in Lab 1 to do this. Be sure to include the following:\n",
    "\n",
    "* ego's age\n",
    "* alter's gender (called 'sex' in the dataset')\n",
    "* alter's age"
   ]
  },
  {
   "cell_type": "code",
   "execution_count": null,
   "metadata": {
    "collapsed": true
   },
   "outputs": [],
   "source": [
    "gss_1985_long_raw = ..."
   ]
  },
  {
   "cell_type": "code",
   "execution_count": null,
   "metadata": {
    "collapsed": true
   },
   "outputs": [],
   "source": [
    "gss_2004_long_raw = ..."
   ]
  },
  {
   "cell_type": "code",
   "execution_count": null,
   "metadata": {
    "collapsed": true
   },
   "outputs": [],
   "source": [
    "_ = hw02.grade('q15')"
   ]
  },
  {
   "cell_type": "code",
   "execution_count": null,
   "metadata": {
    "collapsed": true
   },
   "outputs": [],
   "source": [
    "gss_1985_responded.show()"
   ]
  },
  {
   "cell_type": "markdown",
   "metadata": {},
   "source": [
    "**Question** Similar to Lab 1, not all respondents reported about 5 alters. In cases where alter information is missing, `alter_age` is coded as -1. Furthermore, in cases where respondents did report about an alter, but they did not know or refused to give the alter's age, [the codebook](http://gss.norc.org/documents/codebook/GSS_Codebook.pdf) tells use that `alter_age` will have the value 98 or 99.\n",
    "\n",
    "Create the Tables gss_1985_long and gss_2004_long, which start from `gss_1985_long_raw` and `gss_2004_long_raw` and filter out rows where `alter_age` equals -1, 98, or 99 so that we are left with only actual reported alters whose age was given."
   ]
  },
  {
   "cell_type": "code",
   "execution_count": null,
   "metadata": {
    "collapsed": true
   },
   "outputs": [],
   "source": [
    "gss_1985_long = gss_1985_long_raw.where(...)\n",
    "gss_1985_long = gss_1985_long.where(...)\n",
    "gss_1985_long = gss_1985_long.where(...)"
   ]
  },
  {
   "cell_type": "code",
   "execution_count": null,
   "metadata": {
    "collapsed": true
   },
   "outputs": [],
   "source": [
    "gss_2004_long = gss_2004_long_raw.where(...)\n",
    "gss_2004_long = gss_2004_long.where(...)\n",
    "gss_2004_long = gss_2004_long.where(...)"
   ]
  },
  {
   "cell_type": "code",
   "execution_count": null,
   "metadata": {
    "collapsed": true
   },
   "outputs": [],
   "source": [
    "_ = hw02.grade('q16')"
   ]
  },
  {
   "cell_type": "markdown",
   "metadata": {},
   "source": [
    "**Question** Create a scatterplot of the respondent's age and the alter's age (make a separate plot for 1985 and for 2004)."
   ]
  },
  {
   "cell_type": "code",
   "execution_count": null,
   "metadata": {
    "collapsed": true
   },
   "outputs": [],
   "source": [
    "..."
   ]
  },
  {
   "cell_type": "code",
   "execution_count": null,
   "metadata": {
    "collapsed": true
   },
   "outputs": [],
   "source": [
    "..."
   ]
  },
  {
   "cell_type": "markdown",
   "metadata": {},
   "source": [
    "**Question** What do the scatter plots you made suggest about homophily in Americans' confidant networks? How similar or different are these patterns to what we saw from our survey of Berkeley students? (Note: there is no single right answer here -- I just want you to interpret the plots and provide an argument for why your interpretation might be right.)"
   ]
  },
  {
   "cell_type": "markdown",
   "metadata": {},
   "source": [
    "[answer here]"
   ]
  },
  {
   "cell_type": "markdown",
   "metadata": {},
   "source": [
    "# Adjacency Matrices and Adjacency Lists"
   ]
  },
  {
   "cell_type": "markdown",
   "metadata": {},
   "source": [
    "**Question** <br>\n",
    "Consider the undirected graph as shown in the figure below."
   ]
  },
  {
   "cell_type": "markdown",
   "metadata": {},
   "source": [
    "<img src=\"Graph1.png\" height=40% width=40%>"
   ]
  },
  {
   "cell_type": "markdown",
   "metadata": {},
   "source": [
    "<ol>\n",
    "<li>Write down the adjacency matrix for this graph.</li>\n",
    "<li>Write down the adjacency list for this graph (there can be different ways to represent an adjacency list).</li>\n",
    "<li>Which representation is better for this graph and why?</li>\n",
    "</ol>"
   ]
  },
  {
   "cell_type": "code",
   "execution_count": null,
   "metadata": {
    "collapsed": true
   },
   "outputs": [],
   "source": [
    "# Answer here"
   ]
  },
  {
   "cell_type": "markdown",
   "metadata": {},
   "source": [
    "#### **Question** <br>\n",
    "Now consider the following graph\n",
    "\n",
    "<img src=\"5_18.png\" width=\"240\" height=\"180\" align=\"center\"/>\n",
    "<br>\n",
    "Which representation (adjacency list or adjacency matrix) is better for this graph? Write down the representation that you think is better for this graph."
   ]
  },
  {
   "cell_type": "code",
   "execution_count": null,
   "metadata": {
    "collapsed": true
   },
   "outputs": [],
   "source": [
    "# Answer here"
   ]
  },
  {
   "cell_type": "markdown",
   "metadata": {},
   "source": [
    "# Breadth first search\n",
    "\n",
    "In class, we did an example using the ARPANET graph that systematically compute the distance between one node (MIT) and every other node (lecture 2). The searching algorithm we used is called breadth first search. Use this algorithm and calculate the longest distance between two nodes in the following graph.\n",
    "\n",
    "<img src=\"bfs.png\" width=\"240\" height=\"180\" align=\"center\"/>\n",
    "<br>"
   ]
  },
  {
   "cell_type": "markdown",
   "metadata": {},
   "source": [
    "**Question** Write down the steps for searching in the following box and enter the longest distance between each pair of nodes as q17."
   ]
  },
  {
   "cell_type": "code",
   "execution_count": null,
   "metadata": {
    "collapsed": true
   },
   "outputs": [],
   "source": [
    "# Begin with A\n",
    "d1 = make_array(...) # Nodes that have distance 1 with A\n",
    "...\n",
    "\n",
    "q17 = ..."
   ]
  },
  {
   "cell_type": "code",
   "execution_count": null,
   "metadata": {
    "collapsed": true
   },
   "outputs": [],
   "source": [
    "_ = hw02.grade('q17')"
   ]
  },
  {
   "cell_type": "markdown",
   "metadata": {},
   "source": [
    "# SUBMIT YOUR ASSIGNMENT"
   ]
  },
  {
   "cell_type": "markdown",
   "metadata": {},
   "source": [
    "You can rerun all the tests before submitting the homework if you'd like to."
   ]
  },
  {
   "cell_type": "code",
   "execution_count": null,
   "metadata": {
    "collapsed": true
   },
   "outputs": [],
   "source": [
    "import os\n",
    "print(\"Running all tests...\")\n",
    "_ = [hw02.grade(q[:-3]) for q in os.listdir(\"tests\") if q.startswith('q')]\n",
    "print(\"Finished running all tests.\")"
   ]
  },
  {
   "cell_type": "markdown",
   "metadata": {},
   "source": [
    "In order to submit your assignment, run the next cell.\n",
    "\n",
    "You can submit as many times as you want (up to the deadline: Feb 11th, Monday 9 pm)."
   ]
  },
  {
   "cell_type": "code",
   "execution_count": null,
   "metadata": {
    "collapsed": false
   },
   "outputs": [],
   "source": [
    "_ = hw02.submit()"
   ]
  }
 ],
 "metadata": {
  "anaconda-cloud": {},
  "kernelspec": {
   "display_name": "Python 3",
   "language": "python",
   "name": "python3"
  },
  "language_info": {
   "codemirror_mode": {
    "name": "ipython",
    "version": 3
   },
   "file_extension": ".py",
   "mimetype": "text/x-python",
   "name": "python",
   "nbconvert_exporter": "python",
   "pygments_lexer": "ipython3",
   "version": "3.6.0"
  }
 },
 "nbformat": 4,
 "nbformat_minor": 1
}
