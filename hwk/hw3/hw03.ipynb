{
 "cells": [
  {
   "cell_type": "code",
   "execution_count": null,
   "metadata": {
    "collapsed": false
   },
   "outputs": [],
   "source": [
    "!pip install --upgrade networkx"
   ]
  },
  {
   "cell_type": "code",
   "execution_count": 1,
   "metadata": {
    "collapsed": true
   },
   "outputs": [],
   "source": [
    "from IPython.core.display import HTML\n",
    "from datascience import *\n",
    "import itertools\n",
    "import matplotlib\n",
    "\n",
    "import matplotlib.pyplot as plt\n",
    "import numpy as np\n",
    "import os\n",
    "plt.style.use('fivethirtyeight')\n",
    "\n",
    "import networkx as nx\n",
    "%matplotlib inline\n",
    "\n",
    "#np.random.seed(99)"
   ]
  },
  {
   "cell_type": "code",
   "execution_count": 2,
   "metadata": {
    "collapsed": false
   },
   "outputs": [
    {
     "name": "stdout",
     "output_type": "stream",
     "text": [
      "=====================================================================\n",
      "Assignment: Demography180 Homework 03\n",
      "OK, version v1.13.11\n",
      "=====================================================================\n",
      "\n"
     ]
    },
    {
     "name": "stderr",
     "output_type": "stream",
     "text": [
      "ERROR  | auth.py:91 | {'error': 'invalid_grant'}\n"
     ]
    },
    {
     "name": "stdout",
     "output_type": "stream",
     "text": [
      "\n",
      "Open the following URL:\n",
      "\n",
      "https://okpy.org/client/login/\n",
      "\n",
      "After logging in, copy the code from the web page and paste it into the box.\n",
      "Then press the \"Enter\" key on your keyboard.\n",
      "\n",
      "Paste your code here: j6zGvT4uji1Vc27EzBb6682GIbCXZj\n",
      "Successfully logged in as ruijie_zhong@berkeley.edu\n"
     ]
    }
   ],
   "source": [
    "#Loading testing data\n",
    "from client.api.notebook import Notebook \n",
    "hw03 = Notebook('hw03.ok')\n",
    "_ = hw03.auth(inline=True)"
   ]
  },
  {
   "cell_type": "markdown",
   "metadata": {
    "collapsed": true
   },
   "source": [
    "# HW 03"
   ]
  },
  {
   "cell_type": "markdown",
   "metadata": {},
   "source": [
    "In this HW, we are going to calculate the average clustering coefficient of a network based on the concepts we have discussed in the lectures and labs.\n",
    "Starting from a small hand-crafted network, we are eventually going to analyze a complete network data from the [Add Health project](http://www.cpc.unc.edu/projects/addhealth)."
   ]
  },
  {
   "cell_type": "markdown",
   "metadata": {},
   "source": [
    "## Clustering Coefficient"
   ]
  },
  {
   "cell_type": "markdown",
   "metadata": {},
   "source": [
    "**Clustering Coefficient ** of a node can be defined as the fraction of the number of pairs of neighbors of a node that are directly connected to each other."
   ]
  },
  {
   "cell_type": "markdown",
   "metadata": {},
   "source": [
    "Consider the network created by the following code."
   ]
  },
  {
   "cell_type": "code",
   "execution_count": 3,
   "metadata": {
    "collapsed": false
   },
   "outputs": [
    {
     "name": "stderr",
     "output_type": "stream",
     "text": [
      "/Users/Mia/anaconda/lib/python3.6/site-packages/networkx/drawing/nx_pylab.py:611: MatplotlibDeprecationWarning: isinstance(..., numbers.Number)\n",
      "  if cb.is_numlike(alpha):\n"
     ]
    },
    {
     "data": {
      "image/png": "[encoded data removed]",
      "text/plain": [
       "<Figure size 432x288 with 1 Axes>"
      ]
     },
     "metadata": {},
     "output_type": "display_data"
    }
   ],
   "source": [
    "ex_network = nx.Graph([(1,3), (2,3), (1,2), (3,4), (5,6), (7,8)])\n",
    "ex_network.add_node(9)\n",
    "nx.draw_circular(ex_network, with_labels=True)"
   ]
  },
  {
   "cell_type": "markdown",
   "metadata": {},
   "source": [
    "### 1) Calculating average clustering coefficient by hand\n",
    "\n",
    "**Practice** For each node in the above graph, calculate the following things:\n",
    "\n",
    "* Degree of the node, \n",
    "* Number of pairs of neighbors of the node,\n",
    "* Number of the pairs of neighbors that are directly connected with each other\n",
    "\n",
    "Write down your answer as a table with the following columns:\n",
    "\n",
    "NodeId, Degree of the node, Number of pairs of neighbors, Number of the pairs of the neighbors that are directly connected\n",
    "\n",
    "* Write down this table as comma seperated and begin each line with a #"
   ]
  },
  {
   "cell_type": "code",
   "execution_count": null,
   "metadata": {
    "collapsed": true
   },
   "outputs": [],
   "source": [
    "# NodeId, Degree of the node, Number of pairs of neighbors, Number of the pairs of the neighbors that are directly connected\n",
    "# 1,2,1,1\n",
    "# 2,2,1,1\n",
    "# 3,3,3,1\n",
    "# 4,1,0,0\n",
    "# 5,1,0,0\n",
    "# 6,1,0,0\n",
    "# 7,1,0,0\n",
    "# 8,1,0,0\n",
    "# 9,0,0,0"
   ]
  },
  {
   "cell_type": "markdown",
   "metadata": {},
   "source": [
    "The clustering coefficient of each node is the proportion of number of the pairs of the neighbors that are directly connected to the number of all possible pairs of the neighbors. Check the lecture slide and demo for review.\n",
    "\n",
    "**Practice** For each of the node in the above mentiond graph, calculate the clustering coefficient for each node. \n",
    "\n",
    "Here we list the clustering coefficient in the following table with two columns: NodeId, Clustering Coefficient"
   ]
  },
  {
   "cell_type": "code",
   "execution_count": null,
   "metadata": {
    "collapsed": true
   },
   "outputs": [],
   "source": [
    "# NodeId, Clustering Coefficient\n",
    "# 1,1\n",
    "# 2,1\n",
    "# 3,0.333\n",
    "# 4,0\n",
    "# 5,0\n",
    "# 6,0\n",
    "# 7,0\n",
    "# 8,0\n",
    "# 9,0"
   ]
  },
  {
   "cell_type": "markdown",
   "metadata": {},
   "source": [
    "** Question ** Calculate the average clustering coefficient for the whole graph."
   ]
  },
  {
   "cell_type": "code",
   "execution_count": 4,
   "metadata": {
    "collapsed": true
   },
   "outputs": [],
   "source": [
    "# Write solution here\n",
    "q1 = (1+1+0.333)/9"
   ]
  },
  {
   "cell_type": "code",
   "execution_count": 5,
   "metadata": {
    "collapsed": false
   },
   "outputs": [
    {
     "name": "stdout",
     "output_type": "stream",
     "text": [
      "~~~~~~~~~~~~~~~~~~~~~~~~~~~~~~~~~~~~~~~~~~~~~~~~~~~~~~~~~~~~~~~~~~~~~\n",
      "Running tests\n",
      "\n",
      "---------------------------------------------------------------------\n",
      "Test summary\n",
      "    Passed: 1\n",
      "    Failed: 0\n",
      "[ooooooooook] 100.0% passed\n",
      "\n"
     ]
    }
   ],
   "source": [
    "_ = hw03.grade('q1')"
   ]
  },
  {
   "cell_type": "markdown",
   "metadata": {},
   "source": [
    "### 2) Calculating average clustering coefficient using the function in networkx module\n",
    "\n",
    "Networkx library provides functions to calculate the average clustering coefficient of a graph. To be specific,\n",
    "`average_clustering` method can be used to calculate the average clustering coefficient of a graph. Use the average_clustering method to calculate the average clustering coefficient of the above graph.  \n",
    "\n",
    "The average clustering coefficient calculated by this function should be the same with your answer calculated by hand for q4. (There can be some minor difference if you are rounding off your answer.)"
   ]
  },
  {
   "cell_type": "code",
   "execution_count": null,
   "metadata": {
    "collapsed": false
   },
   "outputs": [],
   "source": [
    "nx.average_clustering(ex_network)"
   ]
  },
  {
   "cell_type": "markdown",
   "metadata": {
    "collapsed": true
   },
   "source": [
    "### 3) Create a function to calculating clustering coefficient from scratch\n",
    "\n",
    "In this part of this homework, we are going to write down a method to calculate the average clustering coefficient of a network from scratch."
   ]
  },
  {
   "cell_type": "markdown",
   "metadata": {},
   "source": [
    "**Algorithm** Algorithm for calculating the clustering coefficient of ONE node is as follows.\n",
    "\n",
    "1. Get all the neighboring nodes for the node x\n",
    "2. Get all the possible pairs for the neighboring nodes of x\n",
    "3. For each of the pair created in the last step, count the number of pairs that are directly connected to each other\n",
    "4. Divide the number of pairs that are directly connected (Step 3) by the total number of pairs"
   ]
  },
  {
   "cell_type": "markdown",
   "metadata": {},
   "source": [
    "Many of the methods in the networkx library return an iterator. The concept of iterators is beyond the scope of this course and homework but two things to remember is that the iterators are as follows:\n",
    "\n",
    "1. Iterators can be used in for loops just like any other container. In other words, iterators can be used in for loop as follows\n",
    "<code> for x in iterator </code>\n",
    "2. Iterators can be easily converted into lists by using list comprehension as follows\n",
    "<code> [x for x in iterator] </code>"
   ]
  },
  {
   "cell_type": "markdown",
   "metadata": {},
   "source": [
    "** Practice ** Step 1: Let us suppose that we are interested in getting the neighbors of a node. We can use the neighbors function which is a member of the graph class in networkx for the purpose. Complete the following function."
   ]
  },
  {
   "cell_type": "code",
   "execution_count": null,
   "metadata": {
    "collapsed": false
   },
   "outputs": [],
   "source": [
    "def get_neighbors(graph_instance, node_id): # two inputs: the network as a graph object, and the id of the node\n",
    "    ''' Get all the neighbors of node_id in graph_instance as a list'''\n",
    "    neighbors_iter=graph_instance.neighbors(node_id) # Use the .neighbor function of the graph object that results an iterator for the neighbors\n",
    "    neighbors_list=[neighbor for neighbor in neighbors_iter] # Covert the iterator into a list (easier to work with)\n",
    "    return neighbors_list"
   ]
  },
  {
   "cell_type": "code",
   "execution_count": null,
   "metadata": {
    "collapsed": false
   },
   "outputs": [],
   "source": [
    "# Now we can get the neighbors of node 3\n",
    "neighbor_n3 = get_neighbors(ex_network, 3)\n",
    "neighbor_n3"
   ]
  },
  {
   "cell_type": "markdown",
   "metadata": {},
   "source": [
    "** Practice ** Step 2: Now that we have the list of neighbors for node with id 3. The next step is to convert the list of neighbors into list of possible pair of neighbors. We are going to use the combinations functions of the builtin itertools library for the purpose. \n",
    "\n",
    "Note that the itertools.combinations function returns an iterator and for the easy of understanding, we are going to convert this iterator into a list as discussed earlier in this homework as well."
   ]
  },
  {
   "cell_type": "code",
   "execution_count": null,
   "metadata": {
    "collapsed": false
   },
   "outputs": [],
   "source": [
    "# example usage of itertools.combinations\n",
    "# you get a interator of all the possible combinations of 2 elements from the [1,2,3] array\n",
    "[x for x in itertools.combinations([1,2,3],2)]"
   ]
  },
  {
   "cell_type": "code",
   "execution_count": null,
   "metadata": {
    "collapsed": true
   },
   "outputs": [],
   "source": [
    "# now let's define a function that returns all the possible pairs of neighbors of one node.\n",
    "def get_neighbors_pairs(neighbors_list): # this function should apply to the returned neighbor list from the function get_neighbors\n",
    "    lst= [x for x in itertools.combinations(neighbors_list,2)]\n",
    "    return lst"
   ]
  },
  {
   "cell_type": "code",
   "execution_count": null,
   "metadata": {
    "collapsed": false
   },
   "outputs": [],
   "source": [
    "# you can have all the possible pairs between node 1, 2, and 4, who are node 3's neighbors\n",
    "allpairs_n3 = get_neighbors_pairs(neighbor_n3)\n",
    "allpairs_n3 "
   ]
  },
  {
   "cell_type": "markdown",
   "metadata": {},
   "source": [
    "** Practice ** Step 3: In the next step, we are required to count the number of pairs that are directly connected with each other. We are going to use the neighbors function from the Graph class."
   ]
  },
  {
   "cell_type": "code",
   "execution_count": null,
   "metadata": {
    "collapsed": true
   },
   "outputs": [],
   "source": [
    "def count_connected_neighbors(graph_instance,neighbors_pairs ):\n",
    "    count=0 # we prepare a count 0, and add 1 to it when we have a connected pair of neighbors\n",
    "    for x, y in neighbors_pairs: \n",
    "        if x in graph_instance.neighbors(y): # If two nodes x and y are directly connected with each other in graph g, \n",
    "                                             # then x will be in the neighbors of y and vice versa.\n",
    "            count+=1\n",
    "    return count"
   ]
  },
  {
   "cell_type": "code",
   "execution_count": null,
   "metadata": {
    "collapsed": false
   },
   "outputs": [],
   "source": [
    "connected_count_n3=count_connected_neighbors(ex_network,allpairs_n3)\n",
    "connected_count_n3"
   ]
  },
  {
   "cell_type": "markdown",
   "metadata": {},
   "source": [
    "** Question ** Step 4: As the last step in the algorithm, we are going to calculate the clustering coefficient of the node 3."
   ]
  },
  {
   "cell_type": "code",
   "execution_count": null,
   "metadata": {
    "collapsed": true
   },
   "outputs": [],
   "source": [
    "def get_clustering_coeff(allpairs, connected_neighbors_count): # 2 inputs: the list of all possible pairs\n",
    "                                                               #           the count of connected neighbors\n",
    "    n_allpairs=len(allpairs)\n",
    "    if n_allpairs!=0:\n",
    "        cc=float(connected_neighbors_count)/n_allpairs\n",
    "    else:\n",
    "        cc=0\n",
    "    return cc"
   ]
  },
  {
   "cell_type": "code",
   "execution_count": null,
   "metadata": {
    "collapsed": true
   },
   "outputs": [],
   "source": [
    "# apply this function and get the clustering coefficient of node 3\n",
    "q2 = ..."
   ]
  },
  {
   "cell_type": "code",
   "execution_count": null,
   "metadata": {
    "collapsed": false
   },
   "outputs": [],
   "source": [
    "_ = hw03.grade('q2')"
   ]
  },
  {
   "cell_type": "markdown",
   "metadata": {},
   "source": [
    "**Question** Now that we have all the functions to compute the clustering coefficient, we are going to write a function to internally call all of these steps. Complete the following code."
   ]
  },
  {
   "cell_type": "code",
   "execution_count": null,
   "metadata": {
    "collapsed": true
   },
   "outputs": [],
   "source": [
    "def get_cc_node(graph_instance, node_id):\n",
    "    '''return the clustering coefficient of the node_id in the graph_instance'''\n",
    "    neighbors=... # Hint: Use one of the functions defined in the previous questions\n",
    "    \n",
    "    pairs= ... # Hint: Use one of the functions defined in the previous questions\n",
    "    \n",
    "    connected_count = ... # Hint: Use one of the functions defined in the previous questions\n",
    "    \n",
    "    cc=... # Hint: Use one of the functions defined in the previous questions\n",
    "    \n",
    "    return cc"
   ]
  },
  {
   "cell_type": "code",
   "execution_count": null,
   "metadata": {
    "collapsed": false
   },
   "outputs": [],
   "source": [
    "# the clustering coefficient for node 3 (this value should be the same as the previous calculation)\n",
    "q3 = get_cc_node(ex_network, 3)\n",
    "q3"
   ]
  },
  {
   "cell_type": "code",
   "execution_count": null,
   "metadata": {
    "collapsed": false
   },
   "outputs": [],
   "source": [
    "_ = hw03.grade('q3')"
   ]
  },
  {
   "cell_type": "markdown",
   "metadata": {},
   "source": [
    "**Question** Now that we have a the function to calculate the clustering coefficient of a single node in a graph, our next step is to calculate the average clustering coefficient of all the nodes in a graph.\n",
    "\n",
    "This can be done by:\n",
    "\n",
    "1. Calculating the clustering coefficient for all the nodes in a graph and saving it in an array\n",
    "2. Calculating the mean of the array \n",
    "\n",
    "Complete the following function to calculate the average clustering coefficient of all the nodes in a graph."
   ]
  },
  {
   "cell_type": "code",
   "execution_count": null,
   "metadata": {
    "collapsed": true
   },
   "outputs": [],
   "source": [
    "def get_average_cc(graph_instance):\n",
    "    \n",
    "    cc_array=make_array() # begin with an empty array and then append new results to it\n",
    "    \n",
    "    for node in ...:\n",
    "        cc=...\n",
    "        cc_array=np.append(cc_array,cc)\n",
    "    \n",
    "    return np.mean(cc_array)"
   ]
  },
  {
   "cell_type": "code",
   "execution_count": null,
   "metadata": {
    "collapsed": false
   },
   "outputs": [],
   "source": [
    "q4 = get_average_cc(ex_network)\n",
    "q4"
   ]
  },
  {
   "cell_type": "code",
   "execution_count": null,
   "metadata": {
    "collapsed": false
   },
   "outputs": [],
   "source": [
    "_ = hw03.grade('q4')"
   ]
  },
  {
   "cell_type": "markdown",
   "metadata": {},
   "source": [
    "Note that the average clustering created by your function q4 should be equal to the average clustering coefficient calculated by hand in q1."
   ]
  },
  {
   "cell_type": "code",
   "execution_count": null,
   "metadata": {
    "collapsed": false
   },
   "outputs": [],
   "source": [
    "round(q1,3)==round(q4,3)"
   ]
  },
  {
   "cell_type": "markdown",
   "metadata": {},
   "source": [
    "### Add Health network"
   ]
  },
  {
   "cell_type": "markdown",
   "metadata": {},
   "source": [
    "As the next step in this homework, we are going to calculate the average clustering coeffcieint for all the networks in the Add Health study."
   ]
  },
  {
   "cell_type": "code",
   "execution_count": null,
   "metadata": {
    "collapsed": true
   },
   "outputs": [],
   "source": [
    "def read_add_health_network(network_id):\n",
    "    \"\"\"\n",
    "    network_id : integer from 1 to 84\n",
    "    \n",
    "    read in the Add Health network corresponding to the given id number and\n",
    "    return it as an undirected networkx object\n",
    "    \"\"\"\n",
    "\n",
    "    # this file was downloaded from\n",
    "    # http://moreno.ss.uci.edu/data.html#adhealth\n",
    "    edge_file = os.path.join(\"data\", \"comm\" + str(network_id) + \".dat\")\n",
    "    with open(edge_file, 'r') as f:\n",
    "        edge_lines = f.readlines()\n",
    "        \n",
    "    network = nx.parse_edgelist(edge_lines, nodetype=int, data=[('activity_level', float)])\n",
    "    \n",
    "    # note that we call the to_undirected method to ensure we get an undirected network\n",
    "    return(network.to_undirected())"
   ]
  },
  {
   "cell_type": "markdown",
   "metadata": {},
   "source": [
    "Now let's use this function to actually read in all 84 of the Add Health school networks:"
   ]
  },
  {
   "cell_type": "code",
   "execution_count": null,
   "metadata": {
    "collapsed": false
   },
   "outputs": [],
   "source": [
    "number_add_health_networks = 84\n",
    "add_health_networks = [read_add_health_network(x) for x in range(1,number_add_health_networks+1)]\n",
    "# Running this cell will take a few seconds\n",
    "# now add_health_networks is an object containing 84 networks"
   ]
  },
  {
   "cell_type": "markdown",
   "metadata": {},
   "source": [
    "** Question **First, we are going to calculate the average clustering coefficient for **the first network** in the health networks study."
   ]
  },
  {
   "cell_type": "code",
   "execution_count": null,
   "metadata": {
    "collapsed": false
   },
   "outputs": [],
   "source": [
    "g=add_health_networks... # assign the first network in add_health_networks to 'g', use the index correctly\n",
    "\n",
    "cc_nx=nx.average_clustering(..) # we use the average clustering coefficient function to do the calculation\n",
    "\n",
    "print ('Average clustering coefficient calculated by the networkx library', cc_nx)\n",
    "\n",
    "cc_custom=get_average_cc(..) # we use the customized function to do the calculation\n",
    "\n",
    "print ('Average clustering coefficient calculated by our custom function', cc_custom)"
   ]
  },
  {
   "cell_type": "code",
   "execution_count": null,
   "metadata": {
    "collapsed": false
   },
   "outputs": [],
   "source": [
    "_ = hw03.grade('q5')"
   ]
  },
  {
   "cell_type": "markdown",
   "metadata": {},
   "source": [
    "### Calculating clustering coefficient for all of the Add Health communities"
   ]
  },
  {
   "cell_type": "markdown",
   "metadata": {},
   "source": [
    "**Question** Let's start by making a dataset that has the clustering coefficient in each of the 84 Add Health community networks. Fill in the missing code below:"
   ]
  },
  {
   "cell_type": "code",
   "execution_count": null,
   "metadata": {
    "collapsed": true
   },
   "outputs": [],
   "source": [
    "cc_ah = make_array()\n",
    "\n",
    "for g in ...:\n",
    "    cc_ah = np.append(..., ...) # np.append will append the new results to the end of original array\n",
    "                                # np.append(the original array, the new element), check np.append? for more info\n",
    "                                # we want to make an array of all the clustering coefficients for all the 84 networks\n",
    "\n",
    "add_health_df = Table().with_columns([  # here we want to make a table for these coefficients\n",
    "     'id', np.arange(1, number_add_health_networks+1), # the first column has the ids of the nodes\n",
    "     'clustering_coeff', ...                           # the second column has the clustering coefficient\n",
    "    ])\n",
    "\n",
    "add_health_df # take a look at the new table with all the CCs, running this cell might take a couple of seconds"
   ]
  },
  {
   "cell_type": "code",
   "execution_count": null,
   "metadata": {
    "collapsed": false
   },
   "outputs": [],
   "source": [
    "_ = hw03.grade('q6')"
   ]
  },
  {
   "cell_type": "markdown",
   "metadata": {},
   "source": [
    "**Question** Make a histogram that shows the distribution of the clustering coefficient for the Add Health communities (don't include `id`)."
   ]
  },
  {
   "cell_type": "code",
   "execution_count": null,
   "metadata": {
    "collapsed": true
   },
   "outputs": [],
   "source": [
    "# Write your code here"
   ]
  },
  {
   "cell_type": "markdown",
   "metadata": {},
   "source": [
    "# Hand-writing questions"
   ]
  },
  {
   "cell_type": "markdown",
   "metadata": {},
   "source": [
    "Consider the network shown in Figure below: there is an edge between each pair of nodes, with five of the edges corresponding to positive relationships, and the other five of the edges corresponding to negative relationships.\n",
    "<img src=\"5_18.png\" width=\"240\" height=\"160\" align=\"center\"/>\n",
    "<br>\n",
    "Each edge in this network participates in three triangles: one formed by each of the additional nodes who is not already an endpoint of the edge. (For example, the A-B edge participates in a triangle on A, B, and C, a triangle on A, B, and D, and a\n",
    "triangle on A, B, and E. We can list triangles for the other edges in a similar way.) "
   ]
  },
  {
   "cell_type": "markdown",
   "metadata": {},
   "source": [
    "** Question 1 ** For each edge, how many of the triangles it participates in are balanced, and how many are unbalanced? Please list in the following box.\n",
    "\n",
    "(Notice that because of the symmetry of the network, the answer will be the same for each positive edge, and also for each negative edge; so it is enough to consider this for one of the positive edges and one of the negative edges.)"
   ]
  },
  {
   "cell_type": "markdown",
   "metadata": {},
   "source": [
    "** Example **\n",
    "Edge (AB) participates in three triangles: (AB,BC,AC) is unbalanced, (AB,AD,BD) is unbalanced, (AB,BE,AE) is balanced <br>"
   ]
  },
  {
   "cell_type": "markdown",
   "metadata": {},
   "source": [
    "<div class='response'>\n",
    "[Answer here]\n",
    "</div>"
   ]
  },
  {
   "cell_type": "markdown",
   "metadata": {},
   "source": [
    "** Question 2 ** In the social network depicted in the following figure, with each edge labeled as either a strong or weak tie, which nodes satisfy the Strong Triadic Closure Property, and which do not? Provide an explanation for your answer.\n",
    "\n",
    "<img src=\"3_22.png\" width=\"360\" height=\"240\" align=\"center\"/>\n",
    "<br>"
   ]
  },
  {
   "cell_type": "markdown",
   "metadata": {},
   "source": [
    "<div class='response'>\n",
    "[Answer here]\n",
    "</div>"
   ]
  },
  {
   "cell_type": "markdown",
   "metadata": {},
   "source": [
    "### Rerun the tests and submit your lab"
   ]
  },
  {
   "cell_type": "code",
   "execution_count": null,
   "metadata": {
    "collapsed": true
   },
   "outputs": [],
   "source": [
    "import os\n",
    "print(\"Running all tests...\")\n",
    "_ = [hw03.grade(q[:-3]) for q in os.listdir(\"tests\") if q.startswith('q')]\n",
    "print(\"Finished running all tests.\")"
   ]
  },
  {
   "cell_type": "markdown",
   "metadata": {
    "collapsed": true
   },
   "source": [
    "In order to submit your assignment, run the next cell.\n",
    "\n",
    "You can submit as many times as you want (up to the deadline Thursday, Feb 21th, at 9 pm)."
   ]
  },
  {
   "cell_type": "code",
   "execution_count": null,
   "metadata": {
    "collapsed": true
   },
   "outputs": [],
   "source": [
    "_ = hw03.submit()"
   ]
  }
 ],
 "metadata": {
  "anaconda-cloud": {},
  "kernelspec": {
   "display_name": "Python 3",
   "language": "python",
   "name": "python3"
  },
  "language_info": {
   "codemirror_mode": {
    "name": "ipython",
    "version": 3
   },
   "file_extension": ".py",
   "mimetype": "text/x-python",
   "name": "python",
   "nbconvert_exporter": "python",
   "pygments_lexer": "ipython3",
   "version": "3.6.0"
  }
 },
 "nbformat": 4,
 "nbformat_minor": 1
}
