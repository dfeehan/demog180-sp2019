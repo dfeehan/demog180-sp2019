{
 "cells": [
  {
   "cell_type": "code",
   "execution_count": 3,
   "metadata": {
    "collapsed": true
   },
   "outputs": [],
   "source": [
    "# We need to import some modules before we start\n",
    "from datascience import Table\n",
    "\n",
    "import matplotlib # the lines involving matplotlib allow for plotting\n",
    "matplotlib.use('Agg')\n",
    "%matplotlib inline\n",
    "import matplotlib.pyplot as plt\n",
    "import numpy as np\n",
    "plt.style.use('fivethirtyeight') # 538 is a style in matplotlib, \n",
    "                                 # see https://tonysyu.github.io/raw_content/matplotlib-style-gallery/gallery.html for some other styles\n",
    "\n"
   ]
  },
  {
   "cell_type": "markdown",
   "metadata": {},
   "source": [
    "### Demography 180 - Social Networks\n",
    "### Lab 1 -- part 1"
   ]
  },
  {
   "cell_type": "markdown",
   "metadata": {},
   "source": [
    "Welcome to the first lab for Demography 180 - Social Networks!\n",
    "\n",
    "In this lab, we will be exploring the structure of Berkeley students' personal networks. The analysis is based on the data collected as part of the first homework assignment."
   ]
  },
  {
   "cell_type": "markdown",
   "metadata": {},
   "source": [
    "# 0 The datascience module\n",
    "\n",
    "We usually analyze data in the format of tables. The `table` in datascience module provides a very helpful tool for this lab and the future works we do in this class. This section aims to introduce you to some basic elements and syntax for using `table`."
   ]
  },
  {
   "cell_type": "markdown",
   "metadata": {},
   "source": [
    "## 0.1 Having the tables\n",
    "A Table is a sequence of labeled columns of data.\n",
    "\n",
    "A Table can be constructed from scratch by extending an empty table with columns."
   ]
  },
  {
   "cell_type": "code",
   "execution_count": 5,
   "metadata": {
    "collapsed": false
   },
   "outputs": [],
   "source": [
    "# Construct a table from strach and assign it to a name 't'\n",
    "t = Table().with_columns([\n",
    "    'letter', ['a','b','c','z'], # contents in quotes '' are string texts. Words without quotes refer to variable names or function names.\n",
    "    'count', [9, 3, 3, 1],\n",
    "    'points', [1, 2, 2, 10],\n",
    "])"
   ]
  },
  {
   "cell_type": "code",
   "execution_count": 6,
   "metadata": {
    "collapsed": false
   },
   "outputs": [
    {
     "name": "stdout",
     "output_type": "stream",
     "text": [
      "letter | count | points\n",
      "a      | 9     | 1\n",
      "b      | 3     | 2\n",
      "c      | 3     | 2\n",
      "z      | 1     | 10\n"
     ]
    }
   ],
   "source": [
    "# Let's see what you constructed\n",
    "print(t)"
   ]
  },
  {
   "cell_type": "markdown",
   "metadata": {},
   "source": [
    "More usually, we load the dataset that we want to analyze via a path to the file."
   ]
  },
  {
   "cell_type": "code",
   "execution_count": 40,
   "metadata": {
    "collapsed": false
   },
   "outputs": [
    {
     "data": {
      "text/html": [
       "<table border=\"1\" class=\"dataframe\">\n",
       "    <thead>\n",
       "        <tr>\n",
       "            <th>interview_number</th> <th>interview_date</th> <th>interview_time</th> <th>respondent_gender</th> <th>respondent_age</th> <th>respondent_class</th> <th>respondent_home</th> <th>number_alters</th> <th>alter1_gender</th> <th>alter1_age</th> <th>alter1_class</th> <th>alter1_home</th> <th>alter2_gender</th> <th>alter2_age</th> <th>alter2_class</th> <th>alter2_home</th> <th>alter3_gender</th> <th>alter3_age</th> <th>alter3_class</th> <th>alter3_home</th> <th>alter4_gender</th> <th>alter4_age</th> <th>alter4_class</th> <th>alter4_home</th> <th>alter5_gender</th> <th>alter5_age</th> <th>alter5_class</th> <th>alter5_home</th>\n",
       "        </tr>\n",
       "    </thead>\n",
       "    <tbody>\n",
       "        <tr>\n",
       "            <td>1               </td> <td>1/18/18       </td> <td>11:44:00 AM   </td> <td>Male             </td> <td>19            </td> <td>Freshman        </td> <td>Bay Area          </td> <td>5            </td> <td>Male         </td> <td>19        </td> <td>Freshman    </td> <td>Bay Area          </td> <td>Male         </td> <td>18        </td> <td>Freshman    </td> <td>Bay Area          </td> <td>Male         </td> <td>18        </td> <td>Freshman    </td> <td>LA Area           </td> <td>Female       </td> <td>18        </td> <td>Freshman    </td> <td>Bay Area             </td> <td>Male         </td> <td>17        </td> <td>Other       </td> <td>Bay Area             </td>\n",
       "        </tr>\n",
       "        <tr>\n",
       "            <td>2               </td> <td>1/18/18       </td> <td>2:40:00 PM    </td> <td>Male             </td> <td>21            </td> <td>Senior          </td> <td>Rest of California</td> <td>5            </td> <td>Female       </td> <td>21        </td> <td>Other       </td> <td>LA Area           </td> <td>Female       </td> <td>21        </td> <td>Other       </td> <td>Rest of California</td> <td>Male         </td> <td>21        </td> <td>Other       </td> <td>Rest of California</td> <td>Male         </td> <td>22        </td> <td>Other       </td> <td>Rest of California   </td> <td>Female       </td> <td>19        </td> <td>Sophomore   </td> <td>LA Area              </td>\n",
       "        </tr>\n",
       "        <tr>\n",
       "            <td>3               </td> <td>1/18/18       </td> <td>2:50:00 PM    </td> <td>Female           </td> <td>20            </td> <td>Junior          </td> <td>LA Area           </td> <td>4            </td> <td>Male         </td> <td>22        </td> <td>Senior      </td> <td>LA Area           </td> <td>Female       </td> <td>20        </td> <td>Junior      </td> <td>Bay Area          </td> <td>Female       </td> <td>20        </td> <td>Junior      </td> <td>Bay Area          </td> <td>Female       </td> <td>21        </td> <td>Junior      </td> <td>LA Area              </td> <td>nan          </td> <td>nan       </td> <td>nan         </td> <td>nan                  </td>\n",
       "        </tr>\n",
       "        <tr>\n",
       "            <td>1               </td> <td>1/18/18       </td> <td>11:39:00 AM   </td> <td>Male             </td> <td>21            </td> <td>Senior          </td> <td>Bay Area          </td> <td>5            </td> <td>Female       </td> <td>26        </td> <td>Senior      </td> <td>Bay Area          </td> <td>Male         </td> <td>30        </td> <td>Other       </td> <td>Bay Area          </td> <td>Male         </td> <td>27        </td> <td>Senior      </td> <td>Bay Area          </td> <td>Male         </td> <td>24        </td> <td>Senior      </td> <td>Bay Area             </td> <td>Female       </td> <td>51        </td> <td>Other       </td> <td>Rest of World        </td>\n",
       "        </tr>\n",
       "        <tr>\n",
       "            <td>2               </td> <td>1/18/18       </td> <td>7:00:00 PM    </td> <td>Male             </td> <td>20            </td> <td>Junior          </td> <td>LA Area           </td> <td>5            </td> <td>Female       </td> <td>52        </td> <td>Other       </td> <td>Rest of World     </td> <td>Male         </td> <td>60        </td> <td>Other       </td> <td>Rest of World     </td> <td>Female       </td> <td>18        </td> <td>Freshman    </td> <td>LA Area           </td> <td>Female       </td> <td>22        </td> <td>Senior      </td> <td>Rest of World        </td> <td>Female       </td> <td>64        </td> <td>Other       </td> <td>Rest of World        </td>\n",
       "        </tr>\n",
       "        <tr>\n",
       "            <td>3               </td> <td>1/18/18       </td> <td>7:30:00 PM    </td> <td>Female           </td> <td>19            </td> <td>Sophomore       </td> <td>Rest of World     </td> <td>5            </td> <td>Female       </td> <td>19        </td> <td>Sophomore   </td> <td>Rest of World     </td> <td>Female       </td> <td>20        </td> <td>Sophomore   </td> <td>Rest of World     </td> <td>Female       </td> <td>19        </td> <td>Sophomore   </td> <td>Rest of World     </td> <td>Female       </td> <td>46        </td> <td>Other       </td> <td>Rest of World        </td> <td>Female       </td> <td>19        </td> <td>Sophomore   </td> <td>LA Area              </td>\n",
       "        </tr>\n",
       "        <tr>\n",
       "            <td>1               </td> <td>1/19/18       </td> <td>11:45:00 AM   </td> <td>Female           </td> <td>20            </td> <td>Junior          </td> <td>LA Area           </td> <td>5            </td> <td>Male         </td> <td>24        </td> <td>Other       </td> <td>Rest of California</td> <td>Male         </td> <td>24        </td> <td>Other       </td> <td>Rest of California</td> <td>Female       </td> <td>45        </td> <td>Other       </td> <td>LA Area           </td> <td>Female       </td> <td>23        </td> <td>Senior      </td> <td>LA Area              </td> <td>Male         </td> <td>46        </td> <td>Other       </td> <td>LA Area              </td>\n",
       "        </tr>\n",
       "        <tr>\n",
       "            <td>1               </td> <td>1/18/18       </td> <td>11:40:00 AM   </td> <td>Female           </td> <td>21            </td> <td>Junior          </td> <td>Rest of California</td> <td>5            </td> <td>Male         </td> <td>62        </td> <td>Other       </td> <td>Rest of California</td> <td>Male         </td> <td>21        </td> <td>Junior      </td> <td>Rest of California</td> <td>Male         </td> <td>20        </td> <td>Senior      </td> <td>LA Area           </td> <td>Male         </td> <td>21        </td> <td>Senior      </td> <td>Rest of California   </td> <td>Female       </td> <td>21        </td> <td>Junior      </td> <td>Rest of California   </td>\n",
       "        </tr>\n",
       "        <tr>\n",
       "            <td>1               </td> <td>1/18/18       </td> <td>7:42:00 PM    </td> <td>Female           </td> <td>21            </td> <td>Senior          </td> <td>LA Area           </td> <td>6+           </td> <td>Female       </td> <td>34        </td> <td>Other       </td> <td>Bay Area          </td> <td>Female       </td> <td>22        </td> <td>Senior      </td> <td>LA Area           </td> <td>Female       </td> <td>22        </td> <td>Senior      </td> <td>LA Area           </td> <td>Female       </td> <td>57        </td> <td>Other       </td> <td>Rest of United States</td> <td>Female       </td> <td>19        </td> <td>Sophomore   </td> <td>Rest of United States</td>\n",
       "        </tr>\n",
       "        <tr>\n",
       "            <td>2               </td> <td>1/18/18       </td> <td>7:46:00 PM    </td> <td>Female           </td> <td>22            </td> <td>Senior          </td> <td>LA Area           </td> <td>5            </td> <td>Female       </td> <td>21        </td> <td>Senior      </td> <td>LA Area           </td> <td>Female       </td> <td>61        </td> <td>Other       </td> <td>LA Area           </td> <td>Female       </td> <td>23        </td> <td>Other       </td> <td>LA Area           </td> <td>Female       </td> <td>22        </td> <td>Senior      </td> <td>LA Area              </td> <td>Female       </td> <td>21        </td> <td>Junior      </td> <td>LA Area              </td>\n",
       "        </tr>\n",
       "    </tbody>\n",
       "</table>\n",
       "<p>... (114 rows omitted)</p>"
      ],
      "text/plain": [
       "interview_number | interview_date | interview_time | respondent_gender | respondent_age | respondent_class | respondent_home    | number_alters | alter1_gender | alter1_age | alter1_class | alter1_home        | alter2_gender | alter2_age | alter2_class | alter2_home        | alter3_gender | alter3_age | alter3_class | alter3_home        | alter4_gender | alter4_age | alter4_class | alter4_home           | alter5_gender | alter5_age | alter5_class | alter5_home\n",
       "1                | 1/18/18        | 11:44:00 AM    | Male              | 19             | Freshman         | Bay Area           | 5             | Male          | 19         | Freshman     | Bay Area           | Male          | 18         | Freshman     | Bay Area           | Male          | 18         | Freshman     | LA Area            | Female        | 18         | Freshman     | Bay Area              | Male          | 17         | Other        | Bay Area\n",
       "2                | 1/18/18        | 2:40:00 PM     | Male              | 21             | Senior           | Rest of California | 5             | Female        | 21         | Other        | LA Area            | Female        | 21         | Other        | Rest of California | Male          | 21         | Other        | Rest of California | Male          | 22         | Other        | Rest of California    | Female        | 19         | Sophomore    | LA Area\n",
       "3                | 1/18/18        | 2:50:00 PM     | Female            | 20             | Junior           | LA Area            | 4             | Male          | 22         | Senior       | LA Area            | Female        | 20         | Junior       | Bay Area           | Female        | 20         | Junior       | Bay Area           | Female        | 21         | Junior       | LA Area               | nan           | nan        | nan          | nan\n",
       "1                | 1/18/18        | 11:39:00 AM    | Male              | 21             | Senior           | Bay Area           | 5             | Female        | 26         | Senior       | Bay Area           | Male          | 30         | Other        | Bay Area           | Male          | 27         | Senior       | Bay Area           | Male          | 24         | Senior       | Bay Area              | Female        | 51         | Other        | Rest of World\n",
       "2                | 1/18/18        | 7:00:00 PM     | Male              | 20             | Junior           | LA Area            | 5             | Female        | 52         | Other        | Rest of World      | Male          | 60         | Other        | Rest of World      | Female        | 18         | Freshman     | LA Area            | Female        | 22         | Senior       | Rest of World         | Female        | 64         | Other        | Rest of World\n",
       "3                | 1/18/18        | 7:30:00 PM     | Female            | 19             | Sophomore        | Rest of World      | 5             | Female        | 19         | Sophomore    | Rest of World      | Female        | 20         | Sophomore    | Rest of World      | Female        | 19         | Sophomore    | Rest of World      | Female        | 46         | Other        | Rest of World         | Female        | 19         | Sophomore    | LA Area\n",
       "1                | 1/19/18        | 11:45:00 AM    | Female            | 20             | Junior           | LA Area            | 5             | Male          | 24         | Other        | Rest of California | Male          | 24         | Other        | Rest of California | Female        | 45         | Other        | LA Area            | Female        | 23         | Senior       | LA Area               | Male          | 46         | Other        | LA Area\n",
       "1                | 1/18/18        | 11:40:00 AM    | Female            | 21             | Junior           | Rest of California | 5             | Male          | 62         | Other        | Rest of California | Male          | 21         | Junior       | Rest of California | Male          | 20         | Senior       | LA Area            | Male          | 21         | Senior       | Rest of California    | Female        | 21         | Junior       | Rest of California\n",
       "1                | 1/18/18        | 7:42:00 PM     | Female            | 21             | Senior           | LA Area            | 6+            | Female        | 34         | Other        | Bay Area           | Female        | 22         | Senior       | LA Area            | Female        | 22         | Senior       | LA Area            | Female        | 57         | Other        | Rest of United States | Female        | 19         | Sophomore    | Rest of United States\n",
       "2                | 1/18/18        | 7:46:00 PM     | Female            | 22             | Senior           | LA Area            | 5             | Female        | 21         | Senior       | LA Area            | Female        | 61         | Other        | LA Area            | Female        | 23         | Other        | LA Area            | Female        | 22         | Senior       | LA Area               | Female        | 21         | Junior       | LA Area\n",
       "... (114 rows omitted)"
      ]
     },
     "execution_count": 40,
     "metadata": {},
     "output_type": "execute_result"
    }
   ],
   "source": [
    "Table.read_table('/Users/Mia/Dropbox/for_mia/ugur-demog-180-summer-2018/data/survey/ucb_personal_networks_clean.csv') # need the location of the data"
   ]
  },
  {
   "cell_type": "markdown",
   "metadata": {},
   "source": [
    "Let's work with the first 10 rows of this data as an example to learn basic syntax."
   ]
  },
  {
   "cell_type": "code",
   "execution_count": 51,
   "metadata": {
    "collapsed": false
   },
   "outputs": [
    {
     "data": {
      "text/html": [
       "<table border=\"1\" class=\"dataframe\">\n",
       "    <thead>\n",
       "        <tr>\n",
       "            <th>interview_number</th> <th>interview_date</th> <th>interview_time</th> <th>respondent_gender</th> <th>respondent_age</th> <th>respondent_class</th> <th>respondent_home</th> <th>number_alters</th> <th>alter1_gender</th> <th>alter1_age</th> <th>alter1_class</th> <th>alter1_home</th> <th>alter2_gender</th> <th>alter2_age</th> <th>alter2_class</th> <th>alter2_home</th> <th>alter3_gender</th> <th>alter3_age</th> <th>alter3_class</th> <th>alter3_home</th> <th>alter4_gender</th> <th>alter4_age</th> <th>alter4_class</th> <th>alter4_home</th> <th>alter5_gender</th> <th>alter5_age</th> <th>alter5_class</th> <th>alter5_home</th>\n",
       "        </tr>\n",
       "    </thead>\n",
       "    <tbody>\n",
       "        <tr>\n",
       "            <td>1               </td> <td>1/18/18       </td> <td>11:44:00 AM   </td> <td>Male             </td> <td>19            </td> <td>Freshman        </td> <td>Bay Area          </td> <td>5            </td> <td>Male         </td> <td>19        </td> <td>Freshman    </td> <td>Bay Area          </td> <td>Male         </td> <td>18        </td> <td>Freshman    </td> <td>Bay Area          </td> <td>Male         </td> <td>18        </td> <td>Freshman    </td> <td>LA Area           </td> <td>Female       </td> <td>18        </td> <td>Freshman    </td> <td>Bay Area             </td> <td>Male         </td> <td>17        </td> <td>Other       </td> <td>Bay Area             </td>\n",
       "        </tr>\n",
       "        <tr>\n",
       "            <td>2               </td> <td>1/18/18       </td> <td>2:40:00 PM    </td> <td>Male             </td> <td>21            </td> <td>Senior          </td> <td>Rest of California</td> <td>5            </td> <td>Female       </td> <td>21        </td> <td>Other       </td> <td>LA Area           </td> <td>Female       </td> <td>21        </td> <td>Other       </td> <td>Rest of California</td> <td>Male         </td> <td>21        </td> <td>Other       </td> <td>Rest of California</td> <td>Male         </td> <td>22        </td> <td>Other       </td> <td>Rest of California   </td> <td>Female       </td> <td>19        </td> <td>Sophomore   </td> <td>LA Area              </td>\n",
       "        </tr>\n",
       "        <tr>\n",
       "            <td>3               </td> <td>1/18/18       </td> <td>2:50:00 PM    </td> <td>Female           </td> <td>20            </td> <td>Junior          </td> <td>LA Area           </td> <td>4            </td> <td>Male         </td> <td>22        </td> <td>Senior      </td> <td>LA Area           </td> <td>Female       </td> <td>20        </td> <td>Junior      </td> <td>Bay Area          </td> <td>Female       </td> <td>20        </td> <td>Junior      </td> <td>Bay Area          </td> <td>Female       </td> <td>21        </td> <td>Junior      </td> <td>LA Area              </td> <td>nan          </td> <td>nan       </td> <td>nan         </td> <td>nan                  </td>\n",
       "        </tr>\n",
       "        <tr>\n",
       "            <td>1               </td> <td>1/18/18       </td> <td>11:39:00 AM   </td> <td>Male             </td> <td>21            </td> <td>Senior          </td> <td>Bay Area          </td> <td>5            </td> <td>Female       </td> <td>26        </td> <td>Senior      </td> <td>Bay Area          </td> <td>Male         </td> <td>30        </td> <td>Other       </td> <td>Bay Area          </td> <td>Male         </td> <td>27        </td> <td>Senior      </td> <td>Bay Area          </td> <td>Male         </td> <td>24        </td> <td>Senior      </td> <td>Bay Area             </td> <td>Female       </td> <td>51        </td> <td>Other       </td> <td>Rest of World        </td>\n",
       "        </tr>\n",
       "        <tr>\n",
       "            <td>2               </td> <td>1/18/18       </td> <td>7:00:00 PM    </td> <td>Male             </td> <td>20            </td> <td>Junior          </td> <td>LA Area           </td> <td>5            </td> <td>Female       </td> <td>52        </td> <td>Other       </td> <td>Rest of World     </td> <td>Male         </td> <td>60        </td> <td>Other       </td> <td>Rest of World     </td> <td>Female       </td> <td>18        </td> <td>Freshman    </td> <td>LA Area           </td> <td>Female       </td> <td>22        </td> <td>Senior      </td> <td>Rest of World        </td> <td>Female       </td> <td>64        </td> <td>Other       </td> <td>Rest of World        </td>\n",
       "        </tr>\n",
       "        <tr>\n",
       "            <td>3               </td> <td>1/18/18       </td> <td>7:30:00 PM    </td> <td>Female           </td> <td>19            </td> <td>Sophomore       </td> <td>Rest of World     </td> <td>5            </td> <td>Female       </td> <td>19        </td> <td>Sophomore   </td> <td>Rest of World     </td> <td>Female       </td> <td>20        </td> <td>Sophomore   </td> <td>Rest of World     </td> <td>Female       </td> <td>19        </td> <td>Sophomore   </td> <td>Rest of World     </td> <td>Female       </td> <td>46        </td> <td>Other       </td> <td>Rest of World        </td> <td>Female       </td> <td>19        </td> <td>Sophomore   </td> <td>LA Area              </td>\n",
       "        </tr>\n",
       "        <tr>\n",
       "            <td>1               </td> <td>1/19/18       </td> <td>11:45:00 AM   </td> <td>Female           </td> <td>20            </td> <td>Junior          </td> <td>LA Area           </td> <td>5            </td> <td>Male         </td> <td>24        </td> <td>Other       </td> <td>Rest of California</td> <td>Male         </td> <td>24        </td> <td>Other       </td> <td>Rest of California</td> <td>Female       </td> <td>45        </td> <td>Other       </td> <td>LA Area           </td> <td>Female       </td> <td>23        </td> <td>Senior      </td> <td>LA Area              </td> <td>Male         </td> <td>46        </td> <td>Other       </td> <td>LA Area              </td>\n",
       "        </tr>\n",
       "        <tr>\n",
       "            <td>1               </td> <td>1/18/18       </td> <td>11:40:00 AM   </td> <td>Female           </td> <td>21            </td> <td>Junior          </td> <td>Rest of California</td> <td>5            </td> <td>Male         </td> <td>62        </td> <td>Other       </td> <td>Rest of California</td> <td>Male         </td> <td>21        </td> <td>Junior      </td> <td>Rest of California</td> <td>Male         </td> <td>20        </td> <td>Senior      </td> <td>LA Area           </td> <td>Male         </td> <td>21        </td> <td>Senior      </td> <td>Rest of California   </td> <td>Female       </td> <td>21        </td> <td>Junior      </td> <td>Rest of California   </td>\n",
       "        </tr>\n",
       "        <tr>\n",
       "            <td>1               </td> <td>1/18/18       </td> <td>7:42:00 PM    </td> <td>Female           </td> <td>21            </td> <td>Senior          </td> <td>LA Area           </td> <td>6+           </td> <td>Female       </td> <td>34        </td> <td>Other       </td> <td>Bay Area          </td> <td>Female       </td> <td>22        </td> <td>Senior      </td> <td>LA Area           </td> <td>Female       </td> <td>22        </td> <td>Senior      </td> <td>LA Area           </td> <td>Female       </td> <td>57        </td> <td>Other       </td> <td>Rest of United States</td> <td>Female       </td> <td>19        </td> <td>Sophomore   </td> <td>Rest of United States</td>\n",
       "        </tr>\n",
       "        <tr>\n",
       "            <td>2               </td> <td>1/18/18       </td> <td>7:46:00 PM    </td> <td>Female           </td> <td>22            </td> <td>Senior          </td> <td>LA Area           </td> <td>5            </td> <td>Female       </td> <td>21        </td> <td>Senior      </td> <td>LA Area           </td> <td>Female       </td> <td>61        </td> <td>Other       </td> <td>LA Area           </td> <td>Female       </td> <td>23        </td> <td>Other       </td> <td>LA Area           </td> <td>Female       </td> <td>22        </td> <td>Senior      </td> <td>LA Area              </td> <td>Female       </td> <td>21        </td> <td>Junior      </td> <td>LA Area              </td>\n",
       "        </tr>\n",
       "    </tbody>\n",
       "</table>"
      ],
      "text/plain": [
       "interview_number | interview_date | interview_time | respondent_gender | respondent_age | respondent_class | respondent_home    | number_alters | alter1_gender | alter1_age | alter1_class | alter1_home        | alter2_gender | alter2_age | alter2_class | alter2_home        | alter3_gender | alter3_age | alter3_class | alter3_home        | alter4_gender | alter4_age | alter4_class | alter4_home           | alter5_gender | alter5_age | alter5_class | alter5_home\n",
       "1                | 1/18/18        | 11:44:00 AM    | Male              | 19             | Freshman         | Bay Area           | 5             | Male          | 19         | Freshman     | Bay Area           | Male          | 18         | Freshman     | Bay Area           | Male          | 18         | Freshman     | LA Area            | Female        | 18         | Freshman     | Bay Area              | Male          | 17         | Other        | Bay Area\n",
       "2                | 1/18/18        | 2:40:00 PM     | Male              | 21             | Senior           | Rest of California | 5             | Female        | 21         | Other        | LA Area            | Female        | 21         | Other        | Rest of California | Male          | 21         | Other        | Rest of California | Male          | 22         | Other        | Rest of California    | Female        | 19         | Sophomore    | LA Area\n",
       "3                | 1/18/18        | 2:50:00 PM     | Female            | 20             | Junior           | LA Area            | 4             | Male          | 22         | Senior       | LA Area            | Female        | 20         | Junior       | Bay Area           | Female        | 20         | Junior       | Bay Area           | Female        | 21         | Junior       | LA Area               | nan           | nan        | nan          | nan\n",
       "1                | 1/18/18        | 11:39:00 AM    | Male              | 21             | Senior           | Bay Area           | 5             | Female        | 26         | Senior       | Bay Area           | Male          | 30         | Other        | Bay Area           | Male          | 27         | Senior       | Bay Area           | Male          | 24         | Senior       | Bay Area              | Female        | 51         | Other        | Rest of World\n",
       "2                | 1/18/18        | 7:00:00 PM     | Male              | 20             | Junior           | LA Area            | 5             | Female        | 52         | Other        | Rest of World      | Male          | 60         | Other        | Rest of World      | Female        | 18         | Freshman     | LA Area            | Female        | 22         | Senior       | Rest of World         | Female        | 64         | Other        | Rest of World\n",
       "3                | 1/18/18        | 7:30:00 PM     | Female            | 19             | Sophomore        | Rest of World      | 5             | Female        | 19         | Sophomore    | Rest of World      | Female        | 20         | Sophomore    | Rest of World      | Female        | 19         | Sophomore    | Rest of World      | Female        | 46         | Other        | Rest of World         | Female        | 19         | Sophomore    | LA Area\n",
       "1                | 1/19/18        | 11:45:00 AM    | Female            | 20             | Junior           | LA Area            | 5             | Male          | 24         | Other        | Rest of California | Male          | 24         | Other        | Rest of California | Female        | 45         | Other        | LA Area            | Female        | 23         | Senior       | LA Area               | Male          | 46         | Other        | LA Area\n",
       "1                | 1/18/18        | 11:40:00 AM    | Female            | 21             | Junior           | Rest of California | 5             | Male          | 62         | Other        | Rest of California | Male          | 21         | Junior       | Rest of California | Male          | 20         | Senior       | LA Area            | Male          | 21         | Senior       | Rest of California    | Female        | 21         | Junior       | Rest of California\n",
       "1                | 1/18/18        | 7:42:00 PM     | Female            | 21             | Senior           | LA Area            | 6+            | Female        | 34         | Other        | Bay Area           | Female        | 22         | Senior       | LA Area            | Female        | 22         | Senior       | LA Area            | Female        | 57         | Other        | Rest of United States | Female        | 19         | Sophomore    | Rest of United States\n",
       "2                | 1/18/18        | 7:46:00 PM     | Female            | 22             | Senior           | LA Area            | 5             | Female        | 21         | Senior       | LA Area            | Female        | 61         | Other        | LA Area            | Female        | 23         | Other        | LA Area            | Female        | 22         | Senior       | LA Area               | Female        | 21         | Junior       | LA Area"
      ]
     },
     "execution_count": 51,
     "metadata": {},
     "output_type": "execute_result"
    }
   ],
   "source": [
    "# Assign this table to a name called survey\n",
    "### path needs to be updated for this year's data\n",
    "survey = Table.read_table('/Users/Mia/Dropbox/for_mia/ugur-demog-180-summer-2018/data/survey/ucb_personal_networks_clean.csv')\n",
    "\n",
    "# Then choose the first 10 rows as an example\n",
    "example = survey.take[:10]\n",
    "\n",
    "# Take a look at this dataset called example\n",
    "example"
   ]
  },
  {
   "cell_type": "markdown",
   "metadata": {},
   "source": [
    "## 0.2 Accessing values in the tables"
   ]
  },
  {
   "cell_type": "markdown",
   "metadata": {},
   "source": [
    "To access values of columns in the table, use `column()`, which takes a column label or index and returns an array. Alternatively, `columns()` returns a list of columns (arrays).\n",
    "\n",
    "Let's use `example` data."
   ]
  },
  {
   "cell_type": "code",
   "execution_count": 52,
   "metadata": {
    "collapsed": false
   },
   "outputs": [
    {
     "data": {
      "text/plain": [
       "array(['Male', 'Male', 'Female', 'Male', 'Male', 'Female', 'Female',\n",
       "       'Female', 'Female', 'Female'], \n",
       "      dtype='<U6')"
      ]
     },
     "execution_count": 52,
     "metadata": {},
     "output_type": "execute_result"
    }
   ],
   "source": [
    "example.column('respondent_gender') # This line returns the description of the column called \"letter\". You use quotes because you are refering to a name"
   ]
  },
  {
   "cell_type": "markdown",
   "metadata": {},
   "source": [
    "You can also refer to the \"letter\" column by index.\n",
    "** Indexing starts from 0. The \"interview_number\" column, which is the 1st column, is column(0)."
   ]
  },
  {
   "cell_type": "code",
   "execution_count": 53,
   "metadata": {
    "collapsed": false
   },
   "outputs": [
    {
     "data": {
      "text/plain": [
       "array([1, 2, 3, 1, 2, 3, 1, 1, 1, 2])"
      ]
     },
     "execution_count": 53,
     "metadata": {},
     "output_type": "execute_result"
    }
   ],
   "source": [
    "example.column(0) # indexing takes numbers, don't put numbers in quotes!"
   ]
  },
  {
   "cell_type": "code",
   "execution_count": 54,
   "metadata": {
    "collapsed": false
   },
   "outputs": [
    {
     "data": {
      "text/plain": [
       "array(['1/18/18', '1/18/18', '1/18/18', '1/18/18', '1/18/18', '1/18/18',\n",
       "       '1/19/18', '1/18/18', '1/18/18', '1/18/18'], \n",
       "      dtype='<U7')"
      ]
     },
     "execution_count": 54,
     "metadata": {},
     "output_type": "execute_result"
    }
   ],
   "source": [
    "example.column(1)"
   ]
  },
  {
   "cell_type": "markdown",
   "metadata": {},
   "source": [
    "You can use square brackets to do the same thing as the .column function as a short hand."
   ]
  },
  {
   "cell_type": "code",
   "execution_count": 55,
   "metadata": {
    "collapsed": false
   },
   "outputs": [
    {
     "data": {
      "text/plain": [
       "array([1, 2, 3, 1, 2, 3, 1, 1, 1, 2])"
      ]
     },
     "execution_count": 55,
     "metadata": {},
     "output_type": "execute_result"
    }
   ],
   "source": [
    "example['interview_number']"
   ]
  },
  {
   "cell_type": "code",
   "execution_count": 56,
   "metadata": {
    "collapsed": false
   },
   "outputs": [
    {
     "data": {
      "text/plain": [
       "array([1, 2, 3, 1, 2, 3, 1, 1, 1, 2])"
      ]
     },
     "execution_count": 56,
     "metadata": {},
     "output_type": "execute_result"
    }
   ],
   "source": [
    "example[0]"
   ]
  },
  {
   "cell_type": "markdown",
   "metadata": {},
   "source": [
    "To access values by row, `row()` returns a row by index. You can use `row('name')` or `row[index number]` to refer to the row you want to access.\n",
    "\n",
    "Alternatively, `rows()` returns a list-like **Rows** object that contains tuple like **Row** objects. You can further point to the elements in this list."
   ]
  },
  {
   "cell_type": "code",
   "execution_count": 57,
   "metadata": {
    "collapsed": false
   },
   "outputs": [
    {
     "data": {
      "text/plain": [
       "Row(interview_number=1, interview_date='1/18/18', interview_time='11:44:00 AM', respondent_gender='Male', respondent_age=19, respondent_class='Freshman', respondent_home='Bay Area', number_alters='5', alter1_gender='Male', alter1_age=19, alter1_class='Freshman', alter1_home='Bay Area', alter2_gender='Male', alter2_age=18.0, alter2_class='Freshman', alter2_home='Bay Area', alter3_gender='Male', alter3_age=18.0, alter3_class='Freshman', alter3_home='LA Area', alter4_gender='Female', alter4_age=18.0, alter4_class='Freshman', alter4_home='Bay Area', alter5_gender='Male', alter5_age=17.0, alter5_class='Other', alter5_home='Bay Area')"
      ]
     },
     "execution_count": 57,
     "metadata": {},
     "output_type": "execute_result"
    }
   ],
   "source": [
    "example.rows[0]"
   ]
  },
  {
   "cell_type": "code",
   "execution_count": 58,
   "metadata": {
    "collapsed": false
   },
   "outputs": [
    {
     "data": {
      "text/plain": [
       "Row(interview_number=1, interview_date='1/18/18', interview_time='11:44:00 AM', respondent_gender='Male', respondent_age=19, respondent_class='Freshman', respondent_home='Bay Area', number_alters='5', alter1_gender='Male', alter1_age=19, alter1_class='Freshman', alter1_home='Bay Area', alter2_gender='Male', alter2_age=18.0, alter2_class='Freshman', alter2_home='Bay Area', alter3_gender='Male', alter3_age=18.0, alter3_class='Freshman', alter3_home='LA Area', alter4_gender='Female', alter4_age=18.0, alter4_class='Freshman', alter4_home='Bay Area', alter5_gender='Male', alter5_age=17.0, alter5_class='Other', alter5_home='Bay Area')"
      ]
     },
     "execution_count": 58,
     "metadata": {},
     "output_type": "execute_result"
    }
   ],
   "source": [
    "example.row(0)"
   ]
  },
  {
   "cell_type": "code",
   "execution_count": 59,
   "metadata": {
    "collapsed": false
   },
   "outputs": [
    {
     "data": {
      "text/plain": [
       "1"
      ]
     },
     "execution_count": 59,
     "metadata": {},
     "output_type": "execute_result"
    }
   ],
   "source": [
    "first = example.rows[0]\n",
    "first[0] # this will show the first element in the first row of t, which is t.rows[0]"
   ]
  },
  {
   "cell_type": "markdown",
   "metadata": {},
   "source": [
    "You can get the number of rows:"
   ]
  },
  {
   "cell_type": "code",
   "execution_count": 60,
   "metadata": {
    "collapsed": false
   },
   "outputs": [
    {
     "data": {
      "text/plain": [
       "10"
      ]
     },
     "execution_count": 60,
     "metadata": {},
     "output_type": "execute_result"
    }
   ],
   "source": [
    "example.num_rows"
   ]
  },
  {
   "cell_type": "markdown",
   "metadata": {},
   "source": [
    "## 0.3 Manipulating data"
   ]
  },
  {
   "cell_type": "markdown",
   "metadata": {},
   "source": [
    "Adding a column:"
   ]
  },
  {
   "cell_type": "code",
   "execution_count": 62,
   "metadata": {
    "collapsed": false
   },
   "outputs": [
    {
     "data": {
      "text/html": [
       "<table border=\"1\" class=\"dataframe\">\n",
       "    <thead>\n",
       "        <tr>\n",
       "            <th>interview_number</th> <th>interview_date</th> <th>interview_time</th> <th>respondent_gender</th> <th>respondent_age</th> <th>respondent_class</th> <th>respondent_home</th> <th>number_alters</th> <th>alter1_gender</th> <th>alter1_age</th> <th>alter1_class</th> <th>alter1_home</th> <th>alter2_gender</th> <th>alter2_age</th> <th>alter2_class</th> <th>alter2_home</th> <th>alter3_gender</th> <th>alter3_age</th> <th>alter3_class</th> <th>alter3_home</th> <th>alter4_gender</th> <th>alter4_age</th> <th>alter4_class</th> <th>alter4_home</th> <th>alter5_gender</th> <th>alter5_age</th> <th>alter5_class</th> <th>alter5_home</th> <th>interviewer_id</th>\n",
       "        </tr>\n",
       "    </thead>\n",
       "    <tbody>\n",
       "        <tr>\n",
       "            <td>1               </td> <td>1/18/18       </td> <td>11:44:00 AM   </td> <td>Male             </td> <td>19            </td> <td>Freshman        </td> <td>Bay Area          </td> <td>5            </td> <td>Male         </td> <td>19        </td> <td>Freshman    </td> <td>Bay Area          </td> <td>Male         </td> <td>18        </td> <td>Freshman    </td> <td>Bay Area          </td> <td>Male         </td> <td>18        </td> <td>Freshman    </td> <td>LA Area           </td> <td>Female       </td> <td>18        </td> <td>Freshman    </td> <td>Bay Area             </td> <td>Male         </td> <td>17        </td> <td>Other       </td> <td>Bay Area             </td> <td>1             </td>\n",
       "        </tr>\n",
       "        <tr>\n",
       "            <td>2               </td> <td>1/18/18       </td> <td>2:40:00 PM    </td> <td>Male             </td> <td>21            </td> <td>Senior          </td> <td>Rest of California</td> <td>5            </td> <td>Female       </td> <td>21        </td> <td>Other       </td> <td>LA Area           </td> <td>Female       </td> <td>21        </td> <td>Other       </td> <td>Rest of California</td> <td>Male         </td> <td>21        </td> <td>Other       </td> <td>Rest of California</td> <td>Male         </td> <td>22        </td> <td>Other       </td> <td>Rest of California   </td> <td>Female       </td> <td>19        </td> <td>Sophomore   </td> <td>LA Area              </td> <td>1             </td>\n",
       "        </tr>\n",
       "        <tr>\n",
       "            <td>3               </td> <td>1/18/18       </td> <td>2:50:00 PM    </td> <td>Female           </td> <td>20            </td> <td>Junior          </td> <td>LA Area           </td> <td>4            </td> <td>Male         </td> <td>22        </td> <td>Senior      </td> <td>LA Area           </td> <td>Female       </td> <td>20        </td> <td>Junior      </td> <td>Bay Area          </td> <td>Female       </td> <td>20        </td> <td>Junior      </td> <td>Bay Area          </td> <td>Female       </td> <td>21        </td> <td>Junior      </td> <td>LA Area              </td> <td>nan          </td> <td>nan       </td> <td>nan         </td> <td>nan                  </td> <td>1             </td>\n",
       "        </tr>\n",
       "        <tr>\n",
       "            <td>1               </td> <td>1/18/18       </td> <td>11:39:00 AM   </td> <td>Male             </td> <td>21            </td> <td>Senior          </td> <td>Bay Area          </td> <td>5            </td> <td>Female       </td> <td>26        </td> <td>Senior      </td> <td>Bay Area          </td> <td>Male         </td> <td>30        </td> <td>Other       </td> <td>Bay Area          </td> <td>Male         </td> <td>27        </td> <td>Senior      </td> <td>Bay Area          </td> <td>Male         </td> <td>24        </td> <td>Senior      </td> <td>Bay Area             </td> <td>Female       </td> <td>51        </td> <td>Other       </td> <td>Rest of World        </td> <td>2             </td>\n",
       "        </tr>\n",
       "        <tr>\n",
       "            <td>2               </td> <td>1/18/18       </td> <td>7:00:00 PM    </td> <td>Male             </td> <td>20            </td> <td>Junior          </td> <td>LA Area           </td> <td>5            </td> <td>Female       </td> <td>52        </td> <td>Other       </td> <td>Rest of World     </td> <td>Male         </td> <td>60        </td> <td>Other       </td> <td>Rest of World     </td> <td>Female       </td> <td>18        </td> <td>Freshman    </td> <td>LA Area           </td> <td>Female       </td> <td>22        </td> <td>Senior      </td> <td>Rest of World        </td> <td>Female       </td> <td>64        </td> <td>Other       </td> <td>Rest of World        </td> <td>2             </td>\n",
       "        </tr>\n",
       "        <tr>\n",
       "            <td>3               </td> <td>1/18/18       </td> <td>7:30:00 PM    </td> <td>Female           </td> <td>19            </td> <td>Sophomore       </td> <td>Rest of World     </td> <td>5            </td> <td>Female       </td> <td>19        </td> <td>Sophomore   </td> <td>Rest of World     </td> <td>Female       </td> <td>20        </td> <td>Sophomore   </td> <td>Rest of World     </td> <td>Female       </td> <td>19        </td> <td>Sophomore   </td> <td>Rest of World     </td> <td>Female       </td> <td>46        </td> <td>Other       </td> <td>Rest of World        </td> <td>Female       </td> <td>19        </td> <td>Sophomore   </td> <td>LA Area              </td> <td>2             </td>\n",
       "        </tr>\n",
       "        <tr>\n",
       "            <td>1               </td> <td>1/19/18       </td> <td>11:45:00 AM   </td> <td>Female           </td> <td>20            </td> <td>Junior          </td> <td>LA Area           </td> <td>5            </td> <td>Male         </td> <td>24        </td> <td>Other       </td> <td>Rest of California</td> <td>Male         </td> <td>24        </td> <td>Other       </td> <td>Rest of California</td> <td>Female       </td> <td>45        </td> <td>Other       </td> <td>LA Area           </td> <td>Female       </td> <td>23        </td> <td>Senior      </td> <td>LA Area              </td> <td>Male         </td> <td>46        </td> <td>Other       </td> <td>LA Area              </td> <td>3             </td>\n",
       "        </tr>\n",
       "        <tr>\n",
       "            <td>1               </td> <td>1/18/18       </td> <td>11:40:00 AM   </td> <td>Female           </td> <td>21            </td> <td>Junior          </td> <td>Rest of California</td> <td>5            </td> <td>Male         </td> <td>62        </td> <td>Other       </td> <td>Rest of California</td> <td>Male         </td> <td>21        </td> <td>Junior      </td> <td>Rest of California</td> <td>Male         </td> <td>20        </td> <td>Senior      </td> <td>LA Area           </td> <td>Male         </td> <td>21        </td> <td>Senior      </td> <td>Rest of California   </td> <td>Female       </td> <td>21        </td> <td>Junior      </td> <td>Rest of California   </td> <td>3             </td>\n",
       "        </tr>\n",
       "        <tr>\n",
       "            <td>1               </td> <td>1/18/18       </td> <td>7:42:00 PM    </td> <td>Female           </td> <td>21            </td> <td>Senior          </td> <td>LA Area           </td> <td>6+           </td> <td>Female       </td> <td>34        </td> <td>Other       </td> <td>Bay Area          </td> <td>Female       </td> <td>22        </td> <td>Senior      </td> <td>LA Area           </td> <td>Female       </td> <td>22        </td> <td>Senior      </td> <td>LA Area           </td> <td>Female       </td> <td>57        </td> <td>Other       </td> <td>Rest of United States</td> <td>Female       </td> <td>19        </td> <td>Sophomore   </td> <td>Rest of United States</td> <td>3             </td>\n",
       "        </tr>\n",
       "        <tr>\n",
       "            <td>2               </td> <td>1/18/18       </td> <td>7:46:00 PM    </td> <td>Female           </td> <td>22            </td> <td>Senior          </td> <td>LA Area           </td> <td>5            </td> <td>Female       </td> <td>21        </td> <td>Senior      </td> <td>LA Area           </td> <td>Female       </td> <td>61        </td> <td>Other       </td> <td>LA Area           </td> <td>Female       </td> <td>23        </td> <td>Other       </td> <td>LA Area           </td> <td>Female       </td> <td>22        </td> <td>Senior      </td> <td>LA Area              </td> <td>Female       </td> <td>21        </td> <td>Junior      </td> <td>LA Area              </td> <td>4             </td>\n",
       "        </tr>\n",
       "    </tbody>\n",
       "</table>"
      ],
      "text/plain": [
       "interview_number | interview_date | interview_time | respondent_gender | respondent_age | respondent_class | respondent_home    | number_alters | alter1_gender | alter1_age | alter1_class | alter1_home        | alter2_gender | alter2_age | alter2_class | alter2_home        | alter3_gender | alter3_age | alter3_class | alter3_home        | alter4_gender | alter4_age | alter4_class | alter4_home           | alter5_gender | alter5_age | alter5_class | alter5_home           | interviewer_id\n",
       "1                | 1/18/18        | 11:44:00 AM    | Male              | 19             | Freshman         | Bay Area           | 5             | Male          | 19         | Freshman     | Bay Area           | Male          | 18         | Freshman     | Bay Area           | Male          | 18         | Freshman     | LA Area            | Female        | 18         | Freshman     | Bay Area              | Male          | 17         | Other        | Bay Area              | 1\n",
       "2                | 1/18/18        | 2:40:00 PM     | Male              | 21             | Senior           | Rest of California | 5             | Female        | 21         | Other        | LA Area            | Female        | 21         | Other        | Rest of California | Male          | 21         | Other        | Rest of California | Male          | 22         | Other        | Rest of California    | Female        | 19         | Sophomore    | LA Area               | 1\n",
       "3                | 1/18/18        | 2:50:00 PM     | Female            | 20             | Junior           | LA Area            | 4             | Male          | 22         | Senior       | LA Area            | Female        | 20         | Junior       | Bay Area           | Female        | 20         | Junior       | Bay Area           | Female        | 21         | Junior       | LA Area               | nan           | nan        | nan          | nan                   | 1\n",
       "1                | 1/18/18        | 11:39:00 AM    | Male              | 21             | Senior           | Bay Area           | 5             | Female        | 26         | Senior       | Bay Area           | Male          | 30         | Other        | Bay Area           | Male          | 27         | Senior       | Bay Area           | Male          | 24         | Senior       | Bay Area              | Female        | 51         | Other        | Rest of World         | 2\n",
       "2                | 1/18/18        | 7:00:00 PM     | Male              | 20             | Junior           | LA Area            | 5             | Female        | 52         | Other        | Rest of World      | Male          | 60         | Other        | Rest of World      | Female        | 18         | Freshman     | LA Area            | Female        | 22         | Senior       | Rest of World         | Female        | 64         | Other        | Rest of World         | 2\n",
       "3                | 1/18/18        | 7:30:00 PM     | Female            | 19             | Sophomore        | Rest of World      | 5             | Female        | 19         | Sophomore    | Rest of World      | Female        | 20         | Sophomore    | Rest of World      | Female        | 19         | Sophomore    | Rest of World      | Female        | 46         | Other        | Rest of World         | Female        | 19         | Sophomore    | LA Area               | 2\n",
       "1                | 1/19/18        | 11:45:00 AM    | Female            | 20             | Junior           | LA Area            | 5             | Male          | 24         | Other        | Rest of California | Male          | 24         | Other        | Rest of California | Female        | 45         | Other        | LA Area            | Female        | 23         | Senior       | LA Area               | Male          | 46         | Other        | LA Area               | 3\n",
       "1                | 1/18/18        | 11:40:00 AM    | Female            | 21             | Junior           | Rest of California | 5             | Male          | 62         | Other        | Rest of California | Male          | 21         | Junior       | Rest of California | Male          | 20         | Senior       | LA Area            | Male          | 21         | Senior       | Rest of California    | Female        | 21         | Junior       | Rest of California    | 3\n",
       "1                | 1/18/18        | 7:42:00 PM     | Female            | 21             | Senior           | LA Area            | 6+            | Female        | 34         | Other        | Bay Area           | Female        | 22         | Senior       | LA Area            | Female        | 22         | Senior       | LA Area            | Female        | 57         | Other        | Rest of United States | Female        | 19         | Sophomore    | Rest of United States | 3\n",
       "2                | 1/18/18        | 7:46:00 PM     | Female            | 22             | Senior           | LA Area            | 5             | Female        | 21         | Senior       | LA Area            | Female        | 61         | Other        | LA Area            | Female        | 23         | Other        | LA Area            | Female        | 22         | Senior       | LA Area               | Female        | 21         | Junior       | LA Area               | 4"
      ]
     },
     "execution_count": 62,
     "metadata": {},
     "output_type": "execute_result"
    }
   ],
   "source": [
    "example.with_column('interviewer_id', [1,1,1,2,2,2,3,3,3,4]) # here we add a column that counts the interviewers\n",
    "                                                             # You will see this column on the right of the table (scroll to the right)"
   ]
  },
  {
   "cell_type": "code",
   "execution_count": 63,
   "metadata": {
    "collapsed": false
   },
   "outputs": [
    {
     "data": {
      "text/html": [
       "<table border=\"1\" class=\"dataframe\">\n",
       "    <thead>\n",
       "        <tr>\n",
       "            <th>interview_number</th> <th>interview_date</th> <th>interview_time</th> <th>respondent_gender</th> <th>respondent_age</th> <th>respondent_class</th> <th>respondent_home</th> <th>number_alters</th> <th>alter1_gender</th> <th>alter1_age</th> <th>alter1_class</th> <th>alter1_home</th> <th>alter2_gender</th> <th>alter2_age</th> <th>alter2_class</th> <th>alter2_home</th> <th>alter3_gender</th> <th>alter3_age</th> <th>alter3_class</th> <th>alter3_home</th> <th>alter4_gender</th> <th>alter4_age</th> <th>alter4_class</th> <th>alter4_home</th> <th>alter5_gender</th> <th>alter5_age</th> <th>alter5_class</th> <th>alter5_home</th>\n",
       "        </tr>\n",
       "    </thead>\n",
       "    <tbody>\n",
       "        <tr>\n",
       "            <td>1               </td> <td>1/18/18       </td> <td>11:44:00 AM   </td> <td>Male             </td> <td>19            </td> <td>Freshman        </td> <td>Bay Area          </td> <td>5            </td> <td>Male         </td> <td>19        </td> <td>Freshman    </td> <td>Bay Area          </td> <td>Male         </td> <td>18        </td> <td>Freshman    </td> <td>Bay Area          </td> <td>Male         </td> <td>18        </td> <td>Freshman    </td> <td>LA Area           </td> <td>Female       </td> <td>18        </td> <td>Freshman    </td> <td>Bay Area             </td> <td>Male         </td> <td>17        </td> <td>Other       </td> <td>Bay Area             </td>\n",
       "        </tr>\n",
       "        <tr>\n",
       "            <td>2               </td> <td>1/18/18       </td> <td>2:40:00 PM    </td> <td>Male             </td> <td>21            </td> <td>Senior          </td> <td>Rest of California</td> <td>5            </td> <td>Female       </td> <td>21        </td> <td>Other       </td> <td>LA Area           </td> <td>Female       </td> <td>21        </td> <td>Other       </td> <td>Rest of California</td> <td>Male         </td> <td>21        </td> <td>Other       </td> <td>Rest of California</td> <td>Male         </td> <td>22        </td> <td>Other       </td> <td>Rest of California   </td> <td>Female       </td> <td>19        </td> <td>Sophomore   </td> <td>LA Area              </td>\n",
       "        </tr>\n",
       "        <tr>\n",
       "            <td>3               </td> <td>1/18/18       </td> <td>2:50:00 PM    </td> <td>Female           </td> <td>20            </td> <td>Junior          </td> <td>LA Area           </td> <td>4            </td> <td>Male         </td> <td>22        </td> <td>Senior      </td> <td>LA Area           </td> <td>Female       </td> <td>20        </td> <td>Junior      </td> <td>Bay Area          </td> <td>Female       </td> <td>20        </td> <td>Junior      </td> <td>Bay Area          </td> <td>Female       </td> <td>21        </td> <td>Junior      </td> <td>LA Area              </td> <td>nan          </td> <td>nan       </td> <td>nan         </td> <td>nan                  </td>\n",
       "        </tr>\n",
       "        <tr>\n",
       "            <td>1               </td> <td>1/18/18       </td> <td>11:39:00 AM   </td> <td>Male             </td> <td>21            </td> <td>Senior          </td> <td>Bay Area          </td> <td>5            </td> <td>Female       </td> <td>26        </td> <td>Senior      </td> <td>Bay Area          </td> <td>Male         </td> <td>30        </td> <td>Other       </td> <td>Bay Area          </td> <td>Male         </td> <td>27        </td> <td>Senior      </td> <td>Bay Area          </td> <td>Male         </td> <td>24        </td> <td>Senior      </td> <td>Bay Area             </td> <td>Female       </td> <td>51        </td> <td>Other       </td> <td>Rest of World        </td>\n",
       "        </tr>\n",
       "        <tr>\n",
       "            <td>2               </td> <td>1/18/18       </td> <td>7:00:00 PM    </td> <td>Male             </td> <td>20            </td> <td>Junior          </td> <td>LA Area           </td> <td>5            </td> <td>Female       </td> <td>52        </td> <td>Other       </td> <td>Rest of World     </td> <td>Male         </td> <td>60        </td> <td>Other       </td> <td>Rest of World     </td> <td>Female       </td> <td>18        </td> <td>Freshman    </td> <td>LA Area           </td> <td>Female       </td> <td>22        </td> <td>Senior      </td> <td>Rest of World        </td> <td>Female       </td> <td>64        </td> <td>Other       </td> <td>Rest of World        </td>\n",
       "        </tr>\n",
       "        <tr>\n",
       "            <td>3               </td> <td>1/18/18       </td> <td>7:30:00 PM    </td> <td>Female           </td> <td>19            </td> <td>Sophomore       </td> <td>Rest of World     </td> <td>5            </td> <td>Female       </td> <td>19        </td> <td>Sophomore   </td> <td>Rest of World     </td> <td>Female       </td> <td>20        </td> <td>Sophomore   </td> <td>Rest of World     </td> <td>Female       </td> <td>19        </td> <td>Sophomore   </td> <td>Rest of World     </td> <td>Female       </td> <td>46        </td> <td>Other       </td> <td>Rest of World        </td> <td>Female       </td> <td>19        </td> <td>Sophomore   </td> <td>LA Area              </td>\n",
       "        </tr>\n",
       "        <tr>\n",
       "            <td>1               </td> <td>1/19/18       </td> <td>11:45:00 AM   </td> <td>Female           </td> <td>20            </td> <td>Junior          </td> <td>LA Area           </td> <td>5            </td> <td>Male         </td> <td>24        </td> <td>Other       </td> <td>Rest of California</td> <td>Male         </td> <td>24        </td> <td>Other       </td> <td>Rest of California</td> <td>Female       </td> <td>45        </td> <td>Other       </td> <td>LA Area           </td> <td>Female       </td> <td>23        </td> <td>Senior      </td> <td>LA Area              </td> <td>Male         </td> <td>46        </td> <td>Other       </td> <td>LA Area              </td>\n",
       "        </tr>\n",
       "        <tr>\n",
       "            <td>1               </td> <td>1/18/18       </td> <td>11:40:00 AM   </td> <td>Female           </td> <td>21            </td> <td>Junior          </td> <td>Rest of California</td> <td>5            </td> <td>Male         </td> <td>62        </td> <td>Other       </td> <td>Rest of California</td> <td>Male         </td> <td>21        </td> <td>Junior      </td> <td>Rest of California</td> <td>Male         </td> <td>20        </td> <td>Senior      </td> <td>LA Area           </td> <td>Male         </td> <td>21        </td> <td>Senior      </td> <td>Rest of California   </td> <td>Female       </td> <td>21        </td> <td>Junior      </td> <td>Rest of California   </td>\n",
       "        </tr>\n",
       "        <tr>\n",
       "            <td>1               </td> <td>1/18/18       </td> <td>7:42:00 PM    </td> <td>Female           </td> <td>21            </td> <td>Senior          </td> <td>LA Area           </td> <td>6+           </td> <td>Female       </td> <td>34        </td> <td>Other       </td> <td>Bay Area          </td> <td>Female       </td> <td>22        </td> <td>Senior      </td> <td>LA Area           </td> <td>Female       </td> <td>22        </td> <td>Senior      </td> <td>LA Area           </td> <td>Female       </td> <td>57        </td> <td>Other       </td> <td>Rest of United States</td> <td>Female       </td> <td>19        </td> <td>Sophomore   </td> <td>Rest of United States</td>\n",
       "        </tr>\n",
       "        <tr>\n",
       "            <td>2               </td> <td>1/18/18       </td> <td>7:46:00 PM    </td> <td>Female           </td> <td>22            </td> <td>Senior          </td> <td>LA Area           </td> <td>5            </td> <td>Female       </td> <td>21        </td> <td>Senior      </td> <td>LA Area           </td> <td>Female       </td> <td>61        </td> <td>Other       </td> <td>LA Area           </td> <td>Female       </td> <td>23        </td> <td>Other       </td> <td>LA Area           </td> <td>Female       </td> <td>22        </td> <td>Senior      </td> <td>LA Area              </td> <td>Female       </td> <td>21        </td> <td>Junior      </td> <td>LA Area              </td>\n",
       "        </tr>\n",
       "    </tbody>\n",
       "</table>"
      ],
      "text/plain": [
       "interview_number | interview_date | interview_time | respondent_gender | respondent_age | respondent_class | respondent_home    | number_alters | alter1_gender | alter1_age | alter1_class | alter1_home        | alter2_gender | alter2_age | alter2_class | alter2_home        | alter3_gender | alter3_age | alter3_class | alter3_home        | alter4_gender | alter4_age | alter4_class | alter4_home           | alter5_gender | alter5_age | alter5_class | alter5_home\n",
       "1                | 1/18/18        | 11:44:00 AM    | Male              | 19             | Freshman         | Bay Area           | 5             | Male          | 19         | Freshman     | Bay Area           | Male          | 18         | Freshman     | Bay Area           | Male          | 18         | Freshman     | LA Area            | Female        | 18         | Freshman     | Bay Area              | Male          | 17         | Other        | Bay Area\n",
       "2                | 1/18/18        | 2:40:00 PM     | Male              | 21             | Senior           | Rest of California | 5             | Female        | 21         | Other        | LA Area            | Female        | 21         | Other        | Rest of California | Male          | 21         | Other        | Rest of California | Male          | 22         | Other        | Rest of California    | Female        | 19         | Sophomore    | LA Area\n",
       "3                | 1/18/18        | 2:50:00 PM     | Female            | 20             | Junior           | LA Area            | 4             | Male          | 22         | Senior       | LA Area            | Female        | 20         | Junior       | Bay Area           | Female        | 20         | Junior       | Bay Area           | Female        | 21         | Junior       | LA Area               | nan           | nan        | nan          | nan\n",
       "1                | 1/18/18        | 11:39:00 AM    | Male              | 21             | Senior           | Bay Area           | 5             | Female        | 26         | Senior       | Bay Area           | Male          | 30         | Other        | Bay Area           | Male          | 27         | Senior       | Bay Area           | Male          | 24         | Senior       | Bay Area              | Female        | 51         | Other        | Rest of World\n",
       "2                | 1/18/18        | 7:00:00 PM     | Male              | 20             | Junior           | LA Area            | 5             | Female        | 52         | Other        | Rest of World      | Male          | 60         | Other        | Rest of World      | Female        | 18         | Freshman     | LA Area            | Female        | 22         | Senior       | Rest of World         | Female        | 64         | Other        | Rest of World\n",
       "3                | 1/18/18        | 7:30:00 PM     | Female            | 19             | Sophomore        | Rest of World      | 5             | Female        | 19         | Sophomore    | Rest of World      | Female        | 20         | Sophomore    | Rest of World      | Female        | 19         | Sophomore    | Rest of World      | Female        | 46         | Other        | Rest of World         | Female        | 19         | Sophomore    | LA Area\n",
       "1                | 1/19/18        | 11:45:00 AM    | Female            | 20             | Junior           | LA Area            | 5             | Male          | 24         | Other        | Rest of California | Male          | 24         | Other        | Rest of California | Female        | 45         | Other        | LA Area            | Female        | 23         | Senior       | LA Area               | Male          | 46         | Other        | LA Area\n",
       "1                | 1/18/18        | 11:40:00 AM    | Female            | 21             | Junior           | Rest of California | 5             | Male          | 62         | Other        | Rest of California | Male          | 21         | Junior       | Rest of California | Male          | 20         | Senior       | LA Area            | Male          | 21         | Senior       | Rest of California    | Female        | 21         | Junior       | Rest of California\n",
       "1                | 1/18/18        | 7:42:00 PM     | Female            | 21             | Senior           | LA Area            | 6+            | Female        | 34         | Other        | Bay Area           | Female        | 22         | Senior       | LA Area            | Female        | 22         | Senior       | LA Area            | Female        | 57         | Other        | Rest of United States | Female        | 19         | Sophomore    | Rest of United States\n",
       "2                | 1/18/18        | 7:46:00 PM     | Female            | 22             | Senior           | LA Area            | 5             | Female        | 21         | Senior       | LA Area            | Female        | 61         | Other        | LA Area            | Female        | 23         | Other        | LA Area            | Female        | 22         | Senior       | LA Area               | Female        | 21         | Junior       | LA Area"
      ]
     },
     "execution_count": 63,
     "metadata": {},
     "output_type": "execute_result"
    }
   ],
   "source": [
    "# NOTE that .with_column returns a new table without modifying the original one. The table t is still the same.\n",
    "example"
   ]
  },
  {
   "cell_type": "markdown",
   "metadata": {},
   "source": [
    "Let's reduce the table to only contain the information about the respondents for a simpler illustration.\n",
    "\n",
    "You select columns with `select()`."
   ]
  },
  {
   "cell_type": "code",
   "execution_count": 66,
   "metadata": {
    "collapsed": false
   },
   "outputs": [
    {
     "data": {
      "text/html": [
       "<table border=\"1\" class=\"dataframe\">\n",
       "    <thead>\n",
       "        <tr>\n",
       "            <th>interview_number</th> <th>respondent_gender</th> <th>respondent_age</th> <th>respondent_class</th> <th>respondent_home</th>\n",
       "        </tr>\n",
       "    </thead>\n",
       "    <tbody>\n",
       "        <tr>\n",
       "            <td>1               </td> <td>Male             </td> <td>19            </td> <td>Freshman        </td> <td>Bay Area          </td>\n",
       "        </tr>\n",
       "        <tr>\n",
       "            <td>2               </td> <td>Male             </td> <td>21            </td> <td>Senior          </td> <td>Rest of California</td>\n",
       "        </tr>\n",
       "        <tr>\n",
       "            <td>3               </td> <td>Female           </td> <td>20            </td> <td>Junior          </td> <td>LA Area           </td>\n",
       "        </tr>\n",
       "        <tr>\n",
       "            <td>1               </td> <td>Male             </td> <td>21            </td> <td>Senior          </td> <td>Bay Area          </td>\n",
       "        </tr>\n",
       "        <tr>\n",
       "            <td>2               </td> <td>Male             </td> <td>20            </td> <td>Junior          </td> <td>LA Area           </td>\n",
       "        </tr>\n",
       "        <tr>\n",
       "            <td>3               </td> <td>Female           </td> <td>19            </td> <td>Sophomore       </td> <td>Rest of World     </td>\n",
       "        </tr>\n",
       "        <tr>\n",
       "            <td>1               </td> <td>Female           </td> <td>20            </td> <td>Junior          </td> <td>LA Area           </td>\n",
       "        </tr>\n",
       "        <tr>\n",
       "            <td>1               </td> <td>Female           </td> <td>21            </td> <td>Junior          </td> <td>Rest of California</td>\n",
       "        </tr>\n",
       "        <tr>\n",
       "            <td>1               </td> <td>Female           </td> <td>21            </td> <td>Senior          </td> <td>LA Area           </td>\n",
       "        </tr>\n",
       "        <tr>\n",
       "            <td>2               </td> <td>Female           </td> <td>22            </td> <td>Senior          </td> <td>LA Area           </td>\n",
       "        </tr>\n",
       "    </tbody>\n",
       "</table>"
      ],
      "text/plain": [
       "interview_number | respondent_gender | respondent_age | respondent_class | respondent_home\n",
       "1                | Male              | 19             | Freshman         | Bay Area\n",
       "2                | Male              | 21             | Senior           | Rest of California\n",
       "3                | Female            | 20             | Junior           | LA Area\n",
       "1                | Male              | 21             | Senior           | Bay Area\n",
       "2                | Male              | 20             | Junior           | LA Area\n",
       "3                | Female            | 19             | Sophomore        | Rest of World\n",
       "1                | Female            | 20             | Junior           | LA Area\n",
       "1                | Female            | 21             | Junior           | Rest of California\n",
       "1                | Female            | 21             | Senior           | LA Area\n",
       "2                | Female            | 22             | Senior           | LA Area"
      ]
     },
     "execution_count": 66,
     "metadata": {},
     "output_type": "execute_result"
    }
   ],
   "source": [
    "example.select(['interview_number','respondent_gender','respondent_age','respondent_class',\n",
    "               'respondent_home'])"
   ]
  },
  {
   "cell_type": "code",
   "execution_count": 73,
   "metadata": {
    "collapsed": true
   },
   "outputs": [],
   "source": [
    "# Let's assign this as a new dataset\n",
    "example2 = example.select(['interview_number','respondent_gender','respondent_age','respondent_class',\n",
    "               'respondent_home'])"
   ]
  },
  {
   "cell_type": "markdown",
   "metadata": {},
   "source": [
    "You can renaming columns with `relabeled()`:"
   ]
  },
  {
   "cell_type": "code",
   "execution_count": 74,
   "metadata": {
    "collapsed": false
   },
   "outputs": [
    {
     "data": {
      "text/html": [
       "<table border=\"1\" class=\"dataframe\">\n",
       "    <thead>\n",
       "        <tr>\n",
       "            <th>interview_number</th> <th>respondent_gender</th> <th>respondent_age</th> <th>respondent_class</th> <th>respondent_residency</th>\n",
       "        </tr>\n",
       "    </thead>\n",
       "    <tbody>\n",
       "        <tr>\n",
       "            <td>1               </td> <td>Male             </td> <td>19            </td> <td>Freshman        </td> <td>Bay Area            </td>\n",
       "        </tr>\n",
       "        <tr>\n",
       "            <td>2               </td> <td>Male             </td> <td>21            </td> <td>Senior          </td> <td>Rest of California  </td>\n",
       "        </tr>\n",
       "        <tr>\n",
       "            <td>3               </td> <td>Female           </td> <td>20            </td> <td>Junior          </td> <td>LA Area             </td>\n",
       "        </tr>\n",
       "        <tr>\n",
       "            <td>1               </td> <td>Male             </td> <td>21            </td> <td>Senior          </td> <td>Bay Area            </td>\n",
       "        </tr>\n",
       "        <tr>\n",
       "            <td>2               </td> <td>Male             </td> <td>20            </td> <td>Junior          </td> <td>LA Area             </td>\n",
       "        </tr>\n",
       "        <tr>\n",
       "            <td>3               </td> <td>Female           </td> <td>19            </td> <td>Sophomore       </td> <td>Rest of World       </td>\n",
       "        </tr>\n",
       "        <tr>\n",
       "            <td>1               </td> <td>Female           </td> <td>20            </td> <td>Junior          </td> <td>LA Area             </td>\n",
       "        </tr>\n",
       "        <tr>\n",
       "            <td>1               </td> <td>Female           </td> <td>21            </td> <td>Junior          </td> <td>Rest of California  </td>\n",
       "        </tr>\n",
       "        <tr>\n",
       "            <td>1               </td> <td>Female           </td> <td>21            </td> <td>Senior          </td> <td>LA Area             </td>\n",
       "        </tr>\n",
       "        <tr>\n",
       "            <td>2               </td> <td>Female           </td> <td>22            </td> <td>Senior          </td> <td>LA Area             </td>\n",
       "        </tr>\n",
       "    </tbody>\n",
       "</table>"
      ],
      "text/plain": [
       "interview_number | respondent_gender | respondent_age | respondent_class | respondent_residency\n",
       "1                | Male              | 19             | Freshman         | Bay Area\n",
       "2                | Male              | 21             | Senior           | Rest of California\n",
       "3                | Female            | 20             | Junior           | LA Area\n",
       "1                | Male              | 21             | Senior           | Bay Area\n",
       "2                | Male              | 20             | Junior           | LA Area\n",
       "3                | Female            | 19             | Sophomore        | Rest of World\n",
       "1                | Female            | 20             | Junior           | LA Area\n",
       "1                | Female            | 21             | Junior           | Rest of California\n",
       "1                | Female            | 21             | Senior           | LA Area\n",
       "2                | Female            | 22             | Senior           | LA Area"
      ]
     },
     "execution_count": 74,
     "metadata": {},
     "output_type": "execute_result"
    }
   ],
   "source": [
    "example2.relabeled('respondent_home', 'respondent_residency')"
   ]
  },
  {
   "cell_type": "code",
   "execution_count": 75,
   "metadata": {
    "collapsed": false
   },
   "outputs": [
    {
     "data": {
      "text/html": [
       "<table border=\"1\" class=\"dataframe\">\n",
       "    <thead>\n",
       "        <tr>\n",
       "            <th>interview_number</th> <th>respondent_gender</th> <th>respondent_age</th> <th>respondent_class</th> <th>respondent_home</th>\n",
       "        </tr>\n",
       "    </thead>\n",
       "    <tbody>\n",
       "        <tr>\n",
       "            <td>1               </td> <td>Male             </td> <td>19            </td> <td>Freshman        </td> <td>Bay Area          </td>\n",
       "        </tr>\n",
       "        <tr>\n",
       "            <td>2               </td> <td>Male             </td> <td>21            </td> <td>Senior          </td> <td>Rest of California</td>\n",
       "        </tr>\n",
       "        <tr>\n",
       "            <td>3               </td> <td>Female           </td> <td>20            </td> <td>Junior          </td> <td>LA Area           </td>\n",
       "        </tr>\n",
       "        <tr>\n",
       "            <td>1               </td> <td>Male             </td> <td>21            </td> <td>Senior          </td> <td>Bay Area          </td>\n",
       "        </tr>\n",
       "        <tr>\n",
       "            <td>2               </td> <td>Male             </td> <td>20            </td> <td>Junior          </td> <td>LA Area           </td>\n",
       "        </tr>\n",
       "        <tr>\n",
       "            <td>3               </td> <td>Female           </td> <td>19            </td> <td>Sophomore       </td> <td>Rest of World     </td>\n",
       "        </tr>\n",
       "        <tr>\n",
       "            <td>1               </td> <td>Female           </td> <td>20            </td> <td>Junior          </td> <td>LA Area           </td>\n",
       "        </tr>\n",
       "        <tr>\n",
       "            <td>1               </td> <td>Female           </td> <td>21            </td> <td>Junior          </td> <td>Rest of California</td>\n",
       "        </tr>\n",
       "        <tr>\n",
       "            <td>1               </td> <td>Female           </td> <td>21            </td> <td>Senior          </td> <td>LA Area           </td>\n",
       "        </tr>\n",
       "        <tr>\n",
       "            <td>2               </td> <td>Female           </td> <td>22            </td> <td>Senior          </td> <td>LA Area           </td>\n",
       "        </tr>\n",
       "    </tbody>\n",
       "</table>"
      ],
      "text/plain": [
       "interview_number | respondent_gender | respondent_age | respondent_class | respondent_home\n",
       "1                | Male              | 19             | Freshman         | Bay Area\n",
       "2                | Male              | 21             | Senior           | Rest of California\n",
       "3                | Female            | 20             | Junior           | LA Area\n",
       "1                | Male              | 21             | Senior           | Bay Area\n",
       "2                | Male              | 20             | Junior           | LA Area\n",
       "3                | Female            | 19             | Sophomore        | Rest of World\n",
       "1                | Female            | 20             | Junior           | LA Area\n",
       "1                | Female            | 21             | Junior           | Rest of California\n",
       "1                | Female            | 21             | Senior           | LA Area\n",
       "2                | Female            | 22             | Senior           | LA Area"
      ]
     },
     "execution_count": 75,
     "metadata": {},
     "output_type": "execute_result"
    }
   ],
   "source": [
    "# Like .with_column(), renaming doens't change the original example1\n",
    "example2"
   ]
  },
  {
   "cell_type": "markdown",
   "metadata": {},
   "source": [
    "You can selecting rows by index with `take()` and conditionally with `where()`:"
   ]
  },
  {
   "cell_type": "code",
   "execution_count": 76,
   "metadata": {
    "collapsed": false
   },
   "outputs": [
    {
     "data": {
      "text/html": [
       "<table border=\"1\" class=\"dataframe\">\n",
       "    <thead>\n",
       "        <tr>\n",
       "            <th>interview_number</th> <th>respondent_gender</th> <th>respondent_age</th> <th>respondent_class</th> <th>respondent_home</th>\n",
       "        </tr>\n",
       "    </thead>\n",
       "    <tbody>\n",
       "        <tr>\n",
       "            <td>3               </td> <td>Female           </td> <td>20            </td> <td>Junior          </td> <td>LA Area        </td>\n",
       "        </tr>\n",
       "    </tbody>\n",
       "</table>"
      ],
      "text/plain": [
       "interview_number | respondent_gender | respondent_age | respondent_class | respondent_home\n",
       "3                | Female            | 20             | Junior           | LA Area"
      ]
     },
     "execution_count": 76,
     "metadata": {},
     "output_type": "execute_result"
    }
   ],
   "source": [
    "example2.take(2) # returns the 3RD row"
   ]
  },
  {
   "cell_type": "code",
   "execution_count": 77,
   "metadata": {
    "collapsed": false
   },
   "outputs": [
    {
     "data": {
      "text/html": [
       "<table border=\"1\" class=\"dataframe\">\n",
       "    <thead>\n",
       "        <tr>\n",
       "            <th>interview_number</th> <th>respondent_gender</th> <th>respondent_age</th> <th>respondent_class</th> <th>respondent_home</th>\n",
       "        </tr>\n",
       "    </thead>\n",
       "    <tbody>\n",
       "        <tr>\n",
       "            <td>3               </td> <td>Female           </td> <td>20            </td> <td>Junior          </td> <td>LA Area           </td>\n",
       "        </tr>\n",
       "        <tr>\n",
       "            <td>3               </td> <td>Female           </td> <td>19            </td> <td>Sophomore       </td> <td>Rest of World     </td>\n",
       "        </tr>\n",
       "        <tr>\n",
       "            <td>1               </td> <td>Female           </td> <td>20            </td> <td>Junior          </td> <td>LA Area           </td>\n",
       "        </tr>\n",
       "        <tr>\n",
       "            <td>1               </td> <td>Female           </td> <td>21            </td> <td>Junior          </td> <td>Rest of California</td>\n",
       "        </tr>\n",
       "        <tr>\n",
       "            <td>1               </td> <td>Female           </td> <td>21            </td> <td>Senior          </td> <td>LA Area           </td>\n",
       "        </tr>\n",
       "        <tr>\n",
       "            <td>2               </td> <td>Female           </td> <td>22            </td> <td>Senior          </td> <td>LA Area           </td>\n",
       "        </tr>\n",
       "    </tbody>\n",
       "</table>"
      ],
      "text/plain": [
       "interview_number | respondent_gender | respondent_age | respondent_class | respondent_home\n",
       "3                | Female            | 20             | Junior           | LA Area\n",
       "3                | Female            | 19             | Sophomore        | Rest of World\n",
       "1                | Female            | 20             | Junior           | LA Area\n",
       "1                | Female            | 21             | Junior           | Rest of California\n",
       "1                | Female            | 21             | Senior           | LA Area\n",
       "2                | Female            | 22             | Senior           | LA Area"
      ]
     },
     "execution_count": 77,
     "metadata": {},
     "output_type": "execute_result"
    }
   ],
   "source": [
    "example2.where('respondent_gender', 'Female') # returns the rows where the respondent_gender is \"Female\""
   ]
  },
  {
   "cell_type": "code",
   "execution_count": 78,
   "metadata": {
    "collapsed": false
   },
   "outputs": [
    {
     "data": {
      "text/html": [
       "<table border=\"1\" class=\"dataframe\">\n",
       "    <thead>\n",
       "        <tr>\n",
       "            <th>interview_number</th> <th>respondent_gender</th> <th>respondent_age</th> <th>respondent_class</th> <th>respondent_home</th>\n",
       "        </tr>\n",
       "    </thead>\n",
       "    <tbody>\n",
       "        <tr>\n",
       "            <td>1               </td> <td>Male             </td> <td>19            </td> <td>Freshman        </td> <td>Bay Area       </td>\n",
       "        </tr>\n",
       "        <tr>\n",
       "            <td>3               </td> <td>Female           </td> <td>19            </td> <td>Sophomore       </td> <td>Rest of World  </td>\n",
       "        </tr>\n",
       "    </tbody>\n",
       "</table>"
      ],
      "text/plain": [
       "interview_number | respondent_gender | respondent_age | respondent_class | respondent_home\n",
       "1                | Male              | 19             | Freshman         | Bay Area\n",
       "3                | Female            | 19             | Sophomore        | Rest of World"
      ]
     },
     "execution_count": 78,
     "metadata": {},
     "output_type": "execute_result"
    }
   ],
   "source": [
    "example2.where(example2['respondent_age'] < 20) # example1['count'] refers to the values in column 'count', you could only compare values to values\n",
    "                        # this whole function returns the rows where respondent_age < 20"
   ]
  },
  {
   "cell_type": "code",
   "execution_count": 79,
   "metadata": {
    "collapsed": false
   },
   "outputs": [
    {
     "data": {
      "text/plain": [
       "array([ True, False, False, False, False,  True, False, False, False, False], dtype=bool)"
      ]
     },
     "execution_count": 79,
     "metadata": {},
     "output_type": "execute_result"
    }
   ],
   "source": [
    "# Let's see what example2['respondent_age'] < 20 returns\n",
    "example2['respondent_age'] < 20 # the results of comparison are an array of booleans (trues or falses)"
   ]
  },
  {
   "cell_type": "markdown",
   "metadata": {},
   "source": [
    "Further operation on table data with `sort()`, `group()`, and `pivot()`."
   ]
  },
  {
   "cell_type": "code",
   "execution_count": 80,
   "metadata": {
    "collapsed": false
   },
   "outputs": [
    {
     "data": {
      "text/html": [
       "<table border=\"1\" class=\"dataframe\">\n",
       "    <thead>\n",
       "        <tr>\n",
       "            <th>interview_number</th> <th>respondent_gender</th> <th>respondent_age</th> <th>respondent_class</th> <th>respondent_home</th>\n",
       "        </tr>\n",
       "    </thead>\n",
       "    <tbody>\n",
       "        <tr>\n",
       "            <td>1               </td> <td>Male             </td> <td>19            </td> <td>Freshman        </td> <td>Bay Area          </td>\n",
       "        </tr>\n",
       "        <tr>\n",
       "            <td>3               </td> <td>Female           </td> <td>19            </td> <td>Sophomore       </td> <td>Rest of World     </td>\n",
       "        </tr>\n",
       "        <tr>\n",
       "            <td>3               </td> <td>Female           </td> <td>20            </td> <td>Junior          </td> <td>LA Area           </td>\n",
       "        </tr>\n",
       "        <tr>\n",
       "            <td>2               </td> <td>Male             </td> <td>20            </td> <td>Junior          </td> <td>LA Area           </td>\n",
       "        </tr>\n",
       "        <tr>\n",
       "            <td>1               </td> <td>Female           </td> <td>20            </td> <td>Junior          </td> <td>LA Area           </td>\n",
       "        </tr>\n",
       "        <tr>\n",
       "            <td>2               </td> <td>Male             </td> <td>21            </td> <td>Senior          </td> <td>Rest of California</td>\n",
       "        </tr>\n",
       "        <tr>\n",
       "            <td>1               </td> <td>Male             </td> <td>21            </td> <td>Senior          </td> <td>Bay Area          </td>\n",
       "        </tr>\n",
       "        <tr>\n",
       "            <td>1               </td> <td>Female           </td> <td>21            </td> <td>Junior          </td> <td>Rest of California</td>\n",
       "        </tr>\n",
       "        <tr>\n",
       "            <td>1               </td> <td>Female           </td> <td>21            </td> <td>Senior          </td> <td>LA Area           </td>\n",
       "        </tr>\n",
       "        <tr>\n",
       "            <td>2               </td> <td>Female           </td> <td>22            </td> <td>Senior          </td> <td>LA Area           </td>\n",
       "        </tr>\n",
       "    </tbody>\n",
       "</table>"
      ],
      "text/plain": [
       "interview_number | respondent_gender | respondent_age | respondent_class | respondent_home\n",
       "1                | Male              | 19             | Freshman         | Bay Area\n",
       "3                | Female            | 19             | Sophomore        | Rest of World\n",
       "3                | Female            | 20             | Junior           | LA Area\n",
       "2                | Male              | 20             | Junior           | LA Area\n",
       "1                | Female            | 20             | Junior           | LA Area\n",
       "2                | Male              | 21             | Senior           | Rest of California\n",
       "1                | Male              | 21             | Senior           | Bay Area\n",
       "1                | Female            | 21             | Junior           | Rest of California\n",
       "1                | Female            | 21             | Senior           | LA Area\n",
       "2                | Female            | 22             | Senior           | LA Area"
      ]
     },
     "execution_count": 80,
     "metadata": {},
     "output_type": "execute_result"
    }
   ],
   "source": [
    "example2.sort('respondent_age') # this function sorts the table based on the values in 'respondent_age' column"
   ]
  },
  {
   "cell_type": "code",
   "execution_count": 81,
   "metadata": {
    "collapsed": false
   },
   "outputs": [
    {
     "data": {
      "text/html": [
       "<table border=\"1\" class=\"dataframe\">\n",
       "    <thead>\n",
       "        <tr>\n",
       "            <th>interview_number</th> <th>respondent_gender</th> <th>respondent_age</th> <th>respondent_class</th> <th>respondent_home</th>\n",
       "        </tr>\n",
       "    </thead>\n",
       "    <tbody>\n",
       "        <tr>\n",
       "            <td>2               </td> <td>Male             </td> <td>20            </td> <td>Junior          </td> <td>LA Area           </td>\n",
       "        </tr>\n",
       "        <tr>\n",
       "            <td>1               </td> <td>Male             </td> <td>21            </td> <td>Senior          </td> <td>Bay Area          </td>\n",
       "        </tr>\n",
       "        <tr>\n",
       "            <td>2               </td> <td>Male             </td> <td>21            </td> <td>Senior          </td> <td>Rest of California</td>\n",
       "        </tr>\n",
       "        <tr>\n",
       "            <td>1               </td> <td>Male             </td> <td>19            </td> <td>Freshman        </td> <td>Bay Area          </td>\n",
       "        </tr>\n",
       "        <tr>\n",
       "            <td>2               </td> <td>Female           </td> <td>22            </td> <td>Senior          </td> <td>LA Area           </td>\n",
       "        </tr>\n",
       "        <tr>\n",
       "            <td>1               </td> <td>Female           </td> <td>21            </td> <td>Senior          </td> <td>LA Area           </td>\n",
       "        </tr>\n",
       "        <tr>\n",
       "            <td>1               </td> <td>Female           </td> <td>21            </td> <td>Junior          </td> <td>Rest of California</td>\n",
       "        </tr>\n",
       "        <tr>\n",
       "            <td>1               </td> <td>Female           </td> <td>20            </td> <td>Junior          </td> <td>LA Area           </td>\n",
       "        </tr>\n",
       "        <tr>\n",
       "            <td>3               </td> <td>Female           </td> <td>19            </td> <td>Sophomore       </td> <td>Rest of World     </td>\n",
       "        </tr>\n",
       "        <tr>\n",
       "            <td>3               </td> <td>Female           </td> <td>20            </td> <td>Junior          </td> <td>LA Area           </td>\n",
       "        </tr>\n",
       "    </tbody>\n",
       "</table>"
      ],
      "text/plain": [
       "interview_number | respondent_gender | respondent_age | respondent_class | respondent_home\n",
       "2                | Male              | 20             | Junior           | LA Area\n",
       "1                | Male              | 21             | Senior           | Bay Area\n",
       "2                | Male              | 21             | Senior           | Rest of California\n",
       "1                | Male              | 19             | Freshman         | Bay Area\n",
       "2                | Female            | 22             | Senior           | LA Area\n",
       "1                | Female            | 21             | Senior           | LA Area\n",
       "1                | Female            | 21             | Junior           | Rest of California\n",
       "1                | Female            | 20             | Junior           | LA Area\n",
       "3                | Female            | 19             | Sophomore        | Rest of World\n",
       "3                | Female            | 20             | Junior           | LA Area"
      ]
     },
     "execution_count": 81,
     "metadata": {},
     "output_type": "execute_result"
    }
   ],
   "source": [
    "example2.sort('respondent_gender', descending = True) # You can also sort the first letters of words from z to a."
   ]
  },
  {
   "cell_type": "code",
   "execution_count": 93,
   "metadata": {
    "collapsed": false
   },
   "outputs": [
    {
     "data": {
      "text/html": [
       "<table border=\"1\" class=\"dataframe\">\n",
       "    <thead>\n",
       "        <tr>\n",
       "            <th>respondent_home</th> <th>respondent_age min</th>\n",
       "        </tr>\n",
       "    </thead>\n",
       "    <tbody>\n",
       "        <tr>\n",
       "            <td>Bay Area          </td> <td>19                </td>\n",
       "        </tr>\n",
       "        <tr>\n",
       "            <td>LA Area           </td> <td>20                </td>\n",
       "        </tr>\n",
       "        <tr>\n",
       "            <td>Rest of California</td> <td>21                </td>\n",
       "        </tr>\n",
       "        <tr>\n",
       "            <td>Rest of World     </td> <td>19                </td>\n",
       "        </tr>\n",
       "    </tbody>\n",
       "</table>"
      ],
      "text/plain": [
       "respondent_home    | respondent_age min\n",
       "Bay Area           | 19\n",
       "LA Area            | 20\n",
       "Rest of California | 21\n",
       "Rest of World      | 19"
      ]
     },
     "execution_count": 93,
     "metadata": {},
     "output_type": "execute_result"
    }
   ],
   "source": [
    "# You may pass a reducing function into the collect argument\n",
    "# Note the renaming of the points column because of the collect argument\n",
    "\n",
    "example2.select(['respondent_home','respondent_age']).group('respondent_home', collect = min) # this line selects the two columns 'respondent_home' and 'respondent_age',\n",
    "                                                           # and then group these row based on 'respondent_home\n",
    "                                                           # and report the smallest number of the 'respondent_age' in each category."
   ]
  },
  {
   "cell_type": "code",
   "execution_count": 94,
   "metadata": {
    "collapsed": false
   },
   "outputs": [
    {
     "data": {
      "text/html": [
       "<table border=\"1\" class=\"dataframe\">\n",
       "    <thead>\n",
       "        <tr>\n",
       "            <th>respondent_gender</th> <th>Bay Area</th> <th>LA Area</th> <th>Rest of California</th> <th>Rest of World</th>\n",
       "        </tr>\n",
       "    </thead>\n",
       "    <tbody>\n",
       "        <tr>\n",
       "            <td>Female           </td> <td>0       </td> <td>4      </td> <td>1                 </td> <td>1            </td>\n",
       "        </tr>\n",
       "        <tr>\n",
       "            <td>Male             </td> <td>2       </td> <td>1      </td> <td>1                 </td> <td>0            </td>\n",
       "        </tr>\n",
       "    </tbody>\n",
       "</table>"
      ],
      "text/plain": [
       "respondent_gender | Bay Area | LA Area | Rest of California | Rest of World\n",
       "Female            | 0        | 4       | 1                  | 1\n",
       "Male              | 2        | 1       | 1                  | 0"
      ]
     },
     "execution_count": 94,
     "metadata": {},
     "output_type": "execute_result"
    }
   ],
   "source": [
    "# You can use the 'pivot' function to do some tabulations.\n",
    "example2.pivot('respondent_home','respondent_gender')"
   ]
  },
  {
   "cell_type": "code",
   "execution_count": 95,
   "metadata": {
    "collapsed": false
   },
   "outputs": [
    {
     "data": {
      "text/html": [
       "<table border=\"1\" class=\"dataframe\">\n",
       "    <thead>\n",
       "        <tr>\n",
       "            <th>respondent_gender</th> <th>Bay Area</th> <th>LA Area</th> <th>Rest of California</th> <th>Rest of United States</th> <th>Rest of World</th>\n",
       "        </tr>\n",
       "    </thead>\n",
       "    <tbody>\n",
       "        <tr>\n",
       "            <td>Female           </td> <td>16      </td> <td>18     </td> <td>18                </td> <td>9                    </td> <td>7            </td>\n",
       "        </tr>\n",
       "        <tr>\n",
       "            <td>Male             </td> <td>17      </td> <td>9      </td> <td>10                </td> <td>8                    </td> <td>11           </td>\n",
       "        </tr>\n",
       "        <tr>\n",
       "            <td>Other            </td> <td>0       </td> <td>0      </td> <td>1                 </td> <td>0                    </td> <td>0            </td>\n",
       "        </tr>\n",
       "    </tbody>\n",
       "</table>"
      ],
      "text/plain": [
       "respondent_gender | Bay Area | LA Area | Rest of California | Rest of United States | Rest of World\n",
       "Female            | 16       | 18      | 18                 | 9                     | 7\n",
       "Male              | 17       | 9       | 10                 | 8                     | 11\n",
       "Other             | 0        | 0       | 1                  | 0                     | 0"
      ]
     },
     "execution_count": 95,
     "metadata": {},
     "output_type": "execute_result"
    }
   ],
   "source": [
    "# We can take a pivot look at the whole dataset\n",
    "survey.pivot('respondent_home', 'respondent_gender')"
   ]
  }
 ],
 "metadata": {
  "kernelspec": {
   "display_name": "Python 3",
   "language": "python",
   "name": "python3"
  },
  "language_info": {
   "codemirror_mode": {
    "name": "ipython",
    "version": 3
   },
   "file_extension": ".py",
   "mimetype": "text/x-python",
   "name": "python",
   "nbconvert_exporter": "python",
   "pygments_lexer": "ipython3",
   "version": "3.6.0"
  }
 },
 "nbformat": 4,
 "nbformat_minor": 2
}
