{
 "cells": [
  {
   "cell_type": "markdown",
   "metadata": {},
   "source": [
    "### Lab 1 -- part 2\n",
    "### Homophily and personal networks"
   ]
  },
  {
   "cell_type": "code",
   "execution_count": 1,
   "metadata": {
    "collapsed": false
   },
   "outputs": [],
   "source": [
    "# Import all the modules we need\n",
    "from IPython.core.display import HTML\n",
    "from datascience import *\n",
    "\n",
    "import matplotlib\n",
    "matplotlib.use('Agg')\n",
    "%matplotlib inline\n",
    "import matplotlib.pyplot as plt\n",
    "import numpy as np\n",
    "plt.style.use('fivethirtyeight')\n",
    "\n",
    "import warnings\n",
    "warnings.simplefilter('ignore', FutureWarning)"
   ]
  },
  {
   "cell_type": "code",
   "execution_count": 1,
   "metadata": {
    "collapsed": false
   },
   "outputs": [
    {
     "name": "stdout",
     "output_type": "stream",
     "text": [
      "=====================================================================\n",
      "Assignment: Demography180 Lab 1\n",
      "OK, version v1.13.11\n",
      "=====================================================================\n",
      "\n",
      "\n",
      "Open the following URL:\n",
      "\n",
      "https://okpy.org/client/login/\n",
      "\n",
      "After logging in, copy the code from the web page and paste it into the box.\n",
      "Then press the \"Enter\" key on your keyboard.\n",
      "\n",
      "Paste your code here: E1JyI4Q8QHJ55pK7ZlLlQWQrPKdaNC\n",
      "Successfully logged in as ruijie_zhong@berkeley.edu\n"
     ]
    }
   ],
   "source": [
    "# Load in the ok book\n",
    "from client.api.notebook import Notebook\n",
    "lab1 = Notebook('lab1.ok')\n",
    "_ = lab1.auth(inline=True, force=True)"
   ]
  },
  {
   "cell_type": "markdown",
   "metadata": {},
   "source": [
    "## 1.1 Converting from wide to long\n",
    "\n",
    "In the class demo, we have only looked at the relationship between the survey respondents and the first alter that they mentioned. However, we designed our survey so that respondents could tell us about up to five alters. In order to look at all of the alters respondents reported about, we're going to have to manipulate the dataset a bit more extensively. This manipulation is a little bit tricky, but we're going to go through how it can be done step by step.\n",
    "\n",
    "First, let's take a look at the first few rows of the dataset again to remind ourselves of how it is structured:"
   ]
  },
  {
   "cell_type": "code",
   "execution_count": 4,
   "metadata": {
    "collapsed": false
   },
   "outputs": [
    {
     "data": {
      "text/plain": [
       "'/Users/Mia/repos/demog180-sp2019-admin/labs/Lab1'"
      ]
     },
     "execution_count": 4,
     "metadata": {},
     "output_type": "execute_result"
    }
   ],
   "source": [
    "import os\n",
    "os.getcwd() # this is a line that tells you the current working directory. It's a helpful move before you want to load something.\n",
    "            # we are in the folder of lab1, so we can import the data directly."
   ]
  },
  {
   "cell_type": "code",
   "execution_count": 5,
   "metadata": {
    "collapsed": false
   },
   "outputs": [
    {
     "data": {
      "text/html": [
       "<table border=\"1\" class=\"dataframe\">\n",
       "    <thead>\n",
       "        <tr>\n",
       "            <th>interview_number</th> <th>interview_date</th> <th>interview_time</th> <th>respondent_gender</th> <th>respondent_age</th> <th>respondent_class</th> <th>respondent_home</th> <th>number_alters</th> <th>alter1_gender</th> <th>alter1_age</th> <th>alter1_class</th> <th>alter1_home</th> <th>alter1_howclose</th> <th>alter1_howoften</th> <th>alter2_gender</th> <th>alter2_age</th> <th>alter2_class</th> <th>alter2_home</th> <th>alter2_howclose</th> <th>alter2_howoften</th> <th>alter3_gender</th> <th>alter3_age</th> <th>alter3_class</th> <th>alter3_home</th> <th>alter3_howclose</th> <th>alter3_howoften</th> <th>alter4_gender</th> <th>alter4_age</th> <th>alter4_class</th> <th>alter4_home</th> <th>alter4_howclose</th> <th>alter4_howoften</th> <th>alter5_gender</th> <th>alter5_age</th> <th>alter5_class</th> <th>alter5_home</th> <th>alter5_howclose</th> <th>alter5_howoften</th>\n",
       "        </tr>\n",
       "    </thead>\n",
       "    <tbody>\n",
       "        <tr>\n",
       "            <td>1               </td> <td>1/24/2019     </td> <td>10:40:00      </td> <td>Male             </td> <td>21            </td> <td>Senior          </td> <td>Bay Area             </td> <td>5            </td> <td>Male         </td> <td>21        </td> <td>Senior      </td> <td>LA Area              </td> <td>Close friend   </td> <td>Once a week          </td> <td>Male         </td> <td>22        </td> <td>Senior      </td> <td>LA Area              </td> <td>Friend         </td> <td>Once a week          </td> <td>Male         </td> <td>20        </td> <td>Junior      </td> <td>Rest of United States</td> <td>Close friend   </td> <td>Once a week          </td> <td>Male         </td> <td>21        </td> <td>Senior      </td> <td>Rest of World        </td> <td>Friend         </td> <td>nan                  </td> <td>Female       </td> <td>22        </td> <td>Senior      </td> <td>Bay Area             </td> <td>Close friend   </td> <td>Once a week    </td>\n",
       "        </tr>\n",
       "        <tr>\n",
       "            <td>2               </td> <td>1/24/2019     </td> <td>11:14:00      </td> <td>Male             </td> <td>25            </td> <td>Other           </td> <td>Bay Area             </td> <td>3            </td> <td>Male         </td> <td>26        </td> <td>Other       </td> <td>Bay Area             </td> <td>Close friend   </td> <td>More than once a week</td> <td>Female       </td> <td>24        </td> <td>Other       </td> <td>Rest of United States</td> <td>Close friend   </td> <td>More than once a week</td> <td>Male         </td> <td>26        </td> <td>Other       </td> <td>Rest of United States</td> <td>Close friend   </td> <td>More than once a week</td> <td>nan          </td> <td>nan       </td> <td>nan         </td> <td>nan                  </td> <td>nan            </td> <td>nan                  </td> <td>nan          </td> <td>nan       </td> <td>nan         </td> <td>nan                  </td> <td>nan            </td> <td>nan            </td>\n",
       "        </tr>\n",
       "        <tr>\n",
       "            <td>3               </td> <td>1/24/2019     </td> <td>11:19:00      </td> <td>Female           </td> <td>25            </td> <td>Other           </td> <td>Rest of United States</td> <td>4            </td> <td>Female       </td> <td>26        </td> <td>Other       </td> <td>Rest of United States</td> <td>Close friend   </td> <td>More than once a week</td> <td>Female       </td> <td>28        </td> <td>Other       </td> <td>Rest of World        </td> <td>Close friend   </td> <td>More than once a week</td> <td>Male         </td> <td>27        </td> <td>Other       </td> <td>Rest of United States</td> <td>Close friend   </td> <td>Once a week          </td> <td>Female       </td> <td>23        </td> <td>Other       </td> <td>Rest of United States</td> <td>Close friend   </td> <td>More than once a week</td> <td>nan          </td> <td>nan       </td> <td>nan         </td> <td>nan                  </td> <td>nan            </td> <td>nan            </td>\n",
       "        </tr>\n",
       "        <tr>\n",
       "            <td>1               </td> <td>1/24/2019     </td> <td>10:34:00      </td> <td>Female           </td> <td>21            </td> <td>Senior          </td> <td>Bay Area             </td> <td>5            </td> <td>Female       </td> <td>20        </td> <td>Junior      </td> <td>Bay Area             </td> <td>Close friend   </td> <td>More than once a week</td> <td>Female       </td> <td>21        </td> <td>Senior      </td> <td>Bay Area             </td> <td>Friend         </td> <td>More than once a week</td> <td>Female       </td> <td>40        </td> <td>Other       </td> <td>Rest of World        </td> <td>Close friend   </td> <td>Once a week          </td> <td>Female       </td> <td>17        </td> <td>Other       </td> <td>Rest of United States</td> <td>Close friend   </td> <td>Once a week          </td> <td>Female       </td> <td>21        </td> <td>Senior      </td> <td>Bay Area             </td> <td>Close friend   </td> <td>Once a week    </td>\n",
       "        </tr>\n",
       "        <tr>\n",
       "            <td>2               </td> <td>1/24/2019     </td> <td>15:21:00      </td> <td>Female           </td> <td>31            </td> <td>Other           </td> <td>Bay Area             </td> <td>5            </td> <td>Female       </td> <td>24        </td> <td>Other       </td> <td>Rest of United States</td> <td>Close friend   </td> <td>More than once a week</td> <td>Female       </td> <td>24        </td> <td>Other       </td> <td>Rest of United States</td> <td>Close friend   </td> <td>Once a week          </td> <td>Female       </td> <td>36        </td> <td>Other       </td> <td>Rest of United States</td> <td>Close friend   </td> <td>Once a week          </td> <td>Female       </td> <td>26        </td> <td>Other       </td> <td>Rest of United States</td> <td>Close friend   </td> <td>Once a month         </td> <td>Female       </td> <td>28        </td> <td>Other       </td> <td>Rest of United States</td> <td>Close friend   </td> <td>Once a week    </td>\n",
       "        </tr>\n",
       "        <tr>\n",
       "            <td>3               </td> <td>1/24/2019     </td> <td>18:23:00      </td> <td>Female           </td> <td>25            </td> <td>Other           </td> <td>Bay Area             </td> <td>6+           </td> <td>Female       </td> <td>25        </td> <td>Other       </td> <td>Rest of United States</td> <td>Close friend   </td> <td>More than once a week</td> <td>Female       </td> <td>60        </td> <td>Other       </td> <td>Rest of United States</td> <td>Close friend   </td> <td>Once a week          </td> <td>Male         </td> <td>62        </td> <td>Other       </td> <td>Bay Area             </td> <td>Close friend   </td> <td>Once a week          </td> <td>Female       </td> <td>25        </td> <td>Other       </td> <td>Bay Area             </td> <td>Friend         </td> <td>Once a year          </td> <td>Female       </td> <td>39        </td> <td>Other       </td> <td>Rest of World        </td> <td>Acquaintance   </td> <td>Once a month   </td>\n",
       "        </tr>\n",
       "    </tbody>\n",
       "</table>\n",
       "<p>... (97 rows omitted)</p>"
      ],
      "text/plain": [
       "<IPython.core.display.HTML object>"
      ]
     },
     "metadata": {},
     "output_type": "display_data"
    }
   ],
   "source": [
    "survey = Table.read_table('ucb_personal_networks_clean.csv')\n",
    "\n",
    "survey.show(6)"
   ]
  },
  {
   "cell_type": "markdown",
   "metadata": {},
   "source": [
    "The dataset is in *wide* format: all of the information reported by a respondent is stored in a single row:\n",
    "\n",
    "[respondent 1 info] ... [info about respondent 1's first alter] ... [info about respondent 1's second alter] ...   \n",
    "[respondent 2 info] ... [info about respondent 2's first alter] ... [info about respondent 2's second alter] ...   \n",
    "...\n",
    "\n",
    "Our goal is to reshape the dataset so that the information is in *long* format instead:\n",
    "\n",
    "[respondent 1 info] [info about respondent 1's first alter]  \n",
    "[respondent 1 info] [info about respondent 1's second alter]  \n",
    "[respondent 1 info] [info about respondent 1's third alter]  \n",
    "[respondent 1 info] [info about respondent 1's fourth alter]  \n",
    "[respondent 1 info] [info about respondent 1's fifth alter]  \n",
    "[respondent 2 info] [info about respondent 2's first alter]  \n",
    "[respondent 2 info] [info about respondent 2's second alter]  \n",
    "..."
   ]
  },
  {
   "cell_type": "markdown",
   "metadata": {},
   "source": [
    "We're going to start by creating an id variable for our survey responses. \n",
    "\n",
    "Always remember to double-check the results of your operations."
   ]
  },
  {
   "cell_type": "code",
   "execution_count": 6,
   "metadata": {
    "collapsed": true
   },
   "outputs": [],
   "source": [
    "## create a respondent id variable\n",
    "survey['respondent_id'] = range(1, survey.num_rows + 1) # using [] is a short-hand approach for .with_column function"
   ]
  },
  {
   "cell_type": "code",
   "execution_count": 7,
   "metadata": {
    "collapsed": false
   },
   "outputs": [
    {
     "data": {
      "text/html": [
       "<table border=\"1\" class=\"dataframe\">\n",
       "    <thead>\n",
       "        <tr>\n",
       "            <th>interview_number</th> <th>interview_date</th> <th>interview_time</th> <th>respondent_gender</th> <th>respondent_age</th> <th>respondent_class</th> <th>respondent_home</th> <th>number_alters</th> <th>alter1_gender</th> <th>alter1_age</th> <th>alter1_class</th> <th>alter1_home</th> <th>alter1_howclose</th> <th>alter1_howoften</th> <th>alter2_gender</th> <th>alter2_age</th> <th>alter2_class</th> <th>alter2_home</th> <th>alter2_howclose</th> <th>alter2_howoften</th> <th>alter3_gender</th> <th>alter3_age</th> <th>alter3_class</th> <th>alter3_home</th> <th>alter3_howclose</th> <th>alter3_howoften</th> <th>alter4_gender</th> <th>alter4_age</th> <th>alter4_class</th> <th>alter4_home</th> <th>alter4_howclose</th> <th>alter4_howoften</th> <th>alter5_gender</th> <th>alter5_age</th> <th>alter5_class</th> <th>alter5_home</th> <th>alter5_howclose</th> <th>alter5_howoften</th> <th>respondent_id</th>\n",
       "        </tr>\n",
       "    </thead>\n",
       "    <tbody>\n",
       "        <tr>\n",
       "            <td>1               </td> <td>1/24/2019     </td> <td>10:40:00      </td> <td>Male             </td> <td>21            </td> <td>Senior          </td> <td>Bay Area             </td> <td>5            </td> <td>Male         </td> <td>21        </td> <td>Senior      </td> <td>LA Area              </td> <td>Close friend   </td> <td>Once a week          </td> <td>Male         </td> <td>22        </td> <td>Senior      </td> <td>LA Area              </td> <td>Friend         </td> <td>Once a week          </td> <td>Male         </td> <td>20        </td> <td>Junior      </td> <td>Rest of United States</td> <td>Close friend   </td> <td>Once a week          </td> <td>Male         </td> <td>21        </td> <td>Senior      </td> <td>Rest of World        </td> <td>Friend         </td> <td>nan                  </td> <td>Female       </td> <td>22        </td> <td>Senior      </td> <td>Bay Area             </td> <td>Close friend   </td> <td>Once a week    </td> <td>1            </td>\n",
       "        </tr>\n",
       "        <tr>\n",
       "            <td>2               </td> <td>1/24/2019     </td> <td>11:14:00      </td> <td>Male             </td> <td>25            </td> <td>Other           </td> <td>Bay Area             </td> <td>3            </td> <td>Male         </td> <td>26        </td> <td>Other       </td> <td>Bay Area             </td> <td>Close friend   </td> <td>More than once a week</td> <td>Female       </td> <td>24        </td> <td>Other       </td> <td>Rest of United States</td> <td>Close friend   </td> <td>More than once a week</td> <td>Male         </td> <td>26        </td> <td>Other       </td> <td>Rest of United States</td> <td>Close friend   </td> <td>More than once a week</td> <td>nan          </td> <td>nan       </td> <td>nan         </td> <td>nan                  </td> <td>nan            </td> <td>nan                  </td> <td>nan          </td> <td>nan       </td> <td>nan         </td> <td>nan                  </td> <td>nan            </td> <td>nan            </td> <td>2            </td>\n",
       "        </tr>\n",
       "        <tr>\n",
       "            <td>3               </td> <td>1/24/2019     </td> <td>11:19:00      </td> <td>Female           </td> <td>25            </td> <td>Other           </td> <td>Rest of United States</td> <td>4            </td> <td>Female       </td> <td>26        </td> <td>Other       </td> <td>Rest of United States</td> <td>Close friend   </td> <td>More than once a week</td> <td>Female       </td> <td>28        </td> <td>Other       </td> <td>Rest of World        </td> <td>Close friend   </td> <td>More than once a week</td> <td>Male         </td> <td>27        </td> <td>Other       </td> <td>Rest of United States</td> <td>Close friend   </td> <td>Once a week          </td> <td>Female       </td> <td>23        </td> <td>Other       </td> <td>Rest of United States</td> <td>Close friend   </td> <td>More than once a week</td> <td>nan          </td> <td>nan       </td> <td>nan         </td> <td>nan                  </td> <td>nan            </td> <td>nan            </td> <td>3            </td>\n",
       "        </tr>\n",
       "        <tr>\n",
       "            <td>1               </td> <td>1/24/2019     </td> <td>10:34:00      </td> <td>Female           </td> <td>21            </td> <td>Senior          </td> <td>Bay Area             </td> <td>5            </td> <td>Female       </td> <td>20        </td> <td>Junior      </td> <td>Bay Area             </td> <td>Close friend   </td> <td>More than once a week</td> <td>Female       </td> <td>21        </td> <td>Senior      </td> <td>Bay Area             </td> <td>Friend         </td> <td>More than once a week</td> <td>Female       </td> <td>40        </td> <td>Other       </td> <td>Rest of World        </td> <td>Close friend   </td> <td>Once a week          </td> <td>Female       </td> <td>17        </td> <td>Other       </td> <td>Rest of United States</td> <td>Close friend   </td> <td>Once a week          </td> <td>Female       </td> <td>21        </td> <td>Senior      </td> <td>Bay Area             </td> <td>Close friend   </td> <td>Once a week    </td> <td>4            </td>\n",
       "        </tr>\n",
       "        <tr>\n",
       "            <td>2               </td> <td>1/24/2019     </td> <td>15:21:00      </td> <td>Female           </td> <td>31            </td> <td>Other           </td> <td>Bay Area             </td> <td>5            </td> <td>Female       </td> <td>24        </td> <td>Other       </td> <td>Rest of United States</td> <td>Close friend   </td> <td>More than once a week</td> <td>Female       </td> <td>24        </td> <td>Other       </td> <td>Rest of United States</td> <td>Close friend   </td> <td>Once a week          </td> <td>Female       </td> <td>36        </td> <td>Other       </td> <td>Rest of United States</td> <td>Close friend   </td> <td>Once a week          </td> <td>Female       </td> <td>26        </td> <td>Other       </td> <td>Rest of United States</td> <td>Close friend   </td> <td>Once a month         </td> <td>Female       </td> <td>28        </td> <td>Other       </td> <td>Rest of United States</td> <td>Close friend   </td> <td>Once a week    </td> <td>5            </td>\n",
       "        </tr>\n",
       "        <tr>\n",
       "            <td>3               </td> <td>1/24/2019     </td> <td>18:23:00      </td> <td>Female           </td> <td>25            </td> <td>Other           </td> <td>Bay Area             </td> <td>6+           </td> <td>Female       </td> <td>25        </td> <td>Other       </td> <td>Rest of United States</td> <td>Close friend   </td> <td>More than once a week</td> <td>Female       </td> <td>60        </td> <td>Other       </td> <td>Rest of United States</td> <td>Close friend   </td> <td>Once a week          </td> <td>Male         </td> <td>62        </td> <td>Other       </td> <td>Bay Area             </td> <td>Close friend   </td> <td>Once a week          </td> <td>Female       </td> <td>25        </td> <td>Other       </td> <td>Bay Area             </td> <td>Friend         </td> <td>Once a year          </td> <td>Female       </td> <td>39        </td> <td>Other       </td> <td>Rest of World        </td> <td>Acquaintance   </td> <td>Once a month   </td> <td>6            </td>\n",
       "        </tr>\n",
       "    </tbody>\n",
       "</table>\n",
       "<p>... (97 rows omitted)</p>"
      ],
      "text/plain": [
       "<IPython.core.display.HTML object>"
      ]
     },
     "metadata": {},
     "output_type": "display_data"
    }
   ],
   "source": [
    "survey.show(6)"
   ]
  },
  {
   "cell_type": "markdown",
   "metadata": {},
   "source": [
    "In order to convert the alter information from wide to long format, we're going to use two functions that have been written for you below.\n",
    "\n",
    "Let's look at the function below and try to understand how it works."
   ]
  },
  {
   "cell_type": "code",
   "execution_count": 8,
   "metadata": {
    "collapsed": true
   },
   "outputs": [],
   "source": [
    "def repeat_single_col(data, var_name, times=5):\n",
    "    \"\"\"Repeats a single column multiple times.\n",
    "    \n",
    "    Parameters\n",
    "    ----------\n",
    "    data : Table\n",
    "        The data table containing the column to be repeated.\n",
    "    var_name : str\n",
    "        Text that contains the name of the column to repeat.\n",
    "    times : int\n",
    "        The number of times column is to be repeated.\n",
    "    \n",
    "    Returns\n",
    "    -------\n",
    "    np.array\n",
    "        A single array with the contents of the column repeated five times.\n",
    "    \n",
    "    Examples\n",
    "    --------\n",
    "    >>> repeat_single_col(Table().with_columns(['respondent_age', [10]]),\n",
    "                          'respondent_age')\n",
    "    \n",
    "    array([10, 10, 10, 10, 10])\n",
    "    \"\"\"\n",
    "    new_col = np.tile(data.column(var_name), times)\n",
    "    return new_col"
   ]
  },
  {
   "cell_type": "markdown",
   "metadata": {},
   "source": [
    "The key to understanding repeat_single_col is the np.tile function. Look that function up and read its help page."
   ]
  },
  {
   "cell_type": "markdown",
   "metadata": {},
   "source": [
    "**Practice** Use np.tile to create an array that contains [1,3,5,7,1,3,5,7,1,3,5,7,1,3,5,7]."
   ]
  },
  {
   "cell_type": "code",
   "execution_count": 9,
   "metadata": {
    "collapsed": false
   },
   "outputs": [
    {
     "data": {
      "text/plain": [
       "array([1, 3, 5, 7, 1, 3, 5, 7, 1, 3, 5, 7, 1, 3, 5, 7])"
      ]
     },
     "execution_count": 9,
     "metadata": {},
     "output_type": "execute_result"
    }
   ],
   "source": [
    "#np.tile? # You can remove the # sign and see the 'help' documentation for np.tile\n",
    "np.tile([1,3,5,7], 4)"
   ]
  },
  {
   "cell_type": "markdown",
   "metadata": {},
   "source": [
    "**Practice** What is the difference between np.tile and np.repeat? Do they do the same thing?\n",
    "[Hint: you can use the help page to figure out what np.repeat does.]"
   ]
  },
  {
   "cell_type": "code",
   "execution_count": 10,
   "metadata": {
    "collapsed": false
   },
   "outputs": [
    {
     "data": {
      "text/plain": [
       "array([1, 1, 1, 1, 3, 3, 3, 3, 5, 5, 5, 5, 7, 7, 7, 7])"
      ]
     },
     "execution_count": 10,
     "metadata": {},
     "output_type": "execute_result"
    }
   ],
   "source": [
    "#np.repeat?\n",
    "np.repeat([1,3,5,7], 4)"
   ]
  },
  {
   "cell_type": "markdown",
   "metadata": {},
   "source": [
    "Now look at the next function, and try to understand how it works."
   ]
  },
  {
   "cell_type": "code",
   "execution_count": 11,
   "metadata": {
    "collapsed": true
   },
   "outputs": [],
   "source": [
    "def wide_to_long(data, var_name, times=5):\n",
    "    \"\"\"Given columns of alter characteristics, stack them into one long column.\n",
    "    \n",
    "    Parameters\n",
    "    ----------\n",
    "    data : Table\n",
    "        The data table containing the alter characteristics\n",
    "    var_name : str\n",
    "        Text that contains the variable name; columns of the dataset should\n",
    "        match the pattern: alter[NUM]_[var_name]\n",
    "        For example, if var_name is 'age' then this function expects to find\n",
    "        columns in the survey dataset named \n",
    "        'alter1_age', 'alter2_age', 'alter3_age', 'alter4_age', and 'alter5_age'\n",
    "    times : int\n",
    "        The number of columns for each characteristic\n",
    "    \n",
    "    Returns\n",
    "    -------\n",
    "    np.array\n",
    "        A single array with the contents of all of the columns stacked on top of one another.\n",
    "    \n",
    "    Examples\n",
    "    --------\n",
    "    >>> wide_to_long(Table().with_columns(['alter1_age', [10, 15],\n",
    "                                           'alter2_age', [30, 35],\n",
    "                                           'alter3_age', [20, 15],\n",
    "                                           'alter4_age', [60, 70],\n",
    "                                           'alter5_age', [20, 25]]),\n",
    "                     'age')\n",
    "    \n",
    "    array([10, 15, 30, 35, 20, 15, 60, 70, 20, 25])\n",
    "    \"\"\"\n",
    "    new_col = np.concatenate([data.column('alter' + str(idx) + '_' + var_name) for idx in range(1,times+1)])\n",
    "    return new_col"
   ]
  },
  {
   "cell_type": "markdown",
   "metadata": {},
   "source": [
    "The key to understanding this second function is np.concatenate. Look up the help page for np.concatenate."
   ]
  },
  {
   "cell_type": "code",
   "execution_count": null,
   "metadata": {
    "collapsed": true
   },
   "outputs": [],
   "source": [
    "np.concatenate?"
   ]
  },
  {
   "cell_type": "markdown",
   "metadata": {},
   "source": [
    "**Practice** Use `np.concatenate` to make a single array that has the contents of `column_one` and `column_two` concatenated together:"
   ]
  },
  {
   "cell_type": "code",
   "execution_count": 12,
   "metadata": {
    "collapsed": false
   },
   "outputs": [
    {
     "data": {
      "text/html": [
       "<table border=\"1\" class=\"dataframe\">\n",
       "    <thead>\n",
       "        <tr>\n",
       "            <th>column_one</th> <th>column_two</th>\n",
       "        </tr>\n",
       "    </thead>\n",
       "    <tbody>\n",
       "        <tr>\n",
       "            <td>1         </td> <td>2         </td>\n",
       "        </tr>\n",
       "        <tr>\n",
       "            <td>3         </td> <td>4         </td>\n",
       "        </tr>\n",
       "        <tr>\n",
       "            <td>5         </td> <td>6         </td>\n",
       "        </tr>\n",
       "        <tr>\n",
       "            <td>7         </td> <td>8         </td>\n",
       "        </tr>\n",
       "        <tr>\n",
       "            <td>9         </td> <td>10        </td>\n",
       "        </tr>\n",
       "    </tbody>\n",
       "</table>"
      ],
      "text/plain": [
       "column_one | column_two\n",
       "1          | 2\n",
       "3          | 4\n",
       "5          | 6\n",
       "7          | 8\n",
       "9          | 10"
      ]
     },
     "execution_count": 12,
     "metadata": {},
     "output_type": "execute_result"
    }
   ],
   "source": [
    "concat_table = Table().with_columns(['column_one', [1,3,5,7,9],\n",
    "                                    'column_two', [2,4,6,8,10]])\n",
    "concat_table"
   ]
  },
  {
   "cell_type": "code",
   "execution_count": null,
   "metadata": {
    "collapsed": false
   },
   "outputs": [],
   "source": [
    "np.concatenate(concat_table)"
   ]
  },
  {
   "cell_type": "markdown",
   "metadata": {},
   "source": [
    "Now that we understand what np.concatenate does, let's run the wide_to_long() function upon a simple table to see what it does."
   ]
  },
  {
   "cell_type": "code",
   "execution_count": 13,
   "metadata": {
    "collapsed": false
   },
   "outputs": [
    {
     "data": {
      "text/plain": [
       "array([10, 15, 30, 35, 20, 15, 60, 70, 20, 25])"
      ]
     },
     "execution_count": 13,
     "metadata": {},
     "output_type": "execute_result"
    }
   ],
   "source": [
    "temp_table = Table().with_columns(['alter1_age', [10, 15],\n",
    "                                   'alter2_age', [30, 35],\n",
    "                                   'alter3_age', [20, 15],\n",
    "                                   'alter4_age', [60, 70],\n",
    "                                   'alter5_age', [20, 25]])\n",
    "wide_to_long(temp_table,'age')"
   ]
  },
  {
   "cell_type": "markdown",
   "metadata": {},
   "source": [
    "You can see that it links the head and end of columns.\n",
    "\n",
    "We'll take a first try at converting the alter data to long format together, and then you'll do a more complete job as an exercise.\n",
    "\n",
    "For our first step, we'll only keep the respondent's id number and the age of the alters each respondent reported about. Since there is space for 5 alters per respondent, we expect (number of respondents x 5) = (... x 5) = ... rows in our resulting dataset.\n",
    "\n",
    "Let's construct the table."
   ]
  },
  {
   "cell_type": "code",
   "execution_count": 14,
   "metadata": {
    "collapsed": false
   },
   "outputs": [],
   "source": [
    "alter_first_try = Table().with_columns([\n",
    "    'respondent_id', repeat_single_col(survey, 'respondent_id'),\n",
    "    'alter_age', wide_to_long(survey, 'age')])"
   ]
  },
  {
   "cell_type": "markdown",
   "metadata": {},
   "source": [
    "You can see that we want to use `repeat_single_col` for the column that is a respondent characteristic and that we want to use `wide_to_long` for the column that is an alter characteristic.\n",
    "\n",
    "Let's check that the resulting Table, called `alter_first_try` makes sense.\n",
    "\n",
    "**Question 1** How many rows do you think alter_first_try should have? Check the number of rows."
   ]
  },
  {
   "cell_type": "code",
   "execution_count": null,
   "metadata": {
    "collapsed": true
   },
   "outputs": [],
   "source": [
    "q1 = ...\n",
    "q1"
   ]
  },
  {
   "cell_type": "code",
   "execution_count": null,
   "metadata": {
    "collapsed": false
   },
   "outputs": [],
   "source": [
    "_ = ok.grade('q1')"
   ]
  },
  {
   "cell_type": "markdown",
   "metadata": {},
   "source": [
    "**Practice** The following statement allows you to double-check that each respondent appears five times in this dataset."
   ]
  },
  {
   "cell_type": "code",
   "execution_count": 15,
   "metadata": {
    "collapsed": false
   },
   "outputs": [
    {
     "data": {
      "text/plain": [
       "True"
      ]
     },
     "execution_count": 15,
     "metadata": {},
     "output_type": "execute_result"
    }
   ],
   "source": [
    "np.all(alter_first_try.group('respondent_id').column('count') == 5)"
   ]
  },
  {
   "cell_type": "markdown",
   "metadata": {},
   "source": [
    "**Practice** Now it's your turn! Using the example above as a pattern, create a long dataset that has\n",
    "\n",
    "* respondent id\n",
    "* respondent age\n",
    "* respondent class\n",
    "* respondent home\n",
    "* alter age\n",
    "* alter gender\n",
    "* alter class\n",
    "* alter home\n",
    "\n",
    "Don't forget to perform a couple of checks to be sure the resulting dataset makes sense (like we did above).\n",
    "\n",
    "**Hint: you need to repeat the information for the respondent and convert from wide to long for the alters' information.**"
   ]
  },
  {
   "cell_type": "code",
   "execution_count": 16,
   "metadata": {
    "collapsed": false
   },
   "outputs": [
    {
     "data": {
      "text/html": [
       "<table border=\"1\" class=\"dataframe\">\n",
       "    <thead>\n",
       "        <tr>\n",
       "            <th>respondent_id</th> <th>respondent_age</th> <th>respondent_class</th> <th>respondent_home</th> <th>alter_age</th> <th>alter_gender</th> <th>alter_class</th> <th>alter_home</th>\n",
       "        </tr>\n",
       "    </thead>\n",
       "    <tbody>\n",
       "        <tr>\n",
       "            <td>1            </td> <td>21            </td> <td>Senior          </td> <td>Bay Area             </td> <td>21       </td> <td>Male        </td> <td>Senior     </td> <td>LA Area              </td>\n",
       "        </tr>\n",
       "        <tr>\n",
       "            <td>2            </td> <td>25            </td> <td>Other           </td> <td>Bay Area             </td> <td>26       </td> <td>Male        </td> <td>Other      </td> <td>Bay Area             </td>\n",
       "        </tr>\n",
       "        <tr>\n",
       "            <td>3            </td> <td>25            </td> <td>Other           </td> <td>Rest of United States</td> <td>26       </td> <td>Female      </td> <td>Other      </td> <td>Rest of United States</td>\n",
       "        </tr>\n",
       "        <tr>\n",
       "            <td>4            </td> <td>21            </td> <td>Senior          </td> <td>Bay Area             </td> <td>20       </td> <td>Female      </td> <td>Junior     </td> <td>Bay Area             </td>\n",
       "        </tr>\n",
       "        <tr>\n",
       "            <td>5            </td> <td>31            </td> <td>Other           </td> <td>Bay Area             </td> <td>24       </td> <td>Female      </td> <td>Other      </td> <td>Rest of United States</td>\n",
       "        </tr>\n",
       "        <tr>\n",
       "            <td>6            </td> <td>25            </td> <td>Other           </td> <td>Bay Area             </td> <td>25       </td> <td>Female      </td> <td>Other      </td> <td>Rest of United States</td>\n",
       "        </tr>\n",
       "        <tr>\n",
       "            <td>7            </td> <td>23            </td> <td>Junior          </td> <td>Rest of World        </td> <td>53       </td> <td>Female      </td> <td>Other      </td> <td>Rest of World        </td>\n",
       "        </tr>\n",
       "        <tr>\n",
       "            <td>8            </td> <td>21            </td> <td>Other           </td> <td>Rest of World        </td> <td>21       </td> <td>Female      </td> <td>Other      </td> <td>Bay Area             </td>\n",
       "        </tr>\n",
       "        <tr>\n",
       "            <td>9            </td> <td>19            </td> <td>Sophomore       </td> <td>Rest of World        </td> <td>20       </td> <td>Female      </td> <td>Sophomore  </td> <td>Rest of World        </td>\n",
       "        </tr>\n",
       "        <tr>\n",
       "            <td>10           </td> <td>18            </td> <td>Freshman        </td> <td>Rest of United States</td> <td>18       </td> <td>Female      </td> <td>Freshman   </td> <td>Rest of United States</td>\n",
       "        </tr>\n",
       "    </tbody>\n",
       "</table>\n",
       "<p>... (505 rows omitted)</p>"
      ],
      "text/plain": [
       "respondent_id | respondent_age | respondent_class | respondent_home       | alter_age | alter_gender | alter_class | alter_home\n",
       "1             | 21             | Senior           | Bay Area              | 21        | Male         | Senior      | LA Area\n",
       "2             | 25             | Other            | Bay Area              | 26        | Male         | Other       | Bay Area\n",
       "3             | 25             | Other            | Rest of United States | 26        | Female       | Other       | Rest of United States\n",
       "4             | 21             | Senior           | Bay Area              | 20        | Female       | Junior      | Bay Area\n",
       "5             | 31             | Other            | Bay Area              | 24        | Female       | Other       | Rest of United States\n",
       "6             | 25             | Other            | Bay Area              | 25        | Female       | Other       | Rest of United States\n",
       "7             | 23             | Junior           | Rest of World         | 53        | Female       | Other       | Rest of World\n",
       "8             | 21             | Other            | Rest of World         | 21        | Female       | Other       | Bay Area\n",
       "9             | 19             | Sophomore        | Rest of World         | 20        | Female       | Sophomore   | Rest of World\n",
       "10            | 18             | Freshman         | Rest of United States | 18        | Female       | Freshman    | Rest of United States\n",
       "... (505 rows omitted)"
      ]
     },
     "execution_count": 16,
     "metadata": {},
     "output_type": "execute_result"
    }
   ],
   "source": [
    "alter_data = Table().with_columns([\n",
    "    'respondent_id', repeat_single_col(survey, 'respondent_id'),\n",
    "    'respondent_age', repeat_single_col(survey, 'respondent_age'),\n",
    "    'respondent_class', repeat_single_col(survey, 'respondent_class'),\n",
    "    'respondent_home', repeat_single_col(survey, 'respondent_home'),\n",
    "    'alter_age', wide_to_long(survey, 'age'),\n",
    "    'alter_gender', wide_to_long(survey, 'gender'),\n",
    "    'alter_class', wide_to_long(survey, 'class'),\n",
    "    'alter_home', wide_to_long(survey, 'home'),])\n",
    "\n",
    "alter_data"
   ]
  },
  {
   "cell_type": "markdown",
   "metadata": {},
   "source": [
    "Check the number of rows of the new table as well as the repetitions of the repondents in the new table"
   ]
  },
  {
   "cell_type": "code",
   "execution_count": 17,
   "metadata": {
    "collapsed": false
   },
   "outputs": [
    {
     "data": {
      "text/plain": [
       "515"
      ]
     },
     "execution_count": 17,
     "metadata": {},
     "output_type": "execute_result"
    }
   ],
   "source": [
    "nrow = alter_data.num_rows\n",
    "nrow"
   ]
  },
  {
   "cell_type": "code",
   "execution_count": 18,
   "metadata": {
    "collapsed": false
   },
   "outputs": [
    {
     "data": {
      "text/plain": [
       "True"
      ]
     },
     "execution_count": 18,
     "metadata": {},
     "output_type": "execute_result"
    }
   ],
   "source": [
    "# double check that each respondent appears 5 times\n",
    "np.all(alter_data.group('respondent_id').column('count') == 5)"
   ]
  },
  {
   "cell_type": "markdown",
   "metadata": {},
   "source": [
    "### Ages of Berkeley students' confidants\n",
    "\n",
    "OK, now that we have created a long-form dataset, let's make use of it to learn about the people Berkeley students discuss important matters with."
   ]
  },
  {
   "cell_type": "markdown",
   "metadata": {},
   "source": [
    "Start by trying to make a histogram of the confidants' ages. (You will get an error -- read the error message and then see the next question.)"
   ]
  },
  {
   "cell_type": "code",
   "execution_count": 19,
   "metadata": {
    "collapsed": false
   },
   "outputs": [
    {
     "name": "stderr",
     "output_type": "stream",
     "text": [
      "/Users/Mia/anaconda/lib/python3.6/site-packages/numpy/lib/function_base.py:583: RuntimeWarning: invalid value encountered in greater_equal\n",
      "  keep = (tmp_a >= mn)\n",
      "/Users/Mia/anaconda/lib/python3.6/site-packages/numpy/lib/function_base.py:584: RuntimeWarning: invalid value encountered in less_equal\n",
      "  keep &= (tmp_a <= mx)\n"
     ]
    },
    {
     "data": {
      "image/png": "[encoded data removed]",
      "text/plain": [
       "<Figure size 432x288 with 1 Axes>"
      ]
     },
     "metadata": {},
     "output_type": "display_data"
    }
   ],
   "source": [
    "alter_data.hist('alter_age')"
   ]
  },
  {
   "cell_type": "markdown",
   "metadata": {},
   "source": [
    "You get an error message because some of the rows of the dataset have nan or 'not a number' for the value of age. Why? Because not every respondent reported 5 alters. So we need to filter our dataset down to only have data from actual reports about alters.\n",
    "\n",
    "We will do this by assuming that if alter_age is nan, then no alter was reported about."
   ]
  },
  {
   "cell_type": "markdown",
   "metadata": {},
   "source": [
    "**Question 2** Use a where statement to keep only the rows of alter_data that do not have an nan value for alter_age.\n",
    "\n",
    "[HINT 1: this is a little tricky. Check out the np.isnan function.]\n",
    "[HINT 2: you can flip an array of Boolean values by using ~. So ~ [False, True, False] equals [True, False, True]."
   ]
  },
  {
   "cell_type": "code",
   "execution_count": null,
   "metadata": {
    "collapsed": true
   },
   "outputs": [],
   "source": [
    "# Prep\n",
    "np.isnan?"
   ]
  },
  {
   "cell_type": "code",
   "execution_count": null,
   "metadata": {
    "collapsed": true
   },
   "outputs": [],
   "source": [
    "# First step, get the booleans (trues and falses) for constructing the table\n",
    "# If it's TRUE for the 1st row, it will be kept in the new table, otherwise it will be filtered out.\n",
    "boolean = ...(alter_data.column('alter_age')) # fill in the code before the ()"
   ]
  },
  {
   "cell_type": "code",
   "execution_count": null,
   "metadata": {
    "collapsed": true
   },
   "outputs": [],
   "source": [
    "# Second step, construct the new data table\n",
    "alter_data = ...\n",
    "alter_data.show() # the filtered alte_data"
   ]
  },
  {
   "cell_type": "code",
   "execution_count": null,
   "metadata": {
    "collapsed": true
   },
   "outputs": [],
   "source": [
    "# Finally, check the number of rows\n",
    "q2 = ...\n",
    "q2"
   ]
  },
  {
   "cell_type": "code",
   "execution_count": null,
   "metadata": {
    "collapsed": false
   },
   "outputs": [],
   "source": [
    "_ = ok.grade('q2')"
   ]
  },
  {
   "cell_type": "markdown",
   "metadata": {},
   "source": [
    "Now you can make a histogram of the ages of the alters."
   ]
  },
  {
   "cell_type": "code",
   "execution_count": null,
   "metadata": {
    "collapsed": false
   },
   "outputs": [],
   "source": [
    "alter_data.hist('alter_age')"
   ]
  },
  {
   "cell_type": "markdown",
   "metadata": {},
   "source": [
    "**Question 3** Now make a histogram of the survey respondents' ages.\n",
    "\n",
    "Please take a look at the `bins` argument and see how to make reasonable bins, and you can try and see what happens if you remove this and plot with the line we used for alter's age. <BR>"
   ]
  },
  {
   "cell_type": "code",
   "execution_count": null,
   "metadata": {
    "collapsed": true
   },
   "outputs": [],
   "source": [
    "# Clean the nan values like you did for alter_data (try to combine the 2 steps in one line)\n",
    "survey = ...\n",
    "survey.select('respondent_age').hist(bins=np.arange(15, 30, 1))"
   ]
  },
  {
   "cell_type": "code",
   "execution_count": null,
   "metadata": {
    "collapsed": false
   },
   "outputs": [],
   "source": [
    "# Check the number of rows of the cleaned \"survey\"\n",
    "q3 = ..."
   ]
  },
  {
   "cell_type": "code",
   "execution_count": null,
   "metadata": {
    "collapsed": false
   },
   "outputs": [],
   "source": [
    "_ = ok.grade('q3')"
   ]
  },
  {
   "cell_type": "markdown",
   "metadata": {},
   "source": [
    "**Question** Compare the two histograms. What does this tell you about homophily among confidants?"
   ]
  },
  {
   "cell_type": "markdown",
   "metadata": {},
   "source": [
    "<div class='response'>\n",
    "[Answer here]\n",
    "</class>"
   ]
  },
  {
   "cell_type": "markdown",
   "metadata": {},
   "source": [
    "Now you can make a scatter plot comparing the ages of survey respondents and the ages of the alters."
   ]
  },
  {
   "cell_type": "code",
   "execution_count": 20,
   "metadata": {
    "collapsed": false
   },
   "outputs": [
    {
     "data": {
      "image/png": "[encoded data removed]",
      "text/plain": [
       "<Figure size 360x360 with 1 Axes>"
      ]
     },
     "metadata": {},
     "output_type": "display_data"
    }
   ],
   "source": [
    "alter_data.scatter('respondent_age', 'alter_age')"
   ]
  },
  {
   "cell_type": "markdown",
   "metadata": {},
   "source": [
    "**Question** What does this scatter plot tell you about homophily among confidants?"
   ]
  },
  {
   "cell_type": "markdown",
   "metadata": {},
   "source": [
    "<div class='response'>\n",
    "[Answer here]\n",
    "</class>"
   ]
  },
  {
   "cell_type": "markdown",
   "metadata": {},
   "source": [
    "We are able to get a lot of descriptive information from these two datasets. Here are two practice examples.\n",
    "\n",
    "**Practice** What is the range of the age of the age?"
   ]
  },
  {
   "cell_type": "code",
   "execution_count": 21,
   "metadata": {
    "collapsed": false
   },
   "outputs": [
    {
     "name": "stdout",
     "output_type": "stream",
     "text": [
      "oldest age: nan\n",
      "youngest age: nan\n"
     ]
    }
   ],
   "source": [
    "oldest = np.max(alter_data.column('alter_age'))\n",
    "youngest = np.min(alter_data.column('alter_age'))\n",
    "\n",
    "print('oldest age:', oldest)\n",
    "print('youngest age:', youngest)"
   ]
  },
  {
   "cell_type": "markdown",
   "metadata": {},
   "source": [
    "**Practice** What's the proportion of alters from Bay Area of all the alters?"
   ]
  },
  {
   "cell_type": "code",
   "execution_count": 22,
   "metadata": {
    "collapsed": true
   },
   "outputs": [],
   "source": [
    "# First, you create a variable, alter_bay which has value False if the alter is not from the Bay Area, and True otherwise.\n",
    "alter_bay = alter_data.column('alter_home') == 'Bay Area' # two equal marks == constructs a comparison, the result is true (equal to) or false (not equalt to)"
   ]
  },
  {
   "cell_type": "code",
   "execution_count": 23,
   "metadata": {
    "collapsed": false
   },
   "outputs": [
    {
     "data": {
      "text/plain": [
       "0.26990291262135924"
      ]
     },
     "execution_count": 23,
     "metadata": {},
     "output_type": "execute_result"
    }
   ],
   "source": [
    "# Secondly, you calculate the proportion of the rows which has the alter_bay variable True.\n",
    "alter_bay_proportion = np.mean(alter_bay)\n",
    "alter_bay_proportion"
   ]
  },
  {
   "cell_type": "markdown",
   "metadata": {},
   "source": [
    "### Class year of Berkeley students' confidants"
   ]
  },
  {
   "cell_type": "markdown",
   "metadata": {},
   "source": [
    "In this section, we will start to explore the relationship between respondents' class years and their alters' class years. Our approach will be to walk through one example -- the alters reported by freshmen -- in detail. Then, we will write a function to easily allow us to repeat our analysis for sophomores, juniors, and seniors."
   ]
  },
  {
   "cell_type": "markdown",
   "metadata": {},
   "source": [
    "First, let us look at the distribution of class year among all of the confidants reported. First use `group` to make a simple table with the counts of alters by class year."
   ]
  },
  {
   "cell_type": "code",
   "execution_count": 24,
   "metadata": {
    "collapsed": false
   },
   "outputs": [
    {
     "data": {
      "text/html": [
       "<table border=\"1\" class=\"dataframe\">\n",
       "    <thead>\n",
       "        <tr>\n",
       "            <th>alter_class</th> <th>count</th>\n",
       "        </tr>\n",
       "    </thead>\n",
       "    <tbody>\n",
       "        <tr>\n",
       "            <td>Freshman   </td> <td>11   </td>\n",
       "        </tr>\n",
       "        <tr>\n",
       "            <td>Junior     </td> <td>143  </td>\n",
       "        </tr>\n",
       "        <tr>\n",
       "            <td>Other      </td> <td>206  </td>\n",
       "        </tr>\n",
       "        <tr>\n",
       "            <td>Senior     </td> <td>101  </td>\n",
       "        </tr>\n",
       "        <tr>\n",
       "            <td>Sophomore  </td> <td>33   </td>\n",
       "        </tr>\n",
       "        <tr>\n",
       "            <td>nan        </td> <td>21   </td>\n",
       "        </tr>\n",
       "    </tbody>\n",
       "</table>"
      ],
      "text/plain": [
       "alter_class | count\n",
       "Freshman    | 11\n",
       "Junior      | 143\n",
       "Other       | 206\n",
       "Senior      | 101\n",
       "Sophomore   | 33\n",
       "nan         | 21"
      ]
     },
     "execution_count": 24,
     "metadata": {},
     "output_type": "execute_result"
    }
   ],
   "source": [
    "alter_data.group('alter_class')"
   ]
  },
  {
   "cell_type": "markdown",
   "metadata": {},
   "source": [
    "**Practice** Now make a bar plot that shows those counts graphically."
   ]
  },
  {
   "cell_type": "code",
   "execution_count": 25,
   "metadata": {
    "collapsed": false
   },
   "outputs": [
    {
     "data": {
      "text/html": [
       "<table border=\"1\" class=\"dataframe\">\n",
       "    <thead>\n",
       "        <tr>\n",
       "            <th>alter_class</th> <th>count</th>\n",
       "        </tr>\n",
       "    </thead>\n",
       "    <tbody>\n",
       "        <tr>\n",
       "            <td>Other      </td> <td>206  </td>\n",
       "        </tr>\n",
       "        <tr>\n",
       "            <td>Junior     </td> <td>143  </td>\n",
       "        </tr>\n",
       "        <tr>\n",
       "            <td>Senior     </td> <td>101  </td>\n",
       "        </tr>\n",
       "        <tr>\n",
       "            <td>Sophomore  </td> <td>33   </td>\n",
       "        </tr>\n",
       "        <tr>\n",
       "            <td>nan        </td> <td>21   </td>\n",
       "        </tr>\n",
       "        <tr>\n",
       "            <td>Freshman   </td> <td>11   </td>\n",
       "        </tr>\n",
       "    </tbody>\n",
       "</table>"
      ],
      "text/plain": [
       "alter_class | count\n",
       "Other       | 206\n",
       "Junior      | 143\n",
       "Senior      | 101\n",
       "Sophomore   | 33\n",
       "nan         | 21\n",
       "Freshman    | 11"
      ]
     },
     "execution_count": 25,
     "metadata": {},
     "output_type": "execute_result"
    }
   ],
   "source": [
    "# First we sort this table by counts of each group\n",
    "alter_data.group('alter_class').sort('count', descending=True)"
   ]
  },
  {
   "cell_type": "code",
   "execution_count": 26,
   "metadata": {
    "collapsed": false
   },
   "outputs": [
    {
     "data": {
      "image/png": "[encoded data removed]",
      "text/plain": [
       "<Figure size 432x288 with 1 Axes>"
      ]
     },
     "metadata": {},
     "output_type": "display_data"
    }
   ],
   "source": [
    "# By adding the function of plotting: .barh(the variable you want to plot), we can create a bar plot.\n",
    "alter_data.group('alter_class').sort('count', descending=True).barh('alter_class')"
   ]
  },
  {
   "cell_type": "markdown",
   "metadata": {},
   "source": [
    "**Practice** Make another bar plot that shows the class years of survey respondents."
   ]
  },
  {
   "cell_type": "code",
   "execution_count": 27,
   "metadata": {
    "collapsed": false
   },
   "outputs": [
    {
     "data": {
      "image/png": "[encoded data removed]",
      "text/plain": [
       "<Figure size 432x288 with 1 Axes>"
      ]
     },
     "metadata": {},
     "output_type": "display_data"
    }
   ],
   "source": [
    "survey.group('respondent_class').sort('count', descending=True).barh('respondent_class')"
   ]
  },
  {
   "cell_type": "markdown",
   "metadata": {},
   "source": [
    "Now that we have a sense of what all respondents and all of the alters look like, we can dig into the alters of a particulr class group.\n",
    "\n",
    "**Question 4** Create a new table that only has alters reported by respondents who are sophomores using `where` and `are.equal_to`."
   ]
  },
  {
   "cell_type": "code",
   "execution_count": null,
   "metadata": {
    "collapsed": true
   },
   "outputs": [],
   "source": [
    "alters_of_sophomores = ...\n",
    "\n",
    "q4 = alters_of_sophomores.num_rows\n",
    "q4"
   ]
  },
  {
   "cell_type": "code",
   "execution_count": null,
   "metadata": {
    "collapsed": false
   },
   "outputs": [],
   "source": [
    "_ = ok.grade('q4')"
   ]
  },
  {
   "cell_type": "markdown",
   "metadata": {},
   "source": [
    "Make a plot that shows the class years reported by alters of sophomores."
   ]
  },
  {
   "cell_type": "code",
   "execution_count": 28,
   "metadata": {
    "collapsed": false
   },
   "outputs": [
    {
     "ename": "NameError",
     "evalue": "name 'alters_of_sophomores' is not defined",
     "output_type": "error",
     "traceback": [
      "\u001b[0;31m---------------------------------------------------------------------------\u001b[0m",
      "\u001b[0;31mNameError\u001b[0m                                 Traceback (most recent call last)",
      "\u001b[0;32m<ipython-input-28-b68bf7148cd8>\u001b[0m in \u001b[0;36m<module>\u001b[0;34m()\u001b[0m\n\u001b[0;32m----> 1\u001b[0;31m \u001b[0malters_of_sophomores\u001b[0m\u001b[0;34m.\u001b[0m\u001b[0mgroup\u001b[0m\u001b[0;34m(\u001b[0m\u001b[0;34m'alter_class'\u001b[0m\u001b[0;34m)\u001b[0m\u001b[0;34m.\u001b[0m\u001b[0mbarh\u001b[0m\u001b[0;34m(\u001b[0m\u001b[0;34m'alter_class'\u001b[0m\u001b[0;34m)\u001b[0m\u001b[0;34m\u001b[0m\u001b[0m\n\u001b[0m",
      "\u001b[0;31mNameError\u001b[0m: name 'alters_of_sophomores' is not defined"
     ]
    }
   ],
   "source": [
    "alters_of_sophomores.group('alter_class').barh('alter_class')"
   ]
  },
  {
   "cell_type": "markdown",
   "metadata": {},
   "source": [
    "**Practice** Make a function called `plot_alter_class` that makes a plot of the class years of alters reported by respondents in a particular class. Your function should take as its arguments\n",
    "\n",
    "* `data` - the alter dataset\n",
    "* `class_year` - the class year of respondents to focus on\n",
    "    \n",
    "For example, running\n",
    "\n",
    "    plot_alter_class(alter_data, 'Freshman')\n",
    "\n",
    "should produce the plot you just made above."
   ]
  },
  {
   "cell_type": "code",
   "execution_count": 29,
   "metadata": {
    "collapsed": true
   },
   "outputs": [],
   "source": [
    "def plot_alter_class(data, class_year):\n",
    "    to_plot = data.where('respondent_class', are.equal_to(class_year)) #create the dataset for plotting\n",
    "    to_plot.group('alter_class').barh('alter_class')"
   ]
  },
  {
   "cell_type": "markdown",
   "metadata": {},
   "source": [
    "**Practice** Use your function to produce plots of the class years of the alters of freshmen, sophomores, juniors, and seniors."
   ]
  },
  {
   "cell_type": "code",
   "execution_count": 30,
   "metadata": {
    "collapsed": false
   },
   "outputs": [
    {
     "data": {
      "image/png": "[encoded data removed]",
      "text/plain": [
       "<Figure size 432x288 with 1 Axes>"
      ]
     },
     "metadata": {},
     "output_type": "display_data"
    }
   ],
   "source": [
    "# freshmen\n",
    "plot_alter_class(alter_data, 'Freshman')"
   ]
  },
  {
   "cell_type": "code",
   "execution_count": 31,
   "metadata": {
    "collapsed": false
   },
   "outputs": [
    {
     "data": {
      "image/png": "[encoded data removed]",
      "text/plain": [
       "<Figure size 432x288 with 1 Axes>"
      ]
     },
     "metadata": {},
     "output_type": "display_data"
    }
   ],
   "source": [
    "# sophomores\n",
    "plot_alter_class(alter_data, 'Sophomore')"
   ]
  },
  {
   "cell_type": "code",
   "execution_count": null,
   "metadata": {
    "collapsed": false
   },
   "outputs": [],
   "source": [
    "# juniors\n",
    "plot_alter_class(alter_data, 'Junior')"
   ]
  },
  {
   "cell_type": "code",
   "execution_count": 32,
   "metadata": {
    "collapsed": false
   },
   "outputs": [
    {
     "data": {
      "image/png": "[encoded data removed]",
      "text/plain": [
       "<Figure size 432x288 with 1 Axes>"
      ]
     },
     "metadata": {},
     "output_type": "display_data"
    }
   ],
   "source": [
    "# seniors\n",
    "plot_alter_class(alter_data, 'Senior')"
   ]
  },
  {
   "cell_type": "markdown",
   "metadata": {},
   "source": [
    "**Question** Do you see evidence of homophily with respect to class year?"
   ]
  },
  {
   "cell_type": "markdown",
   "metadata": {},
   "source": [
    "<div class='response'>\n",
    "[Answer here]\n",
    "</class>"
   ]
  },
  {
   "cell_type": "markdown",
   "metadata": {},
   "source": [
    "### Rerun the tests and submit your lab"
   ]
  },
  {
   "cell_type": "code",
   "execution_count": 33,
   "metadata": {
    "collapsed": false
   },
   "outputs": [
    {
     "name": "stdout",
     "output_type": "stream",
     "text": [
      "Running all tests...\n",
      "~~~~~~~~~~~~~~~~~~~~~~~~~~~~~~~~~~~~~~~~~~~~~~~~~~~~~~~~~~~~~~~~~~~~~\n",
      "Running tests\n",
      "\n",
      "---------------------------------------------------------------------\n",
      "Question > Suite 1 > Case 1\n",
      "\n",
      ">>> round(q1,1) == 515.0\n",
      "NameError: name 'q1' is not defined\n",
      "\n",
      "# Error: expected\n",
      "#     True\n",
      "# but got\n",
      "#     Traceback (most recent call last):\n",
      "#       ...\n",
      "#     NameError: name 'q1' is not defined\n",
      "\n",
      "Run only this test case with \"python3 ok -q q1 --suite 1 --case 1\"\n",
      "---------------------------------------------------------------------\n",
      "Test summary\n",
      "    Passed: 0\n",
      "    Failed: 1\n",
      "[k..........] 0.0% passed\n",
      "\n",
      "~~~~~~~~~~~~~~~~~~~~~~~~~~~~~~~~~~~~~~~~~~~~~~~~~~~~~~~~~~~~~~~~~~~~~\n",
      "Running tests\n",
      "\n",
      "---------------------------------------------------------------------\n",
      "Question > Suite 1 > Case 1\n",
      "\n",
      ">>> round(q2,1) == 494.0\n",
      "NameError: name 'q2' is not defined\n",
      "\n",
      "# Error: expected\n",
      "#     True\n",
      "# but got\n",
      "#     Traceback (most recent call last):\n",
      "#       ...\n",
      "#     NameError: name 'q2' is not defined\n",
      "\n",
      "Run only this test case with \"python3 ok -q q2 --suite 1 --case 1\"\n",
      "---------------------------------------------------------------------\n",
      "Test summary\n",
      "    Passed: 0\n",
      "    Failed: 1\n",
      "[k..........] 0.0% passed\n",
      "\n",
      "~~~~~~~~~~~~~~~~~~~~~~~~~~~~~~~~~~~~~~~~~~~~~~~~~~~~~~~~~~~~~~~~~~~~~\n",
      "Running tests\n",
      "\n",
      "---------------------------------------------------------------------\n",
      "Question > Suite 1 > Case 1\n",
      "\n",
      ">>> q3 == 102\n",
      "NameError: name 'q3' is not defined\n",
      "\n",
      "# Error: expected\n",
      "#     True\n",
      "# but got\n",
      "#     Traceback (most recent call last):\n",
      "#       ...\n",
      "#     NameError: name 'q3' is not defined\n",
      "\n",
      "Run only this test case with \"python3 ok -q q3 --suite 1 --case 1\"\n",
      "---------------------------------------------------------------------\n",
      "Test summary\n",
      "    Passed: 0\n",
      "    Failed: 1\n",
      "[k..........] 0.0% passed\n",
      "\n",
      "~~~~~~~~~~~~~~~~~~~~~~~~~~~~~~~~~~~~~~~~~~~~~~~~~~~~~~~~~~~~~~~~~~~~~\n",
      "Running tests\n",
      "\n",
      "---------------------------------------------------------------------\n",
      "Question > Suite 1 > Case 1\n",
      "\n",
      ">>> round(q4,1) == 44.0\n",
      "NameError: name 'q4' is not defined\n",
      "\n",
      "# Error: expected\n",
      "#     True\n",
      "# but got\n",
      "#     Traceback (most recent call last):\n",
      "#       ...\n",
      "#     NameError: name 'q4' is not defined\n",
      "\n",
      "Run only this test case with \"python3 ok -q q4 --suite 1 --case 1\"\n",
      "---------------------------------------------------------------------\n",
      "Test summary\n",
      "    Passed: 0\n",
      "    Failed: 1\n",
      "[k..........] 0.0% passed\n",
      "\n",
      "Finished running all tests.\n"
     ]
    }
   ],
   "source": [
    "import os\n",
    "print(\"Running all tests...\")\n",
    "_ = [lab1.grade(q[:-3]) for q in os.listdir(\"tests\") if q.startswith('q')]\n",
    "print(\"Finished running all tests.\")"
   ]
  },
  {
   "cell_type": "markdown",
   "metadata": {},
   "source": [
    "In order to submit your assignment, run the next cell.\n",
    "\n",
    "You can submit as many times as you want (up to the deadline: Feb 8th, Friday 9pm)."
   ]
  },
  {
   "cell_type": "code",
   "execution_count": 3,
   "metadata": {
    "collapsed": false
   },
   "outputs": [
    {
     "data": {
      "application/javascript": [
       "IPython.notebook.save_checkpoint();"
      ],
      "text/plain": [
       "<IPython.core.display.Javascript object>"
      ]
     },
     "metadata": {},
     "output_type": "display_data"
    },
    {
     "data": {
      "application/javascript": [
       "IPython.notebook.save_notebook();"
      ],
      "text/plain": [
       "<IPython.core.display.Javascript object>"
      ]
     },
     "metadata": {},
     "output_type": "display_data"
    },
    {
     "name": "stdout",
     "output_type": "stream",
     "text": [
      "Saving notebook... Saved 'lab1_part2.ipynb'.\n",
      "Submit... 100% complete\n",
      "Backup... 100% complete\n",
      "Submission successful for user: ruijie_zhong@berkeley.edu\n",
      "URL: https://okpy.org/cal/demog180/sp19/lab1/submissions/xvOznn\n",
      "\n"
     ]
    }
   ],
   "source": [
    "_ = lab1.submit()"
   ]
  }
 ],
 "metadata": {
  "kernelspec": {
   "display_name": "Python 3",
   "language": "python",
   "name": "python3"
  },
  "language_info": {
   "codemirror_mode": {
    "name": "ipython",
    "version": 3
   },
   "file_extension": ".py",
   "mimetype": "text/x-python",
   "name": "python",
   "nbconvert_exporter": "python",
   "pygments_lexer": "ipython3",
   "version": "3.6.0"
  }
 },
 "nbformat": 4,
 "nbformat_minor": 2
}
