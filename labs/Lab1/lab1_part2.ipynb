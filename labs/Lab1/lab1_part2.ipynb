{
 "cells": [
  {
   "cell_type": "markdown",
   "metadata": {},
   "source": [
    "### Lab 1 -- part 2\n",
    "### Homophily and personal networks"
   ]
  },
  {
   "cell_type": "code",
   "execution_count": null,
   "metadata": {
    "collapsed": false
   },
   "outputs": [],
   "source": [
    "# Import all the modules we need\n",
    "from IPython.core.display import HTML\n",
    "from datascience import *\n",
    "\n",
    "import matplotlib\n",
    "matplotlib.use('Agg')\n",
    "%matplotlib inline\n",
    "import matplotlib.pyplot as plt\n",
    "import numpy as np\n",
    "plt.style.use('fivethirtyeight')\n",
    "\n",
    "import warnings\n",
    "warnings.simplefilter('ignore', FutureWarning)"
   ]
  },
  {
   "cell_type": "code",
   "execution_count": null,
   "metadata": {
    "collapsed": false
   },
   "outputs": [],
   "source": [
    "# Load in the ok book\n",
    "from client.api.notebook import Notebook\n",
    "lab1 = Notebook('lab1.ok')\n",
    "_ = lab1.auth(inline=True, force=True)"
   ]
  },
  {
   "cell_type": "markdown",
   "metadata": {},
   "source": [
    "## 1.1 Converting from wide to long\n",
    "\n",
    "In the class demo, we have only looked at the relationship between the survey respondents and the first alter that they mentioned. However, we designed our survey so that respondents could tell us about up to five alters. In order to look at all of the alters respondents reported about, we're going to have to manipulate the dataset a bit more extensively. This manipulation is a little bit tricky, but we're going to go through how it can be done step by step.\n",
    "\n",
    "First, let's take a look at the first few rows of the dataset again to remind ourselves of how it is structured:"
   ]
  },
  {
   "cell_type": "code",
   "execution_count": null,
   "metadata": {
    "collapsed": false
   },
   "outputs": [],
   "source": [
    "import os\n",
    "os.getcwd() # this is a line that tells you the current working directory. It's a helpful move before you want to load something.\n",
    "            # we are in the folder of lab1, so we can import the data directly."
   ]
  },
  {
   "cell_type": "code",
   "execution_count": null,
   "metadata": {
    "collapsed": false
   },
   "outputs": [],
   "source": [
    "survey = Table.read_table('ucb_personal_networks_clean.csv')\n",
    "\n",
    "survey.show(6)"
   ]
  },
  {
   "cell_type": "markdown",
   "metadata": {},
   "source": [
    "The dataset is in *wide* format: all of the information reported by a respondent is stored in a single row:\n",
    "\n",
    "[respondent 1 info] ... [info about respondent 1's first alter] ... [info about respondent 1's second alter] ...   \n",
    "[respondent 2 info] ... [info about respondent 2's first alter] ... [info about respondent 2's second alter] ...   \n",
    "...\n",
    "\n",
    "Our goal is to reshape the dataset so that the information is in *long* format instead:\n",
    "\n",
    "[respondent 1 info] [info about respondent 1's first alter]  \n",
    "[respondent 1 info] [info about respondent 1's second alter]  \n",
    "[respondent 1 info] [info about respondent 1's third alter]  \n",
    "[respondent 1 info] [info about respondent 1's fourth alter]  \n",
    "[respondent 1 info] [info about respondent 1's fifth alter]  \n",
    "[respondent 2 info] [info about respondent 2's first alter]  \n",
    "[respondent 2 info] [info about respondent 2's second alter]  \n",
    "..."
   ]
  },
  {
   "cell_type": "markdown",
   "metadata": {},
   "source": [
    "We're going to start by creating an id variable for our survey responses. \n",
    "\n",
    "Always remember to double-check the results of your operations."
   ]
  },
  {
   "cell_type": "code",
   "execution_count": null,
   "metadata": {
    "collapsed": true
   },
   "outputs": [],
   "source": [
    "## create a respondent id variable\n",
    "survey['respondent_id'] = range(1, survey.num_rows + 1) # using [] is a short-hand approach for .with_column function"
   ]
  },
  {
   "cell_type": "code",
   "execution_count": null,
   "metadata": {
    "collapsed": false
   },
   "outputs": [],
   "source": [
    "survey.show(6)"
   ]
  },
  {
   "cell_type": "markdown",
   "metadata": {},
   "source": [
    "In order to convert the alter information from wide to long format, we're going to use two functions that have been written for you below.\n",
    "\n",
    "Let's look at the function below and try to understand how it works."
   ]
  },
  {
   "cell_type": "code",
   "execution_count": null,
   "metadata": {
    "collapsed": true
   },
   "outputs": [],
   "source": [
    "def repeat_single_col(data, var_name, times=5):\n",
    "    \"\"\"Repeats a single column multiple times.\n",
    "    \n",
    "    Parameters\n",
    "    ----------\n",
    "    data : Table\n",
    "        The data table containing the column to be repeated.\n",
    "    var_name : str\n",
    "        Text that contains the name of the column to repeat.\n",
    "    times : int\n",
    "        The number of times column is to be repeated.\n",
    "    \n",
    "    Returns\n",
    "    -------\n",
    "    np.array\n",
    "        A single array with the contents of the column repeated five times.\n",
    "    \n",
    "    Examples\n",
    "    --------\n",
    "    >>> repeat_single_col(Table().with_columns(['respondent_age', [10]]),\n",
    "                          'respondent_age')\n",
    "    \n",
    "    array([10, 10, 10, 10, 10])\n",
    "    \"\"\"\n",
    "    new_col = np.tile(data.column(var_name), times)\n",
    "    return new_col"
   ]
  },
  {
   "cell_type": "markdown",
   "metadata": {},
   "source": [
    "The key to understanding repeat_single_col is the np.tile function. Look that function up and read its help page."
   ]
  },
  {
   "cell_type": "markdown",
   "metadata": {},
   "source": [
    "**Practice** Use np.tile to create an array that contains [1,3,5,7,1,3,5,7,1,3,5,7,1,3,5,7]."
   ]
  },
  {
   "cell_type": "code",
   "execution_count": null,
   "metadata": {
    "collapsed": false
   },
   "outputs": [],
   "source": [
    "#np.tile? # You can remove the # sign and see the 'help' documentation for np.tile\n",
    "np.tile([1,3,5,7], 4)"
   ]
  },
  {
   "cell_type": "markdown",
   "metadata": {},
   "source": [
    "**Practice** What is the difference between np.tile and np.repeat? Do they do the same thing?\n",
    "[Hint: you can use the help page to figure out what np.repeat does.]"
   ]
  },
  {
   "cell_type": "code",
   "execution_count": null,
   "metadata": {
    "collapsed": false
   },
   "outputs": [],
   "source": [
    "#np.repeat?\n",
    "np.repeat([1,3,5,7], 4)"
   ]
  },
  {
   "cell_type": "markdown",
   "metadata": {},
   "source": [
    "Now look at the next function, and try to understand how it works."
   ]
  },
  {
   "cell_type": "code",
   "execution_count": null,
   "metadata": {
    "collapsed": true
   },
   "outputs": [],
   "source": [
    "def wide_to_long(data, var_name, times=5):\n",
    "    \"\"\"Given columns of alter characteristics, stack them into one long column.\n",
    "    \n",
    "    Parameters\n",
    "    ----------\n",
    "    data : Table\n",
    "        The data table containing the alter characteristics\n",
    "    var_name : str\n",
    "        Text that contains the variable name; columns of the dataset should\n",
    "        match the pattern: alter[NUM]_[var_name]\n",
    "        For example, if var_name is 'age' then this function expects to find\n",
    "        columns in the survey dataset named \n",
    "        'alter1_age', 'alter2_age', 'alter3_age', 'alter4_age', and 'alter5_age'\n",
    "    times : int\n",
    "        The number of columns for each characteristic\n",
    "    \n",
    "    Returns\n",
    "    -------\n",
    "    np.array\n",
    "        A single array with the contents of all of the columns stacked on top of one another.\n",
    "    \n",
    "    Examples\n",
    "    --------\n",
    "    >>> wide_to_long(Table().with_columns(['alter1_age', [10, 15],\n",
    "                                           'alter2_age', [30, 35],\n",
    "                                           'alter3_age', [20, 15],\n",
    "                                           'alter4_age', [60, 70],\n",
    "                                           'alter5_age', [20, 25]]),\n",
    "                     'age')\n",
    "    \n",
    "    array([10, 15, 30, 35, 20, 15, 60, 70, 20, 25])\n",
    "    \"\"\"\n",
    "    new_col = np.concatenate([data.column('alter' + str(idx) + '_' + var_name) for idx in range(1,times+1)])\n",
    "    return new_col"
   ]
  },
  {
   "cell_type": "markdown",
   "metadata": {},
   "source": [
    "The key to understanding this second function is np.concatenate. Look up the help page for np.concatenate."
   ]
  },
  {
   "cell_type": "code",
   "execution_count": null,
   "metadata": {
    "collapsed": true
   },
   "outputs": [],
   "source": [
    "np.concatenate?"
   ]
  },
  {
   "cell_type": "markdown",
   "metadata": {},
   "source": [
    "**Practice** Use `np.concatenate` to make a single array that has the contents of `column_one` and `column_two` concatenated together:"
   ]
  },
  {
   "cell_type": "code",
   "execution_count": null,
   "metadata": {
    "collapsed": false
   },
   "outputs": [],
   "source": [
    "concat_table = Table().with_columns(['column_one', [1,3,5,7,9],\n",
    "                                    'column_two', [2,4,6,8,10]])\n",
    "concat_table"
   ]
  },
  {
   "cell_type": "code",
   "execution_count": null,
   "metadata": {
    "collapsed": false
   },
   "outputs": [],
   "source": [
    "np.concatenate(concat_table)"
   ]
  },
  {
   "cell_type": "markdown",
   "metadata": {},
   "source": [
    "Now that we understand what np.concatenate does, let's run the wide_to_long() function upon a simple table to see what it does."
   ]
  },
  {
   "cell_type": "code",
   "execution_count": null,
   "metadata": {
    "collapsed": false
   },
   "outputs": [],
   "source": [
    "temp_table = Table().with_columns(['alter1_age', [10, 15],\n",
    "                                   'alter2_age', [30, 35],\n",
    "                                   'alter3_age', [20, 15],\n",
    "                                   'alter4_age', [60, 70],\n",
    "                                   'alter5_age', [20, 25]])\n",
    "wide_to_long(temp_table,'age')"
   ]
  },
  {
   "cell_type": "markdown",
   "metadata": {},
   "source": [
    "You can see that it links the head and end of columns.\n",
    "\n",
    "We'll take a first try at converting the alter data to long format together, and then you'll do a more complete job as an exercise.\n",
    "\n",
    "For our first step, we'll only keep the respondent's id number and the age of the alters each respondent reported about. Since there is space for 5 alters per respondent, we expect (number of respondents x 5) = (... x 5) = ... rows in our resulting dataset.\n",
    "\n",
    "Let's construct the table."
   ]
  },
  {
   "cell_type": "code",
   "execution_count": null,
   "metadata": {
    "collapsed": false
   },
   "outputs": [],
   "source": [
    "alter_first_try = Table().with_columns([\n",
    "    'respondent_id', repeat_single_col(survey, 'respondent_id'),\n",
    "    'alter_age', wide_to_long(survey, 'age')])"
   ]
  },
  {
   "cell_type": "markdown",
   "metadata": {},
   "source": [
    "You can see that we want to use `repeat_single_col` for the column that is a respondent characteristic and that we want to use `wide_to_long` for the column that is an alter characteristic.\n",
    "\n",
    "Let's check that the resulting Table, called `alter_first_try` makes sense.\n",
    "\n",
    "**Question 1** How many rows do you think alter_first_try should have? Check the number of rows."
   ]
  },
  {
   "cell_type": "code",
   "execution_count": null,
   "metadata": {
    "collapsed": true
   },
   "outputs": [],
   "source": [
    "q1 = ...\n",
    "q1"
   ]
  },
  {
   "cell_type": "code",
   "execution_count": null,
   "metadata": {
    "collapsed": false
   },
   "outputs": [],
   "source": [
    "_ = lab1.grade('q1')"
   ]
  },
  {
   "cell_type": "markdown",
   "metadata": {},
   "source": [
    "**Practice** The following statement allows you to double-check that each respondent appears five times in this dataset."
   ]
  },
  {
   "cell_type": "code",
   "execution_count": null,
   "metadata": {
    "collapsed": false
   },
   "outputs": [],
   "source": [
    "np.all(alter_first_try.group('respondent_id').column('count') == 5)"
   ]
  },
  {
   "cell_type": "markdown",
   "metadata": {},
   "source": [
    "**Practice** Now it's your turn! Using the example above as a pattern, create a long dataset that has\n",
    "\n",
    "* respondent id\n",
    "* respondent age\n",
    "* respondent class\n",
    "* respondent home\n",
    "* alter age\n",
    "* alter gender\n",
    "* alter class\n",
    "* alter home\n",
    "\n",
    "Don't forget to perform a couple of checks to be sure the resulting dataset makes sense (like we did above).\n",
    "\n",
    "**Hint: you need to repeat the information for the respondent and convert from wide to long for the alters' information.**"
   ]
  },
  {
   "cell_type": "code",
   "execution_count": null,
   "metadata": {
    "collapsed": false
   },
   "outputs": [],
   "source": [
    "alter_data = Table().with_columns([\n",
    "    'respondent_id', repeat_single_col(survey, 'respondent_id'),\n",
    "    'respondent_age', repeat_single_col(survey, 'respondent_age'),\n",
    "    'respondent_class', repeat_single_col(survey, 'respondent_class'),\n",
    "    'respondent_home', repeat_single_col(survey, 'respondent_home'),\n",
    "    'alter_age', wide_to_long(survey, 'age'),\n",
    "    'alter_gender', wide_to_long(survey, 'gender'),\n",
    "    'alter_class', wide_to_long(survey, 'class'),\n",
    "    'alter_home', wide_to_long(survey, 'home'),])\n",
    "\n",
    "alter_data"
   ]
  },
  {
   "cell_type": "markdown",
   "metadata": {},
   "source": [
    "Check the number of rows of the new table as well as the repetitions of the repondents in the new table"
   ]
  },
  {
   "cell_type": "code",
   "execution_count": null,
   "metadata": {
    "collapsed": false
   },
   "outputs": [],
   "source": [
    "nrow = alter_data.num_rows\n",
    "nrow"
   ]
  },
  {
   "cell_type": "code",
   "execution_count": null,
   "metadata": {
    "collapsed": false
   },
   "outputs": [],
   "source": [
    "# double check that each respondent appears 5 times\n",
    "np.all(alter_data.group('respondent_id').column('count') == 5)"
   ]
  },
  {
   "cell_type": "markdown",
   "metadata": {},
   "source": [
    "### Ages of Berkeley students' confidants\n",
    "\n",
    "OK, now that we have created a long-form dataset, let's make use of it to learn about the people Berkeley students discuss important matters with."
   ]
  },
  {
   "cell_type": "markdown",
   "metadata": {},
   "source": [
    "Start by trying to make a histogram of the confidants' ages. (You will get an error -- read the error message and then see the next question.)"
   ]
  },
  {
   "cell_type": "code",
   "execution_count": null,
   "metadata": {
    "collapsed": false
   },
   "outputs": [],
   "source": [
    "alter_data.hist('alter_age')"
   ]
  },
  {
   "cell_type": "markdown",
   "metadata": {},
   "source": [
    "You get an error message because some of the rows of the dataset have nan or 'not a number' for the value of age. Why? Because not every respondent reported 5 alters. So we need to filter our dataset down to only have data from actual reports about alters.\n",
    "\n",
    "We will do this by assuming that if alter_age is nan, then no alter was reported about."
   ]
  },
  {
   "cell_type": "markdown",
   "metadata": {},
   "source": [
    "**Question 2** Use a where statement to keep only the rows of alter_data that do not have an nan value for alter_age.\n",
    "\n",
    "[HINT 1: this is a little tricky. Check out the np.isnan function.]\n",
    "[HINT 2: you can flip an array of Boolean values by using ~. So ~ [False, True, False] equals [True, False, True]."
   ]
  },
  {
   "cell_type": "code",
   "execution_count": null,
   "metadata": {
    "collapsed": true
   },
   "outputs": [],
   "source": [
    "# Prep\n",
    "np.isnan?"
   ]
  },
  {
   "cell_type": "code",
   "execution_count": null,
   "metadata": {
    "collapsed": true
   },
   "outputs": [],
   "source": [
    "# First step, get the booleans (trues and falses) for constructing the table\n",
    "# If it's TRUE for the 1st row, it will be kept in the new table, otherwise it will be filtered out.\n",
    "boolean = ...(alter_data.column('alter_age')) # fill in the code before the ()"
   ]
  },
  {
   "cell_type": "code",
   "execution_count": null,
   "metadata": {
    "collapsed": true
   },
   "outputs": [],
   "source": [
    "# Second step, construct the new data table\n",
    "alter_data = ...\n",
    "alter_data.show() # the filtered alte_data"
   ]
  },
  {
   "cell_type": "code",
   "execution_count": null,
   "metadata": {
    "collapsed": true
   },
   "outputs": [],
   "source": [
    "# Finally, check the number of rows\n",
    "q2 = ...\n",
    "q2"
   ]
  },
  {
   "cell_type": "code",
   "execution_count": null,
   "metadata": {
    "collapsed": false
   },
   "outputs": [],
   "source": [
    "_ = lab1.grade('q2')"
   ]
  },
  {
   "cell_type": "markdown",
   "metadata": {},
   "source": [
    "Now you can make a histogram of the ages of the alters."
   ]
  },
  {
   "cell_type": "code",
   "execution_count": null,
   "metadata": {
    "collapsed": false
   },
   "outputs": [],
   "source": [
    "alter_data.hist('alter_age')"
   ]
  },
  {
   "cell_type": "markdown",
   "metadata": {},
   "source": [
    "**Question 3** Now make a histogram of the survey respondents' ages.\n",
    "\n",
    "Please take a look at the `bins` argument and see how to make reasonable bins, and you can try and see what happens if you remove this and plot with the line we used for alter's age. <BR>"
   ]
  },
  {
   "cell_type": "code",
   "execution_count": null,
   "metadata": {
    "collapsed": true
   },
   "outputs": [],
   "source": [
    "# Clean the nan values like you did for alter_data (try to combine the 2 steps in one line)\n",
    "survey = ...\n",
    "survey.select('respondent_age').hist(bins=np.arange(15, 30, 1))"
   ]
  },
  {
   "cell_type": "code",
   "execution_count": null,
   "metadata": {
    "collapsed": false
   },
   "outputs": [],
   "source": [
    "# Check the number of rows of the cleaned \"survey\"\n",
    "q3 = ..."
   ]
  },
  {
   "cell_type": "code",
   "execution_count": null,
   "metadata": {
    "collapsed": false
   },
   "outputs": [],
   "source": [
    "_ = lab1.grade('q3')"
   ]
  },
  {
   "cell_type": "markdown",
   "metadata": {},
   "source": [
    "**Question** Compare the two histograms. What does this tell you about homophily among confidants?"
   ]
  },
  {
   "cell_type": "markdown",
   "metadata": {},
   "source": [
    "<div class='response'>\n",
    "[Answer here]\n",
    "</class>"
   ]
  },
  {
   "cell_type": "markdown",
   "metadata": {},
   "source": [
    "Now you can make a scatter plot comparing the ages of survey respondents and the ages of the alters."
   ]
  },
  {
   "cell_type": "code",
   "execution_count": null,
   "metadata": {
    "collapsed": false
   },
   "outputs": [],
   "source": [
    "alter_data.scatter('respondent_age', 'alter_age')"
   ]
  },
  {
   "cell_type": "markdown",
   "metadata": {},
   "source": [
    "**Question** What does this scatter plot tell you about homophily among confidants?"
   ]
  },
  {
   "cell_type": "markdown",
   "metadata": {},
   "source": [
    "<div class='response'>\n",
    "[Answer here]\n",
    "</class>"
   ]
  },
  {
   "cell_type": "markdown",
   "metadata": {},
   "source": [
    "We are able to get a lot of descriptive information from these two datasets. Here are two practice examples.\n",
    "\n",
    "**Practice** What is the range of the age of the age?"
   ]
  },
  {
   "cell_type": "code",
   "execution_count": null,
   "metadata": {
    "collapsed": false
   },
   "outputs": [],
   "source": [
    "oldest = np.max(alter_data.column('alter_age'))\n",
    "youngest = np.min(alter_data.column('alter_age'))\n",
    "\n",
    "print('oldest age:', oldest)\n",
    "print('youngest age:', youngest)"
   ]
  },
  {
   "cell_type": "markdown",
   "metadata": {},
   "source": [
    "**Practice** What's the proportion of alters from Bay Area of all the alters?"
   ]
  },
  {
   "cell_type": "code",
   "execution_count": null,
   "metadata": {
    "collapsed": true
   },
   "outputs": [],
   "source": [
    "# First, you create a variable, alter_bay which has value False if the alter is not from the Bay Area, and True otherwise.\n",
    "alter_bay = alter_data.column('alter_home') == 'Bay Area' # two equal marks == constructs a comparison, the result is true (equal to) or false (not equalt to)"
   ]
  },
  {
   "cell_type": "code",
   "execution_count": null,
   "metadata": {
    "collapsed": false
   },
   "outputs": [],
   "source": [
    "# Secondly, you calculate the proportion of the rows which has the alter_bay variable True.\n",
    "alter_bay_proportion = np.mean(alter_bay)\n",
    "alter_bay_proportion"
   ]
  },
  {
   "cell_type": "markdown",
   "metadata": {},
   "source": [
    "### Class year of Berkeley students' confidants"
   ]
  },
  {
   "cell_type": "markdown",
   "metadata": {},
   "source": [
    "In this section, we will start to explore the relationship between respondents' class years and their alters' class years. Our approach will be to walk through one example -- the alters reported by freshmen -- in detail. Then, we will write a function to easily allow us to repeat our analysis for sophomores, juniors, and seniors."
   ]
  },
  {
   "cell_type": "markdown",
   "metadata": {},
   "source": [
    "First, let us look at the distribution of class year among all of the confidants reported. First use `group` to make a simple table with the counts of alters by class year."
   ]
  },
  {
   "cell_type": "code",
   "execution_count": null,
   "metadata": {
    "collapsed": false
   },
   "outputs": [],
   "source": [
    "alter_data.group('alter_class')"
   ]
  },
  {
   "cell_type": "markdown",
   "metadata": {},
   "source": [
    "**Practice** Now make a bar plot that shows those counts graphically."
   ]
  },
  {
   "cell_type": "code",
   "execution_count": null,
   "metadata": {
    "collapsed": false
   },
   "outputs": [],
   "source": [
    "# First we sort this table by counts of each group\n",
    "alter_data.group('alter_class').sort('count', descending=True)"
   ]
  },
  {
   "cell_type": "code",
   "execution_count": null,
   "metadata": {
    "collapsed": false
   },
   "outputs": [],
   "source": [
    "# By adding the function of plotting: .barh(the variable you want to plot), we can create a bar plot.\n",
    "alter_data.group('alter_class').sort('count', descending=True).barh('alter_class')"
   ]
  },
  {
   "cell_type": "markdown",
   "metadata": {},
   "source": [
    "**Practice** Make another bar plot that shows the class years of survey respondents."
   ]
  },
  {
   "cell_type": "code",
   "execution_count": null,
   "metadata": {
    "collapsed": false
   },
   "outputs": [],
   "source": [
    "survey.group('respondent_class').sort('count', descending=True).barh('respondent_class')"
   ]
  },
  {
   "cell_type": "markdown",
   "metadata": {},
   "source": [
    "Now that we have a sense of what all respondents and all of the alters look like, we can dig into the alters of a particulr class group.\n",
    "\n",
    "**Question 4** Create a new table that only has alters reported by respondents who are sophomores using `where` and `are.equal_to`."
   ]
  },
  {
   "cell_type": "code",
   "execution_count": null,
   "metadata": {
    "collapsed": true
   },
   "outputs": [],
   "source": [
    "alters_of_sophomores = ...\n",
    "\n",
    "q4 = alters_of_sophomores.num_rows\n",
    "q4"
   ]
  },
  {
   "cell_type": "code",
   "execution_count": null,
   "metadata": {
    "collapsed": false
   },
   "outputs": [],
   "source": [
    "_ = lab1.grade('q4')"
   ]
  },
  {
   "cell_type": "markdown",
   "metadata": {},
   "source": [
    "Make a plot that shows the class years reported by alters of sophomores."
   ]
  },
  {
   "cell_type": "code",
   "execution_count": null,
   "metadata": {
    "collapsed": false
   },
   "outputs": [],
   "source": [
    "alters_of_sophomores.group('alter_class').barh('alter_class')"
   ]
  },
  {
   "cell_type": "markdown",
   "metadata": {},
   "source": [
    "**Practice** Make a function called `plot_alter_class` that makes a plot of the class years of alters reported by respondents in a particular class. Your function should take as its arguments\n",
    "\n",
    "* `data` - the alter dataset\n",
    "* `class_year` - the class year of respondents to focus on\n",
    "    \n",
    "For example, running\n",
    "\n",
    "    plot_alter_class(alter_data, 'Freshman')\n",
    "\n",
    "should produce the plot you just made above."
   ]
  },
  {
   "cell_type": "code",
   "execution_count": null,
   "metadata": {
    "collapsed": true
   },
   "outputs": [],
   "source": [
    "def plot_alter_class(data, class_year):\n",
    "    to_plot = data.where('respondent_class', are.equal_to(class_year)) #create the dataset for plotting\n",
    "    to_plot.group('alter_class').barh('alter_class')"
   ]
  },
  {
   "cell_type": "markdown",
   "metadata": {},
   "source": [
    "**Practice** Use your function to produce plots of the class years of the alters of freshmen, sophomores, juniors, and seniors."
   ]
  },
  {
   "cell_type": "code",
   "execution_count": null,
   "metadata": {
    "collapsed": false
   },
   "outputs": [],
   "source": [
    "# freshmen\n",
    "plot_alter_class(alter_data, 'Freshman')"
   ]
  },
  {
   "cell_type": "code",
   "execution_count": null,
   "metadata": {
    "collapsed": false
   },
   "outputs": [],
   "source": [
    "# sophomores\n",
    "plot_alter_class(alter_data, 'Sophomore')"
   ]
  },
  {
   "cell_type": "code",
   "execution_count": null,
   "metadata": {
    "collapsed": false
   },
   "outputs": [],
   "source": [
    "# juniors\n",
    "plot_alter_class(alter_data, 'Junior')"
   ]
  },
  {
   "cell_type": "code",
   "execution_count": null,
   "metadata": {
    "collapsed": false
   },
   "outputs": [],
   "source": [
    "# seniors\n",
    "plot_alter_class(alter_data, 'Senior')"
   ]
  },
  {
   "cell_type": "markdown",
   "metadata": {},
   "source": [
    "**Question** Do you see evidence of homophily with respect to class year?"
   ]
  },
  {
   "cell_type": "markdown",
   "metadata": {},
   "source": [
    "<div class='response'>\n",
    "[Answer here]\n",
    "</class>"
   ]
  },
  {
   "cell_type": "markdown",
   "metadata": {},
   "source": [
    "### Rerun the tests and submit your lab"
   ]
  },
  {
   "cell_type": "code",
   "execution_count": null,
   "metadata": {
    "collapsed": false
   },
   "outputs": [],
   "source": [
    "import os\n",
    "print(\"Running all tests...\")\n",
    "_ = [lab1.grade(q[:-3]) for q in os.listdir(\"tests\") if q.startswith('q')]\n",
    "print(\"Finished running all tests.\")"
   ]
  },
  {
   "cell_type": "markdown",
   "metadata": {},
   "source": [
    "In order to submit your assignment, run the next cell.\n",
    "\n",
    "You can submit as many times as you want (up to the deadline: Feb 8th, Friday 9pm)."
   ]
  },
  {
   "cell_type": "code",
   "execution_count": null,
   "metadata": {
    "collapsed": false
   },
   "outputs": [],
   "source": [
    "_ = lab1.submit()"
   ]
  }
 ],
 "metadata": {
  "kernelspec": {
   "display_name": "Python 3",
   "language": "python",
   "name": "python3"
  },
  "language_info": {
   "codemirror_mode": {
    "name": "ipython",
    "version": 3
   },
   "file_extension": ".py",
   "mimetype": "text/x-python",
   "name": "python",
   "nbconvert_exporter": "python",
   "pygments_lexer": "ipython3",
   "version": "3.6.0"
  }
 },
 "nbformat": 4,
 "nbformat_minor": 2
}
