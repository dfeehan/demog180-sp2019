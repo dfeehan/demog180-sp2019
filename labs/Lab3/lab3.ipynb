{
 "cells": [
  {
   "cell_type": "code",
   "execution_count": null,
   "metadata": {
    "collapsed": true
   },
   "outputs": [],
   "source": [
    "# Running these two lines help you update networkx and pip to the latest version\n",
    "!pip install networkx --upgrade\n",
    "!pip install --upgrade pip"
   ]
  },
  {
   "cell_type": "code",
   "execution_count": null,
   "metadata": {
    "collapsed": false
   },
   "outputs": [],
   "source": [
    "from IPython.core.display import HTML\n",
    "HTML(\"\"\"\n",
    "<style>\n",
    ".imagesource {\n",
    "    font-size: xx-small;\n",
    "}\n",
    "</style>\n",
    "\"\"\")\n",
    "\n",
    "from datascience import *\n",
    "\n",
    "import matplotlib\n",
    "matplotlib.use('Agg')\n",
    "%matplotlib inline\n",
    "import matplotlib.pyplot as plt\n",
    "import numpy as np\n",
    "plt.style.use('fivethirtyeight')\n",
    "\n",
    "import os\n",
    "import networkx as nx\n",
    "\n",
    "from IPython.core.display import HTML\n",
    "def css_styling():\n",
    "    styles = open(\"custom_style.css\", \"r\").read()\n",
    "    return HTML(styles)\n",
    "css_styling()"
   ]
  },
  {
   "cell_type": "code",
   "execution_count": null,
   "metadata": {
    "collapsed": false
   },
   "outputs": [],
   "source": [
    "# Load in the ok book\n",
    "from client.api.notebook import Notebook\n",
    "lab3 = Notebook('lab3.ok')\n",
    "_ = lab3.auth(inline=True, force=True)"
   ]
  },
  {
   "cell_type": "markdown",
   "metadata": {},
   "source": [
    "## Lab 3 - Enriching network data and testing a hypothesis about homophily"
   ]
  },
  {
   "cell_type": "markdown",
   "metadata": {},
   "source": [
    "## Attributes of nodes\n",
    "\n",
    "We have seen that there is a lot we can learn about social networks by just studying their structure---i.e., by investigating the patterns of nodes and edges. However, since social networks are typically made of people, we know that only studying their structure leaves a lot of potentially important information out of our analysis. People are not all the same, and so reducing people to identical nodes in a network can be too simplistic to accurately learn about the social processes that a network is a part of.\n",
    "\n",
    "Today, we're going to learn how to enrich our networks by adding additional information about who is in the nodes. We'll continue to work with the theoretical idea of homophily, which we have discussed in a few previous classes."
   ]
  },
  {
   "cell_type": "markdown",
   "metadata": {},
   "source": [
    "# Measuring homophily"
   ]
  },
  {
   "cell_type": "markdown",
   "metadata": {},
   "source": [
    "In class, we talked about one approach to measuring homophily in a network that is composed of nodes that are either girls or boys.\n",
    "\n",
    "Suppose that a proportion $p$ of the nodes in the network are boys, and that a proportion $q$ of nodes in the network are girls. Then we reasoned that if we pick an edge at random from the network, and randomly assign genders to the nodes at either end of the edge, we'd see one of the following three situations:"
   ]
  },
  {
   "cell_type": "markdown",
   "metadata": {},
   "source": [
    "<img src='random_gender_withfrac.jpg' width='30%'></img>"
   ]
  },
  {
   "cell_type": "markdown",
   "metadata": {},
   "source": [
    "We'd expect to see an edge joining two boys with probability $p^2$; an edge joining two girls with probability $q^2$; and an edge that joins a boy and a girl with probability $pq + qp = 2p$. The approach we talked about in lecture was based on comparing the observed fraction of boy-girl edges to the value $2pq$ that would be predicted under this first null model."
   ]
  },
  {
   "cell_type": "markdown",
   "metadata": {},
   "source": [
    "Although this analysis is a good starting point, it makes an important assumption: it assumes that, on average, boys and girls have the same average network size. (If you are curious about why the model implies this, please see the optional footnote at the end of the lab.)\n",
    "\n",
    "In this lab, we'll explore a more sophisticated metric -- the assortativity coefficient -- that accounts for differences in nodes' network sizes. The assortativity coefficient can also be extended to measure homophily on characteristics that have more than two categories."
   ]
  },
  {
   "cell_type": "markdown",
   "metadata": {},
   "source": [
    "### The assortativity coefficient\n",
    "\n",
    "If a network's nodes can be divided into discrete groups, then a quantitative metric for the amount of homophily in a network was proposed by [Newman](https://arxiv.org/pdf/cond-mat/0205405.pdf). We'll work with this metric today.\n",
    "\n",
    "* suppose that the nodes can all be divided into discrete groups\n",
    "* let $a_i$ be the fraction of ends of edges ('stubs') in a network that are connected to nodes in group $i$\n",
    "* let $e_{ij}$ be the fraction of edges in a network ('stubs') that connect nodes in group $i$ to nodes in group $j$\n",
    "\n",
    "\n",
    "Newman's *assortativity coefficient* is:\n",
    "\n",
    "$$r = \\frac{\\sum_i e_{ii} - \\sum_i a_i^2}{1 - \\sum_i a_i^2}$$\n",
    "\n",
    "* when $r=0$, then there is no assortativity\n",
    "* when $r>0$, then there is assortativity -- i.e., members of the same group tend to be more connected to each other than to other groups. At the extreme, when $r=1$, all network connections are within groups\n",
    "* when $r<0$, then there is disassortativity -- i.e., members of the same group are less likely to be connected to each other than to other groups\n",
    "\n",
    "For two groups, we can write the assortativity coefficient as\n",
    "\n",
    "$$r = \\frac{e_{11} + e_{22} - a_1^2 - a_2^2}{1 - a_1^2 - a_2^2}$$"
   ]
  },
  {
   "cell_type": "markdown",
   "metadata": {},
   "source": [
    "### Example 1"
   ]
  },
  {
   "cell_type": "markdown",
   "metadata": {},
   "source": [
    "<img src='example_network_groups3.png'>"
   ]
  },
  {
   "cell_type": "markdown",
   "metadata": {},
   "source": [
    "**Practice** Calculate the assortativity coefficient in the example network:"
   ]
  },
  {
   "cell_type": "code",
   "execution_count": null,
   "metadata": {
    "collapsed": true
   },
   "outputs": [],
   "source": [
    "#         degree  group\n",
    "# node 1    1     blue\n",
    "# node 2    2     red\n",
    "# node 3    5     blue\n",
    "# node 4    1     red\n",
    "# node 5    2     blue\n",
    "# node 6    1     red\n",
    "# node 7    2     red\n",
    "# node 8    2     blue"
   ]
  },
  {
   "cell_type": "code",
   "execution_count": null,
   "metadata": {
    "collapsed": true
   },
   "outputs": [],
   "source": [
    "# STUB COUNTS\n",
    "\n",
    "#       blue  red\n",
    "# blue   4     6\n",
    "# red    6     0"
   ]
  },
  {
   "cell_type": "code",
   "execution_count": null,
   "metadata": {
    "collapsed": true
   },
   "outputs": [],
   "source": [
    "# STUB TOTALS\n",
    "\n",
    "#       total degree  a_i\n",
    "# blue       10       10/16\n",
    "# red        6        6/16"
   ]
  },
  {
   "cell_type": "code",
   "execution_count": null,
   "metadata": {
    "collapsed": true
   },
   "outputs": [],
   "source": [
    "# e_ij MATRIX\n",
    "\n",
    "#       blue  red\n",
    "# blue  4/16  6/16\n",
    "# red   6/16  0"
   ]
  },
  {
   "cell_type": "markdown",
   "metadata": {},
   "source": [
    "**ANSWER:** *assortativity coefficient*\n",
    "$r$ = [((4/16) + 0) - (10/16)^2 - (6/16)^2] / [1 - (10/16)^2 - (6/16)^2] = -0.6"
   ]
  },
  {
   "cell_type": "code",
   "execution_count": null,
   "metadata": {
    "collapsed": false
   },
   "outputs": [],
   "source": [
    "(((4/16) + 0) - (10/16)**2 - (6/16)**2) / (1 - (10/16)**2 - (6/16)**2)"
   ]
  },
  {
   "cell_type": "markdown",
   "metadata": {},
   "source": [
    " Now we'll use the `networkx` package to check the results of the calculation we performed above. This will  give us a chance to learn about how the package handles node attributes."
   ]
  },
  {
   "cell_type": "markdown",
   "metadata": {},
   "source": [
    "**Question** Create a `networkx` graph called `test` that represents the example network above.<BR>\n",
    "*[Hint: you can enter this network as an edgelist.]*\n",
    "*[Hint: you can go back to lab 2 and see how to create a networkx graph.]*"
   ]
  },
  {
   "cell_type": "code",
   "execution_count": null,
   "metadata": {
    "collapsed": true
   },
   "outputs": [],
   "source": [
    "test = ..."
   ]
  },
  {
   "cell_type": "code",
   "execution_count": null,
   "metadata": {
    "collapsed": true
   },
   "outputs": [],
   "source": [
    "_ = lab3.grade('q1')"
   ]
  },
  {
   "cell_type": "code",
   "execution_count": null,
   "metadata": {
    "collapsed": false
   },
   "outputs": [],
   "source": [
    "# Let's take a look at the network you generate, is it the same as the one above?\n",
    "nx.draw_circular(test, with_labels=True)"
   ]
  },
  {
   "cell_type": "markdown",
   "metadata": {},
   "source": [
    "The pattern below shows us how to tell `networkx` that there is a node attribute called 'color', and it shows us how to explicitly add the color of each node:"
   ]
  },
  {
   "cell_type": "code",
   "execution_count": null,
   "metadata": {
    "collapsed": false,
    "scrolled": false
   },
   "outputs": [],
   "source": [
    "nx.set_node_attributes(test,                    \n",
    "                       {1 : 'blue',\n",
    "                        2 : 'red',\n",
    "                        3 : 'blue',\n",
    "                        4 : 'red',\n",
    "                        5 : 'blue',\n",
    "                        6 : 'red',\n",
    "                        7 : 'red',\n",
    "                        8 : 'blue'},\n",
    "                      'color')\n",
    "\n",
    "node_color=[x[0] for x in nx.get_node_attributes(test, 'color').values()]\n",
    "\n",
    "nx.draw_circular(test, with_labels=True,node_color=node_color)"
   ]
  },
  {
   "cell_type": "markdown",
   "metadata": {},
   "source": [
    "See the help page for [`set_node_attributes`](https://networkx.github.io/documentation/networkx-1.9/reference/generated/networkx.classes.function.set_node_attributes.html) for more information on working with attributes."
   ]
  },
  {
   "cell_type": "markdown",
   "metadata": {},
   "source": [
    "You can check the matrix of $e_{ij}$ values by using the function `nx.attribute_mixing_matrix`:"
   ]
  },
  {
   "cell_type": "code",
   "execution_count": null,
   "metadata": {
    "collapsed": false
   },
   "outputs": [],
   "source": [
    "nx.attribute_mixing_matrix(test, 'color')"
   ]
  },
  {
   "cell_type": "markdown",
   "metadata": {},
   "source": [
    "Note that, by default, the order of the columns of the mixing matrix is not specified. If you want to be able to interpret the columns, you can pass in a dictionary that maps the different attributes to column numbers like we do below:"
   ]
  },
  {
   "cell_type": "code",
   "execution_count": null,
   "metadata": {
    "collapsed": false
   },
   "outputs": [],
   "source": [
    "nx.attribute_mixing_matrix(test, 'color', mapping = {'red' : 1, 'blue' : 0})"
   ]
  },
  {
   "cell_type": "markdown",
   "metadata": {},
   "source": [
    "We can calculate the value of the assortativity coefficient using the `nx.attribute_assortativity_coefficient` function:"
   ]
  },
  {
   "cell_type": "code",
   "execution_count": null,
   "metadata": {
    "collapsed": false
   },
   "outputs": [],
   "source": [
    "nx.attribute_assortativity_coefficient(test, 'color')"
   ]
  },
  {
   "cell_type": "markdown",
   "metadata": {},
   "source": [
    "**Practice** Look at the next example network. Does it look more or less homophilous by color than the one above?"
   ]
  },
  {
   "cell_type": "markdown",
   "metadata": {},
   "source": [
    "<img src='example_network_groups2.png'>"
   ]
  },
  {
   "cell_type": "markdown",
   "metadata": {},
   "source": [
    "**Hand-writing Question** Calculate the assortativity coefficient for this network by filling in the missing quantities below:"
   ]
  },
  {
   "cell_type": "code",
   "execution_count": null,
   "metadata": {
    "collapsed": true
   },
   "outputs": [],
   "source": [
    "#         degree  group\n",
    "# node 1    ...\n",
    "# node 2   \n",
    "# node 3   \n",
    "# node 4  \n",
    "# node 5    \n",
    "# node 6    \n",
    "# node 7    \n",
    "# node 8   "
   ]
  },
  {
   "cell_type": "code",
   "execution_count": null,
   "metadata": {
    "collapsed": true
   },
   "outputs": [],
   "source": [
    "# STUB COUNTS\n",
    "\n",
    "#       blue  red\n",
    "# blue   ...\n",
    "# red    "
   ]
  },
  {
   "cell_type": "code",
   "execution_count": null,
   "metadata": {
    "collapsed": true
   },
   "outputs": [],
   "source": [
    "# STUB TOTALS\n",
    "\n",
    "#       total degree  a_i\n",
    "# blue    ...\n",
    "# red    "
   ]
  },
  {
   "cell_type": "code",
   "execution_count": null,
   "metadata": {
    "collapsed": true
   },
   "outputs": [],
   "source": [
    "# e_ij MATRIX\n",
    "\n",
    "#       blue  red\n",
    "# blue  ...\n",
    "# red   "
   ]
  },
  {
   "cell_type": "markdown",
   "metadata": {},
   "source": [
    "**Hand-writing Question** Calculate the *assortativity coefficient* of this network."
   ]
  },
  {
   "cell_type": "code",
   "execution_count": null,
   "metadata": {
    "collapsed": true
   },
   "outputs": [],
   "source": [
    "q2 = ...\n",
    "q2"
   ]
  },
  {
   "cell_type": "code",
   "execution_count": null,
   "metadata": {
    "collapsed": true
   },
   "outputs": [],
   "source": [
    "_ = lab3.grade('q2')"
   ]
  },
  {
   "cell_type": "markdown",
   "metadata": {},
   "source": [
    "**Question** Now check your answer using the `networkx` package. Build a networkx graph called `test2` first, and then assign the color attributes to the nodes, and finally use the functions to calculate the assortativity coefficient."
   ]
  },
  {
   "cell_type": "code",
   "execution_count": null,
   "metadata": {
    "collapsed": true
   },
   "outputs": [],
   "source": [
    "# Create test2 network graph\n",
    "test2 = ..."
   ]
  },
  {
   "cell_type": "code",
   "execution_count": null,
   "metadata": {
    "collapsed": true
   },
   "outputs": [],
   "source": [
    "# Assign the attribute to the network\n",
    "nx.set_node_attributes(test2,\n",
    "                       ...)"
   ]
  },
  {
   "cell_type": "code",
   "execution_count": null,
   "metadata": {
    "collapsed": true
   },
   "outputs": [],
   "source": [
    "# Get the assortativity coefficient\n",
    "q3 = ...\n",
    "q3"
   ]
  },
  {
   "cell_type": "code",
   "execution_count": null,
   "metadata": {
    "collapsed": true
   },
   "outputs": [],
   "source": [
    "_ = lab3.grade('q3')"
   ]
  },
  {
   "cell_type": "markdown",
   "metadata": {},
   "source": [
    "### Reading Add Health attributes"
   ]
  },
  {
   "cell_type": "markdown",
   "metadata": {},
   "source": [
    "Recall that the Add Health dataset we have been working with stores information about network connections in an edge list.  The Add Health dataset also has information about the nodes; it has their grade, their gender, and their race/ethnicity. The code below will read all of this information in for you.\n",
    "\n",
    "There are some problems with two of the Add Health networks' node data, so we'll leave those two out. Our set of Add Health networks is thus 82 nodes instead of 84 for today."
   ]
  },
  {
   "cell_type": "code",
   "execution_count": null,
   "metadata": {
    "collapsed": true
   },
   "outputs": [],
   "source": [
    "data_path = \"../../data/add-health\"\n",
    "\n",
    "def read_add_health_edges(network_id, path=data_path):\n",
    "    \"\"\"\n",
    "    network_id : integer from 1 to 84\n",
    "    \n",
    "    read in the Add Health network corresponding to the given id number and\n",
    "    return it as an undirected networkx object\n",
    "    \"\"\"\n",
    "\n",
    "    # this file was downloaded from\n",
    "    # http://moreno.ss.uci.edu/data.html#adhealth\n",
    "    edge_file = os.path.join(path, \"comm\" + str(network_id) + \".dat\")\n",
    "    with open(edge_file, 'r') as f:\n",
    "        edge_lines = f.readlines()\n",
    "        \n",
    "    network = nx.parse_edgelist(edge_lines, nodetype=int, data=[('activity_level', float)])\n",
    "    \n",
    "    # note that we call the to_undirected method to ensure we get an undirected network\n",
    "    return(network.to_undirected())\n",
    "\n",
    "def read_add_health_attributes_oneperrow(network_id, net, path=data_path):\n",
    "    \"\"\"\n",
    "    Read in an Add Health attributes file that has one attribute per row\n",
    "    \"\"\"\n",
    "    att_file = os.path.join(path, \"comm\" + str(network_id) + \"_att.dat\")\n",
    "    with open(att_file, 'r') as f:\n",
    "        att_lines = f.readlines()\n",
    "    \n",
    "    # the first 8 lines are meta-info and not actual data\n",
    "    att_lines = att_lines[8:]\n",
    "    \n",
    "    node_races = {}\n",
    "    node_grades = {}\n",
    "    node_sexes = {}\n",
    "\n",
    "    for cur_id in net.nodes():\n",
    "        \n",
    "        print(\"starting node \", cur_id)\n",
    "        \n",
    "        # the attributes are stored one per line for each node in sequence (race / sex / grade)\n",
    "        # so line 0 is node 1's race, line 2 is node 1's sex, line 3 is node 1's grade, line 4 is node 2's race, etc\n",
    "        start_idx = (cur_id-1) * 3\n",
    "        this_race = str.split(g_att[start_idx])[2]\n",
    "        this_sex = str.split(g_att[start_idx+1])[2]\n",
    "        this_grade = str.split(g_att[start_idx+2])[2]\n",
    "    \n",
    "        node_races[cur_id] = this_race\n",
    "        node_grades[cur_id] = this_grade\n",
    "        node_sexes[cur_id] = this_sex\n",
    "    \n",
    "    nx.set_node_attributes(net, 'race', node_races)\n",
    "    nx.set_node_attributes(net, 'grade', node_grades)\n",
    "    nx.set_node_attributes(net, 'sex', node_sexes)\n",
    "    \n",
    "    return(net)\n",
    "\n",
    "def read_add_health_attributes(network_id, net, path=data_path):\n",
    "    \"\"\"\n",
    "    Read in an Add Health attributes file that has one row per node\n",
    "    \"\"\"\n",
    "    \n",
    "    # open up the attributes datafile\n",
    "    att_file = os.path.join(path, \"comm\" + str(network_id) + \"_att.dat\")\n",
    "    with open(att_file, 'r') as f:\n",
    "        att_lines = f.readlines()\n",
    "        \n",
    "    # the first several lines are meta-info and not actual data;\n",
    "    # the data start once we see \"DATA:\\n\"\n",
    "    header_start = att_lines.index(\"COLUMN LABELS:\\n\") + 1\n",
    "    header_end = att_lines.index(\"DATA:\\n\")\n",
    "    data_start = header_end + 1\n",
    "    \n",
    "    # build up a list that maps column index to column name\n",
    "    col_defs = []\n",
    "    # build up a dict that has the data for each variable\n",
    "    col_data = {}\n",
    "    \n",
    "    for colindex, lineidx in enumerate(range(header_start, header_end)):\n",
    "        # strip off the newline and the starting/ending quotes of the column name\n",
    "        this_name = (str.strip(att_lines[lineidx])[1:-1]).lower()\n",
    "        col_defs.append(this_name)\n",
    "        # initialize the data for this column to empty dict\n",
    "        col_data[this_name] = {}  \n",
    "    \n",
    "    att_lines = att_lines[data_start:]\n",
    "    \n",
    "    # for each row (corresponding to one node's data)\n",
    "    # split the columns up and stick them into the appropriate\n",
    "    # dict, with node id as key and attribute value as value\n",
    "    for cur_id in net.nodes():\n",
    "        #print('starting node ', cur_id)\n",
    "        these_data = str.split(att_lines[cur_id - 1])\n",
    "        \n",
    "        for colidx, dat in enumerate(these_data):\n",
    "            col_data[col_defs[colidx]][cur_id] = dat\n",
    "\n",
    "    # take the data and assign it to the nodes in the graph object\n",
    "    for var in col_defs:\n",
    "        nx.set_node_attributes(net,  col_data[var],var)\n",
    "    \n",
    "    return(net)\n",
    "\n",
    "def read_add_health_network(network_id):\n",
    "    \n",
    "    this_net = read_add_health_edges(network_id)\n",
    "    #this_net = read_add_health_attributes(network_id, this_net)\n",
    "    this_net = read_add_health_attributes(network_id, this_net)\n",
    "    \n",
    "    return(this_net)"
   ]
  },
  {
   "cell_type": "markdown",
   "metadata": {},
   "source": [
    "Having loaded those functions, we can use the `read_add_health_network` function to load the datasets into memory:"
   ]
  },
  {
   "cell_type": "code",
   "execution_count": null,
   "metadata": {
    "collapsed": true
   },
   "outputs": [],
   "source": [
    "# EXCEPTIONS: networks 1 and 48 have formatting problems, so we'll omit them today\n",
    "# this will take a few secs\n",
    "\n",
    "add_health_ids = [x for x in range(2, 85) if x != 48]\n",
    "add_health_networks = [read_add_health_network(x) for x in add_health_ids]"
   ]
  },
  {
   "cell_type": "markdown",
   "metadata": {},
   "source": [
    "### Exploring network attributes"
   ]
  },
  {
   "cell_type": "markdown",
   "metadata": {},
   "source": [
    "We'll start by looking at the fraction of students in one school that is male."
   ]
  },
  {
   "cell_type": "markdown",
   "metadata": {},
   "source": [
    "Looking at the [dataset information](http://moreno.ss.uci.edu/data.html#adhealth), you can see that the Add Health sex variable has the values 1=male, 2=female, and 0=unreported."
   ]
  },
  {
   "cell_type": "markdown",
   "metadata": {},
   "source": [
    "**Practice** Use the `get_node_attributes` function to grab the sexes of the students in the first school by filling in the code below."
   ]
  },
  {
   "cell_type": "code",
   "execution_count": null,
   "metadata": {
    "collapsed": false,
    "scrolled": true
   },
   "outputs": [],
   "source": [
    "net = add_health_networks[0]\n",
    "sexes = nx.get_node_attributes(net, 'sex')\n",
    "sexes"
   ]
  },
  {
   "cell_type": "markdown",
   "metadata": {},
   "source": [
    "It turns out that the `get_node_attributes` function returns a dictionary, but we will find it easier to work with `numpy` arrays. To convert the dictionary values into an array, use the following code:"
   ]
  },
  {
   "cell_type": "code",
   "execution_count": null,
   "metadata": {
    "collapsed": true
   },
   "outputs": [],
   "source": [
    "sexes_array = np.array(list(sexes.values()))"
   ]
  },
  {
   "cell_type": "markdown",
   "metadata": {},
   "source": [
    "**Question** Calculate the proportion of students in the first school that is male.\n",
    "*Hint: you can go back to lab 1 and check how to calculate proportions."
   ]
  },
  {
   "cell_type": "code",
   "execution_count": null,
   "metadata": {
    "collapsed": true
   },
   "outputs": [],
   "source": [
    "q4 = ..."
   ]
  },
  {
   "cell_type": "code",
   "execution_count": null,
   "metadata": {
    "collapsed": true
   },
   "outputs": [],
   "source": [
    "_ = lab3.grade('q4')"
   ]
  },
  {
   "cell_type": "markdown",
   "metadata": {},
   "source": [
    "**Practice** Now write a loop that calculates the fraction of students that is male in each of the Add Health schools. Store your results in an array called `add_health_frac_male`."
   ]
  },
  {
   "cell_type": "code",
   "execution_count": null,
   "metadata": {
    "collapsed": false
   },
   "outputs": [],
   "source": [
    "# Like we did in lab2, create an empty array first.\n",
    "add_health_frac_male = make_array()\n",
    "\n",
    "# Then we calculate the fractions and use the for loop to accumulate the records for each network.\n",
    "for net in add_health_networks:\n",
    "    sexes = nx.get_node_attributes(net, 'sex').values()\n",
    "    sexes = np.array(list(sexes))\n",
    "    net_male_frac = np.mean(sexes == '1')\n",
    "    add_health_frac_male = np.append(add_health_frac_male, net_male_frac)\n",
    "    \n",
    "add_health_frac_male"
   ]
  },
  {
   "cell_type": "markdown",
   "metadata": {},
   "source": [
    "**Practice** Make a histogram that shows the distribution of the fraction male across the schools in the sample."
   ]
  },
  {
   "cell_type": "code",
   "execution_count": null,
   "metadata": {
    "collapsed": false
   },
   "outputs": [],
   "source": [
    "Table().with_column('frac_male', add_health_frac_male).hist()"
   ]
  },
  {
   "cell_type": "markdown",
   "metadata": {},
   "source": [
    "**Question** Following the pattern you used to calculate the fraction male in each community, write another loop that calculates the assortativity coefficient for sex in each community. Store your results in an array called `add_health_r`."
   ]
  },
  {
   "cell_type": "code",
   "execution_count": null,
   "metadata": {
    "collapsed": true
   },
   "outputs": [],
   "source": [
    "add_health_r = ...\n",
    "\n",
    "for net in add_health_networks:\n",
    "    net_r = ...\n",
    "    ...\n",
    "    \n",
    "add_health_r"
   ]
  },
  {
   "cell_type": "markdown",
   "metadata": {},
   "source": [
    "**Practice** Plot a histogram of the assortativity coefficients across the Add Health networks."
   ]
  },
  {
   "cell_type": "code",
   "execution_count": null,
   "metadata": {
    "collapsed": false
   },
   "outputs": [],
   "source": [
    "Table().with_columns('r', add_health_r).hist()"
   ]
  },
  {
   "cell_type": "markdown",
   "metadata": {},
   "source": [
    "### Generating random networks with random sexes"
   ]
  },
  {
   "cell_type": "markdown",
   "metadata": {},
   "source": [
    "This histogram of assortativity coefficients you just made shows the values that assortativity takes on across all of the different school networks. It seems to suggest that, across all of these networks, the assortativity coefficient for sex tends to be positive.\n",
    "\n",
    "Now let's take a deeper dive, focusin on a specific Add Health network:"
   ]
  },
  {
   "cell_type": "code",
   "execution_count": null,
   "metadata": {
    "collapsed": true
   },
   "outputs": [],
   "source": [
    "first_add_health = add_health_networks[0]"
   ]
  },
  {
   "cell_type": "markdown",
   "metadata": {},
   "source": [
    "We'll now go through an analysis to try to assess more rigorously whether or not there is evidence for homophily by sex in this network."
   ]
  },
  {
   "cell_type": "markdown",
   "metadata": {},
   "source": [
    "**Question** Calculate the assortativity coefficient for sex in `first_add_health`."
   ]
  },
  {
   "cell_type": "code",
   "execution_count": null,
   "metadata": {
    "collapsed": true
   },
   "outputs": [],
   "source": [
    "q5 = ...\n",
    "q5"
   ]
  },
  {
   "cell_type": "code",
   "execution_count": null,
   "metadata": {
    "collapsed": true
   },
   "outputs": [],
   "source": [
    "_ = lab3.grade('q5')"
   ]
  },
  {
   "cell_type": "markdown",
   "metadata": {},
   "source": [
    "We're interested in understanding whether or not there is homophily according to sex in this specific network. The assortativity coefficient is positive, which suggests that there is evidence in favor of homophily. However, we're in a similar situation to the example we saw in lecture: it seems possible that, actually, there is no homophily by sex in this network; rather, the network is assembled as the result of a random process and, just by chance, we happened to get a network that had a positive assortativity coefficient.\n",
    "\n",
    "To assess how likely this possibility is, we will set up a *null model* and to compare what we see in the real world to what we would see if the null model were true. Remember that a null model describes the world in the absence of the phenomenon we are interested in; here, it describes a world in which networks are formed without any homophily by sex. The first_add_health network would be the observed network."
   ]
  },
  {
   "cell_type": "markdown",
   "metadata": {},
   "source": [
    "For this null model, we will assume that the network structure is fixed, but that the gender of each node is randomly assigned. (Another way of saying this is that we *condition on* the observed network structure.)\n",
    "\n",
    "We'd like to know what the distribution of assortativity coefficients would look like under this null model. Then we can see how likely (or unlikely) the observed assortativity coefficient would be if the null model were true."
   ]
  },
  {
   "cell_type": "code",
   "execution_count": null,
   "metadata": {
    "collapsed": true
   },
   "outputs": [],
   "source": [
    "import random\n",
    "\n",
    "def shuffle_attribute(net, att): # the two inputs are: the network, and the attribute we work with\n",
    "    att_dict = nx.get_node_attributes(net, att) # get the dictionary of the network\n",
    "    \n",
    "    # we want a new copy of the network (we don't want to clobber the original one)\n",
    "    newnet = net.copy()\n",
    "    \n",
    "    # create a dictionary mapping node id to shuffled attribute values\n",
    "    node_ids = att_dict.keys()\n",
    "    att_vals = list(att_dict.values())\n",
    "    random.shuffle(att_vals)\n",
    "    \n",
    "    new_att = dict(zip(node_ids, att_vals)) # create the new dictionary\n",
    "    \n",
    "    # assign the newly shuffled attribute values\n",
    "    nx.set_node_attributes(newnet, name=att, values=new_att)\n",
    "    \n",
    "    return(newnet)"
   ]
  },
  {
   "cell_type": "code",
   "execution_count": null,
   "metadata": {
    "collapsed": false
   },
   "outputs": [],
   "source": [
    "### If you have trouble understanding the function above, you could run the following codes and see what they do\n",
    "# dictionary = nx.get_node_attributes(test2, 'color')\n",
    "# dictionary"
   ]
  },
  {
   "cell_type": "code",
   "execution_count": null,
   "metadata": {
    "collapsed": false
   },
   "outputs": [],
   "source": [
    "# dictionary.keys()"
   ]
  },
  {
   "cell_type": "code",
   "execution_count": null,
   "metadata": {
    "collapsed": false
   },
   "outputs": [],
   "source": [
    "# list(dictionary.values())"
   ]
  },
  {
   "cell_type": "markdown",
   "metadata": {},
   "source": [
    "If you run the following cell a few times, you should see that the sex value is getting shuffled"
   ]
  },
  {
   "cell_type": "code",
   "execution_count": null,
   "metadata": {
    "collapsed": false
   },
   "outputs": [],
   "source": [
    "test = shuffle_attribute(first_add_health, 'sex')\n",
    "test.nodes[1]['sex']"
   ]
  },
  {
   "cell_type": "markdown",
   "metadata": {},
   "source": [
    "**Question** Fill in the code below to reshuffle sex in the `first_add_health` network 1000 times. Record the assortativity coefficient for each reshuffled network."
   ]
  },
  {
   "cell_type": "code",
   "execution_count": null,
   "metadata": {
    "collapsed": true
   },
   "outputs": [],
   "source": [
    "first_add_health = ... # use the correct index\n",
    "\n",
    "# create an empty array for the null network\n",
    "...\n",
    "\n",
    "for _ in range(1000):\n",
    "    cur_net = ... # shuffle the sex for the current network\n",
    "    null_network_r = ... # record the coefficient of the shuffled current network by appending it to the array\n"
   ]
  },
  {
   "cell_type": "markdown",
   "metadata": {},
   "source": [
    "**Practice** Make a histogram of the `er_network_r` values. What value is the assortativity coefficient centered on?"
   ]
  },
  {
   "cell_type": "code",
   "execution_count": null,
   "metadata": {
    "collapsed": false
   },
   "outputs": [],
   "source": [
    "Table().with_column('null_network_r', null_network_r).hist()"
   ]
  },
  {
   "cell_type": "markdown",
   "metadata": {},
   "source": [
    "**Question** Now calculate the assortativity coefficient for the observed network (the first Add Health network) that you based the random networks on. Call this `observed_r`."
   ]
  },
  {
   "cell_type": "code",
   "execution_count": null,
   "metadata": {
    "collapsed": false
   },
   "outputs": [],
   "source": [
    "observed_r = ...\n",
    "observed_r"
   ]
  },
  {
   "cell_type": "code",
   "execution_count": null,
   "metadata": {
    "collapsed": true
   },
   "outputs": [],
   "source": [
    "_ = lab3.grade('q6')"
   ]
  },
  {
   "cell_type": "markdown",
   "metadata": {},
   "source": [
    "**Question** Where in the null distribution does the observed value fall? What does this suggest about how likely the observed value is to have been generated from the null model?"
   ]
  },
  {
   "cell_type": "markdown",
   "metadata": {},
   "source": [
    "<div class='response'>\n",
    "[Answer here]\n",
    "</div>"
   ]
  },
  {
   "cell_type": "markdown",
   "metadata": {},
   "source": [
    "**Question** We're going to use these random networks as the null model for a hypothesis test. In words, describe what our null model says about the world (the network).<BR>\n",
    "*[Hint: you can look at the [Data 8 lecture slides](http://data8.org/fa16/lectures/lec19.pdf) if you don't remember what the null model is.]*"
   ]
  },
  {
   "cell_type": "markdown",
   "metadata": {},
   "source": [
    "<div class='response'>\n",
    "[Answer here]\n",
    "</div>"
   ]
  },
  {
   "cell_type": "markdown",
   "metadata": {},
   "source": [
    "**Question** Now, in words, describe what the alternative (observed) model says about the world (the network)."
   ]
  },
  {
   "cell_type": "markdown",
   "metadata": {},
   "source": [
    "<div class='response'>\n",
    "[Answer here]\n",
    "</div>"
   ]
  },
  {
   "cell_type": "markdown",
   "metadata": {},
   "source": [
    "**Practice** Now calculate an empirical $p$ value based on your null and alternative hypotheses."
   ]
  },
  {
   "cell_type": "code",
   "execution_count": null,
   "metadata": {
    "collapsed": false
   },
   "outputs": [],
   "source": [
    "emp_p_value = np.mean(null_network_r >= observed_r)\n",
    "emp_p_value"
   ]
  },
  {
   "cell_type": "markdown",
   "metadata": {},
   "source": [
    "**Question** What do you conclude about homophily by sex in this network?"
   ]
  },
  {
   "cell_type": "code",
   "execution_count": null,
   "metadata": {
    "collapsed": true
   },
   "outputs": [],
   "source": [
    "<div class='response'>\n",
    "[Answer here]\n",
    "</div>"
   ]
  },
  {
   "cell_type": "markdown",
   "metadata": {},
   "source": [
    "### Optional footnote\n",
    "\n",
    "To see why the simple null model we discussed in lecture implies that the average degree of girls and boys is the same, let's start by recalling that the average degree among girls can be written as\n",
    "\n",
    "$$\n",
    "\\text{avg. degree among girls} = \\frac{\\text{sum of girls' degrees}}{\\text{number of girls}}\n",
    "$$\n",
    "\n",
    "and a similar expression holds for the average degree among boys.\n",
    "\n",
    "Now let's think about how much each of the three types of edges (b-b, b-g, and g-g) will add to the total degrees:\n",
    "\n",
    "| edge type | probability | added to boys' total degree | added to girls' total degree |\n",
    "|-----------|-------------| -----------------|---------------------------|\n",
    "| b-b | $p^2$ |  2 | 0 |\n",
    "| b-g | $2pq$ | 1 | 1 |\n",
    "| g-g | $q^2$  | 0 | 2 |\n",
    "\n",
    "Using the table above, we can determine the expected total degree of girls under this model: if we draw $k$ degrees in total, then we expect $q^2 k$ g-g edges and $2pq k$ g-b edges. So we have\n",
    "\n",
    "$$\n",
    "\\text{expected total girls' degree} = 2 q^2 k + 2pqk = 2qk(q + p) = 2qk.\n",
    "$$\n",
    "\n",
    "The last step follows because $q = 1-p$, so that $q+p = 1$.\n",
    "To calculate, the average degree among girls, we need to divide this total degree by the number of girls. If there are $N$ people in the population, then we expect $Nq$ to be girls (since $q$ is the proportion of the population that is girls). So this means\n",
    "\n",
    "$$\n",
    "\\text{expected avg. degree among girls} = \\frac{2qk}{Nq} = \\frac{2k}{N}.\n",
    "$$\n",
    "\n",
    "\n",
    "Using the same logic, we can determine that \n",
    "\n",
    "$$\n",
    "\\text{expected total boys' degree} = 2 p^2 k + 2pqk = 2pk(q + p) = 2pk.\n",
    "$$\n",
    "\n",
    "and so\n",
    "\n",
    "$$\n",
    "\\text{expected avg. degree among boys} = \\frac{2pk}{Np} = \\frac{2k}{N}.\n",
    "$$\n",
    "\n",
    "This is the same as the expected average degree among girls.\n"
   ]
  },
  {
   "cell_type": "markdown",
   "metadata": {},
   "source": [
    "### Rerun the tests and submit your lab"
   ]
  },
  {
   "cell_type": "code",
   "execution_count": null,
   "metadata": {
    "collapsed": true
   },
   "outputs": [],
   "source": [
    "import os\n",
    "print(\"Running all tests...\")\n",
    "_ = [lab3.grade(q[:-3]) for q in os.listdir(\"tests\") if q.startswith('q')]\n",
    "print(\"Finished running all tests.\")"
   ]
  },
  {
   "cell_type": "code",
   "execution_count": null,
   "metadata": {
    "collapsed": true
   },
   "outputs": [],
   "source": [
    "_ = lab3.submit()"
   ]
  }
 ],
 "metadata": {
  "anaconda-cloud": {},
  "kernelspec": {
   "display_name": "Python 3",
   "language": "python",
   "name": "python3"
  },
  "language_info": {
   "codemirror_mode": {
    "name": "ipython",
    "version": 3
   },
   "file_extension": ".py",
   "mimetype": "text/x-python",
   "name": "python",
   "nbconvert_exporter": "python",
   "pygments_lexer": "ipython3",
   "version": "3.6.0"
  }
 },
 "nbformat": 4,
 "nbformat_minor": 1
}
