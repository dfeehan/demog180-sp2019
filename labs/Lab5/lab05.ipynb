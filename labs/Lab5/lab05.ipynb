{
 "cells": [
  {
   "cell_type": "code",
   "execution_count": null,
   "metadata": {
    "collapsed": true,
    "deletable": false,
    "editable": false
   },
   "outputs": [],
   "source": [
    "# Initialize OK\n",
    "from client.api.notebook import Notebook\n",
    "ok = Notebook('Lab05.ok')"
   ]
  },
  {
   "cell_type": "code",
   "execution_count": null,
   "metadata": {
    "collapsed": true
   },
   "outputs": [],
   "source": [
    "!pip install jassign"
   ]
  },
  {
   "cell_type": "code",
   "execution_count": 1,
   "metadata": {
    "collapsed": true
   },
   "outputs": [],
   "source": [
    "from IPython.core.display import HTML\n",
    "from datascience import *\n",
    "\n",
    "import jassign\n",
    "import matplotlib\n",
    "from matplotlib import animation as animation\n",
    "matplotlib.use('Agg')\n",
    "%matplotlib inline\n",
    "import matplotlib.pyplot as plt\n",
    "import numpy as np\n",
    "import os\n",
    "plt.style.use('fivethirtyeight')\n",
    "\n",
    "import networkx as nx\n",
    "\n",
    "from ipywidgets import interact, interactive, fixed, interact_manual, widgets"
   ]
  },
  {
   "cell_type": "markdown",
   "metadata": {},
   "source": [
    "# Lab 05: Centrality and network dynamics"
   ]
  },
  {
   "cell_type": "markdown",
   "metadata": {},
   "source": [
    "Today, we're going to talk about two topics. First, we're going to talk about *centrality*. Conceptually, we think of a node as being central when it is in the middle of the network in some way. There are many different ways of defining this concept precisely; we'll look at one example today.\n",
    "\n",
    "Next, we're going to start to explore *dynamics* on networks. By dynamics, we mean processes that take place on the network. These processes can include important phenomena like the spread of information, influence, or a disease from one node to another.\n",
    "\n",
    "We look at these two topics together because we expect that central nodes will play an important role in dynamical processes that take place on networks. "
   ]
  },
  {
   "cell_type": "markdown",
   "metadata": {},
   "source": [
    "### Centrality"
   ]
  },
  {
   "cell_type": "markdown",
   "metadata": {},
   "source": [
    "So far, we have thought mostly about network structure and how it might result from various social processes like homophily or triadic closure. Today, we're going to change our focus to how stuff--such as information, resources, or diseases--can spread across networks.\n",
    "\n",
    "First, we're going to investigate a network metric called *betweenness centrality* which gets at the concept of how important a node is in how things spread across networks."
   ]
  },
  {
   "cell_type": "markdown",
   "metadata": {},
   "source": [
    "The betweenness centrality of a node $v$ is defined as the fraction of all shortest paths between all pairs of nodes in the network that pass through $v$.\n",
    "\n",
    "Mathematically, this [can be written](https://en.wikipedia.org/wiki/Betweenness_centrality)\n",
    "\n",
    "$$bc(v) = \\sum_{s, t \\in V} \\frac{\\sigma(s, t | v)}{\\sigma(s, t)},$$\n",
    "\n",
    "where \n",
    "\n",
    "* $bc(v)$ is the betweenness centrality of node $v$\n",
    "* $\\sigma(s,t)$ is the number of shortest paths between node $s$ and node $t$ (note that there can be more than one) \n",
    "* $\\sigma(s, t | v)$ is the number of the shortest paths between node $s$ and node $t$ that goes through $v$\n",
    "\n",
    "Note that the $s$ and $t$ vary over all pairs of nodes *not counting* the node $v$ whose betweenness is being calculated."
   ]
  },
  {
   "cell_type": "markdown",
   "metadata": {},
   "source": [
    "<img src=\"example_network.png\">"
   ]
  },
  {
   "cell_type": "markdown",
   "metadata": {},
   "source": [
    "Betweenness of node 3:\n",
    "\n",
    "1 <-> 2 contributes 1<br>\n",
    "1 <-> 4 contributes 1<br>\n",
    "2 <-> 4 contributes 1<br>\n",
    "\n",
    "All other pairs contribute 0.\n",
    "\n",
    "So, betweenness centrality for node 3 is equal to 3.\n"
   ]
  },
  {
   "cell_type": "markdown",
   "metadata": {},
   "source": [
    "### A simple model"
   ]
  },
  {
   "cell_type": "markdown",
   "metadata": {},
   "source": [
    "A simple but very useful model for the spread of an infectious disease is called the SIR model. SIR stands for the three different states that each person in the population can be in:\n",
    "\n",
    "* Susceptible\n",
    "* Infected\n",
    "* Recovered / Removed\n",
    "\n",
    "The idea is that people can only move through the states according to the diagram below: that is, susceptible people can become infected and, once infected, people recover. Once they have recovered, they cannot be infected again, so they are immune.\n",
    "\n",
    "We'll work with one main parameter in our exploration here:\n",
    "\n",
    "* $\\beta$ (beta) - probability of a susceptible node getting infected due to a connection to an infected neighbor\n",
    "\n",
    "Note that beta is defined as the probability a node is infected due to contact with one *infected neighbor*. If a node has several infected neighbors, the total probability that the node will get infected increases."
   ]
  },
  {
   "cell_type": "markdown",
   "metadata": {},
   "source": [
    "<img src='sir_diagram.png'>"
   ]
  },
  {
   "cell_type": "markdown",
   "metadata": {},
   "source": [
    "### Simulating an SIR epidemic"
   ]
  },
  {
   "cell_type": "code",
   "execution_count": null,
   "metadata": {
    "collapsed": true
   },
   "outputs": [],
   "source": [
    "# Rough outline:\n",
    "#\n",
    "# randomly pick a starting node to infect\n",
    "#\n",
    "# while any infected\n",
    "#    get neighbors of infected\n",
    "#    set infected to recovered\n",
    "#    neighbors become infected with prob beta * # infected contacts\n",
    "#    record how many were infected"
   ]
  },
  {
   "cell_type": "code",
   "execution_count": 2,
   "metadata": {
    "collapsed": true
   },
   "outputs": [],
   "source": [
    "def set_status(net, ids, value):\n",
    "    \"\"\"\n",
    "    set the value of the 'status' attribute for the nodes with the given ids\n",
    "    in the given network\n",
    "    \"\"\"\n",
    "    nx.set_node_attributes(net, \n",
    "                           name = 'status', \n",
    "                           values = dict([x for x in zip(ids, [value]*len(ids))])) # this creates the attribute dictionary \n",
    "\n",
    "def get_status(net, ids):\n",
    "    \"\"\"\n",
    "    get the value of the 'status' attributes for the nodes \n",
    "    with given ids in the given network\n",
    "    \"\"\"\n",
    "    dat = nx.get_node_attributes(net, 'status')\n",
    "    return([dat[x] for x in ids]) \n",
    "\n",
    "def count_infected_nodes(net):\n",
    "    return(np.sum(np.array(list(nx.get_node_attributes(net, 'status').values())) == 'infected')) # count how many nodes have the attribute as \"infected\""
   ]
  },
  {
   "cell_type": "code",
   "execution_count": 3,
   "metadata": {
    "collapsed": true
   },
   "outputs": [],
   "source": [
    "def sim_epidemic(net, start_nodes=None, innoculated_nodes=None, beta=0.3, draw=False):\n",
    "    \n",
    "    # all nodes start susceptible\n",
    "    set_status(net, net.nodes(), 'susceptible')\n",
    "\n",
    "    # innoculated nodes start as recovered\n",
    "    # the default setting for this input is None\n",
    "    if innoculated_nodes is not None:\n",
    "        set_status(net, innoculated_nodes, 'innoculated') # if innoculated_nodes is not set to none, set it as attribute values\n",
    "    else:\n",
    "        innoculated_nodes = []\n",
    "\n",
    "    eligible_to_start = [x for x in net.nodes() if x not in innoculated_nodes]   # the dynamics will start with the ones that are not innoculated\n",
    "        \n",
    "    # if no start_nodes specified, pick one node at random as the seed\n",
    "    if start_nodes is None:\n",
    "        infected_nodes = np.random.choice(eligible_to_start, 1)\n",
    "    else:\n",
    "        infected_nodes = start_nodes\n",
    "\n",
    "    \n",
    "    set_status(net, infected_nodes, 'infected')\n",
    "\n",
    "    incidence = [len(infected_nodes)] # to record the infection incidences\n",
    "    \n",
    "    if draw:\n",
    "        status_cmap = {'susceptible' : '#00FF00', 'infected' : '#FF0000', 'recovered' : '#000000', 'innoculated' : '#0000FF'}\n",
    "        status_cmap = {'susceptible' : 'green', 'infected' : 'red', 'recovered' : 'yellow', 'innoculated' : 'black'}\n",
    "        pos = nx.random_layout(net)\n",
    "        \n",
    "        #fig_nums = []\n",
    "\n",
    "    while count_infected_nodes(net) > 0: # this loop will go on as long as the number of infected nodes is > 0\n",
    "\n",
    "        if draw:\n",
    "            next_fig, next_ax = plt.subplots() \n",
    "            plt.figure(nx.draw(net, \n",
    "                               pos=pos,\n",
    "                               cmap=status_cmap, \n",
    "                               node_color=[status_cmap[net.node[node]['status']] for node in net]));\n",
    "            #nx.draw(net, \n",
    "            #                   pos=pos,\n",
    "            #                   cmap=status_cmap, \n",
    "            #                   node_color=[status_cmap[net.node[node]['status']] for node in net],\n",
    "            #                   ax=next_ax)\n",
    "            #fig_nums.append(plt.gcf().number)\n",
    "        \n",
    "        ## get neighbors of infected nodes\n",
    "        neighbors = [net.neighbors(x) for x in infected_nodes]\n",
    "\n",
    "        # see http://stackoverflow.com/questions/952914/making-a-flat-list-out-of-list-of-lists-in-python\n",
    "        neighbors = [item for sublist in neighbors for item in sublist]        \n",
    "        neighbors_status = np.array(get_status(net, neighbors))\n",
    "\n",
    "        ## set infected nodes to recovered\n",
    "        set_status(net, infected_nodes, 'recovered')\n",
    "\n",
    "        ## infect susceptible neighbors with probability beta x number of infected contacts\n",
    "        ## (a node with more than one infected contact will have more than one draws at being infected here)\n",
    "        neighbors = [x[0] for x in zip(neighbors, neighbors_status) if x[1] == 'susceptible']\n",
    "        infect_draws = np.random.random_sample(len(neighbors))\n",
    "        #print(infect_draws)\n",
    "        to_infect = list(np.array(neighbors)[np.where(infect_draws < beta)])\n",
    "\n",
    "        num_infected_this_round = len(set(to_infect))\n",
    "        \n",
    "        set_status(net, to_infect, 'infected')\n",
    "        infected_nodes = to_infect\n",
    "\n",
    "        ## record number infected this round (also called incidence at this time step)\n",
    "        incidence.append(num_infected_this_round)\n",
    "    \n",
    "    return incidence # finally, the function will return an array of number that records how many nodes are infected each round"
   ]
  },
  {
   "cell_type": "markdown",
   "metadata": {},
   "source": [
    "### SIR model: illustration"
   ]
  },
  {
   "cell_type": "markdown",
   "metadata": {},
   "source": [
    "The code above takes a given network and simulates an SIR epidemic on it. It returns a list that has the *incidence* -- that is, the number of new infections -- at each time step. By adding these values up, we can tell how many people ended up being infected by the outbreak."
   ]
  },
  {
   "cell_type": "code",
   "execution_count": 4,
   "metadata": {
    "collapsed": true
   },
   "outputs": [],
   "source": [
    "np.random.seed(seed=101)\n",
    "er_net_example = nx.erdos_renyi_graph(n=20, p=.2)"
   ]
  },
  {
   "cell_type": "code",
   "execution_count": null,
   "metadata": {
    "collapsed": false
   },
   "outputs": [],
   "source": [
    "nx.draw(er_net_example)"
   ]
  },
  {
   "cell_type": "code",
   "execution_count": 5,
   "metadata": {
    "collapsed": false
   },
   "outputs": [],
   "source": [
    "np.random.seed(seed=100)\n",
    "res = sim_epidemic(er_net_example, beta=.3, draw=True)\n",
    "res"
   ]
  },
  {
   "cell_type": "markdown",
   "metadata": {},
   "source": [
    "### SIR model in Erdos-Renyi random networks"
   ]
  },
  {
   "cell_type": "markdown",
   "metadata": {},
   "source": [
    "The SIR model is *stochastic*, meaning that it involves randomness: every time you simulate the course of an epidemic using an SIR model, you can get different outcomes. (We saw something similar when we looked at how to generate random networks using the ER model.)\n",
    "\n",
    "We'll start studying the SIR model by running it repeatedly on the same network and looking at how much variation there is in the resulting epidemic."
   ]
  },
  {
   "cell_type": "markdown",
   "metadata": {},
   "source": [
    "We will first run the SIR model once on the network `er_net_example` and calculate how many people get infected in total."
   ]
  },
  {
   "cell_type": "code",
   "execution_count": 6,
   "metadata": {
    "collapsed": false
   },
   "outputs": [],
   "source": [
    "total_infected = np.sum(sim_epidemic(er_net_example, beta=.3))\n",
    "total_infected"
   ]
  },
  {
   "cell_type": "markdown",
   "metadata": {
    "deletable": false,
    "editable": false
   },
   "source": [
    "**Question 1** Write some code that runs 1000 simulated ER epidemics on the network `er_net_example` with beta of 0.3. Make a histogram that shows how much variation there is in the total number of people infected in each simulation. (Recall that we generated `er_net_example` above, using the ER random network model.)\n",
    "\n",
    "<!--\n",
    "BEGIN QUESTION\n",
    "name: q1\n",
    "points: 4\n",
    "manual: True\n",
    "-->\n",
    "<!-- EXPORT TO PDF -->"
   ]
  },
  {
   "cell_type": "code",
   "execution_count": 7,
   "metadata": {
    "collapsed": false
   },
   "outputs": [],
   "source": [
    "num_infected = make_array()\n",
    "for _ in range(1000):\n",
    "    num_infected = np.append(num_infected, ...)\n",
    "Table().with_column('num_infected', ...).hist() # make the table like we used to and add the histogram function to it directly"
   ]
  },
  {
   "cell_type": "markdown",
   "metadata": {
    "deletable": false,
    "editable": false
   },
   "source": [
    "**Question 2** Write a simulation that varies the beta parameter and studies how the number of people infected varies as beta increases from 0.1 to 0.8. Use the network `er_net_example` for your simulations.\n",
    "\n",
    "<!--\n",
    "BEGIN QUESTION\n",
    "name: q2\n",
    "points: 10\n",
    "manual: False\n",
    "-->"
   ]
  },
  {
   "cell_type": "code",
   "execution_count": 8,
   "metadata": {
    "collapsed": false
   },
   "outputs": [],
   "source": [
    "num_infected = make_array()\n",
    "beta_val = make_array()\n",
    "## vary beta across the range 0.1 to 0.8\n",
    "for cur_beta in np.arange(.1, .9, .1):\n",
    "    ## for each value of beta, run 1000 simulated epidemics\n",
    "    for _ in range(1000):\n",
    "        num_infected = ... # very similar to the previous question, but pay attention to the beta value you use\n",
    "        beta_val = np.append(beta_val, ...)   \n",
    "beta_sim_res = Table().with_columns([..., ...,\n",
    "                                     ..., ...]) # create a two-column table: 'beta' column and 'num_infected' column\n",
    "beta_sim_res"
   ]
  },
  {
   "cell_type": "code",
   "execution_count": null,
   "metadata": {
    "collapsed": true,
    "deletable": false,
    "editable": false
   },
   "outputs": [],
   "source": [
    "ok.grade(\"q2\");"
   ]
  },
  {
   "cell_type": "markdown",
   "metadata": {
    "deletable": false,
    "editable": false
   },
   "source": [
    "**Question 3** Now make a scatter plot of the value of beta (x axis) to the average number of people infected across the simulations for each value of beta (y axis).\n",
    "\n",
    "*Hint: you could review lab 1 and see what \"group\" does if you need help*\n",
    "\n",
    "<!--\n",
    "BEGIN QUESTION\n",
    "name: q3\n",
    "points: 2\n",
    "manual: True\n",
    "-->\n",
    "<!-- EXPORT TO PDF -->"
   ]
  },
  {
   "cell_type": "code",
   "execution_count": 11,
   "metadata": {
    "collapsed": false
   },
   "outputs": [],
   "source": [
    "beta_sim_res.group('beta', ...).scatter('beta', 'num_infected mean')"
   ]
  },
  {
   "cell_type": "markdown",
   "metadata": {
    "deletable": false,
    "editable": false
   },
   "source": [
    "**Question 4** Now let's visualize the results in a second way. Make a scatterplot that compares the value of beta (x axis) to the number of people infected in each simulation (y axis). (Use the `alpha` parameter to avoid misleading results due to overplotting.)\n",
    "\n",
    "<!--\n",
    "BEGIN QUESTION\n",
    "name: q4\n",
    "points: 2\n",
    "manual: True\n",
    "-->\n",
    "<!-- EXPORT TO PDF -->"
   ]
  },
  {
   "cell_type": "code",
   "execution_count": 12,
   "metadata": {
    "collapsed": false
   },
   "outputs": [],
   "source": [
    "beta_sim_res.scatter(..., ..., alpha=.05)"
   ]
  },
  {
   "cell_type": "markdown",
   "metadata": {
    "deletable": false,
    "editable": false
   },
   "source": [
    "**Question 5** What do you conclude from the two plots above? How does increasing beta affect the number of people who are infected in an SIR model on the network `er_net_example`? Describe the effects separately for the two plots.\n",
    "\n",
    "<!--\n",
    "BEGIN QUESTION\n",
    "name: q5\n",
    "points: 4\n",
    "manual: True\n",
    "-->\n",
    "<!-- EXPORT TO PDF -->"
   ]
  },
  {
   "cell_type": "code",
   "execution_count": null,
   "metadata": {
    "collapsed": true
   },
   "outputs": [],
   "source": [
    "...\n",
    "# please answer the question as a comment here"
   ]
  },
  {
   "cell_type": "markdown",
   "metadata": {},
   "source": [
    "### Innoculating nodes"
   ]
  },
  {
   "cell_type": "markdown",
   "metadata": {},
   "source": [
    "The function `sim_epidemic` can take an optional parameter called `innoculated_nodes`, which is a list with the ids of nodes that are assumed to be impervious to the infection.\n",
    "\n",
    "For example, the following code would run a simulation with node number 10 innoculated:\n",
    "\n",
    "`sim_epidemic(er_net_example, innoculated_nodes=[10], beta=.3)`\n",
    "\n",
    "We might hope that if we innoculate the right node, we can reduce the total number of people who get infected by the epidemic. The question is: what kind of nodes should be innoculated?"
   ]
  },
  {
   "cell_type": "markdown",
   "metadata": {
    "deletable": false,
    "editable": false
   },
   "source": [
    "**Question 6** Write a simulation that explores what impact innoculating each node in the network has on the number of people that are infected. You should loop through each node in the network `er_net_example` and simulate 1000 ER epidemics with that node innoculated. (So, only one node is ever innoculated.) Keep track of which node was innoculated and the number of people that were infected; put these simulation results into a Table called `sim_res`.\n",
    "\n",
    "<!--\n",
    "BEGIN QUESTION\n",
    "name: q6\n",
    "points: 8\n",
    "manual: True\n",
    "-->\n",
    "<!-- EXPORT TO PDF -->"
   ]
  },
  {
   "cell_type": "code",
   "execution_count": 13,
   "metadata": {
    "collapsed": false
   },
   "outputs": [],
   "source": [
    "sim_beta = 0.3 # we set beta back to 0.3\n",
    "node_ids = make_array() # this array will keep track of the nodes we try one by one\n",
    "tot_num_infected = make_array() # this array will keep track of the number of people infected under different scenarios\n",
    "                                # that is, when we innoculate different nodes at the beginning\n",
    "for cur_node in ...: # for each node among all the nodes of the network\n",
    "    for _ in range(1000):\n",
    "        tot_num_infected = np.append(tot_num_infected, \n",
    "                                     np.sum(sim_epidemic(er_net_example, \n",
    "                                                         innoculated_nodes=..., \n",
    "                                                         beta=...)))\n",
    "        node_ids = np.append(node_ids, ...)        \n",
    "sim_res = Table().with_columns(['node_id', node_ids,\n",
    "                                'tot_infected', tot_num_infected])\n",
    "sim_res"
   ]
  },
  {
   "cell_type": "code",
   "execution_count": null,
   "metadata": {
    "collapsed": true,
    "deletable": false,
    "editable": false
   },
   "outputs": [],
   "source": [
    "ok.grade(\"q6\");"
   ]
  },
  {
   "cell_type": "markdown",
   "metadata": {
    "deletable": false,
    "editable": false
   },
   "source": [
    "**Question 7** Your simulation results have 1000 repetitions for each innoculated node. Make an aggregated Table called `sim_res_agg` which has the node id and the average total number infected across all of the simulation runs where that node id was innoculated.   \n",
    "*[Hint: Use `group` here.]*\n",
    "\n",
    "<!--\n",
    "BEGIN QUESTION\n",
    "name: q7\n",
    "points: 4\n",
    "manual: False\n",
    "-->"
   ]
  },
  {
   "cell_type": "code",
   "execution_count": 15,
   "metadata": {
    "collapsed": false
   },
   "outputs": [],
   "source": [
    "sim_res_agg = sim_res.group(..., ...)\n",
    "sim_res_agg"
   ]
  },
  {
   "cell_type": "code",
   "execution_count": null,
   "metadata": {
    "collapsed": true,
    "deletable": false,
    "editable": false
   },
   "outputs": [],
   "source": [
    "ok.grade(\"q7\");"
   ]
  },
  {
   "cell_type": "markdown",
   "metadata": {},
   "source": [
    "Now we make a Table that has the id of each node in the network, its degree, and its betweenness centrality.\n",
    "\n",
    "\"betweenness_centrality\" is a function built in the networkx package."
   ]
  },
  {
   "cell_type": "code",
   "execution_count": null,
   "metadata": {
    "collapsed": false
   },
   "outputs": [],
   "source": [
    "try:\n",
    "    node_dat = Table().with_columns('node_id', er_net_example.nodes(),\n",
    "                                'betweenness_centrality', nx.betweenness_centrality(er_net_example).values(),\n",
    "                                'degree', nx.degree(er_net_example).values())\n",
    "except:\n",
    "    node_dat = Table().with_columns('node_id', er_net_example.nodes(),\n",
    "                                'betweenness_centrality', nx.betweenness_centrality(er_net_example).values(),\n",
    "                                'degree',[y for x,y in  nx.degree(er_net_example)])\n",
    "    pass\n",
    "\n",
    "node_dat"
   ]
  },
  {
   "cell_type": "markdown",
   "metadata": {},
   "source": [
    "Now we can join the `node_dat` table onto the `sim_res_agg` table so that you have a table that has node characteristics (degree and betweenness centrality) and the average total number infected when that node is innoculated."
   ]
  },
  {
   "cell_type": "code",
   "execution_count": null,
   "metadata": {
    "collapsed": false,
    "scrolled": true
   },
   "outputs": [],
   "source": [
    "res = sim_res_agg.join('node_id', node_dat)\n",
    "res"
   ]
  },
  {
   "cell_type": "markdown",
   "metadata": {},
   "source": [
    "We can now make a scatterplot that shows the relationship between the betweenness centrality (x axis) and the average total number infected (y axis)."
   ]
  },
  {
   "cell_type": "code",
   "execution_count": null,
   "metadata": {
    "collapsed": false
   },
   "outputs": [],
   "source": [
    "res.scatter('betweenness_centrality', 'tot_infected mean')"
   ]
  },
  {
   "cell_type": "markdown",
   "metadata": {},
   "source": [
    "We can also make a scatterplot that shows the relationship between the degree (x axis) and the average total number infected (y axis)."
   ]
  },
  {
   "cell_type": "code",
   "execution_count": null,
   "metadata": {
    "collapsed": false
   },
   "outputs": [],
   "source": [
    "res.scatter('degree', 'tot_infected mean')"
   ]
  },
  {
   "cell_type": "markdown",
   "metadata": {
    "deletable": false,
    "editable": false
   },
   "source": [
    "**Question 8** What does each plot reveal? \n",
    "\n",
    "<!--\n",
    "BEGIN QUESTION\n",
    "name: q8\n",
    "points: 4\n",
    "manual: True\n",
    "-->\n",
    "<!-- EXPORT TO PDF -->"
   ]
  },
  {
   "cell_type": "code",
   "execution_count": null,
   "metadata": {
    "collapsed": true
   },
   "outputs": [],
   "source": [
    "...\n",
    "# please answer the question as a comment here"
   ]
  },
  {
   "cell_type": "markdown",
   "metadata": {
    "deletable": false,
    "editable": false
   },
   "source": [
    "**Question 9** Which metric of centrality (degree or betweenness centrality) appears to be a better guide to targeting nodes for innoculation in the ER network?\n",
    "\n",
    "<!--\n",
    "BEGIN QUESTION\n",
    "name: q9\n",
    "points: 4\n",
    "manual: True\n",
    "-->\n",
    "<!-- EXPORT TO PDF -->"
   ]
  },
  {
   "cell_type": "code",
   "execution_count": null,
   "metadata": {
    "collapsed": true
   },
   "outputs": [],
   "source": [
    "...\n",
    "# please answer the question as a comment here"
   ]
  },
  {
   "cell_type": "markdown",
   "metadata": {},
   "source": [
    "# SUBMIT YOUR ASSIGNMENT"
   ]
  },
  {
   "cell_type": "code",
   "execution_count": null,
   "metadata": {
    "collapsed": true
   },
   "outputs": [],
   "source": [
    "import os\n",
    "print(\"Running all tests...\")\n",
    "_ = [ok.grade(q[:-3]) for q in os.listdir(\"tests\") if q.startswith('q')]\n",
    "print(\"Finished running all tests.\")"
   ]
  },
  {
   "cell_type": "markdown",
   "metadata": {},
   "source": [
    "In order to submit your assignment, run the next cell."
   ]
  },
  {
   "cell_type": "code",
   "execution_count": null,
   "metadata": {
    "collapsed": true,
    "deletable": false,
    "editable": false
   },
   "outputs": [],
   "source": [
    "# Save your notebook first, then run this cell to submit.\n",
    "import jassign.to_pdf\n",
    "jassign.to_pdf.generate_pdf('Lab05.ipynb', 'Lab05.pdf')\n",
    "ok.submit()"
   ]
  }
 ],
 "metadata": {
  "kernelspec": {
   "display_name": "Python 3",
   "language": "python",
   "name": "python3"
  },
  "language_info": {
   "codemirror_mode": {
    "name": "ipython",
    "version": 3
   },
   "file_extension": ".py",
   "mimetype": "text/x-python",
   "name": "python",
   "nbconvert_exporter": "python",
   "pygments_lexer": "ipython3",
   "version": "3.6.0"
  }
 },
 "nbformat": 4,
 "nbformat_minor": 2
}
