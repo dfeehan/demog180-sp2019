{
 "cells": [
  {
   "cell_type": "code",
   "execution_count": 1,
   "metadata": {
    "collapsed": false
   },
   "outputs": [],
   "source": [
    "from IPython.core.display import HTML\n",
    "HTML(\"\"\"\n",
    "<style>\n",
    ".imagesource {\n",
    "    font-size: xx-small;\n",
    "}\n",
    "</style>\n",
    "\"\"\")\n",
    "\n",
    "from datascience import *\n",
    "\n",
    "import matplotlib\n",
    "matplotlib.use('Agg')\n",
    "%matplotlib inline\n",
    "import matplotlib.pyplot as plt\n",
    "import numpy as np\n",
    "import pandas as pd\n",
    "plt.style.use('fivethirtyeight')"
   ]
  },
  {
   "cell_type": "markdown",
   "metadata": {},
   "source": [
    "### Load the survey responses"
   ]
  },
  {
   "cell_type": "code",
   "execution_count": 4,
   "metadata": {
    "collapsed": false
   },
   "outputs": [
    {
     "data": {
      "text/html": [
       "<table border=\"1\" class=\"dataframe\">\n",
       "    <thead>\n",
       "        <tr>\n",
       "            <th>interview_number</th> <th>interview_date</th> <th>interview_time</th> <th>respondent_gender</th> <th>respondent_age</th> <th>respondent_class</th> <th>respondent_home</th> <th>number_alters</th> <th>alter1_gender</th> <th>alter1_age</th> <th>alter1_class</th> <th>alter1_home</th> <th>alter2_gender</th> <th>alter2_age</th> <th>alter2_class</th> <th>alter2_home</th> <th>alter3_gender</th> <th>alter3_age</th> <th>alter3_class</th> <th>alter3_home</th> <th>alter4_gender</th> <th>alter4_age</th> <th>alter4_class</th> <th>alter4_home</th> <th>alter5_gender</th> <th>alter5_age</th> <th>alter5_class</th> <th>alter5_home</th>\n",
       "        </tr>\n",
       "    </thead>\n",
       "    <tbody>\n",
       "        <tr>\n",
       "            <td>1               </td> <td>1/18/18       </td> <td>11:44:00 AM   </td> <td>Male             </td> <td>19            </td> <td>Freshman        </td> <td>Bay Area          </td> <td>5            </td> <td>Male         </td> <td>19        </td> <td>Freshman    </td> <td>Bay Area          </td> <td>Male         </td> <td>18        </td> <td>Freshman    </td> <td>Bay Area          </td> <td>Male         </td> <td>18        </td> <td>Freshman    </td> <td>LA Area           </td> <td>Female       </td> <td>18        </td> <td>Freshman    </td> <td>Bay Area             </td> <td>Male         </td> <td>17        </td> <td>Other       </td> <td>Bay Area             </td>\n",
       "        </tr>\n",
       "    </tbody>\n",
       "        <tr>\n",
       "            <td>2               </td> <td>1/18/18       </td> <td>2:40:00 PM    </td> <td>Male             </td> <td>21            </td> <td>Senior          </td> <td>Rest of California</td> <td>5            </td> <td>Female       </td> <td>21        </td> <td>Other       </td> <td>LA Area           </td> <td>Female       </td> <td>21        </td> <td>Other       </td> <td>Rest of California</td> <td>Male         </td> <td>21        </td> <td>Other       </td> <td>Rest of California</td> <td>Male         </td> <td>22        </td> <td>Other       </td> <td>Rest of California   </td> <td>Female       </td> <td>19        </td> <td>Sophomore   </td> <td>LA Area              </td>\n",
       "        </tr>\n",
       "    </tbody>\n",
       "        <tr>\n",
       "            <td>3               </td> <td>1/18/18       </td> <td>2:50:00 PM    </td> <td>Female           </td> <td>20            </td> <td>Junior          </td> <td>LA Area           </td> <td>4            </td> <td>Male         </td> <td>22        </td> <td>Senior      </td> <td>LA Area           </td> <td>Female       </td> <td>20        </td> <td>Junior      </td> <td>Bay Area          </td> <td>Female       </td> <td>20        </td> <td>Junior      </td> <td>Bay Area          </td> <td>Female       </td> <td>21        </td> <td>Junior      </td> <td>LA Area              </td> <td>nan          </td> <td>nan       </td> <td>nan         </td> <td>nan                  </td>\n",
       "        </tr>\n",
       "    </tbody>\n",
       "        <tr>\n",
       "            <td>1               </td> <td>1/18/18       </td> <td>11:39:00 AM   </td> <td>Male             </td> <td>21            </td> <td>Senior          </td> <td>Bay Area          </td> <td>5            </td> <td>Female       </td> <td>26        </td> <td>Senior      </td> <td>Bay Area          </td> <td>Male         </td> <td>30        </td> <td>Other       </td> <td>Bay Area          </td> <td>Male         </td> <td>27        </td> <td>Senior      </td> <td>Bay Area          </td> <td>Male         </td> <td>24        </td> <td>Senior      </td> <td>Bay Area             </td> <td>Female       </td> <td>51        </td> <td>Other       </td> <td>Rest of World        </td>\n",
       "        </tr>\n",
       "    </tbody>\n",
       "        <tr>\n",
       "            <td>2               </td> <td>1/18/18       </td> <td>7:00:00 PM    </td> <td>Male             </td> <td>20            </td> <td>Junior          </td> <td>LA Area           </td> <td>5            </td> <td>Female       </td> <td>52        </td> <td>Other       </td> <td>Rest of World     </td> <td>Male         </td> <td>60        </td> <td>Other       </td> <td>Rest of World     </td> <td>Female       </td> <td>18        </td> <td>Freshman    </td> <td>LA Area           </td> <td>Female       </td> <td>22        </td> <td>Senior      </td> <td>Rest of World        </td> <td>Female       </td> <td>64        </td> <td>Other       </td> <td>Rest of World        </td>\n",
       "        </tr>\n",
       "    </tbody>\n",
       "        <tr>\n",
       "            <td>3               </td> <td>1/18/18       </td> <td>7:30:00 PM    </td> <td>Female           </td> <td>19            </td> <td>Sophomore       </td> <td>Rest of World     </td> <td>5            </td> <td>Female       </td> <td>19        </td> <td>Sophomore   </td> <td>Rest of World     </td> <td>Female       </td> <td>20        </td> <td>Sophomore   </td> <td>Rest of World     </td> <td>Female       </td> <td>19        </td> <td>Sophomore   </td> <td>Rest of World     </td> <td>Female       </td> <td>46        </td> <td>Other       </td> <td>Rest of World        </td> <td>Female       </td> <td>19        </td> <td>Sophomore   </td> <td>LA Area              </td>\n",
       "        </tr>\n",
       "    </tbody>\n",
       "        <tr>\n",
       "            <td>1               </td> <td>1/19/18       </td> <td>11:45:00 AM   </td> <td>Female           </td> <td>20            </td> <td>Junior          </td> <td>LA Area           </td> <td>5            </td> <td>Male         </td> <td>24        </td> <td>Other       </td> <td>Rest of California</td> <td>Male         </td> <td>24        </td> <td>Other       </td> <td>Rest of California</td> <td>Female       </td> <td>45        </td> <td>Other       </td> <td>LA Area           </td> <td>Female       </td> <td>23        </td> <td>Senior      </td> <td>LA Area              </td> <td>Male         </td> <td>46        </td> <td>Other       </td> <td>LA Area              </td>\n",
       "        </tr>\n",
       "    </tbody>\n",
       "        <tr>\n",
       "            <td>1               </td> <td>1/18/18       </td> <td>11:40:00 AM   </td> <td>Female           </td> <td>21            </td> <td>Junior          </td> <td>Rest of California</td> <td>5            </td> <td>Male         </td> <td>62        </td> <td>Other       </td> <td>Rest of California</td> <td>Male         </td> <td>21        </td> <td>Junior      </td> <td>Rest of California</td> <td>Male         </td> <td>20        </td> <td>Senior      </td> <td>LA Area           </td> <td>Male         </td> <td>21        </td> <td>Senior      </td> <td>Rest of California   </td> <td>Female       </td> <td>21        </td> <td>Junior      </td> <td>Rest of California   </td>\n",
       "        </tr>\n",
       "    </tbody>\n",
       "        <tr>\n",
       "            <td>1               </td> <td>1/18/18       </td> <td>7:42:00 PM    </td> <td>Female           </td> <td>21            </td> <td>Senior          </td> <td>LA Area           </td> <td>6+           </td> <td>Female       </td> <td>34        </td> <td>Other       </td> <td>Bay Area          </td> <td>Female       </td> <td>22        </td> <td>Senior      </td> <td>LA Area           </td> <td>Female       </td> <td>22        </td> <td>Senior      </td> <td>LA Area           </td> <td>Female       </td> <td>57        </td> <td>Other       </td> <td>Rest of United States</td> <td>Female       </td> <td>19        </td> <td>Sophomore   </td> <td>Rest of United States</td>\n",
       "        </tr>\n",
       "    </tbody>\n",
       "        <tr>\n",
       "            <td>2               </td> <td>1/18/18       </td> <td>7:46:00 PM    </td> <td>Female           </td> <td>22            </td> <td>Senior          </td> <td>LA Area           </td> <td>5            </td> <td>Female       </td> <td>21        </td> <td>Senior      </td> <td>LA Area           </td> <td>Female       </td> <td>61        </td> <td>Other       </td> <td>LA Area           </td> <td>Female       </td> <td>23        </td> <td>Other       </td> <td>LA Area           </td> <td>Female       </td> <td>22        </td> <td>Senior      </td> <td>LA Area              </td> <td>Female       </td> <td>21        </td> <td>Junior      </td> <td>LA Area              </td>\n",
       "        </tr>\n",
       "    </tbody>\n",
       "</table>\n",
       "<p>... (114 rows omitted)</p"
      ],
      "text/plain": [
       "interview_number | interview_date | interview_time | respondent_gender | respondent_age | respondent_class | respondent_home    | number_alters | alter1_gender | alter1_age | alter1_class | alter1_home        | alter2_gender | alter2_age | alter2_class | alter2_home        | alter3_gender | alter3_age | alter3_class | alter3_home        | alter4_gender | alter4_age | alter4_class | alter4_home           | alter5_gender | alter5_age | alter5_class | alter5_home\n",
       "1                | 1/18/18        | 11:44:00 AM    | Male              | 19             | Freshman         | Bay Area           | 5             | Male          | 19         | Freshman     | Bay Area           | Male          | 18         | Freshman     | Bay Area           | Male          | 18         | Freshman     | LA Area            | Female        | 18         | Freshman     | Bay Area              | Male          | 17         | Other        | Bay Area\n",
       "2                | 1/18/18        | 2:40:00 PM     | Male              | 21             | Senior           | Rest of California | 5             | Female        | 21         | Other        | LA Area            | Female        | 21         | Other        | Rest of California | Male          | 21         | Other        | Rest of California | Male          | 22         | Other        | Rest of California    | Female        | 19         | Sophomore    | LA Area\n",
       "3                | 1/18/18        | 2:50:00 PM     | Female            | 20             | Junior           | LA Area            | 4             | Male          | 22         | Senior       | LA Area            | Female        | 20         | Junior       | Bay Area           | Female        | 20         | Junior       | Bay Area           | Female        | 21         | Junior       | LA Area               | nan           | nan        | nan          | nan\n",
       "1                | 1/18/18        | 11:39:00 AM    | Male              | 21             | Senior           | Bay Area           | 5             | Female        | 26         | Senior       | Bay Area           | Male          | 30         | Other        | Bay Area           | Male          | 27         | Senior       | Bay Area           | Male          | 24         | Senior       | Bay Area              | Female        | 51         | Other        | Rest of World\n",
       "2                | 1/18/18        | 7:00:00 PM     | Male              | 20             | Junior           | LA Area            | 5             | Female        | 52         | Other        | Rest of World      | Male          | 60         | Other        | Rest of World      | Female        | 18         | Freshman     | LA Area            | Female        | 22         | Senior       | Rest of World         | Female        | 64         | Other        | Rest of World\n",
       "3                | 1/18/18        | 7:30:00 PM     | Female            | 19             | Sophomore        | Rest of World      | 5             | Female        | 19         | Sophomore    | Rest of World      | Female        | 20         | Sophomore    | Rest of World      | Female        | 19         | Sophomore    | Rest of World      | Female        | 46         | Other        | Rest of World         | Female        | 19         | Sophomore    | LA Area\n",
       "1                | 1/19/18        | 11:45:00 AM    | Female            | 20             | Junior           | LA Area            | 5             | Male          | 24         | Other        | Rest of California | Male          | 24         | Other        | Rest of California | Female        | 45         | Other        | LA Area            | Female        | 23         | Senior       | LA Area               | Male          | 46         | Other        | LA Area\n",
       "1                | 1/18/18        | 11:40:00 AM    | Female            | 21             | Junior           | Rest of California | 5             | Male          | 62         | Other        | Rest of California | Male          | 21         | Junior       | Rest of California | Male          | 20         | Senior       | LA Area            | Male          | 21         | Senior       | Rest of California    | Female        | 21         | Junior       | Rest of California\n",
       "1                | 1/18/18        | 7:42:00 PM     | Female            | 21             | Senior           | LA Area            | 6+            | Female        | 34         | Other        | Bay Area           | Female        | 22         | Senior       | LA Area            | Female        | 22         | Senior       | LA Area            | Female        | 57         | Other        | Rest of United States | Female        | 19         | Sophomore    | Rest of United States\n",
       "2                | 1/18/18        | 7:46:00 PM     | Female            | 22             | Senior           | LA Area            | 5             | Female        | 21         | Senior       | LA Area            | Female        | 61         | Other        | LA Area            | Female        | 23         | Other        | LA Area            | Female        | 22         | Senior       | LA Area               | Female        | 21         | Junior       | LA Area\n",
       "... (114 rows omitted)"
      ]
     },
     "execution_count": 4,
     "metadata": {},
     "output_type": "execute_result"
    }
   ],
   "source": [
    "url = \"../../data/survey/ucb_personal_networks_clean.csv\"\n",
    "\n",
    "survey = Table.read_table(url)\n",
    "survey"
   ]
  },
  {
   "cell_type": "markdown",
   "metadata": {},
   "source": [
    "How many responses are there?"
   ]
  },
  {
   "cell_type": "code",
   "execution_count": 3,
   "metadata": {
    "collapsed": false
   },
   "outputs": [
    {
     "data": {
      "text/plain": [
       "124"
      ]
     },
     "execution_count": 3,
     "metadata": {},
     "output_type": "execute_result"
    }
   ],
   "source": [
    "survey.num_rows"
   ]
  },
  {
   "cell_type": "markdown",
   "metadata": {},
   "source": [
    "### Who responded to the survey?"
   ]
  },
  {
   "cell_type": "markdown",
   "metadata": {},
   "source": [
    "Look at the age distribution of respondents"
   ]
  },
  {
   "cell_type": "code",
   "execution_count": 4,
   "metadata": {
    "collapsed": false
   },
   "outputs": [
    {
     "data": {
      "image/png": "[encoded data removed]",
      "text/plain": [
       "<matplotlib.figure.Figure at 0x11e91ccc0>"
      ]
     },
     "metadata": {},
     "output_type": "display_data"
    }
   ],
   "source": [
    "survey.select('respondent_age').hist()"
   ]
  },
  {
   "cell_type": "markdown",
   "metadata": {},
   "source": [
    "Look at the gender distribution"
   ]
  },
  {
   "cell_type": "code",
   "execution_count": 6,
   "metadata": {
    "collapsed": false
   },
   "outputs": [
    {
     "data": {
      "image/png": "[encoded data removed]",
      "text/plain": [
       "<matplotlib.figure.Figure at 0x10500cef0>"
      ]
     },
     "metadata": {},
     "output_type": "display_data"
    }
   ],
   "source": [
    "survey.group('respondent_gender').barh('respondent_gender')"
   ]
  },
  {
   "cell_type": "markdown",
   "metadata": {},
   "source": [
    "Look at the class year"
   ]
  },
  {
   "cell_type": "code",
   "execution_count": 5,
   "metadata": {
    "collapsed": false
   },
   "outputs": [
    {
     "data": {
      "image/png": "[encoded data removed]",
      "text/plain": [
       "<matplotlib.figure.Figure at 0x1064ba080>"
      ]
     },
     "metadata": {},
     "output_type": "display_data"
    }
   ],
   "source": [
    "survey.group('respondent_class').barh('respondent_class')"
   ]
  },
  {
   "cell_type": "markdown",
   "metadata": {},
   "source": [
    "### Relationship between respondent and first alter named: gender"
   ]
  },
  {
   "cell_type": "code",
   "execution_count": 7,
   "metadata": {
    "collapsed": false
   },
   "outputs": [
    {
     "data": {
      "text/html": [
       "<div>\n",
       "<style>\n",
       "    .dataframe thead tr:only-child th {\n",
       "        text-align: right;\n",
       "    }\n",
       "\n",
       "    .dataframe thead th {\n",
       "        text-align: left;\n",
       "    }\n",
       "\n",
       "    .dataframe tbody tr th {\n",
       "        vertical-align: top;\n",
       "    }\n",
       "</style>\n",
       "<table border=\"1\" class=\"dataframe\">\n",
       "  <thead>\n",
       "    <tr style=\"text-align: right;\">\n",
       "      <th>col_0</th>\n",
       "      <th>Female</th>\n",
       "      <th>Male</th>\n",
       "      <th>Other</th>\n",
       "    </tr>\n",
       "    <tr>\n",
       "      <th>row_0</th>\n",
       "      <th></th>\n",
       "      <th></th>\n",
       "      <th></th>\n",
       "    </tr>\n",
       "  </thead>\n",
       "  <tbody>\n",
       "    <tr>\n",
       "      <th>Female</th>\n",
       "      <td>0.735294</td>\n",
       "      <td>0.264706</td>\n",
       "      <td>0.0</td>\n",
       "    </tr>\n",
       "    <tr>\n",
       "      <th>Male</th>\n",
       "      <td>0.418182</td>\n",
       "      <td>0.581818</td>\n",
       "      <td>0.0</td>\n",
       "    </tr>\n",
       "    <tr>\n",
       "      <th>Other</th>\n",
       "      <td>0.000000</td>\n",
       "      <td>0.000000</td>\n",
       "      <td>1.0</td>\n",
       "    </tr>\n",
       "  </tbody>\n",
       "</table>\n",
       "</div>"
      ],
      "text/plain": [
       "col_0     Female      Male  Other\n",
       "row_0                            \n",
       "Female  0.735294  0.264706    0.0\n",
       "Male    0.418182  0.581818    0.0\n",
       "Other   0.000000  0.000000    1.0"
      ]
     },
     "execution_count": 7,
     "metadata": {},
     "output_type": "execute_result"
    }
   ],
   "source": [
    "#pd.crosstab(survey['respondent_gender'], survey['alter1_gender']) # this would show raw counts\n",
    "pd.crosstab(survey['respondent_gender'], survey['alter1_gender'], normalize='index')"
   ]
  },
  {
   "cell_type": "code",
   "execution_count": 8,
   "metadata": {
    "collapsed": false
   },
   "outputs": [
    {
     "data": {
      "text/html": [
       "<div>\n",
       "<style>\n",
       "    .dataframe thead tr:only-child th {\n",
       "        text-align: right;\n",
       "    }\n",
       "\n",
       "    .dataframe thead th {\n",
       "        text-align: left;\n",
       "    }\n",
       "\n",
       "    .dataframe tbody tr th {\n",
       "        vertical-align: top;\n",
       "    }\n",
       "</style>\n",
       "<table border=\"1\" class=\"dataframe\">\n",
       "  <thead>\n",
       "    <tr style=\"text-align: right;\">\n",
       "      <th>col_0</th>\n",
       "      <th>Female</th>\n",
       "      <th>Male</th>\n",
       "      <th>Other</th>\n",
       "    </tr>\n",
       "    <tr>\n",
       "      <th>row_0</th>\n",
       "      <th></th>\n",
       "      <th></th>\n",
       "      <th></th>\n",
       "    </tr>\n",
       "  </thead>\n",
       "  <tbody>\n",
       "    <tr>\n",
       "      <th>Female</th>\n",
       "      <td>50</td>\n",
       "      <td>18</td>\n",
       "      <td>0</td>\n",
       "    </tr>\n",
       "    <tr>\n",
       "      <th>Male</th>\n",
       "      <td>23</td>\n",
       "      <td>32</td>\n",
       "      <td>0</td>\n",
       "    </tr>\n",
       "    <tr>\n",
       "      <th>Other</th>\n",
       "      <td>0</td>\n",
       "      <td>0</td>\n",
       "      <td>1</td>\n",
       "    </tr>\n",
       "  </tbody>\n",
       "</table>\n",
       "</div>"
      ],
      "text/plain": [
       "col_0   Female  Male  Other\n",
       "row_0                      \n",
       "Female      50    18      0\n",
       "Male        23    32      0\n",
       "Other        0     0      1"
      ]
     },
     "execution_count": 8,
     "metadata": {},
     "output_type": "execute_result"
    }
   ],
   "source": [
    "pd.crosstab(survey['respondent_gender'], survey['alter1_gender']) # this would show raw counts"
   ]
  },
  {
   "cell_type": "code",
   "execution_count": 9,
   "metadata": {
    "collapsed": false
   },
   "outputs": [
    {
     "data": {
      "text/plain": [
       "0.3333333333333333"
      ]
     },
     "execution_count": 9,
     "metadata": {},
     "output_type": "execute_result"
    }
   ],
   "source": [
    "obs_frac_nonhom = (18 + 23) / (50 + 18 + 23 + 32)\n",
    "obs_frac_nonhom"
   ]
  },
  {
   "cell_type": "code",
   "execution_count": null,
   "metadata": {
    "collapsed": false
   },
   "outputs": [],
   "source": [
    "# Berkeley undergrad gender breakdown source: \n",
    "# https://opa.berkeley.edu/uc-berkeley-fall-enrollment-data\n",
    "# (based on Fall 2017 undergraduate enrollment)\n",
    "prop_male = 0.47\n",
    "prop_female = 1 - prop_male\n",
    "\n",
    "rand_expected_mf = 2 * prop_male * prop_female\n",
    "rand_expected_mf\n"
   ]
  },
  {
   "cell_type": "code",
   "execution_count": 13,
   "metadata": {
    "collapsed": false
   },
   "outputs": [
    {
     "data": {
      "text/html": [
       "<table border=\"1\" class=\"dataframe\">\n",
       "    <thead>\n",
       "        <tr>\n",
       "            <th>respondent_gender</th> <th>alter1_gender</th>\n",
       "        </tr>\n",
       "    </thead>\n",
       "    <tbody>\n",
       "        <tr>\n",
       "            <td>Male             </td> <td>Female       </td>\n",
       "        </tr>\n",
       "    </tbody>\n",
       "        <tr>\n",
       "            <td>Male             </td> <td>Female       </td>\n",
       "        </tr>\n",
       "    </tbody>\n",
       "        <tr>\n",
       "            <td>Female           </td> <td>Male         </td>\n",
       "        </tr>\n",
       "    </tbody>\n",
       "        <tr>\n",
       "            <td>Male             </td> <td>Female       </td>\n",
       "        </tr>\n",
       "    </tbody>\n",
       "        <tr>\n",
       "            <td>Male             </td> <td>Female       </td>\n",
       "        </tr>\n",
       "    </tbody>\n",
       "        <tr>\n",
       "            <td>Female           </td> <td>Male         </td>\n",
       "        </tr>\n",
       "    </tbody>\n",
       "        <tr>\n",
       "            <td>Female           </td> <td>Female       </td>\n",
       "        </tr>\n",
       "    </tbody>\n",
       "        <tr>\n",
       "            <td>Female           </td> <td>Female       </td>\n",
       "        </tr>\n",
       "    </tbody>\n",
       "        <tr>\n",
       "            <td>Female           </td> <td>Female       </td>\n",
       "        </tr>\n",
       "    </tbody>\n",
       "        <tr>\n",
       "            <td>Female           </td> <td>Male         </td>\n",
       "        </tr>\n",
       "    </tbody>\n",
       "</table>\n",
       "<p>... (114 rows omitted)</p"
      ],
      "text/plain": [
       "respondent_gender | alter1_gender\n",
       "Male              | Female\n",
       "Male              | Female\n",
       "Female            | Male\n",
       "Male              | Female\n",
       "Male              | Female\n",
       "Female            | Male\n",
       "Female            | Female\n",
       "Female            | Female\n",
       "Female            | Female\n",
       "Female            | Male\n",
       "... (114 rows omitted)"
      ]
     },
     "execution_count": 13,
     "metadata": {},
     "output_type": "execute_result"
    }
   ],
   "source": [
    "permuted_alter_gender = survey.select('alter1_gender').sample(124) # NB: 124 rows in our dataset\n",
    "permuted_dyads = Table().with_columns(\n",
    "    'respondent_gender', survey.column('respondent_gender'),\n",
    "    'alter1_gender', permuted_alter_gender.column(0))\n",
    "permuted_dyads"
   ]
  },
  {
   "cell_type": "markdown",
   "metadata": {},
   "source": [
    "Let's write a function to help calculate the fraction of dyads that goes from male to female or from female to male."
   ]
  },
  {
   "cell_type": "code",
   "execution_count": 14,
   "metadata": {
    "collapsed": false
   },
   "outputs": [
    {
     "data": {
      "text/plain": [
       "0.43548387096774194"
      ]
     },
     "execution_count": 14,
     "metadata": {},
     "output_type": "execute_result"
    }
   ],
   "source": [
    "def frac_mf_dyads(permuted_df):\n",
    "    \"\"\"\n",
    "    Calculate the fraction of dyads that is male to female OR female to male\n",
    "    \"\"\"\n",
    "    counts_mf = permuted_dyads.group(['respondent_gender', 'alter1_gender']).where('respondent_gender', 'Male').where('alter1_gender', 'Female')\n",
    "    mf = counts_mf.column('count').item(0)\n",
    "    counts_fm = permuted_dyads.group(['respondent_gender', 'alter1_gender']).where('respondent_gender', 'Male').where('alter1_gender', 'Female')\n",
    "    fm = counts_fm.column('count').item(0)\n",
    "    \n",
    "    return((mf + fm)/permuted_df.num_rows)\n",
    "    \n",
    "    \n",
    "\n",
    "#permuted_frac_mf = permuted_dyads.where()\n",
    "frac_mf_dyads(permuted_dyads)"
   ]
  },
  {
   "cell_type": "markdown",
   "metadata": {},
   "source": [
    "Now take many resamples and calculate the fraction of cross-gender edges for each one"
   ]
  },
  {
   "cell_type": "code",
   "execution_count": 15,
   "metadata": {
    "collapsed": false
   },
   "outputs": [],
   "source": [
    "nonhom_fracs = make_array()\n",
    "\n",
    "for _ in np.arange(10000):\n",
    "    permuted_alter_gender = survey.select('alter1_gender').sample(124) # NB: 124 rows in our dataset\n",
    "    permuted_dyads = Table().with_columns(\n",
    "        'respondent_gender', survey.column('respondent_gender'),\n",
    "        'alter1_gender', permuted_alter_gender.column(0))\n",
    "    nonhom_fracs = np.append(nonhom_fracs, frac_mf_dyads(permuted_dyads))\n",
    "null_fracs = Table().with_column('frac_dyads_nonhom', nonhom_fracs)"
   ]
  },
  {
   "cell_type": "code",
   "execution_count": 16,
   "metadata": {
    "collapsed": false
   },
   "outputs": [
    {
     "data": {
      "image/png": "[encoded data removed]",
      "text/plain": [
       "<matplotlib.figure.Figure at 0x11e6471d0>"
      ]
     },
     "metadata": {},
     "output_type": "display_data"
    }
   ],
   "source": [
    "null_fracs.hist('frac_dyads_nonhom')"
   ]
  },
  {
   "cell_type": "markdown",
   "metadata": {},
   "source": [
    "Let's add a plot showing where our observed value is, so that we can easily compare the observed value to the null distribution."
   ]
  },
  {
   "cell_type": "code",
   "execution_count": 17,
   "metadata": {
    "collapsed": false
   },
   "outputs": [
    {
     "data": {
      "image/png": "[encoded data removed]",
      "text/plain": [
       "<matplotlib.figure.Figure at 0x11e911390>"
      ]
     },
     "metadata": {},
     "output_type": "display_data"
    }
   ],
   "source": [
    "null_fracs.hist('frac_dyads_nonhom')\n",
    "#plt.scatter(obs_frac_nonhom,0,c='red',s=80);\n",
    "plt.axvline(x=obs_frac_nonhom,c='red',linewidth=2);"
   ]
  },
  {
   "cell_type": "code",
   "execution_count": null,
   "metadata": {
    "collapsed": true
   },
   "outputs": [],
   "source": [
    "# end of demo"
   ]
  },
  {
   "cell_type": "code",
   "execution_count": null,
   "metadata": {
    "collapsed": true
   },
   "outputs": [],
   "source": []
  },
  {
   "cell_type": "code",
   "execution_count": null,
   "metadata": {
    "collapsed": false
   },
   "outputs": [],
   "source": [
    "survey.to_df()[['respondent_age', 'alter1_age', 'alter2_age', 'alter3_age', 'alter4_age', 'alter5_age']].corr()"
   ]
  },
  {
   "cell_type": "code",
   "execution_count": null,
   "metadata": {
    "collapsed": true
   },
   "outputs": [],
   "source": [
    "survey.scatter('respondent_age', 'alter1_age')"
   ]
  },
  {
   "cell_type": "code",
   "execution_count": null,
   "metadata": {
    "collapsed": true
   },
   "outputs": [],
   "source": []
  },
  {
   "cell_type": "markdown",
   "metadata": {},
   "source": [
    "Let's compare the expected value (average) of the null model to this distribution"
   ]
  },
  {
   "cell_type": "code",
   "execution_count": null,
   "metadata": {
    "collapsed": false
   },
   "outputs": [],
   "source": [
    "null_ev = 2 * prop_male * prop_female\n",
    "null_fracs.hist('frac_dyads_nonhom')\n",
    "#plt.scatter(null_ev,0,c='yellow',s=80);\n",
    "plt.axvline(x=null_ev,c='yellow',linewidth=2);"
   ]
  }
 ],
 "metadata": {
  "anaconda-cloud": {},
  "kernelspec": {
   "display_name": "Python [default]",
   "language": "python",
   "name": "python3"
  },
  "language_info": {
   "codemirror_mode": {
    "name": "ipython",
    "version": 3
   },
   "file_extension": ".py",
   "mimetype": "text/x-python",
   "name": "python",
   "nbconvert_exporter": "python",
   "pygments_lexer": "ipython3",
   "version": "3.5.2"
  }
 },
 "nbformat": 4,
 "nbformat_minor": 1
}
