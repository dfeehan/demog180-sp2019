{
 "cells": [
  {
   "cell_type": "code",
   "execution_count": 165,
   "metadata": {},
   "outputs": [],
   "source": [
    "from datascience import *\n",
    "\n",
    "import matplotlib\n",
    "matplotlib.use('Agg')\n",
    "%matplotlib inline\n",
    "import matplotlib.pyplot as plt\n",
    "import numpy as np\n",
    "import pandas as pd\n",
    "plt.style.use('fivethirtyeight')"
   ]
  },
  {
   "cell_type": "markdown",
   "metadata": {},
   "source": [
    "# Lecture: Personal networks of Berkeley students"
   ]
  },
  {
   "cell_type": "markdown",
   "metadata": {},
   "source": [
    "### Load the survey responses"
   ]
  },
  {
   "cell_type": "code",
   "execution_count": 166,
   "metadata": {},
   "outputs": [],
   "source": [
    "url = \"../../data/survey/ucb_personal_networks_clean.csv\"\n",
    "\n",
    "survey = Table.read_table(url)"
   ]
  },
  {
   "cell_type": "markdown",
   "metadata": {},
   "source": [
    "Print the first few rows of the dataset to get a sense for how it is structured."
   ]
  },
  {
   "cell_type": "code",
   "execution_count": 167,
   "metadata": {},
   "outputs": [
    {
     "data": {
      "text/html": [
       "<table border=\"1\" class=\"dataframe\">\n",
       "    <thead>\n",
       "        <tr>\n",
       "            <th>interview_number</th> <th>interview_date</th> <th>interview_time</th> <th>respondent_gender</th> <th>respondent_age</th> <th>respondent_class</th> <th>respondent_home</th> <th>number_alters</th> <th>alter1_gender</th> <th>alter1_age</th> <th>alter1_class</th> <th>alter1_home</th> <th>alter1_howclose</th> <th>alter1_howoften</th> <th>alter2_gender</th> <th>alter2_age</th> <th>alter2_class</th> <th>alter2_home</th> <th>alter2_howclose</th> <th>alter2_howoften</th> <th>alter3_gender</th> <th>alter3_age</th> <th>alter3_class</th> <th>alter3_home</th> <th>alter3_howclose</th> <th>alter3_howoften</th> <th>alter4_gender</th> <th>alter4_age</th> <th>alter4_class</th> <th>alter4_home</th> <th>alter4_howclose</th> <th>alter4_howoften</th> <th>alter5_gender</th> <th>alter5_age</th> <th>alter5_class</th> <th>alter5_home</th> <th>alter5_howclose</th> <th>alter5_howoften</th>\n",
       "        </tr>\n",
       "    </thead>\n",
       "    <tbody>\n",
       "        <tr>\n",
       "            <td>1               </td> <td>1/24/2019     </td> <td>10:40:00      </td> <td>Male             </td> <td>21            </td> <td>Senior          </td> <td>Bay Area             </td> <td>5            </td> <td>Male         </td> <td>21        </td> <td>Senior      </td> <td>LA Area              </td> <td>Close friend   </td> <td>Once a week          </td> <td>Male         </td> <td>22        </td> <td>Senior      </td> <td>LA Area              </td> <td>Friend         </td> <td>Once a week          </td> <td>Male         </td> <td>20        </td> <td>Junior      </td> <td>Rest of United States</td> <td>Close friend   </td> <td>Once a week          </td> <td>Male         </td> <td>21        </td> <td>Senior      </td> <td>Rest of World        </td> <td>Friend         </td> <td>nan                  </td> <td>Female       </td> <td>22        </td> <td>Senior      </td> <td>Bay Area             </td> <td>Close friend   </td> <td>Once a week    </td>\n",
       "        </tr>\n",
       "        <tr>\n",
       "            <td>2               </td> <td>1/24/2019     </td> <td>11:14:00      </td> <td>Male             </td> <td>25            </td> <td>Other           </td> <td>Bay Area             </td> <td>3            </td> <td>Male         </td> <td>26        </td> <td>Other       </td> <td>Bay Area             </td> <td>Close friend   </td> <td>More than once a week</td> <td>Female       </td> <td>24        </td> <td>Other       </td> <td>Rest of United States</td> <td>Close friend   </td> <td>More than once a week</td> <td>Male         </td> <td>26        </td> <td>Other       </td> <td>Rest of United States</td> <td>Close friend   </td> <td>More than once a week</td> <td>nan          </td> <td>nan       </td> <td>nan         </td> <td>nan                  </td> <td>nan            </td> <td>nan                  </td> <td>nan          </td> <td>nan       </td> <td>nan         </td> <td>nan                  </td> <td>nan            </td> <td>nan            </td>\n",
       "        </tr>\n",
       "        <tr>\n",
       "            <td>3               </td> <td>1/24/2019     </td> <td>11:19:00      </td> <td>Female           </td> <td>25            </td> <td>Other           </td> <td>Rest of United States</td> <td>4            </td> <td>Female       </td> <td>26        </td> <td>Other       </td> <td>Rest of United States</td> <td>Close friend   </td> <td>More than once a week</td> <td>Female       </td> <td>28        </td> <td>Other       </td> <td>Rest of World        </td> <td>Close friend   </td> <td>More than once a week</td> <td>Male         </td> <td>27        </td> <td>Other       </td> <td>Rest of United States</td> <td>Close friend   </td> <td>Once a week          </td> <td>Female       </td> <td>23        </td> <td>Other       </td> <td>Rest of United States</td> <td>Close friend   </td> <td>More than once a week</td> <td>nan          </td> <td>nan       </td> <td>nan         </td> <td>nan                  </td> <td>nan            </td> <td>nan            </td>\n",
       "        </tr>\n",
       "        <tr>\n",
       "            <td>1               </td> <td>1/24/2019     </td> <td>10:34:00      </td> <td>Female           </td> <td>21            </td> <td>Senior          </td> <td>Bay Area             </td> <td>5            </td> <td>Female       </td> <td>20        </td> <td>Junior      </td> <td>Bay Area             </td> <td>Close friend   </td> <td>More than once a week</td> <td>Female       </td> <td>21        </td> <td>Senior      </td> <td>Bay Area             </td> <td>Friend         </td> <td>More than once a week</td> <td>Female       </td> <td>40        </td> <td>Other       </td> <td>Rest of World        </td> <td>Close friend   </td> <td>Once a week          </td> <td>Female       </td> <td>17        </td> <td>Other       </td> <td>Rest of United States</td> <td>Close friend   </td> <td>Once a week          </td> <td>Female       </td> <td>21        </td> <td>Senior      </td> <td>Bay Area             </td> <td>Close friend   </td> <td>Once a week    </td>\n",
       "        </tr>\n",
       "        <tr>\n",
       "            <td>2               </td> <td>1/24/2019     </td> <td>15:21:00      </td> <td>Female           </td> <td>31            </td> <td>Other           </td> <td>Bay Area             </td> <td>5            </td> <td>Female       </td> <td>24        </td> <td>Other       </td> <td>Rest of United States</td> <td>Close friend   </td> <td>More than once a week</td> <td>Female       </td> <td>24        </td> <td>Other       </td> <td>Rest of United States</td> <td>Close friend   </td> <td>Once a week          </td> <td>Female       </td> <td>36        </td> <td>Other       </td> <td>Rest of United States</td> <td>Close friend   </td> <td>Once a week          </td> <td>Female       </td> <td>26        </td> <td>Other       </td> <td>Rest of United States</td> <td>Close friend   </td> <td>Once a month         </td> <td>Female       </td> <td>28        </td> <td>Other       </td> <td>Rest of United States</td> <td>Close friend   </td> <td>Once a week    </td>\n",
       "        </tr>\n",
       "        <tr>\n",
       "            <td>3               </td> <td>1/24/2019     </td> <td>18:23:00      </td> <td>Female           </td> <td>25            </td> <td>Other           </td> <td>Bay Area             </td> <td>6+           </td> <td>Female       </td> <td>25        </td> <td>Other       </td> <td>Rest of United States</td> <td>Close friend   </td> <td>More than once a week</td> <td>Female       </td> <td>60        </td> <td>Other       </td> <td>Rest of United States</td> <td>Close friend   </td> <td>Once a week          </td> <td>Male         </td> <td>62        </td> <td>Other       </td> <td>Bay Area             </td> <td>Close friend   </td> <td>Once a week          </td> <td>Female       </td> <td>25        </td> <td>Other       </td> <td>Bay Area             </td> <td>Friend         </td> <td>Once a year          </td> <td>Female       </td> <td>39        </td> <td>Other       </td> <td>Rest of World        </td> <td>Acquaintance   </td> <td>Once a month   </td>\n",
       "        </tr>\n",
       "    </tbody>\n",
       "</table>\n",
       "<p>... (173 rows omitted)</p>"
      ],
      "text/plain": [
       "<IPython.core.display.HTML object>"
      ]
     },
     "metadata": {},
     "output_type": "display_data"
    }
   ],
   "source": [
    "# show the first few rows of the dataset\n",
    "survey.show(6)"
   ]
  },
  {
   "cell_type": "markdown",
   "metadata": {},
   "source": [
    "How many responses are there?"
   ]
  },
  {
   "cell_type": "code",
   "execution_count": 168,
   "metadata": {},
   "outputs": [
    {
     "data": {
      "text/plain": [
       "179"
      ]
     },
     "execution_count": 168,
     "metadata": {},
     "output_type": "execute_result"
    }
   ],
   "source": [
    "num_responses = survey.num_rows\n",
    "num_responses"
   ]
  },
  {
   "cell_type": "markdown",
   "metadata": {},
   "source": [
    "### Who responded to the survey?"
   ]
  },
  {
   "cell_type": "markdown",
   "metadata": {},
   "source": [
    "#### Respondent age"
   ]
  },
  {
   "cell_type": "markdown",
   "metadata": {},
   "source": [
    "**Question** What do you expect will be the age range of people who responded to the survey? Why?"
   ]
  },
  {
   "cell_type": "markdown",
   "metadata": {},
   "source": [
    "[ANS: It seems likely that people will have interviewed others who are similar to them. So we'd expect the age range of survey respondents to be similar to the age range of people in the class]"
   ]
  },
  {
   "cell_type": "markdown",
   "metadata": {},
   "source": [
    "Now let's look at the data:"
   ]
  },
  {
   "cell_type": "markdown",
   "metadata": {},
   "source": [
    "Highest and lowest ages of survey respondents:"
   ]
  },
  {
   "cell_type": "code",
   "execution_count": 169,
   "metadata": {},
   "outputs": [
    {
     "data": {
      "text/plain": [
       "53"
      ]
     },
     "execution_count": 169,
     "metadata": {},
     "output_type": "execute_result"
    }
   ],
   "source": [
    "# highest age\n",
    "survey.column('respondent_age').max() # SOLUTION NO PROMPT"
   ]
  },
  {
   "cell_type": "code",
   "execution_count": 170,
   "metadata": {},
   "outputs": [
    {
     "data": {
      "text/plain": [
       "17"
      ]
     },
     "execution_count": 170,
     "metadata": {},
     "output_type": "execute_result"
    }
   ],
   "source": [
    "# lowest age\n",
    "survey.column('respondent_age').min()"
   ]
  },
  {
   "cell_type": "markdown",
   "metadata": {},
   "source": [
    "Average age of survey respondents:"
   ]
  },
  {
   "cell_type": "code",
   "execution_count": 171,
   "metadata": {},
   "outputs": [
    {
     "data": {
      "text/plain": [
       "21.631284916201118"
      ]
     },
     "execution_count": 171,
     "metadata": {},
     "output_type": "execute_result"
    }
   ],
   "source": [
    "np.mean(survey.column('respondent_age'))"
   ]
  },
  {
   "cell_type": "markdown",
   "metadata": {},
   "source": [
    "Visualize the age distribution of respondents using a histogram:"
   ]
  },
  {
   "cell_type": "code",
   "execution_count": 172,
   "metadata": {},
   "outputs": [
    {
     "data": {
      "image/png": "[encoded data removed]",
      "text/plain": [
       "<Figure size 432x288 with 1 Axes>"
      ]
     },
     "metadata": {},
     "output_type": "display_data"
    }
   ],
   "source": [
    "survey.select('respondent_age').hist()"
   ]
  },
  {
   "cell_type": "markdown",
   "metadata": {},
   "source": [
    "#### Respondent gender"
   ]
  },
  {
   "cell_type": "markdown",
   "metadata": {},
   "source": [
    "Look at the gender distribution"
   ]
  },
  {
   "cell_type": "code",
   "execution_count": 173,
   "metadata": {},
   "outputs": [
    {
     "data": {
      "text/html": [
       "<table border=\"1\" class=\"dataframe\">\n",
       "    <thead>\n",
       "        <tr>\n",
       "            <th>respondent_gender</th> <th>count</th>\n",
       "        </tr>\n",
       "    </thead>\n",
       "    <tbody>\n",
       "        <tr>\n",
       "            <td>Female           </td> <td>107  </td>\n",
       "        </tr>\n",
       "        <tr>\n",
       "            <td>Male             </td> <td>72   </td>\n",
       "        </tr>\n",
       "    </tbody>\n",
       "</table>"
      ],
      "text/plain": [
       "respondent_gender | count\n",
       "Female            | 107\n",
       "Male              | 72"
      ]
     },
     "execution_count": 173,
     "metadata": {},
     "output_type": "execute_result"
    }
   ],
   "source": [
    "# make a table showing counts of respondents by gender\n",
    "survey.group('respondent_gender')"
   ]
  },
  {
   "cell_type": "code",
   "execution_count": 174,
   "metadata": {},
   "outputs": [
    {
     "data": {
      "image/png": "[encoded data removed]",
      "text/plain": [
       "<Figure size 432x288 with 1 Axes>"
      ]
     },
     "metadata": {},
     "output_type": "display_data"
    }
   ],
   "source": [
    "# make a horizontal bar plot showing the same information\n",
    "survey.group('respondent_gender').barh('respondent_gender')"
   ]
  },
  {
   "cell_type": "markdown",
   "metadata": {},
   "source": [
    "#### Respondent class year"
   ]
  },
  {
   "cell_type": "markdown",
   "metadata": {},
   "source": [
    "Look at the class year"
   ]
  },
  {
   "cell_type": "code",
   "execution_count": 175,
   "metadata": {},
   "outputs": [
    {
     "data": {
      "text/html": [
       "<table border=\"1\" class=\"dataframe\">\n",
       "    <thead>\n",
       "        <tr>\n",
       "            <th>respondent_class</th> <th>count</th>\n",
       "        </tr>\n",
       "    </thead>\n",
       "    <tbody>\n",
       "        <tr>\n",
       "            <td>Freshman        </td> <td>5    </td>\n",
       "        </tr>\n",
       "        <tr>\n",
       "            <td>Junior          </td> <td>68   </td>\n",
       "        </tr>\n",
       "        <tr>\n",
       "            <td>Other           </td> <td>19   </td>\n",
       "        </tr>\n",
       "        <tr>\n",
       "            <td>Senior          </td> <td>70   </td>\n",
       "        </tr>\n",
       "        <tr>\n",
       "            <td>Sophomore       </td> <td>17   </td>\n",
       "        </tr>\n",
       "    </tbody>\n",
       "</table>"
      ],
      "text/plain": [
       "respondent_class | count\n",
       "Freshman         | 5\n",
       "Junior           | 68\n",
       "Other            | 19\n",
       "Senior           | 70\n",
       "Sophomore        | 17"
      ]
     },
     "execution_count": 175,
     "metadata": {},
     "output_type": "execute_result"
    }
   ],
   "source": [
    "# make a table\n",
    "survey.group('respondent_class')"
   ]
  },
  {
   "cell_type": "code",
   "execution_count": 176,
   "metadata": {},
   "outputs": [
    {
     "data": {
      "image/png": "[encoded data removed]",
      "text/plain": [
       "<Figure size 432x288 with 1 Axes>"
      ]
     },
     "metadata": {},
     "output_type": "display_data"
    }
   ],
   "source": [
    "# make a horizontal bar plot\n",
    "survey.group('respondent_class').barh('respondent_class')"
   ]
  },
  {
   "cell_type": "markdown",
   "metadata": {},
   "source": [
    "Here's a different way to plot the same data, specifying the order of the bars."
   ]
  },
  {
   "cell_type": "code",
   "execution_count": 177,
   "metadata": {},
   "outputs": [
    {
     "data": {
      "text/plain": [
       "<matplotlib.axes._subplots.AxesSubplot at 0x1203c14e0>"
      ]
     },
     "execution_count": 177,
     "metadata": {},
     "output_type": "execute_result"
    },
    {
     "data": {
      "image/png": "[encoded data removed]",
      "text/plain": [
       "<Figure size 432x288 with 1 Axes>"
      ]
     },
     "metadata": {},
     "output_type": "display_data"
    }
   ],
   "source": [
    "class_order = ['Freshman', 'Sophomore', 'Junior', 'Senior', 'Other']\n",
    "survey.group('respondent_class').to_df().set_index('respondent_class').loc[class_order].plot.barh()"
   ]
  },
  {
   "cell_type": "code",
   "execution_count": null,
   "metadata": {},
   "outputs": [],
   "source": []
  },
  {
   "cell_type": "markdown",
   "metadata": {},
   "source": [
    "# Core discussion networks of Berkeley students"
   ]
  },
  {
   "cell_type": "markdown",
   "metadata": {},
   "source": [
    "About how many confidents, on average, do Americans have?"
   ]
  },
  {
   "cell_type": "markdown",
   "metadata": {},
   "source": [
    "[ANS: about 3]"
   ]
  },
  {
   "cell_type": "markdown",
   "metadata": {},
   "source": [
    "Do you think that Berkeley students will have confidant networks that are the same size? Smaller? Larger?"
   ]
  },
  {
   "cell_type": "markdown",
   "metadata": {},
   "source": [
    "[DISCUSS]"
   ]
  },
  {
   "cell_type": "markdown",
   "metadata": {},
   "source": [
    "OK, let's see!"
   ]
  },
  {
   "cell_type": "code",
   "execution_count": 178,
   "metadata": {},
   "outputs": [
    {
     "data": {
      "text/html": [
       "<table border=\"1\" class=\"dataframe\">\n",
       "    <thead>\n",
       "        <tr>\n",
       "            <th>number_alters</th> <th>count</th>\n",
       "        </tr>\n",
       "    </thead>\n",
       "    <tbody>\n",
       "        <tr>\n",
       "            <td>0            </td> <td>1    </td>\n",
       "        </tr>\n",
       "        <tr>\n",
       "            <td>1            </td> <td>1    </td>\n",
       "        </tr>\n",
       "        <tr>\n",
       "            <td>2            </td> <td>3    </td>\n",
       "        </tr>\n",
       "        <tr>\n",
       "            <td>3            </td> <td>11   </td>\n",
       "        </tr>\n",
       "        <tr>\n",
       "            <td>4            </td> <td>21   </td>\n",
       "        </tr>\n",
       "        <tr>\n",
       "            <td>5            </td> <td>112  </td>\n",
       "        </tr>\n",
       "        <tr>\n",
       "            <td>6+           </td> <td>30   </td>\n",
       "        </tr>\n",
       "    </tbody>\n",
       "</table>"
      ],
      "text/plain": [
       "number_alters | count\n",
       "0             | 1\n",
       "1             | 1\n",
       "2             | 3\n",
       "3             | 11\n",
       "4             | 21\n",
       "5             | 112\n",
       "6+            | 30"
      ]
     },
     "execution_count": 178,
     "metadata": {},
     "output_type": "execute_result"
    }
   ],
   "source": [
    "# distribution of number of reported confidants\n",
    "survey.group('number_alters')"
   ]
  },
  {
   "cell_type": "markdown",
   "metadata": {},
   "source": [
    "It can be easier to make sense of this kind of information with a plot:"
   ]
  },
  {
   "cell_type": "code",
   "execution_count": 179,
   "metadata": {},
   "outputs": [
    {
     "data": {
      "image/png": "[encoded data removed]",
      "text/plain": [
       "<Figure size 432x288 with 1 Axes>"
      ]
     },
     "metadata": {},
     "output_type": "display_data"
    }
   ],
   "source": [
    "# bar plot showing the distribution of number of reported confidants\n",
    "survey.group('number_alters').bar('number_alters')"
   ]
  },
  {
   "cell_type": "markdown",
   "metadata": {},
   "source": [
    "It looks pretty clear that the average is higher than 3."
   ]
  },
  {
   "cell_type": "code",
   "execution_count": 180,
   "metadata": {},
   "outputs": [],
   "source": [
    "def recode_number_alters(na):\n",
    "    if na in ['0', '1', '2', '3', '4', '5']:\n",
    "        return int(na)\n",
    "    elif na in ['6', '6+']:\n",
    "        return 6"
   ]
  },
  {
   "cell_type": "code",
   "execution_count": 181,
   "metadata": {},
   "outputs": [],
   "source": [
    "# apply the recode function to code 6+ alters to 6\n",
    "survey['number_alters_recoded'] = survey.apply(recode_number_alters, 'number_alters') "
   ]
  },
  {
   "cell_type": "code",
   "execution_count": 182,
   "metadata": {},
   "outputs": [
    {
     "data": {
      "text/html": [
       "<table border=\"1\" class=\"dataframe\">\n",
       "    <thead>\n",
       "        <tr>\n",
       "            <th>number_alters_recoded</th> <th>count</th>\n",
       "        </tr>\n",
       "    </thead>\n",
       "    <tbody>\n",
       "        <tr>\n",
       "            <td>0                    </td> <td>1    </td>\n",
       "        </tr>\n",
       "        <tr>\n",
       "            <td>1                    </td> <td>1    </td>\n",
       "        </tr>\n",
       "        <tr>\n",
       "            <td>2                    </td> <td>3    </td>\n",
       "        </tr>\n",
       "        <tr>\n",
       "            <td>3                    </td> <td>11   </td>\n",
       "        </tr>\n",
       "        <tr>\n",
       "            <td>4                    </td> <td>21   </td>\n",
       "        </tr>\n",
       "        <tr>\n",
       "            <td>5                    </td> <td>112  </td>\n",
       "        </tr>\n",
       "        <tr>\n",
       "            <td>6                    </td> <td>30   </td>\n",
       "        </tr>\n",
       "    </tbody>\n",
       "</table>"
      ],
      "text/plain": [
       "number_alters_recoded | count\n",
       "0                     | 1\n",
       "1                     | 1\n",
       "2                     | 3\n",
       "3                     | 11\n",
       "4                     | 21\n",
       "5                     | 112\n",
       "6                     | 30"
      ]
     },
     "execution_count": 182,
     "metadata": {},
     "output_type": "execute_result"
    }
   ],
   "source": [
    "# make a table of the recoded values\n",
    "survey.group('number_alters_recoded') "
   ]
  },
  {
   "cell_type": "code",
   "execution_count": 183,
   "metadata": {},
   "outputs": [
    {
     "data": {
      "text/plain": [
       "4.8268156424581008"
      ]
     },
     "execution_count": 183,
     "metadata": {},
     "output_type": "execute_result"
    }
   ],
   "source": [
    "# calculate the average\n",
    "np.mean(survey['number_alters_recoded'])"
   ]
  },
  {
   "cell_type": "markdown",
   "metadata": {},
   "source": [
    "Note that this estimate is, if anything, low. Why?"
   ]
  },
  {
   "cell_type": "markdown",
   "metadata": {},
   "source": [
    "[ANSWER: because we've recoded 6+ to 6, but some 6+ values could be even higher.]"
   ]
  },
  {
   "cell_type": "markdown",
   "metadata": {},
   "source": [
    "We won't do this now, but an alternate approach would be to fit some kind of parametric distribution to the data we observe, and to use the inferred mean of that distribution as an estimate.  This would be an interesting extension to pursue."
   ]
  },
  {
   "cell_type": "markdown",
   "metadata": {},
   "source": [
    "### Is this a meaningful difference?"
   ]
  },
  {
   "cell_type": "markdown",
   "metadata": {},
   "source": [
    "We see a difference in the point estimate between the average American discussion network and the network among Berkeley students. But, of course, this difference comes from a sample of Berkeley students. If we talked to a different set of Berkeley students, we could get a different answer. How do we know if what we observe in our sample is different enough from 3 to conclude that the networks of Berkeley students are in fact bigger?"
   ]
  },
  {
   "cell_type": "markdown",
   "metadata": {},
   "source": [
    "We can actually estimate the sampling variation from the data we collected under the assumption that we have a random sample of Berkeley students. \n",
    "\n",
    "(This is a stretch, of course - we didn't actually take a random sample. What difference might we expect between the people in our dataset and a randomly selected set of Berkeley students?)\n",
    "\n",
    "In order to estimate the sampling variation, we'll use an approach called resampling or the bootstrap."
   ]
  },
  {
   "cell_type": "markdown",
   "metadata": {},
   "source": [
    "We can take one resample of our survey like this:"
   ]
  },
  {
   "cell_type": "code",
   "execution_count": 184,
   "metadata": {},
   "outputs": [],
   "source": [
    "resampled_survey = survey.select('number_alters_recoded').sample(num_responses)"
   ]
  },
  {
   "cell_type": "markdown",
   "metadata": {},
   "source": [
    "To see what happened here, let's look at `resampled_survey`:"
   ]
  },
  {
   "cell_type": "code",
   "execution_count": 185,
   "metadata": {},
   "outputs": [
    {
     "data": {
      "text/html": [
       "<table border=\"1\" class=\"dataframe\">\n",
       "    <thead>\n",
       "        <tr>\n",
       "            <th>number_alters_recoded</th>\n",
       "        </tr>\n",
       "    </thead>\n",
       "    <tbody>\n",
       "        <tr>\n",
       "            <td>5                    </td>\n",
       "        </tr>\n",
       "        <tr>\n",
       "            <td>5                    </td>\n",
       "        </tr>\n",
       "        <tr>\n",
       "            <td>5                    </td>\n",
       "        </tr>\n",
       "        <tr>\n",
       "            <td>6                    </td>\n",
       "        </tr>\n",
       "        <tr>\n",
       "            <td>6                    </td>\n",
       "        </tr>\n",
       "        <tr>\n",
       "            <td>3                    </td>\n",
       "        </tr>\n",
       "        <tr>\n",
       "            <td>5                    </td>\n",
       "        </tr>\n",
       "        <tr>\n",
       "            <td>5                    </td>\n",
       "        </tr>\n",
       "        <tr>\n",
       "            <td>5                    </td>\n",
       "        </tr>\n",
       "        <tr>\n",
       "            <td>4                    </td>\n",
       "        </tr>\n",
       "    </tbody>\n",
       "</table>\n",
       "<p>... (169 rows omitted)</p>"
      ],
      "text/plain": [
       "number_alters_recoded\n",
       "5\n",
       "5\n",
       "5\n",
       "6\n",
       "6\n",
       "3\n",
       "5\n",
       "5\n",
       "5\n",
       "4\n",
       "... (169 rows omitted)"
      ]
     },
     "execution_count": 185,
     "metadata": {},
     "output_type": "execute_result"
    }
   ],
   "source": [
    "resampled_survey"
   ]
  },
  {
   "cell_type": "markdown",
   "metadata": {},
   "source": [
    "`resampled_survey` is a random sample of the data from the `number_alters_recoded` values recorded in the original survey dataset."
   ]
  },
  {
   "cell_type": "markdown",
   "metadata": {},
   "source": [
    "To estimate the sampling variation, we need many resamples. So we'll stick the resampling in a loop:"
   ]
  },
  {
   "cell_type": "code",
   "execution_count": 186,
   "metadata": {},
   "outputs": [],
   "source": [
    "resampled_number_alters = make_array()\n",
    "\n",
    "for _ in np.arange(10000):\n",
    "    # NB: num_responses rows in our dataset\n",
    "    resampled_survey = survey.select('number_alters_recoded').sample(num_responses)  # resample the survey\n",
    "    resampled_number_alters = np.append(resampled_number_alters, \n",
    "                                        np.mean(resampled_survey['number_alters_recoded'])) # calculate the mean and add it to our list of means\n",
    "resampled_net_size = Table().with_column('number_alters_recoded', resampled_number_alters)"
   ]
  },
  {
   "cell_type": "markdown",
   "metadata": {},
   "source": [
    "`resampled_net_size` now has the average number of alters calculated for many different resamples of our data."
   ]
  },
  {
   "cell_type": "markdown",
   "metadata": {},
   "source": [
    "Let's look at the distribution of resampled network sizes"
   ]
  },
  {
   "cell_type": "code",
   "execution_count": 187,
   "metadata": {},
   "outputs": [
    {
     "data": {
      "image/png": "[encoded data removed]",
      "text/plain": [
       "<Figure size 432x288 with 1 Axes>"
      ]
     },
     "metadata": {},
     "output_type": "display_data"
    }
   ],
   "source": [
    "resampled_net_size.hist('number_alters_recoded')"
   ]
  },
  {
   "cell_type": "markdown",
   "metadata": {},
   "source": [
    "We see that we do indeed get different estimates from sample to sample, but they are all bigger than 3. So this analysis suggests that it's safe to conclude that Berkeley students' discussion networks are bigger than the average American's discussion networks. This conclusion is based on our assumptions that (1) that we have a random sample of Berkeley students; and (2) that the average American's discussion network has 3 people in it."
   ]
  },
  {
   "cell_type": "markdown",
   "metadata": {},
   "source": [
    "# Respondents' confidants"
   ]
  },
  {
   "cell_type": "markdown",
   "metadata": {},
   "source": [
    "Now let's dig a little deeper into who was names as a confidant by our survey respondents."
   ]
  },
  {
   "cell_type": "markdown",
   "metadata": {},
   "source": [
    "## Relationship between respondent and first alter named: gender"
   ]
  },
  {
   "cell_type": "markdown",
   "metadata": {},
   "source": [
    "In Lab, you'll learn how to work with all of the alters that were named. Here in lecture, we'll keep things simple by looking at the relationship between the respondent and the first alter that the respondent named."
   ]
  },
  {
   "cell_type": "markdown",
   "metadata": {},
   "source": [
    "We'll start by looking at the alter's gender."
   ]
  },
  {
   "cell_type": "markdown",
   "metadata": {},
   "source": [
    "What is the distribution of genders among the first alters named?"
   ]
  },
  {
   "cell_type": "code",
   "execution_count": 188,
   "metadata": {},
   "outputs": [
    {
     "data": {
      "text/html": [
       "<table border=\"1\" class=\"dataframe\">\n",
       "    <thead>\n",
       "        <tr>\n",
       "            <th>alter1_gender</th> <th>count</th>\n",
       "        </tr>\n",
       "    </thead>\n",
       "    <tbody>\n",
       "        <tr>\n",
       "            <td>Female       </td> <td>108  </td>\n",
       "        </tr>\n",
       "        <tr>\n",
       "            <td>Male         </td> <td>68   </td>\n",
       "        </tr>\n",
       "        <tr>\n",
       "            <td>Other        </td> <td>2    </td>\n",
       "        </tr>\n",
       "        <tr>\n",
       "            <td>nan          </td> <td>1    </td>\n",
       "        </tr>\n",
       "    </tbody>\n",
       "</table>"
      ],
      "text/plain": [
       "alter1_gender | count\n",
       "Female        | 108\n",
       "Male          | 68\n",
       "Other         | 2\n",
       "nan           | 1"
      ]
     },
     "execution_count": 188,
     "metadata": {},
     "output_type": "execute_result"
    }
   ],
   "source": [
    "# table of genders of the first alter named\n",
    "survey.group('alter1_gender')"
   ]
  },
  {
   "cell_type": "markdown",
   "metadata": {},
   "source": [
    "Does the gender of the first named alter seem to be related to the gender of the ego?"
   ]
  },
  {
   "cell_type": "code",
   "execution_count": 189,
   "metadata": {},
   "outputs": [
    {
     "data": {
      "text/html": [
       "<div>\n",
       "<style>\n",
       "    .dataframe thead tr:only-child th {\n",
       "        text-align: right;\n",
       "    }\n",
       "\n",
       "    .dataframe thead th {\n",
       "        text-align: left;\n",
       "    }\n",
       "\n",
       "    .dataframe tbody tr th {\n",
       "        vertical-align: top;\n",
       "    }\n",
       "</style>\n",
       "<table border=\"1\" class=\"dataframe\">\n",
       "  <thead>\n",
       "    <tr style=\"text-align: right;\">\n",
       "      <th>alter</th>\n",
       "      <th>Female</th>\n",
       "      <th>Male</th>\n",
       "      <th>Other</th>\n",
       "      <th>nan</th>\n",
       "    </tr>\n",
       "    <tr>\n",
       "      <th>ego</th>\n",
       "      <th></th>\n",
       "      <th></th>\n",
       "      <th></th>\n",
       "      <th></th>\n",
       "    </tr>\n",
       "  </thead>\n",
       "  <tbody>\n",
       "    <tr>\n",
       "      <th>Female</th>\n",
       "      <td>74</td>\n",
       "      <td>32</td>\n",
       "      <td>1</td>\n",
       "      <td>0</td>\n",
       "    </tr>\n",
       "    <tr>\n",
       "      <th>Male</th>\n",
       "      <td>34</td>\n",
       "      <td>36</td>\n",
       "      <td>1</td>\n",
       "      <td>1</td>\n",
       "    </tr>\n",
       "  </tbody>\n",
       "</table>\n",
       "</div>"
      ],
      "text/plain": [
       "alter   Female  Male  Other  nan\n",
       "ego                             \n",
       "Female      74    32      1    0\n",
       "Male        34    36      1    1"
      ]
     },
     "execution_count": 189,
     "metadata": {},
     "output_type": "execute_result"
    }
   ],
   "source": [
    "# crosstab of respondent and alter1 gender\n",
    "pd.crosstab(survey['respondent_gender'], survey['alter1_gender'], rownames=['ego'], colnames=['alter'])"
   ]
  },
  {
   "cell_type": "markdown",
   "metadata": {},
   "source": [
    "We might want to improve this table by looking at proportions by row. (NB: why by row?)"
   ]
  },
  {
   "cell_type": "code",
   "execution_count": 190,
   "metadata": {},
   "outputs": [
    {
     "data": {
      "text/html": [
       "<div>\n",
       "<style>\n",
       "    .dataframe thead tr:only-child th {\n",
       "        text-align: right;\n",
       "    }\n",
       "\n",
       "    .dataframe thead th {\n",
       "        text-align: left;\n",
       "    }\n",
       "\n",
       "    .dataframe tbody tr th {\n",
       "        vertical-align: top;\n",
       "    }\n",
       "</style>\n",
       "<table border=\"1\" class=\"dataframe\">\n",
       "  <thead>\n",
       "    <tr style=\"text-align: right;\">\n",
       "      <th>alter</th>\n",
       "      <th>Female</th>\n",
       "      <th>Male</th>\n",
       "      <th>Other</th>\n",
       "      <th>nan</th>\n",
       "    </tr>\n",
       "    <tr>\n",
       "      <th>ego</th>\n",
       "      <th></th>\n",
       "      <th></th>\n",
       "      <th></th>\n",
       "      <th></th>\n",
       "    </tr>\n",
       "  </thead>\n",
       "  <tbody>\n",
       "    <tr>\n",
       "      <th>Female</th>\n",
       "      <td>0.691589</td>\n",
       "      <td>0.299065</td>\n",
       "      <td>0.009346</td>\n",
       "      <td>0.000000</td>\n",
       "    </tr>\n",
       "    <tr>\n",
       "      <th>Male</th>\n",
       "      <td>0.472222</td>\n",
       "      <td>0.500000</td>\n",
       "      <td>0.013889</td>\n",
       "      <td>0.013889</td>\n",
       "    </tr>\n",
       "  </tbody>\n",
       "</table>\n",
       "</div>"
      ],
      "text/plain": [
       "alter     Female      Male     Other       nan\n",
       "ego                                           \n",
       "Female  0.691589  0.299065  0.009346  0.000000\n",
       "Male    0.472222  0.500000  0.013889  0.013889"
      ]
     },
     "execution_count": 190,
     "metadata": {},
     "output_type": "execute_result"
    }
   ],
   "source": [
    "pd.crosstab(survey['respondent_gender'], survey['alter1_gender'], \n",
    "            rownames=['ego'], colnames=['alter'], normalize='index')"
   ]
  },
  {
   "cell_type": "markdown",
   "metadata": {},
   "source": [
    "How many egos name alters of a different gender? (We'll only deal with males and females to keep this simple.)"
   ]
  },
  {
   "cell_type": "code",
   "execution_count": null,
   "metadata": {},
   "outputs": [],
   "source": [
    "## calculate the fraction of all ties that involve pairs of different genders\n",
    "obs_frac_nonhom = (32 + 34) / (74 + 32 + 34 + 36)\n",
    "obs_frac_nonhom"
   ]
  },
  {
   "cell_type": "markdown",
   "metadata": {},
   "source": [
    "### Is this a meaningful difference?"
   ]
  },
  {
   "cell_type": "markdown",
   "metadata": {},
   "source": [
    "Again, we are faced with an important question: is the observed fraction of ego-alter pairs that is nonhomogenous by gender high? Low? What would we expect it to be?"
   ]
  },
  {
   "cell_type": "markdown",
   "metadata": {},
   "source": [
    "To answer this question, we have to think about what we would expect to see if picking an alter were random"
   ]
  },
  {
   "cell_type": "code",
   "execution_count": 197,
   "metadata": {},
   "outputs": [
    {
     "data": {
      "text/plain": [
       "176"
      ]
     },
     "execution_count": 197,
     "metadata": {},
     "output_type": "execute_result"
    }
   ],
   "source": [
    "# narrow down to only male and female alters, to keep things simple\n",
    "survey_altermf = survey.to_df()\n",
    "survey_altermf = survey_altermf.loc[survey_altermf['alter1_gender'].isin(['Female', 'Male'])]\n",
    "survey_altermf = Table().from_df(survey_altermf)\n",
    "num_responses_mf = survey_altermf.num_rows\n",
    "num_responses_mf"
   ]
  },
  {
   "cell_type": "markdown",
   "metadata": {},
   "source": [
    "Let's shuffle our data to guarantee that the gender of the alter is random:"
   ]
  },
  {
   "cell_type": "code",
   "execution_count": 198,
   "metadata": {},
   "outputs": [
    {
     "data": {
      "text/html": [
       "<table border=\"1\" class=\"dataframe\">\n",
       "    <thead>\n",
       "        <tr>\n",
       "            <th>respondent_gender</th> <th>alter1_gender</th>\n",
       "        </tr>\n",
       "    </thead>\n",
       "    <tbody>\n",
       "        <tr>\n",
       "            <td>Male             </td> <td>Female       </td>\n",
       "        </tr>\n",
       "        <tr>\n",
       "            <td>Male             </td> <td>Male         </td>\n",
       "        </tr>\n",
       "        <tr>\n",
       "            <td>Female           </td> <td>Male         </td>\n",
       "        </tr>\n",
       "        <tr>\n",
       "            <td>Female           </td> <td>Male         </td>\n",
       "        </tr>\n",
       "        <tr>\n",
       "            <td>Female           </td> <td>Male         </td>\n",
       "        </tr>\n",
       "        <tr>\n",
       "            <td>Female           </td> <td>Female       </td>\n",
       "        </tr>\n",
       "        <tr>\n",
       "            <td>Female           </td> <td>Female       </td>\n",
       "        </tr>\n",
       "        <tr>\n",
       "            <td>Female           </td> <td>Female       </td>\n",
       "        </tr>\n",
       "        <tr>\n",
       "            <td>Female           </td> <td>Female       </td>\n",
       "        </tr>\n",
       "        <tr>\n",
       "            <td>Female           </td> <td>Female       </td>\n",
       "        </tr>\n",
       "    </tbody>\n",
       "</table>\n",
       "<p>... (166 rows omitted)</p>"
      ],
      "text/plain": [
       "respondent_gender | alter1_gender\n",
       "Male              | Female\n",
       "Male              | Male\n",
       "Female            | Male\n",
       "Female            | Male\n",
       "Female            | Male\n",
       "Female            | Female\n",
       "Female            | Female\n",
       "Female            | Female\n",
       "Female            | Female\n",
       "Female            | Female\n",
       "... (166 rows omitted)"
      ]
     },
     "execution_count": 198,
     "metadata": {},
     "output_type": "execute_result"
    }
   ],
   "source": [
    "permuted_alter_gender = survey_altermf.select('alter1_gender').sample(num_responses_mf) # NB: num_responses rows in our dataset\n",
    "permuted_dyads = Table().with_columns(\n",
    "    'respondent_gender', survey_altermf.column('respondent_gender'),\n",
    "    'alter1_gender', permuted_alter_gender.column(0))\n",
    "permuted_dyads"
   ]
  },
  {
   "cell_type": "markdown",
   "metadata": {},
   "source": [
    "We can summarize this relationship with a correlation coefficient"
   ]
  },
  {
   "cell_type": "markdown",
   "metadata": {},
   "source": [
    "This reshuffled version of the data is the basis for a type of *null model* under which there is no relationship between ego's gender and alter's gender. This null model can be a useful comparison point for the observed data."
   ]
  },
  {
   "cell_type": "markdown",
   "metadata": {},
   "source": [
    "Let's write a function to help calculate the fraction of dyads that goes from male to female or from female to male."
   ]
  },
  {
   "cell_type": "code",
   "execution_count": 199,
   "metadata": {},
   "outputs": [
    {
     "data": {
      "text/plain": [
       "0.4715909090909091"
      ]
     },
     "execution_count": 199,
     "metadata": {},
     "output_type": "execute_result"
    }
   ],
   "source": [
    "def frac_mf_dyads(permuted_df):\n",
    "    \"\"\"\n",
    "    Calculate the fraction of dyads that is male to female OR female to male\n",
    "    \"\"\"\n",
    "    counts_mf = permuted_dyads.group(['respondent_gender', 'alter1_gender']).where('respondent_gender', 'Male').where('alter1_gender', 'Female')\n",
    "    mf = counts_mf.column('count').item(0)\n",
    "    counts_fm = permuted_dyads.group(['respondent_gender', 'alter1_gender']).where('respondent_gender', 'Female').where('alter1_gender', 'Male')\n",
    "    fm = counts_fm.column('count').item(0)\n",
    "    \n",
    "    return((mf + fm)/permuted_df.num_rows)\n",
    "    \n",
    "#permuted_frac_mf = permuted_dyads.where()\n",
    "frac_mf_dyads(permuted_dyads)"
   ]
  },
  {
   "cell_type": "markdown",
   "metadata": {},
   "source": [
    "Now take many resamples and calculate the fraction of cross-gender edges for each one"
   ]
  },
  {
   "cell_type": "code",
   "execution_count": 200,
   "metadata": {},
   "outputs": [],
   "source": [
    "nonhom_fracs = make_array()\n",
    "\n",
    "# NB: this loop follows a similar pattern to the loop we wrote above\n",
    "for _ in np.arange(10000):\n",
    "    permuted_alter_gender = survey_altermf.select('alter1_gender').sample(num_responses_mf) # NB: num_responses rows in our dataset\n",
    "    permuted_dyads = Table().with_columns(\n",
    "        'respondent_gender', survey_altermf.column('respondent_gender'),\n",
    "        'alter1_gender', permuted_alter_gender.column(0))\n",
    "    nonhom_fracs = np.append(nonhom_fracs, frac_mf_dyads(permuted_dyads))\n",
    "null_fracs = Table().with_column('frac_dyads_nonhom', nonhom_fracs)"
   ]
  },
  {
   "cell_type": "code",
   "execution_count": 201,
   "metadata": {},
   "outputs": [
    {
     "data": {
      "image/png": "[encoded data removed]",
      "text/plain": [
       "<Figure size 432x288 with 1 Axes>"
      ]
     },
     "metadata": {},
     "output_type": "display_data"
    }
   ],
   "source": [
    "# make a histogram showing the resampled fraction of dyads that are nonhomogenous\n",
    "null_fracs.hist('frac_dyads_nonhom')"
   ]
  },
  {
   "cell_type": "markdown",
   "metadata": {},
   "source": [
    "Let's add a plot showing where our observed value is, so that we can easily compare the observed value to the null distribution."
   ]
  },
  {
   "cell_type": "code",
   "execution_count": 202,
   "metadata": {},
   "outputs": [
    {
     "data": {
      "image/png": "[encoded data removed]",
      "text/plain": [
       "<Figure size 432x288 with 1 Axes>"
      ]
     },
     "metadata": {},
     "output_type": "display_data"
    }
   ],
   "source": [
    "null_fracs.hist('frac_dyads_nonhom')\n",
    "#plt.scatter(obs_frac_nonhom,0,c='red',s=80);\n",
    "plt.axvline(x=obs_frac_nonhom,c='red',linewidth=2);"
   ]
  },
  {
   "cell_type": "markdown",
   "metadata": {},
   "source": [
    "Let's compare the expected value (average) of the null model to this distribution"
   ]
  },
  {
   "cell_type": "code",
   "execution_count": 203,
   "metadata": {},
   "outputs": [
    {
     "data": {
      "image/png": "[encoded data removed]",
      "text/plain": [
       "<Figure size 432x288 with 1 Axes>"
      ]
     },
     "metadata": {},
     "output_type": "display_data"
    }
   ],
   "source": [
    "null_ev = np.mean(null_fracs['frac_dyads_nonhom'])\n",
    "null_fracs.hist('frac_dyads_nonhom')\n",
    "#plt.scatter(null_ev,0,c='yellow',s=80);\n",
    "plt.axvline(x=null_ev,c='yellow',linewidth=2);\n",
    "plt.axvline(x=obs_frac_nonhom,c='red',linewidth=2);"
   ]
  },
  {
   "cell_type": "markdown",
   "metadata": {},
   "source": [
    "## Relationship between respondent and first alter named: age"
   ]
  },
  {
   "cell_type": "markdown",
   "metadata": {},
   "source": [
    "We can summarize this relationship with a correlation coefficient"
   ]
  },
  {
   "cell_type": "code",
   "execution_count": 191,
   "metadata": {},
   "outputs": [
    {
     "data": {
      "text/html": [
       "<div>\n",
       "<style>\n",
       "    .dataframe thead tr:only-child th {\n",
       "        text-align: right;\n",
       "    }\n",
       "\n",
       "    .dataframe thead th {\n",
       "        text-align: left;\n",
       "    }\n",
       "\n",
       "    .dataframe tbody tr th {\n",
       "        vertical-align: top;\n",
       "    }\n",
       "</style>\n",
       "<table border=\"1\" class=\"dataframe\">\n",
       "  <thead>\n",
       "    <tr style=\"text-align: right;\">\n",
       "      <th></th>\n",
       "      <th>respondent_age</th>\n",
       "      <th>alter1_age</th>\n",
       "    </tr>\n",
       "  </thead>\n",
       "  <tbody>\n",
       "    <tr>\n",
       "      <th>respondent_age</th>\n",
       "      <td>1.000000</td>\n",
       "      <td>0.218167</td>\n",
       "    </tr>\n",
       "    <tr>\n",
       "      <th>alter1_age</th>\n",
       "      <td>0.218167</td>\n",
       "      <td>1.000000</td>\n",
       "    </tr>\n",
       "  </tbody>\n",
       "</table>\n",
       "</div>"
      ],
      "text/plain": [
       "                respondent_age  alter1_age\n",
       "respondent_age        1.000000    0.218167\n",
       "alter1_age            0.218167    1.000000"
      ]
     },
     "execution_count": 191,
     "metadata": {},
     "output_type": "execute_result"
    }
   ],
   "source": [
    "# calculate the correlation coefficient\n",
    "survey.to_df()[['respondent_age', 'alter1_age']].corr()"
   ]
  },
  {
   "cell_type": "code",
   "execution_count": 192,
   "metadata": {},
   "outputs": [
    {
     "data": {
      "text/plain": [
       "array([[ 1.        ,  0.21816712],\n",
       "       [ 0.21816712,  1.        ]])"
      ]
     },
     "execution_count": 192,
     "metadata": {},
     "output_type": "execute_result"
    }
   ],
   "source": [
    "# alternate way to do this using numpy (shows how to handle removing nans)\n",
    "mask = ~np.isnan(survey.column('respondent_age')) & ~np.isnan(survey.column('alter1_age'))\n",
    "np.corrcoef(survey['respondent_age'][mask], survey['alter1_age'][mask])"
   ]
  },
  {
   "cell_type": "markdown",
   "metadata": {},
   "source": [
    "Making a visualization helps suggest why the correlation coefficient is (perhaps) lower than expected:"
   ]
  },
  {
   "cell_type": "code",
   "execution_count": 193,
   "metadata": {},
   "outputs": [
    {
     "data": {
      "image/png": "[encoded data removed]",
      "text/plain": [
       "<Figure size 360x360 with 1 Axes>"
      ]
     },
     "metadata": {},
     "output_type": "display_data"
    }
   ],
   "source": [
    "# plot alter1_age (y axis) vs respondent_age (x axis)\n",
    "survey.scatter('respondent_age', 'alter1_age')"
   ]
  },
  {
   "cell_type": "markdown",
   "metadata": {},
   "source": [
    "You'll take a deeper dive in lab."
   ]
  },
  {
   "cell_type": "markdown",
   "metadata": {},
   "source": [
    "## Relationship between respondent and first alter named: class year"
   ]
  },
  {
   "cell_type": "code",
   "execution_count": null,
   "metadata": {},
   "outputs": [],
   "source": []
  },
  {
   "cell_type": "code",
   "execution_count": 194,
   "metadata": {},
   "outputs": [
    {
     "data": {
      "text/html": [
       "<div>\n",
       "<style>\n",
       "    .dataframe thead tr:only-child th {\n",
       "        text-align: right;\n",
       "    }\n",
       "\n",
       "    .dataframe thead th {\n",
       "        text-align: left;\n",
       "    }\n",
       "\n",
       "    .dataframe tbody tr th {\n",
       "        vertical-align: top;\n",
       "    }\n",
       "</style>\n",
       "<table border=\"1\" class=\"dataframe\">\n",
       "  <thead>\n",
       "    <tr style=\"text-align: right;\">\n",
       "      <th>alter</th>\n",
       "      <th>Freshman</th>\n",
       "      <th>Junior</th>\n",
       "      <th>Other</th>\n",
       "      <th>Senior</th>\n",
       "      <th>Sophomore</th>\n",
       "      <th>nan</th>\n",
       "    </tr>\n",
       "    <tr>\n",
       "      <th>ego</th>\n",
       "      <th></th>\n",
       "      <th></th>\n",
       "      <th></th>\n",
       "      <th></th>\n",
       "      <th></th>\n",
       "      <th></th>\n",
       "    </tr>\n",
       "  </thead>\n",
       "  <tbody>\n",
       "    <tr>\n",
       "      <th>Freshman</th>\n",
       "      <td>4</td>\n",
       "      <td>0</td>\n",
       "      <td>1</td>\n",
       "      <td>0</td>\n",
       "      <td>0</td>\n",
       "      <td>0</td>\n",
       "    </tr>\n",
       "    <tr>\n",
       "      <th>Junior</th>\n",
       "      <td>1</td>\n",
       "      <td>31</td>\n",
       "      <td>28</td>\n",
       "      <td>5</td>\n",
       "      <td>3</td>\n",
       "      <td>0</td>\n",
       "    </tr>\n",
       "    <tr>\n",
       "      <th>Other</th>\n",
       "      <td>0</td>\n",
       "      <td>0</td>\n",
       "      <td>14</td>\n",
       "      <td>4</td>\n",
       "      <td>1</td>\n",
       "      <td>0</td>\n",
       "    </tr>\n",
       "    <tr>\n",
       "      <th>Senior</th>\n",
       "      <td>0</td>\n",
       "      <td>8</td>\n",
       "      <td>31</td>\n",
       "      <td>30</td>\n",
       "      <td>1</td>\n",
       "      <td>0</td>\n",
       "    </tr>\n",
       "    <tr>\n",
       "      <th>Sophomore</th>\n",
       "      <td>0</td>\n",
       "      <td>2</td>\n",
       "      <td>6</td>\n",
       "      <td>0</td>\n",
       "      <td>8</td>\n",
       "      <td>1</td>\n",
       "    </tr>\n",
       "  </tbody>\n",
       "</table>\n",
       "</div>"
      ],
      "text/plain": [
       "alter      Freshman  Junior  Other  Senior  Sophomore  nan\n",
       "ego                                                       \n",
       "Freshman          4       0      1       0          0    0\n",
       "Junior            1      31     28       5          3    0\n",
       "Other             0       0     14       4          1    0\n",
       "Senior            0       8     31      30          1    0\n",
       "Sophomore         0       2      6       0          8    1"
      ]
     },
     "execution_count": 194,
     "metadata": {},
     "output_type": "execute_result"
    }
   ],
   "source": [
    "# table showing counts of the class year of first alter named (cols) by class year of respondent (rows)\n",
    "pd.crosstab(survey['respondent_class'], survey['alter1_class'], rownames=['ego'], colnames=['alter'])"
   ]
  },
  {
   "cell_type": "code",
   "execution_count": 195,
   "metadata": {},
   "outputs": [
    {
     "data": {
      "text/html": [
       "<div>\n",
       "<style>\n",
       "    .dataframe thead tr:only-child th {\n",
       "        text-align: right;\n",
       "    }\n",
       "\n",
       "    .dataframe thead th {\n",
       "        text-align: left;\n",
       "    }\n",
       "\n",
       "    .dataframe tbody tr th {\n",
       "        vertical-align: top;\n",
       "    }\n",
       "</style>\n",
       "<table border=\"1\" class=\"dataframe\">\n",
       "  <thead>\n",
       "    <tr style=\"text-align: right;\">\n",
       "      <th>alter</th>\n",
       "      <th>Freshman</th>\n",
       "      <th>Junior</th>\n",
       "      <th>Other</th>\n",
       "      <th>Senior</th>\n",
       "      <th>Sophomore</th>\n",
       "      <th>nan</th>\n",
       "    </tr>\n",
       "    <tr>\n",
       "      <th>ego</th>\n",
       "      <th></th>\n",
       "      <th></th>\n",
       "      <th></th>\n",
       "      <th></th>\n",
       "      <th></th>\n",
       "      <th></th>\n",
       "    </tr>\n",
       "  </thead>\n",
       "  <tbody>\n",
       "    <tr>\n",
       "      <th>Freshman</th>\n",
       "      <td>0.800000</td>\n",
       "      <td>0.000000</td>\n",
       "      <td>0.200000</td>\n",
       "      <td>0.000000</td>\n",
       "      <td>0.000000</td>\n",
       "      <td>0.000000</td>\n",
       "    </tr>\n",
       "    <tr>\n",
       "      <th>Junior</th>\n",
       "      <td>0.014706</td>\n",
       "      <td>0.455882</td>\n",
       "      <td>0.411765</td>\n",
       "      <td>0.073529</td>\n",
       "      <td>0.044118</td>\n",
       "      <td>0.000000</td>\n",
       "    </tr>\n",
       "    <tr>\n",
       "      <th>Other</th>\n",
       "      <td>0.000000</td>\n",
       "      <td>0.000000</td>\n",
       "      <td>0.736842</td>\n",
       "      <td>0.210526</td>\n",
       "      <td>0.052632</td>\n",
       "      <td>0.000000</td>\n",
       "    </tr>\n",
       "    <tr>\n",
       "      <th>Senior</th>\n",
       "      <td>0.000000</td>\n",
       "      <td>0.114286</td>\n",
       "      <td>0.442857</td>\n",
       "      <td>0.428571</td>\n",
       "      <td>0.014286</td>\n",
       "      <td>0.000000</td>\n",
       "    </tr>\n",
       "    <tr>\n",
       "      <th>Sophomore</th>\n",
       "      <td>0.000000</td>\n",
       "      <td>0.117647</td>\n",
       "      <td>0.352941</td>\n",
       "      <td>0.000000</td>\n",
       "      <td>0.470588</td>\n",
       "      <td>0.058824</td>\n",
       "    </tr>\n",
       "  </tbody>\n",
       "</table>\n",
       "</div>"
      ],
      "text/plain": [
       "alter      Freshman    Junior     Other    Senior  Sophomore       nan\n",
       "ego                                                                   \n",
       "Freshman   0.800000  0.000000  0.200000  0.000000   0.000000  0.000000\n",
       "Junior     0.014706  0.455882  0.411765  0.073529   0.044118  0.000000\n",
       "Other      0.000000  0.000000  0.736842  0.210526   0.052632  0.000000\n",
       "Senior     0.000000  0.114286  0.442857  0.428571   0.014286  0.000000\n",
       "Sophomore  0.000000  0.117647  0.352941  0.000000   0.470588  0.058824"
      ]
     },
     "execution_count": 195,
     "metadata": {},
     "output_type": "execute_result"
    }
   ],
   "source": [
    "# normalize the table we just made by rows\n",
    "pd.crosstab(survey['respondent_class'], survey['alter1_class'], rownames=['ego'], colnames=['alter'], \n",
    "            normalize='index')"
   ]
  },
  {
   "cell_type": "code",
   "execution_count": 196,
   "metadata": {},
   "outputs": [
    {
     "data": {
      "image/png": "[encoded data removed]",
      "text/plain": [
       "<Figure size 432x288 with 1 Axes>"
      ]
     },
     "metadata": {},
     "output_type": "display_data"
    },
    {
     "data": {
      "image/png": "[encoded data removed]",
      "text/plain": [
       "<Figure size 432x288 with 1 Axes>"
      ]
     },
     "metadata": {},
     "output_type": "display_data"
    },
    {
     "data": {
      "image/png": "[encoded data removed]",
      "text/plain": [
       "<Figure size 432x288 with 1 Axes>"
      ]
     },
     "metadata": {},
     "output_type": "display_data"
    },
    {
     "data": {
      "image/png": "[encoded data removed]",
      "text/plain": [
       "<Figure size 432x288 with 1 Axes>"
      ]
     },
     "metadata": {},
     "output_type": "display_data"
    },
    {
     "data": {
      "image/png": "[encoded data removed]",
      "text/plain": [
       "<Figure size 432x288 with 1 Axes>"
      ]
     },
     "metadata": {},
     "output_type": "display_data"
    }
   ],
   "source": [
    "# make a plot showing the distribution of alter class for each ego class value\n",
    "for g in np.unique(survey['respondent_class']):\n",
    "    this_class_resp = survey.where('respondent_class', are.equal_to(g))\n",
    "    this_class_resp.group('alter1_class').barh('alter1_class');\n",
    "    plt.title('Ego: ' + g)"
   ]
  },
  {
   "cell_type": "code",
   "execution_count": null,
   "metadata": {},
   "outputs": [],
   "source": [
    "# end of demo"
   ]
  },
  {
   "cell_type": "code",
   "execution_count": null,
   "metadata": {},
   "outputs": [],
   "source": []
  }
 ],
 "metadata": {
  "anaconda-cloud": {},
  "kernelspec": {
   "display_name": "Python [default]",
   "language": "python",
   "name": "python3"
  },
  "language_info": {
   "codemirror_mode": {
    "name": "ipython",
    "version": 3
   },
   "file_extension": ".py",
   "mimetype": "text/x-python",
   "name": "python",
   "nbconvert_exporter": "python",
   "pygments_lexer": "ipython3",
   "version": "3.5.2"
  }
 },
 "nbformat": 4,
 "nbformat_minor": 1
}
