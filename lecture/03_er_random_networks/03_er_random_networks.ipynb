{
 "cells": [
  {
   "cell_type": "code",
   "execution_count": null,
   "metadata": {
    "nbpresent": {
     "id": "01060318-5dcd-4a10-9d2a-e48e3e62c74e"
    },
    "slideshow": {
     "slide_type": "skip"
    }
   },
   "outputs": [],
   "source": [
    "!pip install --upgrade networkx"
   ]
  },
  {
   "cell_type": "markdown",
   "metadata": {
    "slideshow": {
     "slide_type": "skip"
    }
   },
   "source": [
    "NB: to edit metadata, see [here](https://damianavila.github.io/RISE/customize.html)."
   ]
  },
  {
   "cell_type": "code",
   "execution_count": null,
   "metadata": {
    "nbpresent": {
     "id": "01060318-5dcd-4a10-9d2a-e48e3e62c74e"
    },
    "slideshow": {
     "slide_type": "skip"
    }
   },
   "outputs": [],
   "source": [
    "from IPython.core.display import HTML\n",
    "from datascience import *\n",
    "\n",
    "import matplotlib\n",
    "matplotlib.use('Agg')\n",
    "%matplotlib inline\n",
    "import matplotlib.pyplot as plt\n",
    "import numpy as np\n",
    "import os\n",
    "plt.style.use('fivethirtyeight')\n",
    "\n",
    "import networkx as nx\n",
    "\n",
    "#def css_styling():\n",
    "#    styles = open('../notebook_styles.css', 'r').read()\n",
    "#    return HTML(styles)\n",
    "#css_styling()\n",
    "\n",
    "# let's not show the matplotlib deprecation warnings\n",
    "import warnings\n",
    "warnings.filterwarnings('ignore')"
   ]
  },
  {
   "cell_type": "markdown",
   "metadata": {
    "nbpresent": {
     "id": "bba76747-f3b8-4513-9df1-2341e1abf774"
    },
    "slideshow": {
     "slide_type": "slide"
    }
   },
   "source": [
    "## The Erdos-Renyi random graph model\n",
    "\n",
    "### Social Networks  - Spring 2019"
   ]
  },
  {
   "cell_type": "markdown",
   "metadata": {
    "nbpresent": {
     "id": "ddd3e69a-8b1a-4382-970e-bd50c4ff20f3"
    },
    "slideshow": {
     "slide_type": "slide"
    }
   },
   "source": [
    "So far, we've discussed several different ways to measure network connectivity. This week, we're going to take our first look at a theoretical model of a network: the [Erdos-Renyi random graph model](https://en.wikipedia.org/wiki/Erd%C5%91s%E2%80%93R%C3%A9nyi_model). This model is sometimes also called the ER model. \n",
    "\n",
    "(Note: technically, there are a few different versions of the ER model, but they are qualitatively very similar to each other. We're not going to dwell on all of the different versions here.)"
   ]
  },
  {
   "cell_type": "markdown",
   "metadata": {
    "slideshow": {
     "slide_type": "slide"
    }
   },
   "source": [
    "One way to think about the ER model is that it is a recipe that describes how networks can be generated. "
   ]
  },
  {
   "cell_type": "markdown",
   "metadata": {
    "nbpresent": {
     "id": "ab6cbb08-b9d6-4f88-bd1c-c5012cd40381"
    },
    "slideshow": {
     "slide_type": "fragment"
    }
   },
   "source": [
    "The ER model has two parameters\n",
    "\n",
    "* $n$ - the number of nodes in the network\n",
    "* $p$ - for each pair of nodes, the probability that those nodes are connected by an edge\n",
    "\n",
    "You can think of the parameter $p$ as being a single number from $0$ to $1$ that controls the level of connectedness of the network. \n",
    "\n",
    "* when $p=0$, the network is not connected at all\n",
    "* when $p=1$, the network is completely connected (all possible edges exist).\n",
    "\n",
    "We are usually interested in $0 \\lt p \\lt 1$, ie, intermediate values of $p$."
   ]
  },
  {
   "cell_type": "markdown",
   "metadata": {
    "nbpresent": {
     "id": "3880726e-53d7-43ed-8136-0c72465dae5a"
    },
    "slideshow": {
     "slide_type": "slide"
    }
   },
   "source": [
    "To generate an ER graph for particular parameter values $n$ and $p$,\n",
    "you could follow this algorithm:\n",
    "\n",
    "    for each pair of vertices u and v:\n",
    "        flip a coin that shows heads with probability p\n",
    "        if the coin is heads:\n",
    "            add the edge (u,v) to the network\n",
    "        if the coin is tails:\n",
    "            do nothing\n",
    "  \n"
   ]
  },
  {
   "cell_type": "markdown",
   "metadata": {
    "nbpresent": {
     "id": "2edf457a-54ac-43f9-add9-f3ad5b0febb1"
    },
    "slideshow": {
     "slide_type": "fragment"
    }
   },
   "source": [
    "[LIVE DEMONSTRATION OF ER ALGORITHM]"
   ]
  },
  {
   "cell_type": "markdown",
   "metadata": {
    "slideshow": {
     "slide_type": "slide"
    }
   },
   "source": [
    "One way to understand the behavior of the ER model is to analyze it mathematically; in fact, this is what Erdos and Renyi originally did. It turns out that this simple model has some rich and interesting behavior."
   ]
  },
  {
   "cell_type": "markdown",
   "metadata": {
    "nbpresent": {
     "id": "2a2226ba-22e2-4530-be9b-6976bf88b168"
    },
    "slideshow": {
     "slide_type": "fragment"
    }
   },
   "source": [
    "In this class, we're going to study the ER model by using simulation; in other words, we're going to use the computer to create lots of different random networks in order to try to better understand the ER model. Simulation can be a powerful tool for answering all sorts of questions about network models."
   ]
  },
  {
   "cell_type": "markdown",
   "metadata": {
    "nbpresent": {
     "id": "7e534bc7-c8dc-4d1c-ab66-67d533d6c4dd"
    },
    "slideshow": {
     "slide_type": "slide"
    }
   },
   "source": [
    "### Investigating variation with fixed parameters"
   ]
  },
  {
   "cell_type": "markdown",
   "metadata": {
    "nbpresent": {
     "id": "2e33bc41-dbe8-47d6-88b2-4eb9a12267fd"
    },
    "slideshow": {
     "slide_type": "fragment"
    }
   },
   "source": [
    "The ER model is *stochastic*; in other words, it describes a process that has some randomness. If we pick a particular value for $n$ and $p$ and use the ER model to create a network, we do not know for certain exactly which network we will get."
   ]
  },
  {
   "cell_type": "markdown",
   "metadata": {
    "nbpresent": {
     "id": "588e9682-83cf-43a0-9829-a650daef57d1"
    },
    "slideshow": {
     "slide_type": "slide"
    }
   },
   "source": [
    "Let's illustrate this with a very simple example, $n = 2$.  \n",
    "In this case, there are only two possible networks:  \n",
    "Network A, which has no edges, and Network B, which has one edge (see below)."
   ]
  },
  {
   "cell_type": "markdown",
   "metadata": {
    "nbpresent": {
     "id": "e597ce6a-2e41-466f-80bf-cc4c9ced5a18"
    },
    "slideshow": {
     "slide_type": "fragment"
    }
   },
   "source": [
    "<img src=\"twonode_networks.png\" height=80% width=80%>"
   ]
  },
  {
   "cell_type": "markdown",
   "metadata": {
    "nbpresent": {
     "id": "7b69c30f-554d-4a04-8299-7bbd97321c51"
    },
    "slideshow": {
     "slide_type": "fragment"
    }
   },
   "source": [
    "How likely is it that an ER model with $n=2$ will produce Network A as opposed to Network B? That depends on the parameter $p$."
   ]
  },
  {
   "cell_type": "markdown",
   "metadata": {
    "nbpresent": {
     "id": "14a24814-d5e0-4b9e-9b52-2531110ebfc8"
    },
    "slideshow": {
     "slide_type": "slide"
    }
   },
   "source": [
    "Let's run the next code cell a few times to convince yourself that the `erdos_renyi_graph` function can produce different results, even if the values of $n$ and $p$ do not change."
   ]
  },
  {
   "cell_type": "code",
   "execution_count": 44,
   "metadata": {
    "nbpresent": {
     "id": "f32993d5-c714-49c9-a706-627429aaec75"
    },
    "slideshow": {
     "slide_type": "fragment"
    }
   },
   "outputs": [
    {
     "data": {
      "image/png": "[encoded data removed]",
      "text/plain": [
       "<Figure size 432x288 with 1 Axes>"
      ]
     },
     "metadata": {},
     "output_type": "display_data"
    }
   ],
   "source": [
    "g = nx.erdos_renyi_graph(n=2, p=.1)\n",
    "nx.draw(g)"
   ]
  },
  {
   "cell_type": "markdown",
   "metadata": {
    "nbpresent": {
     "id": "d28f5c70-06a8-47fc-bef4-d92683194c5e"
    },
    "slideshow": {
     "slide_type": "fragment"
    }
   },
   "source": [
    "Playing with the code cell illustrates that the model has randomness in it.  For the rest of the notebook, we're going to study the output of the ER model to try and learn about systematic patterns that emerge in random ER results."
   ]
  },
  {
   "cell_type": "markdown",
   "metadata": {
    "nbpresent": {
     "id": "1fd6f876-55a9-4f35-b773-bd472e4ef546"
    },
    "slideshow": {
     "slide_type": "slide"
    }
   },
   "source": [
    "**Question** Imagine that you generated 1000 networks using the ER model with $n=2$ nodes and edge probability $p=0.1$.  \n",
    "\n",
    "(In other words, imagine that you ran the code cell above 1000 times.)  \n",
    "\n",
    "Try to predict the approximate fraction of the time you expect an edge to be included. In other words, how many out of those 1000 draws do you think will be Network B? Why did you predict this number?"
   ]
  },
  {
   "cell_type": "markdown",
   "metadata": {
    "nbpresent": {
     "id": "cf0d51d8-74c1-4c7e-b5ff-b7fcf5bd82e2"
    },
    "slideshow": {
     "slide_type": "slide"
    }
   },
   "source": [
    "The next code cell actually simulates 1000 ER networks with $n=2$ and $p=0.1$."
   ]
  },
  {
   "cell_type": "code",
   "execution_count": null,
   "metadata": {
    "nbpresent": {
     "id": "f1061284-7c6f-46ad-832d-847f3bc8760c"
    },
    "slideshow": {
     "slide_type": "skip"
    }
   },
   "outputs": [],
   "source": [
    "num_sims = ...\n",
    "num_edges = make_array()\n",
    "\n",
    "for i in range(...):\n",
    "    sim_network = nx.erdos_renyi_graph(n=..., p=...)\n",
    "    num_edges = np.append(num_edges, sim_network....()) # here, you want to count the number of edges in the simulated network\n",
    "    \n",
    "print(\"Number of times an edge was included: \", np.sum(num_edges))\n",
    "print(\"Fraction of the time an edge was included: \", np.mean(num_edges))"
   ]
  },
  {
   "cell_type": "code",
   "execution_count": 47,
   "metadata": {
    "nbpresent": {
     "id": "04f360db-08f6-4c80-96d0-529bb8ab77c0"
    },
    "slideshow": {
     "slide_type": "fragment"
    }
   },
   "outputs": [
    {
     "name": "stdout",
     "output_type": "stream",
     "text": [
      "Number of times an edge was included:  10054.0\n",
      "Fraction of the time an edge was included:  0.10054\n"
     ]
    }
   ],
   "source": [
    "# SOLUTION\n",
    "num_sims = 100000\n",
    "num_edges = make_array()\n",
    "\n",
    "for i in range(num_sims):\n",
    "    sim_network = nx.erdos_renyi_graph(n=2, p=.1)\n",
    "    num_edges = np.append(num_edges, sim_network.number_of_edges())\n",
    "\n",
    "print(\"Number of times an edge was included: \", np.sum(num_edges))    \n",
    "print(\"Fraction of the time an edge was included: \", np.mean(num_edges))"
   ]
  },
  {
   "cell_type": "markdown",
   "metadata": {
    "slideshow": {
     "slide_type": "fragment"
    }
   },
   "source": [
    "**Question** How close was the result from the simulation to the number you predicted?  "
   ]
  },
  {
   "cell_type": "markdown",
   "metadata": {
    "nbpresent": {
     "id": "1d5e383a-2923-41b6-9a6a-1fdd103fdd93"
    },
    "slideshow": {
     "slide_type": "fragment"
    }
   },
   "source": [
    "**Question** Can you think of any way that to make the result from the simulation closer to the number you predicted?"
   ]
  },
  {
   "cell_type": "markdown",
   "metadata": {
    "nbpresent": {
     "id": "369f8545-5359-4d68-b561-9b3110518f9d"
    },
    "slideshow": {
     "slide_type": "slide"
    }
   },
   "source": [
    "### Average degree with fixed parameters"
   ]
  },
  {
   "cell_type": "markdown",
   "metadata": {
    "nbpresent": {
     "id": "29a550a7-6086-49db-93e8-917b1816146f"
    },
    "slideshow": {
     "slide_type": "fragment"
    }
   },
   "source": [
    "OK, so we see that when we generate networks using the ER model, there will be some random variation even when $n$ and $p$ are fixed. Now we will see how much variation there is in the degrees of nodes in an ER networks when $n$ and $p$ are fixed."
   ]
  },
  {
   "cell_type": "markdown",
   "metadata": {
    "nbpresent": {
     "id": "5ae2fcd0-a1b0-478d-a738-854f693bae0d"
    },
    "slideshow": {
     "slide_type": "slide"
    }
   },
   "source": [
    "First, we're going to write a function that will save us some time later.\n",
    "\n",
    "Look at the following function and then look at the example of how to use it."
   ]
  },
  {
   "cell_type": "code",
   "execution_count": 48,
   "metadata": {
    "nbpresent": {
     "id": "c009596a-3774-4add-b084-832001095116"
    },
    "slideshow": {
     "slide_type": "fragment"
    }
   },
   "outputs": [],
   "source": [
    "def get_degrees(net):\n",
    "    \"\"\"\n",
    "    Given a networkx network object, return a Table that has the\n",
    "    degrees of all of the nodes in the network in a column called 'degree'\n",
    "    \"\"\"\n",
    "    net_degrees = dict(net.degree()).values()\n",
    "    return(Table().with_column('degree', net_degrees))"
   ]
  },
  {
   "cell_type": "code",
   "execution_count": 49,
   "metadata": {
    "nbpresent": {
     "id": "a45d56e6-d773-41dc-a3da-177d3095f2d7"
    },
    "slideshow": {
     "slide_type": "fragment"
    }
   },
   "outputs": [
    {
     "data": {
      "text/html": [
       "<table border=\"1\" class=\"dataframe\">\n",
       "    <thead>\n",
       "        <tr>\n",
       "            <th>degree</th>\n",
       "        </tr>\n",
       "    </thead>\n",
       "    <tbody>\n",
       "        <tr>\n",
       "            <td>12    </td>\n",
       "        </tr>\n",
       "        <tr>\n",
       "            <td>7     </td>\n",
       "        </tr>\n",
       "        <tr>\n",
       "            <td>16    </td>\n",
       "        </tr>\n",
       "        <tr>\n",
       "            <td>10    </td>\n",
       "        </tr>\n",
       "        <tr>\n",
       "            <td>16    </td>\n",
       "        </tr>\n",
       "        <tr>\n",
       "            <td>10    </td>\n",
       "        </tr>\n",
       "        <tr>\n",
       "            <td>12    </td>\n",
       "        </tr>\n",
       "        <tr>\n",
       "            <td>15    </td>\n",
       "        </tr>\n",
       "        <tr>\n",
       "            <td>4     </td>\n",
       "        </tr>\n",
       "        <tr>\n",
       "            <td>14    </td>\n",
       "        </tr>\n",
       "    </tbody>\n",
       "</table>\n",
       "<p>... (90 rows omitted)</p>"
      ],
      "text/plain": [
       "degree\n",
       "12\n",
       "7\n",
       "16\n",
       "10\n",
       "16\n",
       "10\n",
       "12\n",
       "15\n",
       "4\n",
       "14\n",
       "... (90 rows omitted)"
      ]
     },
     "execution_count": 49,
     "metadata": {},
     "output_type": "execute_result"
    }
   ],
   "source": [
    "## example usage\n",
    "sim_network = nx.erdos_renyi_graph(n=100, p=.1)\n",
    "degs = get_degrees(sim_network)\n",
    "degs"
   ]
  },
  {
   "cell_type": "markdown",
   "metadata": {
    "nbpresent": {
     "id": "c4eeea41-9ac2-49fa-8995-a776bd4eb677"
    },
    "slideshow": {
     "slide_type": "slide"
    }
   },
   "source": [
    "The `get_degrees` function extracts the degrees of all of the nodes in a network and puts them in a Table. We can then make a histogram of the degrees."
   ]
  },
  {
   "cell_type": "code",
   "execution_count": 50,
   "metadata": {
    "nbpresent": {
     "id": "fe69fca7-9b3a-4ef7-adf4-05ca35c07619"
    },
    "slideshow": {
     "slide_type": "fragment"
    }
   },
   "outputs": [
    {
     "data": {
      "image/png": "[encoded data removed]",
      "text/plain": [
       "<Figure size 432x288 with 1 Axes>"
      ]
     },
     "metadata": {},
     "output_type": "display_data"
    }
   ],
   "source": [
    "degs.hist('degree')"
   ]
  },
  {
   "cell_type": "markdown",
   "metadata": {
    "nbpresent": {
     "id": "7ca79492-e251-4ed5-87a3-2188be2c2a8f"
    },
    "slideshow": {
     "slide_type": "slide"
    }
   },
   "source": [
    "Now that we can easily make a histogram of a the degrees of a network's nodes, let us look at the degrees of a few ER networks generated with $n=1000$ and $p=0.1$."
   ]
  },
  {
   "cell_type": "markdown",
   "metadata": {
    "nbpresent": {
     "id": "69a0cee6-3197-4d94-a9a2-6d5c505d566a"
    },
    "slideshow": {
     "slide_type": "fragment"
    }
   },
   "source": [
    "The code below prints out the degrees of nodes in 5 ER networks with $n=1000$ and $p=0.1$."
   ]
  },
  {
   "cell_type": "code",
   "execution_count": null,
   "metadata": {
    "nbpresent": {
     "id": "469ee0af-9826-43c3-aeb9-2db385d3ef91"
    },
    "slideshow": {
     "slide_type": "skip"
    }
   },
   "outputs": [],
   "source": [
    "num_sims = ...\n",
    "g_n = ...\n",
    "g_p = ...\n",
    "\n",
    "for i in range(...):\n",
    "    sim_network = nx.erdos_renyi_graph(n=g_n, p=g_p)\n",
    "    sim_network_degrees = ...(sim_network) # use the function we wrote above\n",
    "    plt.figure()\n",
    "    sim_network_degrees.hist('degree')"
   ]
  },
  {
   "cell_type": "code",
   "execution_count": 51,
   "metadata": {
    "nbpresent": {
     "id": "180c24e9-647c-48c4-afdc-58db04e88b86"
    },
    "slideshow": {
     "slide_type": "fragment"
    }
   },
   "outputs": [
    {
     "data": {
      "image/png": "[encoded data removed]",
      "text/plain": [
       "<Figure size 432x288 with 1 Axes>"
      ]
     },
     "metadata": {},
     "output_type": "display_data"
    },
    {
     "data": {
      "text/plain": [
       "<Figure size 432x288 with 0 Axes>"
      ]
     },
     "metadata": {},
     "output_type": "display_data"
    },
    {
     "data": {
      "image/png": "[encoded data removed]",
      "text/plain": [
       "<Figure size 432x288 with 1 Axes>"
      ]
     },
     "metadata": {},
     "output_type": "display_data"
    },
    {
     "data": {
      "text/plain": [
       "<Figure size 432x288 with 0 Axes>"
      ]
     },
     "metadata": {},
     "output_type": "display_data"
    },
    {
     "data": {
      "image/png": "[encoded data removed]",
      "text/plain": [
       "<Figure size 432x288 with 1 Axes>"
      ]
     },
     "metadata": {},
     "output_type": "display_data"
    },
    {
     "data": {
      "text/plain": [
       "<Figure size 432x288 with 0 Axes>"
      ]
     },
     "metadata": {},
     "output_type": "display_data"
    },
    {
     "data": {
      "image/png": "[encoded data removed]",
      "text/plain": [
       "<Figure size 432x288 with 1 Axes>"
      ]
     },
     "metadata": {},
     "output_type": "display_data"
    },
    {
     "data": {
      "text/plain": [
       "<Figure size 432x288 with 0 Axes>"
      ]
     },
     "metadata": {},
     "output_type": "display_data"
    },
    {
     "data": {
      "image/png": "[encoded data removed]",
      "text/plain": [
       "<Figure size 432x288 with 1 Axes>"
      ]
     },
     "metadata": {},
     "output_type": "display_data"
    },
    {
     "data": {
      "text/plain": [
       "<Figure size 432x288 with 0 Axes>"
      ]
     },
     "metadata": {},
     "output_type": "display_data"
    }
   ],
   "source": [
    "# SOLUTION\n",
    "num_sims = 5\n",
    "g_n = 1000\n",
    "g_p = 0.1\n",
    "\n",
    "for i in range(num_sims):\n",
    "    sim_network = nx.erdos_renyi_graph(n=g_n, p=g_p)\n",
    "    sim_network_degrees = get_degrees(sim_network) # using the function we wrote above\n",
    "    plt.figure(sim_network_degrees.hist('degree'))"
   ]
  },
  {
   "cell_type": "markdown",
   "metadata": {
    "nbpresent": {
     "id": "940e60ba-541c-4f5d-8fd8-1f4ef60183c8"
    },
    "slideshow": {
     "slide_type": "slide"
    }
   },
   "source": [
    "Hopefully, we can see in the histograms above that the results are random, but that they are not completely haphazard\n",
    "\n",
    "In fact, you can prove that the degree histogram, though random, has a characteristic shape called a *Poisson distribution*. \n",
    "\n",
    "Proving this fact goes beyond the scope of our class, but the important thing to understand is that when parameters are fixed, specific ER networks are random, but there is actually quite a bit of structure to the randomness."
   ]
  },
  {
   "cell_type": "markdown",
   "metadata": {
    "slideshow": {
     "slide_type": "slide"
    }
   },
   "source": [
    "We're going to illustrate one final point about using simulations to study ER networks with fixed $n$ and $p$.  \n",
    "\n",
    "Recall that the **average degree** of a network is the average number of connections across all of the nodes in a network.\n",
    "\n",
    "So far, we've talked about the average degree of a specific network."
   ]
  },
  {
   "cell_type": "markdown",
   "metadata": {
    "slideshow": {
     "slide_type": "fragment"
    }
   },
   "source": [
    "We can extend this notion to the ER model and ask what would happen if we\n",
    "\n",
    "* generated a large number (say $M = 1,000,000$) of ER random graphs, all with the same parameters $p$ and $n$\n",
    "* calculated the average degree of each of the $M$ random graphs $\\bar{d}_1, \\dots, \\bar{d}_M$\n",
    "* calculated the average of those average degrees $\\bar{d} = \\frac{1}{M} \\left[ \\bar{d}_1 + \\dots + \\bar{d}_M \\right]$"
   ]
  },
  {
   "cell_type": "markdown",
   "metadata": {
    "slideshow": {
     "slide_type": "fragment"
    }
   },
   "source": [
    "**Question** How would you interpret the quantity $\\bar{d}$?"
   ]
  },
  {
   "cell_type": "markdown",
   "metadata": {
    "slideshow": {
     "slide_type": "fragment"
    }
   },
   "source": [
    "**Question** In terms of the parameters $p$ and $n$, what do you think the value of $\\bar{d}$ will be?"
   ]
  },
  {
   "cell_type": "markdown",
   "metadata": {
    "slideshow": {
     "slide_type": "slide"
    }
   },
   "source": [
    "Although the average degree of a specific network generated from the ER model is a random quantity, one can prove that it will be close to the value \n",
    "\n",
    "$$\\bar{d} = (n-1)p$$\n",
    "\n",
    "where $\\bar{d}$ is the average degree. "
   ]
  },
  {
   "cell_type": "markdown",
   "metadata": {
    "slideshow": {
     "slide_type": "fragment"
    }
   },
   "source": [
    "Roughly, you can see why this is true by thinking about a typical node in the network. Each node has a possible connection to $n-1$ other nodes, and each of those possible connections will get placed in the network with probability $p$.\n",
    "\n",
    "So, for a network with $n=100$ nodes and $p=0.1$, the average degree $\\bar{d}$ should be close to $99 \\times 0.1 = 9.9$."
   ]
  },
  {
   "cell_type": "markdown",
   "metadata": {
    "slideshow": {
     "slide_type": "slide"
    }
   },
   "source": [
    "The helpful thing about simulations is that we can estimate quantities like $\\bar{d}$ even if we haven't been able to derive a formula for them. How? We can \n",
    "\n",
    "1. generate many ER networks using the fixed parameters $p$ and $n$\n",
    "2. calculate whatever we are interested in for each of the generated networks\n",
    "3. average the calculated quantites across all of the generated networks\n",
    "\n",
    "It turns out that this approach can be used to estimate many quantities. We'll see a demonstration of this now."
   ]
  },
  {
   "cell_type": "markdown",
   "metadata": {
    "nbpresent": {
     "id": "34c5ce33-f7bd-4e29-8a28-6c4a2acade2e"
    },
    "slideshow": {
     "slide_type": "slide"
    }
   },
   "source": [
    "First, we'll define a quick function that will help us calculate the average degree of a given network:"
   ]
  },
  {
   "cell_type": "code",
   "execution_count": 52,
   "metadata": {
    "nbpresent": {
     "id": "79867c32-b11e-45ce-8984-b1c62ed607ed"
    },
    "slideshow": {
     "slide_type": "fragment"
    }
   },
   "outputs": [],
   "source": [
    "def avg_degree(net):\n",
    "    \"\"\"\n",
    "    Calculate the average degree for a networkx network\n",
    "    \"\"\"\n",
    "    return(2.0*net.number_of_edges()/net.number_of_nodes())"
   ]
  },
  {
   "cell_type": "markdown",
   "metadata": {
    "nbpresent": {
     "id": "cbc4c739-e165-4f5d-baa8-0032b9ce9773"
    },
    "slideshow": {
     "slide_type": "fragment"
    }
   },
   "source": [
    "And then we'll run a simulation to estimate the average degree for ER networks with $n = 100$ and $p=0.1$. "
   ]
  },
  {
   "cell_type": "markdown",
   "metadata": {
    "nbpresent": {
     "id": "4f4f3521-0973-4c3e-899f-1f26c174e27d"
    },
    "slideshow": {
     "slide_type": "slide"
    }
   },
   "source": [
    "**Question** What would we expect the average degree for ER networks with $n=100$ and $p=0.1$ to be? (Use the formula we just introduced.)"
   ]
  },
  {
   "cell_type": "markdown",
   "metadata": {
    "nbpresent": {
     "id": "49203604-2c37-4e8c-9ece-93992fb185d3"
    },
    "slideshow": {
     "slide_type": "fragment"
    }
   },
   "source": [
    "Answer: (100-1)*0.1 = 9.9"
   ]
  },
  {
   "cell_type": "markdown",
   "metadata": {
    "nbpresent": {
     "id": "04107729-d00d-4fd7-955f-d8dda441121e"
    },
    "slideshow": {
     "slide_type": "slide"
    }
   },
   "source": [
    "Let's fill in the missing code and run the following simulation a few times and note how close the estimate is to the value from the formula."
   ]
  },
  {
   "cell_type": "code",
   "execution_count": null,
   "metadata": {
    "nbpresent": {
     "id": "5a3dce46-e9a3-42ba-b11f-9be7e318dee2"
    },
    "slideshow": {
     "slide_type": "skip"
    }
   },
   "outputs": [],
   "source": [
    "num_sims = ...\n",
    "g_n = ...\n",
    "g_p = ...\n",
    "avg_degree_results = make_array()\n",
    "\n",
    "for i in range(num_sims):\n",
    "    sim_network = nx.erdos_renyi_graph(n=g_n, p=g_p)\n",
    "    sim_network_avg_degree = ...(sim_network) # use the avg_degree function here\n",
    "    avg_degree_results = np.append(avg_degree_results, sim_network_avg_degree)\n",
    "    \n",
    "print(\"Estimated average degree: \", np.mean(avg_degree_results))"
   ]
  },
  {
   "cell_type": "code",
   "execution_count": 53,
   "metadata": {
    "nbpresent": {
     "id": "c06768ed-748f-4a85-bb13-6d0de4371be6"
    },
    "slideshow": {
     "slide_type": "fragment"
    }
   },
   "outputs": [
    {
     "name": "stdout",
     "output_type": "stream",
     "text": [
      "Estimated average degree:  9.8642\n"
     ]
    }
   ],
   "source": [
    "# SOLUTION\n",
    "num_sims = 100\n",
    "g_n = 100\n",
    "g_p = 0.1\n",
    "avg_degree_results = make_array()\n",
    "\n",
    "for i in range(num_sims):\n",
    "    sim_network = nx.erdos_renyi_graph(n=g_n, p=g_p)\n",
    "    sim_network_avg_degree = avg_degree(sim_network) # using the function we wrote above\n",
    "    avg_degree_results = np.append(avg_degree_results, sim_network_avg_degree)\n",
    "    \n",
    "print(\"Estimated average degree: \", np.mean(avg_degree_results))"
   ]
  },
  {
   "cell_type": "markdown",
   "metadata": {
    "slideshow": {
     "slide_type": "slide"
    }
   },
   "source": [
    "**Question** So our estimate was not exactly right. How can we make our simulation-based estimate more accurate?"
   ]
  },
  {
   "cell_type": "markdown",
   "metadata": {
    "nbpresent": {
     "id": "352fe323-a0a2-4707-a277-49fa6bb0faf7"
    },
    "slideshow": {
     "slide_type": "fragment"
    }
   },
   "source": [
    "Answer: We can simply increase the number of simulations that we run. So let's copy the code above to the cell below, and then change `num_sims` to produce a more accurate estimate."
   ]
  },
  {
   "cell_type": "code",
   "execution_count": null,
   "metadata": {
    "nbpresent": {
     "id": "a3be24e0-ed07-45e3-81e6-88afd4fc099d"
    },
    "slideshow": {
     "slide_type": "skip"
    }
   },
   "outputs": [],
   "source": [
    "num_sims = ...\n",
    "g_n = 100\n",
    "g_p = 0.1\n",
    "avg_degree_results = make_array()\n",
    "\n",
    "for i in range(...):\n",
    "    sim_network = nx.erdos_renyi_graph(n=g_n, p=g_p)\n",
    "    sim_network_avg_degree = ... # use the avg_degree function here\n",
    "    ... = np.append(..., sim_network_avg_degree)\n",
    "    \n",
    "print(\"Estimated average degree: \", np.mean(avg_degree_results))"
   ]
  },
  {
   "cell_type": "code",
   "execution_count": 54,
   "metadata": {
    "nbpresent": {
     "id": "d026379c-6110-42b3-812e-72fd6de8c6c7"
    },
    "slideshow": {
     "slide_type": "fragment"
    }
   },
   "outputs": [
    {
     "name": "stdout",
     "output_type": "stream",
     "text": [
      "Estimated average degree:  9.895782\n"
     ]
    }
   ],
   "source": [
    "## SOLUTION\n",
    "num_sims = 10000\n",
    "g_n = 100\n",
    "g_p = 0.1\n",
    "avg_degree_results = make_array()\n",
    "\n",
    "for i in range(num_sims):\n",
    "    sim_network = nx.erdos_renyi_graph(n=g_n, p=g_p)\n",
    "    sim_network_avg_degree = avg_degree(sim_network) # using the function we wrote above\n",
    "    avg_degree_results = np.append(avg_degree_results, sim_network_avg_degree)\n",
    "    \n",
    "print(\"Estimated average degree: \", np.mean(avg_degree_results))"
   ]
  },
  {
   "cell_type": "markdown",
   "metadata": {
    "nbpresent": {
     "id": "f9ad7c70-7f7d-404d-8b73-df147526ceb5"
    },
    "slideshow": {
     "slide_type": "slide"
    }
   },
   "source": [
    "Here are some general conclusions to think about from this part of the lecture:\n",
    "\n",
    "* Even for fixed parameter values, the ER model generates networks randomly, i.e., it does not produce the same network every time\n",
    "* ER networks are random, but there is still a lot of structure to them -- in other words, the range of possible networks the ER model can produce is relatively narrow when compared to all possible networks.\n",
    "* We can estimate some properties of ER networks by using simulation, and the more simulations we conduct, the more accurate our estimates will be"
   ]
  },
  {
   "cell_type": "markdown",
   "metadata": {
    "nbpresent": {
     "id": "fae79e2a-f960-44b7-9edb-0f72a59a0fb7"
    },
    "slideshow": {
     "slide_type": "slide"
    }
   },
   "source": [
    "### Investigating variation across different values of $p$"
   ]
  },
  {
   "cell_type": "markdown",
   "metadata": {
    "nbpresent": {
     "id": "9f34a4a2-6941-460e-80df-e951b02ad35d"
    },
    "slideshow": {
     "slide_type": "fragment"
    }
   },
   "source": [
    "In order to understand more about connectivity of networks generated by the ER model, we will investigate how the average degree of nodes in the network changes as the connectivity parameter $p$ changes."
   ]
  },
  {
   "cell_type": "markdown",
   "metadata": {
    "nbpresent": {
     "id": "a37b78a1-030c-4437-9d21-033967a0ade2"
    },
    "slideshow": {
     "slide_type": "slide"
    }
   },
   "source": [
    "First, let's make some specific predictions. "
   ]
  },
  {
   "cell_type": "markdown",
   "metadata": {
    "nbpresent": {
     "id": "979c2565-7eaf-4ee6-8e85-cc1923f6ac16"
    },
    "slideshow": {
     "slide_type": "fragment"
    }
   },
   "source": [
    "**Question** If a network has 100 nodes, what do you expect the average degree of nodes in the network to be when $p=0$?"
   ]
  },
  {
   "cell_type": "markdown",
   "metadata": {
    "slideshow": {
     "slide_type": "fragment"
    }
   },
   "source": [
    "**Question** If a network has 100 nodes, what do you expect the average degree of nodes in the network to be when $p=1$?"
   ]
  },
  {
   "cell_type": "markdown",
   "metadata": {
    "slideshow": {
     "slide_type": "fragment"
    }
   },
   "source": [
    "Answer: \n",
    "- When $p=0$, there are no edges in the network, so the average degree is 0.\n",
    "- When $p=1$, every possible edge is in the network; here, since $n=100$, that means the average degree is 99."
   ]
  },
  {
   "cell_type": "markdown",
   "metadata": {
    "nbpresent": {
     "id": "b52096cd-a996-4b9e-ac98-bb9b25fe2fc4"
    },
    "slideshow": {
     "slide_type": "slide"
    }
   },
   "source": [
    "**Question** How do you think the average degree will change in ER networks with $n=100$ as $p$ varies starting from $0$, then increasing until $p=1$? \n",
    "\n",
    "For example, do you think that the average degree will increase, decrease, or not change? If you think that the average degree will change, can you say anything about the shape (eg, will it be a straight line? parabola? exponential curve?)"
   ]
  },
  {
   "cell_type": "markdown",
   "metadata": {
    "nbpresent": {
     "id": "0a88df1b-286c-463e-9936-7db0ecff3ef7"
    },
    "slideshow": {
     "slide_type": "skip"
    }
   },
   "source": [
    "\n",
    "Answer: Lots of predictions are possible, but a reasonable prediction might say that the average degree should increase gradually from 0 (when $p=0$) to 99 (when $p=1$).\n"
   ]
  },
  {
   "cell_type": "markdown",
   "metadata": {
    "collapsed": true,
    "nbpresent": {
     "id": "2298f98f-6963-4dea-ad6e-dd0b9c2f7e9f"
    },
    "slideshow": {
     "slide_type": "slide"
    }
   },
   "source": [
    "Now let's use simulation to try and get an understanding of how the average degree changes as the parameter $p$ does."
   ]
  },
  {
   "cell_type": "markdown",
   "metadata": {
    "nbpresent": {
     "id": "c678efd0-d8bf-444a-8d14-ab7d68ee8341"
    },
    "slideshow": {
     "slide_type": "skip"
    }
   },
   "source": [
    "Let's fill in the missing parts of the simulation below, and then run it to see the results."
   ]
  },
  {
   "cell_type": "code",
   "execution_count": null,
   "metadata": {
    "nbpresent": {
     "id": "2b548b85-337b-4cdf-bee8-ea7796cf0075"
    },
    "slideshow": {
     "slide_type": "skip"
    }
   },
   "outputs": [],
   "source": [
    "n = 100\n",
    "p_vals = np.arange(..., ..., ...) # p should go from 0 to 1 in steps of size .1\n",
    "avg_degree_results = make_array()\n",
    "\n",
    "for current_p in p_vals:\n",
    "    sim_network = nx.erdos_renyi_graph(n=n, p=current_p)\n",
    "    sim_network_avg_degree = ...(sim_network) # using the avg_degree function we wrote above\n",
    "    avg_degree_results = np.append(avg_degree_results, sim_network_avg_degree)\n",
    "    \n",
    "results = Table().with_columns([\n",
    "        'p', p_vals,\n",
    "        'avg_degree', avg_degree_results\n",
    "    ])"
   ]
  },
  {
   "cell_type": "code",
   "execution_count": 55,
   "metadata": {
    "nbpresent": {
     "id": "e0a4486c-c9a5-4119-a2e7-16af6e999c91"
    },
    "slideshow": {
     "slide_type": "fragment"
    }
   },
   "outputs": [],
   "source": [
    "# SOLUTION\n",
    "n = 100\n",
    "p_vals = np.arange(0, 1, .1)\n",
    "avg_degree_results = make_array()\n",
    "\n",
    "for current_p in p_vals:\n",
    "    sim_network = nx.erdos_renyi_graph(n=n, p=current_p)\n",
    "    sim_network_avg_degree = avg_degree(sim_network) # using the function we wrote above\n",
    "    avg_degree_results = np.append(avg_degree_results, sim_network_avg_degree)\n",
    "    \n",
    "results = Table().with_columns([\n",
    "        'p', p_vals,\n",
    "        'avg_degree', avg_degree_results\n",
    "    ])"
   ]
  },
  {
   "cell_type": "code",
   "execution_count": 56,
   "metadata": {
    "nbpresent": {
     "id": "76a2f815-a0ab-413a-b418-b96f0f2b9daf"
    },
    "slideshow": {
     "slide_type": "slide"
    }
   },
   "outputs": [
    {
     "data": {
      "image/png": "[encoded data removed]",
      "text/plain": [
       "<Figure size 432x288 with 1 Axes>"
      ]
     },
     "metadata": {},
     "output_type": "display_data"
    }
   ],
   "source": [
    "results.plot('p', 'avg_degree')"
   ]
  },
  {
   "cell_type": "markdown",
   "metadata": {
    "collapsed": true,
    "nbpresent": {
     "id": "59adc557-af6c-468e-882a-fb75d996fbf6"
    },
    "slideshow": {
     "slide_type": "fragment"
    }
   },
   "source": [
    "**Question** How would you describe the way that the average degree changes as $p$ does?"
   ]
  },
  {
   "cell_type": "markdown",
   "metadata": {
    "slideshow": {
     "slide_type": "slide"
    }
   },
   "source": [
    "Now let's change the simulation so that there are fewer nodes in the network; we will\n",
    "\n",
    "* change the network size parameter instead of $n=100$, we'll consider a smaller network with $n=10$\n",
    "* examine what happens to the average degree as $p$ goes from 0 to 1 (like we did before)"
   ]
  },
  {
   "cell_type": "markdown",
   "metadata": {
    "nbpresent": {
     "id": "0601e5c9-e245-4cae-b416-0c1d1b7df837"
    },
    "slideshow": {
     "slide_type": "fragment"
    }
   },
   "source": [
    "**Question** Do you think this will change the relationship we observe between $p$ and the average degree? If so, how?"
   ]
  },
  {
   "cell_type": "markdown",
   "metadata": {
    "slideshow": {
     "slide_type": "skip"
    }
   },
   "source": [
    "Answer: a reasonable prediction might be that the range of average degrees will only go from 0 to 9 now, but otherwise the increase from 0 to 9 over the range $p=0$ to $p=1$ should have the same shape."
   ]
  },
  {
   "cell_type": "code",
   "execution_count": null,
   "metadata": {
    "nbpresent": {
     "id": "4328f5a2-6022-4936-90c0-d2f4123397e9"
    },
    "slideshow": {
     "slide_type": "skip"
    }
   },
   "outputs": [],
   "source": [
    "n = 10\n",
    "p_vals = np.arange(..., ..., ...) # p should go from 0 to 1 in steps of size .1\n",
    "avg_degree_results = make_array()\n",
    "\n",
    "for current_p in p_vals:\n",
    "    sim_network = nx.erdos_renyi_graph(n=n, p=current_p)\n",
    "    sim_network_avg_degree = ...(sim_network) # using the avg_degree function we wrote above\n",
    "    avg_degree_results = np.append(avg_degree_results, sim_network_avg_degree)\n",
    "    \n",
    "results_smalln = Table().with_columns([\n",
    "        'p', p_vals,\n",
    "        'avg_degree', avg_degree_results\n",
    "    ])"
   ]
  },
  {
   "cell_type": "code",
   "execution_count": 57,
   "metadata": {
    "nbpresent": {
     "id": "d75c0329-4075-44b3-94e2-91505bc37083"
    },
    "slideshow": {
     "slide_type": "fragment"
    }
   },
   "outputs": [],
   "source": [
    "# SOLUTION\n",
    "n = 10\n",
    "p_vals = np.arange(0, 1, .1)\n",
    "avg_degree_results = make_array()\n",
    "\n",
    "for current_p in p_vals:\n",
    "    sim_network = nx.erdos_renyi_graph(n=n, p=current_p)\n",
    "    sim_network_avg_degree = avg_degree(sim_network) # using the function we wrote above\n",
    "    avg_degree_results = np.append(avg_degree_results, sim_network_avg_degree)\n",
    "    \n",
    "results_smalln = Table().with_columns([\n",
    "        'p', p_vals,\n",
    "        'avg_degree', avg_degree_results\n",
    "    ])"
   ]
  },
  {
   "cell_type": "code",
   "execution_count": 58,
   "metadata": {
    "nbpresent": {
     "id": "5052ffd0-f3e0-4740-b9f0-77aebbe1b3a7"
    },
    "slideshow": {
     "slide_type": "slide"
    }
   },
   "outputs": [
    {
     "data": {
      "image/png": "[encoded data removed]",
      "text/plain": [
       "<Figure size 432x288 with 1 Axes>"
      ]
     },
     "metadata": {},
     "output_type": "display_data"
    }
   ],
   "source": [
    "results_smalln.plot('p', 'avg_degree') # can compare to results to see what we got before"
   ]
  },
  {
   "cell_type": "markdown",
   "metadata": {
    "nbpresent": {
     "id": "2f4e0509-4dfc-419c-9c00-694451569d9b"
    },
    "slideshow": {
     "slide_type": "fragment"
    }
   },
   "source": [
    "**Question** What do you see here? How does it differ from the simulation where $n=100$? Can you think of some way to explain any differences between them?"
   ]
  },
  {
   "cell_type": "markdown",
   "metadata": {
    "slideshow": {
     "slide_type": "slide"
    }
   },
   "source": [
    "### Parameterizing by the average degree\n",
    "\n",
    "The direct relationship between the average degree, $\\bar{d}$ and $p$ is not an accident: the two quantities are linked together by the relationship\n",
    "\n",
    "$$\\bar{d} = p (n-1).$$\n",
    "\n"
   ]
  },
  {
   "cell_type": "markdown",
   "metadata": {
    "slideshow": {
     "slide_type": "fragment"
    }
   },
   "source": [
    "We can use this fact to parameterize an ER random network in terms of $n$ and $\\bar{d}$ since picking those two values is exactly the same as picking $n$ and $p$.\n",
    "\n",
    "Why? If we pick $n$ and $\\bar{d}$, then we have implicitly picked $p$ because $p = \\frac{\\bar{d}}{n-1}$."
   ]
  },
  {
   "cell_type": "markdown",
   "metadata": {
    "slideshow": {
     "slide_type": "slide"
    }
   },
   "source": [
    "We can write a function to enable us to generate ER networks using this alternate parameterization:"
   ]
  },
  {
   "cell_type": "code",
   "execution_count": null,
   "metadata": {
    "slideshow": {
     "slide_type": "skip"
    }
   },
   "outputs": [],
   "source": [
    "def gen_er_by_avg_degree(n, dbar):\n",
    "    return(nx.erdos_renyi_graph(n=..., p=.../(n-1)))"
   ]
  },
  {
   "cell_type": "code",
   "execution_count": 59,
   "metadata": {
    "slideshow": {
     "slide_type": "fragment"
    }
   },
   "outputs": [],
   "source": [
    "# SOLUTION\n",
    "def gen_er_by_avg_degree(n, dbar):\n",
    "    return(nx.erdos_renyi_graph(n=n, p=dbar/(n-1)))"
   ]
  },
  {
   "cell_type": "code",
   "execution_count": 60,
   "metadata": {
    "slideshow": {
     "slide_type": "fragment"
    }
   },
   "outputs": [
    {
     "data": {
      "image/png": "[encoded data removed]",
      "text/plain": [
       "<Figure size 432x288 with 1 Axes>"
      ]
     },
     "metadata": {},
     "output_type": "display_data"
    }
   ],
   "source": [
    "nx.draw(gen_er_by_avg_degree(10, 2))"
   ]
  },
  {
   "cell_type": "markdown",
   "metadata": {
    "slideshow": {
     "slide_type": "slide"
    }
   },
   "source": [
    "### Clustering coefficient"
   ]
  },
  {
   "cell_type": "markdown",
   "metadata": {
    "slideshow": {
     "slide_type": "fragment"
    }
   },
   "source": [
    "Now we will explore another aspect of network connectivity: how densely interconnected nodes' neighbors tend to be. \n",
    "\n",
    "We can capture this with the **clustering coefficient**. Remember from before that we defined this clustering coefficient to be the probability that two randomly selected friends of the node are friends with each other.\n",
    "\n",
    "Equivalently, the clustering coefficient is the fraction of pairs of a node’s friends that are connected to each other.\n",
    "\n"
   ]
  },
  {
   "cell_type": "markdown",
   "metadata": {
    "slideshow": {
     "slide_type": "fragment"
    }
   },
   "source": [
    "**Question** What will the clustering coefficient be if $n=100$ and $p=0$?"
   ]
  },
  {
   "cell_type": "markdown",
   "metadata": {
    "slideshow": {
     "slide_type": "fragment"
    }
   },
   "source": [
    "**Question** What will the clustering coefficient be if $n=100$ and $p=1$?"
   ]
  },
  {
   "cell_type": "markdown",
   "metadata": {
    "slideshow": {
     "slide_type": "fragment"
    }
   },
   "source": [
    "**Question** How do you expect the clustering coefficient to change as $p$ is varied from smaller to larger values? What shape do you think this change will take?"
   ]
  },
  {
   "cell_type": "markdown",
   "metadata": {
    "slideshow": {
     "slide_type": "slide"
    }
   },
   "source": [
    "We can investigate what happens to the clustering coefficient empirically by using a simulation where we fix $n$ and vary $p$ from 0 to 1:"
   ]
  },
  {
   "cell_type": "code",
   "execution_count": null,
   "metadata": {
    "slideshow": {
     "slide_type": "skip"
    }
   },
   "outputs": [],
   "source": [
    "n = 100\n",
    "num_repetitions = 5\n",
    "p_vals = np.repeat(np.arange(..., ..., .05), num_repetitions)\n",
    "cc_results = make_array()\n",
    "\n",
    "for current_p in p_vals:\n",
    "    sim_network = nx.erdos_renyi_graph(n=n, p=current_p)\n",
    "    cc_results = np.append(cc_results, nx.average_clustering(sim_network))\n",
    "    \n",
    "results_cc = Table().with_columns([\n",
    "        'p', p_vals,\n",
    "        'cc', cc_results\n",
    "    ])\n",
    "\n",
    "results_cc.scatter('p', 'cc')"
   ]
  },
  {
   "cell_type": "code",
   "execution_count": 61,
   "metadata": {
    "slideshow": {
     "slide_type": "fragment"
    }
   },
   "outputs": [
    {
     "data": {
      "image/png": "[encoded data removed]",
      "text/plain": [
       "<Figure size 360x360 with 1 Axes>"
      ]
     },
     "metadata": {},
     "output_type": "display_data"
    }
   ],
   "source": [
    "# SOLUTION\n",
    "n = 100\n",
    "num_repetitions = 5\n",
    "p_vals = np.repeat(np.arange(0, 1, .05), num_repetitions)\n",
    "cc_results = make_array()\n",
    "\n",
    "for current_p in p_vals:\n",
    "    sim_network = nx.erdos_renyi_graph(n=n, p=current_p)\n",
    "    cc_results = np.append(cc_results, nx.average_clustering(sim_network))\n",
    "    \n",
    "results_cc = Table().with_columns([\n",
    "        'p', p_vals,\n",
    "        'cc', cc_results\n",
    "    ])\n",
    "\n",
    "results_cc.scatter('p', 'cc')"
   ]
  },
  {
   "cell_type": "markdown",
   "metadata": {
    "slideshow": {
     "slide_type": "slide"
    }
   },
   "source": [
    "Let's investigate the clustering coefficient in a different way.\n",
    "\n",
    "**Question** In a real-world social network, what do you think will tend to happen to the clustering coefficient as the number of nodes in the network gets bigger and bigger?"
   ]
  },
  {
   "cell_type": "markdown",
   "metadata": {
    "slideshow": {
     "slide_type": "fragment"
    }
   },
   "source": [
    "It's hard to say for sure, but one reasonable perspective is that clustering coefficient doesn't decrease as quickly as the number of nodes increases.\n",
    "\n",
    "So let's ask what happens in an ER random network when we fix the average degree, but increase $n$, the network size."
   ]
  },
  {
   "cell_type": "markdown",
   "metadata": {
    "slideshow": {
     "slide_type": "skip"
    }
   },
   "source": [
    "**Question** What will the clustering coefficient be if $\\bar{d} = 10$ and $n=11$?"
   ]
  },
  {
   "cell_type": "markdown",
   "metadata": {
    "slideshow": {
     "slide_type": "skip"
    }
   },
   "source": [
    "**Question** What will the clustering coefficient be if $\\bar{d} = 10$ and $n=1000$?"
   ]
  },
  {
   "cell_type": "markdown",
   "metadata": {
    "slideshow": {
     "slide_type": "fragment"
    }
   },
   "source": [
    "**Question** How do you expect the clustering coefficient to change as $n$ is varied from smaller to larger values while $\\bar{d}$ is fixed? What shape do you think this change will take?"
   ]
  },
  {
   "cell_type": "markdown",
   "metadata": {
    "slideshow": {
     "slide_type": "slide"
    }
   },
   "source": [
    "Let's investigate with a simulation:"
   ]
  },
  {
   "cell_type": "code",
   "execution_count": null,
   "metadata": {
    "slideshow": {
     "slide_type": "skip"
    }
   },
   "outputs": [],
   "source": [
    "num_repetitions = 5\n",
    "n_vals = np.repeat(np.arange(11, 1000, 100), num_repetitions)\n",
    "dbar = 10\n",
    "cc_results = make_array()\n",
    "\n",
    "for current_n in ...:\n",
    "    sim_network = gen_er_by_avg_degree(n=..., dbar=dbar)\n",
    "    cc_results = np.append(cc_results, nx.average_clustering(sim_network))\n",
    "    \n",
    "results_cc = Table().with_columns([\n",
    "        'n', n_vals,\n",
    "        'cc', cc_results\n",
    "    ])\n",
    "\n",
    "results_cc.scatter('n', 'cc')"
   ]
  },
  {
   "cell_type": "code",
   "execution_count": 63,
   "metadata": {
    "slideshow": {
     "slide_type": "fragment"
    }
   },
   "outputs": [
    {
     "data": {
      "image/png": "[encoded data removed]",
      "text/plain": [
       "<Figure size 360x360 with 1 Axes>"
      ]
     },
     "metadata": {},
     "output_type": "display_data"
    }
   ],
   "source": [
    "# SOLUTION\n",
    "num_repetitions = 5\n",
    "n_vals = np.repeat(np.arange(11, 1000, 100), num_repetitions)\n",
    "dbar = 10\n",
    "cc_results = make_array()\n",
    "\n",
    "for current_n in n_vals:\n",
    "    sim_network = gen_er_by_avg_degree(n=current_n, dbar=dbar)\n",
    "    cc_results = np.append(cc_results, nx.average_clustering(sim_network))\n",
    "    \n",
    "results_cc = Table().with_columns([\n",
    "        'n', n_vals,\n",
    "        'cc', cc_results\n",
    "    ])\n",
    "results_cc.scatter('n', 'cc')"
   ]
  },
  {
   "cell_type": "markdown",
   "metadata": {
    "nbpresent": {
     "id": "a09e085b-818b-44a3-a45f-a5d4ad0567e8"
    },
    "slideshow": {
     "slide_type": "slide"
    }
   },
   "source": [
    "### Giant components"
   ]
  },
  {
   "cell_type": "markdown",
   "metadata": {
    "nbpresent": {
     "id": "306433da-c777-4a27-9df0-1ce61fb6bcf0"
    },
    "slideshow": {
     "slide_type": "fragment"
    }
   },
   "source": [
    "Now we will explore another aspect of network connectivity: how many 'pieces' or components there are in the network. \n",
    "\n",
    "Remember that a relatively un-connected network has many different components (we called them 'islands'); a relatively connected network, on the other hand, has a **giant component** which contains most of the network's nodes."
   ]
  },
  {
   "cell_type": "markdown",
   "metadata": {
    "nbpresent": {
     "id": "5cb56c8f-efdc-4a35-9cf6-d903bf2d3fcc"
    },
    "slideshow": {
     "slide_type": "slide"
    }
   },
   "source": [
    "We'll make use of a simple function `get_biggest_component`, which will give us the biggest component in a network."
   ]
  },
  {
   "cell_type": "code",
   "execution_count": 64,
   "metadata": {
    "nbpresent": {
     "id": "0a1f9f2c-f164-4303-97f6-6117c48ced15"
    },
    "slideshow": {
     "slide_type": "fragment"
    }
   },
   "outputs": [],
   "source": [
    "def get_biggest_component(network):\n",
    "    biggest = max(nx.connected_component_subgraphs(network), key=len)\n",
    "    return(biggest)"
   ]
  },
  {
   "cell_type": "markdown",
   "metadata": {
    "nbpresent": {
     "id": "7348496f-fcc8-45a1-bf17-1894e06dbceb"
    },
    "slideshow": {
     "slide_type": "fragment"
    }
   },
   "source": [
    "We'll also add another function, `frac_nodes_in_biggest_component`, which takes a network and returns the proportion of nodes in the network that are in the biggest of the components. This quantity is an indicator of connectedness: when all of the networks nodes are part of the same giant component, then this function will return 1; on the other hand, if the network is made up of many small, separate components then this function will return a number very close to 0."
   ]
  },
  {
   "cell_type": "code",
   "execution_count": 65,
   "metadata": {
    "nbpresent": {
     "id": "087e79f5-63ab-47e9-9a62-7880f3929a7d"
    },
    "slideshow": {
     "slide_type": "fragment"
    }
   },
   "outputs": [],
   "source": [
    "def frac_nodes_in_biggest_component(net):\n",
    "    gc = get_biggest_component(net)\n",
    "    return(gc.number_of_nodes() / net.number_of_nodes())"
   ]
  },
  {
   "cell_type": "markdown",
   "metadata": {
    "nbpresent": {
     "id": "da8ee831-e22a-43ca-8360-9c93b60f3a1d"
    },
    "slideshow": {
     "slide_type": "slide"
    }
   },
   "source": [
    "Let's try to understand how the fraction of nodes in the biggest component changes when the parameters of an ER network change."
   ]
  },
  {
   "cell_type": "markdown",
   "metadata": {
    "slideshow": {
     "slide_type": "fragment"
    }
   },
   "source": [
    "**Question** What fraction of nodes will be in the biggest component when $p=0$?"
   ]
  },
  {
   "cell_type": "markdown",
   "metadata": {
    "slideshow": {
     "slide_type": "fragment"
    }
   },
   "source": [
    "**Question** What fraction of nodes will be in the biggest component when $p=1$?"
   ]
  },
  {
   "cell_type": "markdown",
   "metadata": {
    "nbpresent": {
     "id": "df7280d5-ca08-4284-81e9-c6440c38a5c2"
    },
    "slideshow": {
     "slide_type": "fragment"
    }
   },
   "source": [
    "**Question** How do you expect the fraction of nodes in the biggest component to change as $p$ is varied from smaller to larger values? What shape do you think this change will take?"
   ]
  },
  {
   "cell_type": "markdown",
   "metadata": {
    "nbpresent": {
     "id": "97f3f264-2746-4d8e-a378-0214c8f05803"
    },
    "slideshow": {
     "slide_type": "slide"
    }
   },
   "source": [
    "Now we'll use a simulation to study this question empirically. Note that there is a new feature in this simulation: each parameter set (i.e., value of $n$ and $p$) is repeated more than once. This is accomplished using `num_repetitions` and `np.repeat`. \n",
    "\n",
    "Repeating the parameter set multiple times gives us a way to account for the fact that there is randomness to the ER networks that get generated. This will be clearer once we plot the results of the simulation below."
   ]
  },
  {
   "cell_type": "code",
   "execution_count": null,
   "metadata": {
    "nbpresent": {
     "id": "15e58167-d30a-4b48-a04f-38e898f23a29"
    },
    "slideshow": {
     "slide_type": "skip"
    }
   },
   "outputs": [],
   "source": [
    "n = 100\n",
    "num_repetitions = 5\n",
    "p_vals = np.repeat(np.arange(0, 0.2, .01), num_repetitions)\n",
    "num_component_results = make_array()\n",
    "gc_frac_results = make_array()\n",
    "\n",
    "for current_p in ...:\n",
    "    sim_network = nx.erdos_renyi_graph(n=..., p=...)\n",
    "    sim_network_num_components = nx.number_connected_components(sim_network)\n",
    "    sim_network_gc_frac = ... # use the frac_nodes_in_biggest_component function\n",
    "    num_component_results = np.append(num_component_results, sim_network_num_components)\n",
    "    gc_frac_results = np.append(gc_frac_results, sim_network_gc_frac)\n",
    "    \n",
    "results = Table().with_columns([\n",
    "        'p', p_vals,\n",
    "        'num_components', num_component_results,\n",
    "        'gc_frac', gc_frac_results\n",
    "    ])"
   ]
  },
  {
   "cell_type": "code",
   "execution_count": 66,
   "metadata": {
    "nbpresent": {
     "id": "9da29224-c09c-4aff-8357-7cb13c5067f2"
    },
    "slideshow": {
     "slide_type": "fragment"
    }
   },
   "outputs": [],
   "source": [
    "# SOLUTION\n",
    "n = 100\n",
    "num_repetitions = 5\n",
    "p_vals = np.repeat(np.arange(0, 0.2, .01), num_repetitions)\n",
    "num_component_results = make_array()\n",
    "gc_frac_results = make_array()\n",
    "\n",
    "for current_p in p_vals:\n",
    "    sim_network = nx.erdos_renyi_graph(n=n, p=current_p)\n",
    "    sim_network_num_components = nx.number_connected_components(sim_network)\n",
    "    sim_network_gc_frac = frac_nodes_in_biggest_component(sim_network)\n",
    "    num_component_results = np.append(num_component_results, sim_network_num_components)\n",
    "    gc_frac_results = np.append(gc_frac_results, sim_network_gc_frac)\n",
    "    \n",
    "results = Table().with_columns([\n",
    "        'p', p_vals,\n",
    "        'num_components', num_component_results,\n",
    "        'gc_frac', gc_frac_results\n",
    "    ])"
   ]
  },
  {
   "cell_type": "markdown",
   "metadata": {
    "slideshow": {
     "slide_type": "slide"
    }
   },
   "source": [
    "Let's visualize the results of the simulation with two scatter plots:\n",
    "\n",
    "scatter plot that compares $p$ (on the x axis) to the number of components in the network (y axis)"
   ]
  },
  {
   "cell_type": "code",
   "execution_count": 67,
   "metadata": {
    "slideshow": {
     "slide_type": "fragment"
    }
   },
   "outputs": [
    {
     "data": {
      "image/png": "[encoded data removed]",
      "text/plain": [
       "<Figure size 360x360 with 1 Axes>"
      ]
     },
     "metadata": {},
     "output_type": "display_data"
    }
   ],
   "source": [
    "# SOLUTION\n",
    "results.scatter('p', 'num_components')"
   ]
  },
  {
   "cell_type": "markdown",
   "metadata": {
    "nbpresent": {
     "id": "cc7047d8-9d52-4665-bc52-d10123252e83"
    },
    "slideshow": {
     "slide_type": "slide"
    }
   },
   "source": [
    "scatter plot that compares $p$ (on the x axis) to the fraction of nodes in the giant component (x axis)"
   ]
  },
  {
   "cell_type": "code",
   "execution_count": 68,
   "metadata": {
    "slideshow": {
     "slide_type": "fragment"
    }
   },
   "outputs": [
    {
     "data": {
      "image/png": "[encoded data removed]",
      "text/plain": [
       "<Figure size 360x360 with 1 Axes>"
      ]
     },
     "metadata": {},
     "output_type": "display_data"
    }
   ],
   "source": [
    "# SOLUTION\n",
    "results.scatter('p', 'gc_frac')"
   ]
  },
  {
   "cell_type": "markdown",
   "metadata": {
    "slideshow": {
     "slide_type": "slide"
    }
   },
   "source": [
    "There are a couple of interesting things to notice about these plots. We'll focus on the plot that has the fraction of nodes in the giant component on the y axis (but you can study the other plot in much the same way)."
   ]
  },
  {
   "cell_type": "code",
   "execution_count": 69,
   "metadata": {
    "slideshow": {
     "slide_type": "fragment"
    }
   },
   "outputs": [
    {
     "data": {
      "image/png": "[encoded data removed]",
      "text/plain": [
       "<Figure size 360x360 with 1 Axes>"
      ]
     },
     "metadata": {},
     "output_type": "display_data"
    }
   ],
   "source": [
    "results.scatter('p', 'gc_frac')"
   ]
  },
  {
   "cell_type": "markdown",
   "metadata": {
    "slideshow": {
     "slide_type": "fragment"
    }
   },
   "source": [
    "First, you can tell that for some values of $p$, the result varies somewhat due to the randomness of the ER model. Given what we studied in the first part of the lecture, this is not surprising. But it is important to remember this fact whenever you conduct a simulation study."
   ]
  },
  {
   "cell_type": "code",
   "execution_count": 70,
   "metadata": {
    "slideshow": {
     "slide_type": "slide"
    }
   },
   "outputs": [
    {
     "data": {
      "image/png": "[encoded data removed]",
      "text/plain": [
       "<Figure size 360x360 with 1 Axes>"
      ]
     },
     "metadata": {},
     "output_type": "display_data"
    }
   ],
   "source": [
    "results.scatter('p', 'gc_frac')"
   ]
  },
  {
   "cell_type": "markdown",
   "metadata": {
    "nbpresent": {
     "id": "30c16304-8c40-4210-8084-2eedeeb864d5"
    },
    "slideshow": {
     "slide_type": "fragment"
    }
   },
   "source": [
    "Second, looking at the plot, as $p$ increases there seems to be a nonlinear change (i.e., a change that doesn't follow a straight line) from a regime where `gc_frac` is steadily increasing to a regime where it is fixed at its maximum value, 1. When `gc_frac` is 1, all of the nodes in the network are in the same component. So this result suggests that, when $p$ is big enough, an ER random network is very likely to be completely connected, i.e., made of one 'giant' component."
   ]
  },
  {
   "cell_type": "markdown",
   "metadata": {
    "slideshow": {
     "slide_type": "slide"
    }
   },
   "source": [
    "It would be interesting to understand where that transition point happens."
   ]
  },
  {
   "cell_type": "markdown",
   "metadata": {
    "slideshow": {
     "slide_type": "fragment"
    }
   },
   "source": [
    "**Question** Can you conjecture at what point a giant component will be very likely to emerge in an ER network with parameters $p$ and $n$?"
   ]
  },
  {
   "cell_type": "markdown",
   "metadata": {
    "nbpresent": {
     "id": "8a1014bf-438f-4499-aad1-d2f1af8afe95"
    },
    "slideshow": {
     "slide_type": "slide"
    }
   },
   "source": [
    "Let's try to answer this question empirically.\n",
    "\n",
    "We'll start with the simulation code we just used, but we'll tweak the ranges of $p$ that get explored to try and narrow down exactly where the emergence of a single giant component happens. In other words, we'll try to find the value of $p$ above which the fraction of nodes in the giant component is equal to 1."
   ]
  },
  {
   "cell_type": "markdown",
   "metadata": {
    "slideshow": {
     "slide_type": "skip"
    }
   },
   "source": [
    "*[Hint: in addition to narrowing the range of $p$ values explored in the simulation, you may also want to make the distance between the different $p$ values narrower; in other words, you might want to make the third argument of `np.arange` smaller]*"
   ]
  },
  {
   "cell_type": "code",
   "execution_count": null,
   "metadata": {
    "nbpresent": {
     "id": "6bbc7e23-8215-44a0-83b2-cf1f623eacad"
    },
    "slideshow": {
     "slide_type": "skip"
    }
   },
   "outputs": [],
   "source": [
    "n = ...\n",
    "num_repetitions = ...\n",
    "p_vals = np.repeat(np.arange(0, 0.2, .01), num_repetitions)\n",
    "num_component_results = make_array()\n",
    "gc_frac_results = make_array()\n",
    "\n",
    "for current_p in p_vals:\n",
    "    sim_network = nx.erdos_renyi_graph(n=n, p=current_p)\n",
    "    sim_network_num_components = nx.number_connected_components(sim_network)\n",
    "    sim_network_gc_frac = frac_nodes_in_biggest_component(sim_network)\n",
    "    num_component_results = np.append(num_component_results, sim_network_num_components)\n",
    "    gc_frac_results = np.append(gc_frac_results, sim_network_gc_frac)\n",
    "    \n",
    "results = Table().with_columns([\n",
    "        'p', p_vals,\n",
    "        'num_components', num_component_results,\n",
    "        'gc_frac', gc_frac_results\n",
    "    ])\n",
    "\n",
    "results.scatter('p', 'gc_frac')"
   ]
  },
  {
   "cell_type": "code",
   "execution_count": 71,
   "metadata": {
    "nbpresent": {
     "id": "13d86a5e-7f0c-40dc-bbeb-30c58ef0acb0"
    },
    "slideshow": {
     "slide_type": "fragment"
    }
   },
   "outputs": [
    {
     "data": {
      "image/png": "[encoded data removed]",
      "text/plain": [
       "<Figure size 360x360 with 1 Axes>"
      ]
     },
     "metadata": {},
     "output_type": "display_data"
    }
   ],
   "source": [
    "# SOLUTION\n",
    "n = 100\n",
    "num_repetitions = 5\n",
    "p_vals = np.repeat(np.arange(0.015, 0.03, .0005), num_repetitions)\n",
    "num_component_results = make_array()\n",
    "gc_frac_results = make_array()\n",
    "\n",
    "for current_p in p_vals:\n",
    "    sim_network = nx.erdos_renyi_graph(n=n, p=current_p)\n",
    "    sim_network_num_components = nx.number_connected_components(sim_network)\n",
    "    sim_network_gc_frac = frac_nodes_in_biggest_component(sim_network)\n",
    "    num_component_results = np.append(num_component_results, sim_network_num_components)\n",
    "    gc_frac_results = np.append(gc_frac_results, sim_network_gc_frac)\n",
    "    \n",
    "results = Table().with_columns([\n",
    "        'p', p_vals,\n",
    "        'num_components', num_component_results,\n",
    "        'gc_frac', gc_frac_results\n",
    "    ])\n",
    "\n",
    "results.scatter('p', 'gc_frac')"
   ]
  },
  {
   "cell_type": "markdown",
   "metadata": {
    "slideshow": {
     "slide_type": "slide"
    }
   },
   "source": [
    "Let's repeat the simulation above, but now we'll calculate $\\bar{d}$, the average degree as well as `gc_frac`."
   ]
  },
  {
   "cell_type": "code",
   "execution_count": 72,
   "metadata": {
    "slideshow": {
     "slide_type": "fragment"
    }
   },
   "outputs": [
    {
     "data": {
      "image/png": "[encoded data removed]",
      "text/plain": [
       "<Figure size 360x360 with 1 Axes>"
      ]
     },
     "metadata": {},
     "output_type": "display_data"
    }
   ],
   "source": [
    "n = 100\n",
    "num_repetitions = 10\n",
    "p_vals = np.repeat(np.arange(0, 0.05, .001), num_repetitions)\n",
    "num_component_results = make_array()\n",
    "gc_frac_results = make_array()\n",
    "avg_degree_results = make_array()\n",
    "\n",
    "for current_p in p_vals:\n",
    "    sim_network = nx.erdos_renyi_graph(n=n, p=current_p)\n",
    "    sim_network_num_components = nx.number_connected_components(sim_network)\n",
    "    sim_network_gc_frac = frac_nodes_in_biggest_component(sim_network)\n",
    "    num_component_results = np.append(num_component_results, sim_network_num_components)\n",
    "    gc_frac_results = np.append(gc_frac_results, sim_network_gc_frac)\n",
    "    avg_degree_results = np.append(avg_degree_results, avg_degree(sim_network)) \n",
    "    \n",
    "results = Table().with_columns([\n",
    "        'p', p_vals,\n",
    "        'num_components', num_component_results,\n",
    "        'gc_frac', gc_frac_results,\n",
    "        'avg_degree', avg_degree_results\n",
    "    ])\n",
    "\n",
    "results.scatter('p', 'gc_frac')"
   ]
  },
  {
   "cell_type": "markdown",
   "metadata": {
    "slideshow": {
     "slide_type": "slide"
    }
   },
   "source": [
    "And let's investigate the relationship between $\\bar{d}$ and `gc_frac`."
   ]
  },
  {
   "cell_type": "code",
   "execution_count": 73,
   "metadata": {
    "slideshow": {
     "slide_type": "slide"
    }
   },
   "outputs": [
    {
     "data": {
      "image/png": "[encoded data removed]",
      "text/plain": [
       "<Figure size 360x360 with 1 Axes>"
      ]
     },
     "metadata": {},
     "output_type": "display_data"
    }
   ],
   "source": [
    "results.scatter('avg_degree', 'gc_frac')"
   ]
  },
  {
   "cell_type": "markdown",
   "metadata": {
    "slideshow": {
     "slide_type": "slide"
    }
   },
   "source": [
    "**Question** Based on your simulation exploration, what is our best estimate for the value of $p$ where a giant component emerges? Can you think of any other way of estimating this value (apart from the simulation)?"
   ]
  },
  {
   "cell_type": "markdown",
   "metadata": {
    "slideshow": {
     "slide_type": "fragment"
    }
   },
   "source": [
    "Answer: p = 0.01-0.02; d_bar = 1-2"
   ]
  },
  {
   "cell_type": "markdown",
   "metadata": {
    "slideshow": {
     "slide_type": "slide"
    }
   },
   "source": [
    "Now we'll look at the giant component in situations where we fix the average degree, but make the network bigger.\n",
    "\n",
    "**Question** What would you predict will happen as n goes from smaller to bigger values when $\\bar{d}$ is fixed?"
   ]
  },
  {
   "cell_type": "code",
   "execution_count": 74,
   "metadata": {
    "slideshow": {
     "slide_type": "slide"
    }
   },
   "outputs": [
    {
     "data": {
      "image/png": "[encoded data removed]",
      "text/plain": [
       "<Figure size 360x360 with 1 Axes>"
      ]
     },
     "metadata": {},
     "output_type": "display_data"
    }
   ],
   "source": [
    "num_repetitions = 10\n",
    "dbar = 10\n",
    "n_vals = np.repeat(np.arange(100, 500, 10), num_repetitions)\n",
    "gc_frac_results = make_array()\n",
    "\n",
    "for current_n in n_vals:\n",
    "    sim_network = gen_er_by_avg_degree(n=current_n, dbar=dbar)\n",
    "    sim_network_gc_frac = frac_nodes_in_biggest_component(sim_network)\n",
    "    gc_frac_results = np.append(gc_frac_results, sim_network_gc_frac)\n",
    "    \n",
    "    \n",
    "results_gc_n = Table().with_columns([\n",
    "        'n', n_vals,\n",
    "        'gc_frac', gc_frac_results\n",
    "    ])\n",
    "\n",
    "results_gc_n.scatter('n', 'gc_frac')"
   ]
  },
  {
   "cell_type": "markdown",
   "metadata": {
    "slideshow": {
     "slide_type": "slide"
    }
   },
   "source": [
    "What we find is that the fraction of nodes in the giant component depends on dbar, but not on n.\n",
    "\n",
    "(If you change dbar to be closer to 1, the results will be noisier, so more simulations will be needed to see this clearly)"
   ]
  },
  {
   "cell_type": "markdown",
   "metadata": {
    "slideshow": {
     "slide_type": "slide"
    }
   },
   "source": [
    "### Path lengths"
   ]
  },
  {
   "cell_type": "markdown",
   "metadata": {
    "slideshow": {
     "slide_type": "fragment"
    }
   },
   "source": [
    "One way to try to quantify the structure of a network is to examine the distance between the nodes in the network.\n",
    "\n",
    "Q: How did we define the distance between two nodes?  "
   ]
  },
  {
   "cell_type": "markdown",
   "metadata": {
    "slideshow": {
     "slide_type": "fragment"
    }
   },
   "source": [
    "Q: Can we define the distance between *any* pair of nodes in a network?"
   ]
  },
  {
   "cell_type": "markdown",
   "metadata": {
    "slideshow": {
     "slide_type": "slide"
    }
   },
   "source": [
    "Let's make a table of the distance between every pair of nodes in the giant component of this network:"
   ]
  },
  {
   "cell_type": "markdown",
   "metadata": {
    "slideshow": {
     "slide_type": "fragment"
    }
   },
   "source": [
    "<img src=\"example_network.png\" style=\"width: 60%;\">"
   ]
  },
  {
   "cell_type": "markdown",
   "metadata": {
    "slideshow": {
     "slide_type": "slide"
    }
   },
   "source": [
    "For the nodes that are in the giant component, we get something like this:"
   ]
  },
  {
   "cell_type": "markdown",
   "metadata": {
    "slideshow": {
     "slide_type": "fragment"
    }
   },
   "source": [
    "\n",
    "\n",
    "|             |  node 1 | node 2 |  node 3 |  node 4 |\n",
    "|   :----:    |  :---:  |  :---: |  :---:  |  :---:  |\n",
    "|   node 1    |    -    |    2   |    1    |    2    |\n",
    "|   node 2    |    2    |    -   |    1    |    2    |\n",
    "|   node 3    |    1    |    1   |    -    |    1    |\n",
    "|   node 4    |    2    |    2   |    1    |    -    |\n"
   ]
  },
  {
   "cell_type": "markdown",
   "metadata": {
    "slideshow": {
     "slide_type": "fragment"
    }
   },
   "source": [
    "We define the **average path length** to be the average of the path lengths between nodes. Here:\n"
   ]
  },
  {
   "cell_type": "code",
   "execution_count": null,
   "metadata": {
    "slideshow": {
     "slide_type": "fragment"
    }
   },
   "outputs": [],
   "source": [
    "(2 + 1 + 2 + 1 + 2 + 1) / 6"
   ]
  },
  {
   "cell_type": "markdown",
   "metadata": {
    "slideshow": {
     "slide_type": "slide"
    }
   },
   "source": [
    "Let's check our answer with code"
   ]
  },
  {
   "cell_type": "code",
   "execution_count": 75,
   "metadata": {
    "slideshow": {
     "slide_type": "fragment"
    }
   },
   "outputs": [
    {
     "data": {
      "image/png": "[encoded data removed]",
      "text/plain": [
       "<Figure size 432x288 with 1 Axes>"
      ]
     },
     "metadata": {},
     "output_type": "display_data"
    }
   ],
   "source": [
    "ex_network = nx.Graph([(1,3), (2,3), (3,4), (5,6), (7,8)])\n",
    "nx.draw(ex_network, with_labels=True)"
   ]
  },
  {
   "cell_type": "code",
   "execution_count": 76,
   "metadata": {
    "slideshow": {
     "slide_type": "fragment"
    }
   },
   "outputs": [
    {
     "data": {
      "text/plain": [
       "1.5"
      ]
     },
     "execution_count": 76,
     "metadata": {},
     "output_type": "execute_result"
    }
   ],
   "source": [
    "ex_largest_comp = get_biggest_component(ex_network)\n",
    "nx.average_shortest_path_length(ex_largest_comp)"
   ]
  },
  {
   "cell_type": "markdown",
   "metadata": {
    "slideshow": {
     "slide_type": "slide"
    }
   },
   "source": [
    "So, to summarize, the **average shortest path length** is defined for a particular connected component.  \n",
    "We usually calculate the ASPL for the giant component in a social network.  \n",
    "It answers the question: if you randomly picked two nodes, on average how far apart would they be?"
   ]
  },
  {
   "cell_type": "markdown",
   "metadata": {
    "slideshow": {
     "slide_type": "slide"
    }
   },
   "source": [
    "### Average shortest path length in ER networks"
   ]
  },
  {
   "cell_type": "markdown",
   "metadata": {
    "slideshow": {
     "slide_type": "fragment"
    }
   },
   "source": [
    "Now let's go back to the ER model.\n",
    "\n",
    "**Question:** Fix $n=100$. What do you think the average shortest path length will be when the average degree is close to 1?"
   ]
  },
  {
   "cell_type": "markdown",
   "metadata": {
    "slideshow": {
     "slide_type": "fragment"
    }
   },
   "source": [
    "**Question:** Fix $n=100$. What do you think the average shortest path length will be when the average degree is close to 99?"
   ]
  },
  {
   "cell_type": "markdown",
   "metadata": {
    "slideshow": {
     "slide_type": "fragment"
    }
   },
   "source": [
    "**Question:** How do you think the shortest path length will change as the average degree increases from 1 up to 99?"
   ]
  },
  {
   "cell_type": "code",
   "execution_count": 77,
   "metadata": {
    "slideshow": {
     "slide_type": "slide"
    }
   },
   "outputs": [
    {
     "name": "stdout",
     "output_type": "stream",
     "text": [
      "CPU times: user 10.5 s, sys: 667 ms, total: 11.2 s\n",
      "Wall time: 12.3 s\n"
     ]
    }
   ],
   "source": [
    "%%time\n",
    "n = 100\n",
    "num_repetitions = 5\n",
    "dbar_vals = np.repeat(np.arange(1, n-1, 10), num_repetitions)\n",
    "apl_results = make_array()\n",
    "\n",
    "for current_dbar in dbar_vals:\n",
    "    sim_network = gen_er_by_avg_degree(n=n, dbar=current_dbar)\n",
    "    gc = get_biggest_component(sim_network)\n",
    "    apl_results = np.append(apl_results, nx.average_shortest_path_length(gc))\n",
    "    \n",
    "results_apl = Table().with_columns([\n",
    "        'dbar', dbar_vals,\n",
    "        'apl', apl_results\n",
    "    ])"
   ]
  },
  {
   "cell_type": "code",
   "execution_count": 78,
   "metadata": {
    "slideshow": {
     "slide_type": "slide"
    }
   },
   "outputs": [
    {
     "data": {
      "image/png": "[encoded data removed]",
      "text/plain": [
       "<Figure size 360x360 with 1 Axes>"
      ]
     },
     "metadata": {},
     "output_type": "display_data"
    }
   ],
   "source": [
    "results_apl.scatter('dbar', 'apl')"
   ]
  },
  {
   "cell_type": "markdown",
   "metadata": {
    "slideshow": {
     "slide_type": "slide"
    }
   },
   "source": [
    "Finally, let's ask the question: what will happen to the average path length if we fix the average degree, but increase the size of the network?"
   ]
  },
  {
   "cell_type": "code",
   "execution_count": 79,
   "metadata": {
    "slideshow": {
     "slide_type": "slide"
    }
   },
   "outputs": [
    {
     "name": "stdout",
     "output_type": "stream",
     "text": [
      "CPU times: user 2min 15s, sys: 1.12 s, total: 2min 16s\n",
      "Wall time: 2min 19s\n"
     ]
    }
   ],
   "source": [
    "%%time\n",
    "## NB: takes about 3 mins\n",
    "num_repetitions = 5\n",
    "dbar = 10\n",
    "n_vals = np.repeat(np.arange(100, 500, 10), num_repetitions)\n",
    "apl_results = make_array()\n",
    "\n",
    "for current_n in n_vals:\n",
    "    sim_network = gen_er_by_avg_degree(n=current_n, dbar=dbar)\n",
    "    gc = get_biggest_component(sim_network)\n",
    "    apl_results = np.append(apl_results, nx.average_shortest_path_length(gc))\n",
    "    \n",
    "results_apl_n = Table().with_columns([\n",
    "        'n', n_vals,\n",
    "        'apl', apl_results\n",
    "    ])"
   ]
  },
  {
   "cell_type": "code",
   "execution_count": 80,
   "metadata": {
    "slideshow": {
     "slide_type": "slide"
    }
   },
   "outputs": [
    {
     "data": {
      "image/png": "[encoded data removed]",
      "text/plain": [
       "<Figure size 360x360 with 1 Axes>"
      ]
     },
     "metadata": {},
     "output_type": "display_data"
    }
   ],
   "source": [
    "results_apl_n.scatter('n', 'apl')"
   ]
  }
 ],
 "metadata": {
  "anaconda-cloud": {},
  "celltoolbar": "Slideshow",
  "kernelspec": {
   "display_name": "Python [default]",
   "language": "python",
   "name": "python3"
  },
  "language_info": {
   "codemirror_mode": {
    "name": "ipython",
    "version": 3
   },
   "file_extension": ".py",
   "mimetype": "text/x-python",
   "name": "python",
   "nbconvert_exporter": "python",
   "pygments_lexer": "ipython3",
   "version": "3.5.2"
  },
  "livereveal": {
   "scroll": true
  },
  "nbpresent": {
   "slides": {
    "0258bb96-4c5b-4652-8a20-0013aac7d65f": {
     "id": "0258bb96-4c5b-4652-8a20-0013aac7d65f",
     "prev": "63e2a1a5-f0dd-4b34-8e9a-ec99307a0d64",
     "regions": {
      "e0d79cd8-febf-420a-b652-cbcaad4c35f1": {
       "attrs": {
        "height": 0.8,
        "width": 0.8,
        "x": 0.1,
        "y": 0.1
       },
       "content": {
        "cell": "2f4e0509-4dfc-419c-9c00-694451569d9b",
        "part": "whole"
       },
       "id": "e0d79cd8-febf-420a-b652-cbcaad4c35f1"
      }
     }
    },
    "041823cf-f6ae-4e72-8df4-c0b2784fcae1": {
     "id": "041823cf-f6ae-4e72-8df4-c0b2784fcae1",
     "prev": "ea2de6d1-a769-46b6-820a-89532e6db0f1",
     "regions": {
      "65b595fb-574e-4941-b6a7-b63de23ce867": {
       "attrs": {
        "height": 0.8,
        "width": 0.8,
        "x": 0.1,
        "y": 0.1
       },
       "content": {
        "cell": "0601e5c9-e245-4cae-b416-0c1d1b7df837",
        "part": "whole"
       },
       "id": "65b595fb-574e-4941-b6a7-b63de23ce867"
      }
     }
    },
    "04437d21-0f17-489b-a70b-6a48c7cfc545": {
     "id": "04437d21-0f17-489b-a70b-6a48c7cfc545",
     "prev": "2592b990-daa0-49ce-85a7-7e4a3e40c65b",
     "regions": {
      "25e626ea-318f-45e5-ab4f-b6dced315c4c": {
       "attrs": {
        "height": 0.8,
        "width": 0.8,
        "x": 0.1,
        "y": 0.1
       },
       "content": {
        "cell": "4f4f3521-0973-4c3e-899f-1f26c174e27d",
        "part": "whole"
       },
       "id": "25e626ea-318f-45e5-ab4f-b6dced315c4c"
      }
     }
    },
    "05397b8a-186a-4276-9d47-c4ac9a169327": {
     "id": "05397b8a-186a-4276-9d47-c4ac9a169327",
     "prev": "a621d91f-2c83-4120-8beb-9ac54032f389",
     "regions": {
      "30be90c5-2214-4e8a-9a12-8ec57a49f86b": {
       "attrs": {
        "height": 0.8,
        "width": 0.8,
        "x": 0.1,
        "y": 0.1
       },
       "content": {
        "cell": "c009596a-3774-4add-b084-832001095116",
        "part": "whole"
       },
       "id": "30be90c5-2214-4e8a-9a12-8ec57a49f86b"
      }
     }
    },
    "0749e7a4-1d6d-46af-bd34-554a2c7bd035": {
     "id": "0749e7a4-1d6d-46af-bd34-554a2c7bd035",
     "prev": "7c838566-8eb9-49ab-bea0-0a3197707229",
     "regions": {
      "12357b2d-803c-49da-a39e-1ad69e8d07e1": {
       "attrs": {
        "height": 0.8,
        "width": 0.8,
        "x": 0.1,
        "y": 0.1
       },
       "content": {
        "cell": "f32993d5-c714-49c9-a706-627429aaec75",
        "part": "whole"
       },
       "id": "12357b2d-803c-49da-a39e-1ad69e8d07e1"
      }
     }
    },
    "078037d0-4097-45d5-963b-71d368e652f2": {
     "id": "078037d0-4097-45d5-963b-71d368e652f2",
     "prev": "da46ad4b-068c-4615-a3f6-ad2b3f9bdc1a",
     "regions": {
      "c957cff9-7153-4c46-bb0b-3ed315203404": {
       "attrs": {
        "height": 0.8,
        "width": 0.8,
        "x": 0.1,
        "y": 0.1
       },
       "content": {
        "cell": "180c24e9-647c-48c4-afdc-58db04e88b86",
        "part": "whole"
       },
       "id": "c957cff9-7153-4c46-bb0b-3ed315203404"
      }
     }
    },
    "12046e2c-58c8-4e9b-ab5d-e9910d7997f0": {
     "id": "12046e2c-58c8-4e9b-ab5d-e9910d7997f0",
     "prev": "9326275d-5c76-4fcf-82b6-74957727ba64",
     "regions": {
      "482dbf6a-c802-4af0-b5da-6afbe3722165": {
       "attrs": {
        "height": 0.8,
        "width": 0.8,
        "x": 0.1,
        "y": 0.1
       },
       "content": {
        "cell": "4eb83663-8e70-4d01-9fe3-c0a460e48069",
        "part": "whole"
       },
       "id": "482dbf6a-c802-4af0-b5da-6afbe3722165"
      }
     }
    },
    "12773f28-ee3f-40ed-98b5-beed2e6eb658": {
     "id": "12773f28-ee3f-40ed-98b5-beed2e6eb658",
     "prev": "0749e7a4-1d6d-46af-bd34-554a2c7bd035",
     "regions": {
      "083000c2-f75f-4841-912a-ef7c8fdf8531": {
       "attrs": {
        "height": 0.8,
        "width": 0.8,
        "x": 0.1,
        "y": 0.1
       },
       "content": {
        "cell": "d28f5c70-06a8-47fc-bef4-d92683194c5e",
        "part": "whole"
       },
       "id": "083000c2-f75f-4841-912a-ef7c8fdf8531"
      }
     }
    },
    "169f4ada-50b2-4a11-8ef2-314deb7dd8e0": {
     "id": "169f4ada-50b2-4a11-8ef2-314deb7dd8e0",
     "prev": "51537fcf-b165-4eb6-9639-2dd7bfccd177",
     "regions": {
      "bbbd8727-10c0-40aa-87e9-5f2ea634cf19": {
       "attrs": {
        "height": 0.8,
        "width": 0.8,
        "x": 0.1,
        "y": 0.1
       },
       "content": {
        "cell": "a37b78a1-030c-4437-9d21-033967a0ade2",
        "part": "whole"
       },
       "id": "bbbd8727-10c0-40aa-87e9-5f2ea634cf19"
      }
     }
    },
    "172d7872-74e4-4b16-8b0d-d872b0f5b3ea": {
     "id": "172d7872-74e4-4b16-8b0d-d872b0f5b3ea",
     "prev": "9f0db258-4f69-496f-9b84-28223690ab1f",
     "regions": {
      "a77d1293-4577-49d3-9a17-f3e020e39c7e": {
       "attrs": {
        "height": 0.8,
        "width": 0.8,
        "x": 0.1,
        "y": 0.1
       },
       "content": {
        "cell": "cf0d51d8-74c1-4c7e-b5ff-b7fcf5bd82e2",
        "part": "whole"
       },
       "id": "a77d1293-4577-49d3-9a17-f3e020e39c7e"
      }
     }
    },
    "1757523a-b239-4c9d-9ed5-ef492a1c20a0": {
     "id": "1757523a-b239-4c9d-9ed5-ef492a1c20a0",
     "prev": "f94d9fb0-53fb-4e3f-9aa8-d33b9c176eed",
     "regions": {
      "4e3a1285-a65e-43ee-a39d-1cfc7acea926": {
       "attrs": {
        "height": 0.8,
        "width": 0.8,
        "x": 0.1,
        "y": 0.1
       },
       "content": {
        "cell": "9da29224-c09c-4aff-8357-7cb13c5067f2",
        "part": "whole"
       },
       "id": "4e3a1285-a65e-43ee-a39d-1cfc7acea926"
      }
     }
    },
    "1f10a046-5060-49b1-bb62-fc62c7b9ad76": {
     "id": "1f10a046-5060-49b1-bb62-fc62c7b9ad76",
     "prev": "89cf6cee-5576-4ea3-9871-a9c68e6d1a61",
     "regions": {
      "80d6a321-aaf0-4cc0-9c11-46590eecf3e6": {
       "attrs": {
        "height": 0.8,
        "width": 0.8,
        "x": 0.1,
        "y": 0.1
       },
       "content": {
        "cell": "1ee576ec-5b2d-47cc-83e1-6f605042e8d6",
        "part": "whole"
       },
       "id": "80d6a321-aaf0-4cc0-9c11-46590eecf3e6"
      }
     }
    },
    "21962053-5620-46c8-bc81-beb7408dc4ab": {
     "id": "21962053-5620-46c8-bc81-beb7408dc4ab",
     "prev": "0258bb96-4c5b-4652-8a20-0013aac7d65f",
     "regions": {
      "d2fe6370-73a9-49ac-a1f5-e1bf9b29fdf9": {
       "attrs": {
        "height": 0.8,
        "width": 0.8,
        "x": 0.1,
        "y": 0.1
       },
       "content": {
        "cell": "fcc813c1-5ccf-4e4b-9644-e4b0ec39259f",
        "part": "whole"
       },
       "id": "d2fe6370-73a9-49ac-a1f5-e1bf9b29fdf9"
      }
     }
    },
    "225b6f04-3520-402c-9a3b-fe1d949eb2f9": {
     "id": "225b6f04-3520-402c-9a3b-fe1d949eb2f9",
     "prev": "ec02e9b9-8bda-439c-9759-f66384e29fb8",
     "regions": {
      "e683153b-c0cb-4f27-ba6a-6670a527754e": {
       "attrs": {
        "height": 0.8,
        "width": 0.8,
        "x": 0.1,
        "y": 0.1
       },
       "content": {
        "cell": "369f8545-5359-4d68-b561-9b3110518f9d",
        "part": "whole"
       },
       "id": "e683153b-c0cb-4f27-ba6a-6670a527754e"
      }
     }
    },
    "2592b990-daa0-49ce-85a7-7e4a3e40c65b": {
     "id": "2592b990-daa0-49ce-85a7-7e4a3e40c65b",
     "prev": "abc09b30-6e20-4768-ac1d-d1021f42a8da",
     "regions": {
      "28704247-d969-40cb-b608-177110a7a151": {
       "attrs": {
        "height": 0.8,
        "width": 0.8,
        "x": 0.1,
        "y": 0.1
       },
       "content": {
        "cell": "cbc4c739-e165-4f5d-baa8-0032b9ce9773",
        "part": "whole"
       },
       "id": "28704247-d969-40cb-b608-177110a7a151"
      }
     }
    },
    "2e4d8493-68d1-41f8-9506-036eb5486770": {
     "id": "2e4d8493-68d1-41f8-9506-036eb5486770",
     "prev": "802b8279-8bef-47ae-a46e-b1aa5f1a185e",
     "regions": {
      "6d269d9b-32ca-4cf9-8780-ea6663988ccd": {
       "attrs": {
        "height": 0.8,
        "width": 0.8,
        "x": 0.1,
        "y": 0.1
       },
       "content": {
        "cell": "087e79f5-63ab-47e9-9a62-7880f3929a7d",
        "part": "whole"
       },
       "id": "6d269d9b-32ca-4cf9-8780-ea6663988ccd"
      }
     }
    },
    "2ef134b5-9ae9-4008-9338-5ab66373eb8b": {
     "id": "2ef134b5-9ae9-4008-9338-5ab66373eb8b",
     "prev": "860975fb-016b-4f80-9b85-4db86bf16c0a",
     "regions": {
      "68465f99-6c43-4e9a-aa06-b3dfcfe0edad": {
       "attrs": {
        "height": 0.8,
        "width": 0.8,
        "x": 0.1,
        "y": 0.1
       },
       "content": {
        "cell": "588e9682-83cf-43a0-9829-a650daef57d1",
        "part": "whole"
       },
       "id": "68465f99-6c43-4e9a-aa06-b3dfcfe0edad"
      }
     }
    },
    "32f66289-aeff-43f8-8561-38aadf12a787": {
     "id": "32f66289-aeff-43f8-8561-38aadf12a787",
     "prev": "8435bb0a-d877-4e3d-b08a-a75e9e4bf3d8",
     "regions": {
      "bbd1ed73-a872-4942-943a-dcf2d2633dca": {
       "attrs": {
        "height": 0.8,
        "width": 0.8,
        "x": 0.1,
        "y": 0.1
       },
       "content": {
        "cell": "3880726e-53d7-43ed-8136-0c72465dae5a",
        "part": "whole"
       },
       "id": "bbd1ed73-a872-4942-943a-dcf2d2633dca"
      }
     }
    },
    "353eeca0-d21f-48cd-8470-b2d2c0f40353": {
     "id": "353eeca0-d21f-48cd-8470-b2d2c0f40353",
     "prev": "9a3ae212-b273-4018-a3fe-a18200d45b6e",
     "regions": {
      "fabdc16a-6878-425b-a270-8fc4103e7b3d": {
       "attrs": {
        "height": 0.8,
        "width": 0.8,
        "x": 0.1,
        "y": 0.1
       },
       "content": {
        "cell": "fae79e2a-f960-44b7-9edb-0f72a59a0fb7",
        "part": "whole"
       },
       "id": "fabdc16a-6878-425b-a270-8fc4103e7b3d"
      }
     }
    },
    "393e26c9-a544-4368-a43b-f03547d2947c": {
     "id": "393e26c9-a544-4368-a43b-f03547d2947c",
     "prev": "8b3e5ce1-1cbe-4ce0-b056-3e407b70ec9d",
     "regions": {
      "df84fc86-ff14-4529-86ac-8f6afdec98b6": {
       "attrs": {
        "height": 0.8,
        "width": 0.8,
        "x": 0.1,
        "y": 0.1
       },
       "content": {
        "cell": "04f360db-08f6-4c80-96d0-529bb8ab77c0",
        "part": "whole"
       },
       "id": "df84fc86-ff14-4529-86ac-8f6afdec98b6"
      }
     }
    },
    "3b65ce9c-5dea-45ce-adfe-d567b8d02527": {
     "id": "3b65ce9c-5dea-45ce-adfe-d567b8d02527",
     "prev": "f166eec3-a91e-4b18-8435-314eba97dd41",
     "regions": {
      "c96f1498-5e1b-43d7-add8-c19d3fd575cf": {
       "attrs": {
        "height": 0.8,
        "width": 0.8,
        "x": 0.1,
        "y": 0.1
       },
       "content": {
        "cell": "306433da-c777-4a27-9df0-1ce61fb6bcf0",
        "part": "whole"
       },
       "id": "c96f1498-5e1b-43d7-add8-c19d3fd575cf"
      }
     }
    },
    "43d79c23-cb27-4b91-839a-0082e5356aa3": {
     "id": "43d79c23-cb27-4b91-839a-0082e5356aa3",
     "prev": "99e1cc0f-33fe-4d16-8b77-82398505eb15",
     "regions": {
      "c45bd4fe-c8e1-437d-89f7-c5ee06cfbb44": {
       "attrs": {
        "height": 0.8,
        "width": 0.8,
        "x": 0.1,
        "y": 0.1
       },
       "content": {
        "cell": "0a88df1b-286c-463e-9936-7db0ecff3ef7",
        "part": "whole"
       },
       "id": "c45bd4fe-c8e1-437d-89f7-c5ee06cfbb44"
      }
     }
    },
    "4869f8f6-6f45-4cc9-a67d-8068f939dc18": {
     "id": "4869f8f6-6f45-4cc9-a67d-8068f939dc18",
     "prev": "041823cf-f6ae-4e72-8df4-c0b2784fcae1",
     "regions": {
      "0e59f60f-1e09-48cd-acb4-474de2795833": {
       "attrs": {
        "height": 0.8,
        "width": 0.8,
        "x": 0.1,
        "y": 0.1
       },
       "content": {
        "cell": "4328f5a2-6022-4936-90c0-d2f4123397e9",
        "part": "whole"
       },
       "id": "0e59f60f-1e09-48cd-acb4-474de2795833"
      }
     }
    },
    "4a2581be-93b4-4d6e-9a57-a69059655398": {
     "id": "4a2581be-93b4-4d6e-9a57-a69059655398",
     "prev": "8cb452ad-17e5-4348-9d77-0e8aea403a30",
     "regions": {
      "be3c0269-950d-4858-a1de-19791d471f82": {
       "attrs": {
        "height": 0.8,
        "width": 0.8,
        "x": 0.1,
        "y": 0.1
       },
       "content": {
        "cell": "309a134b-cc86-4cbb-af0a-49d3f8a8b7ab",
        "part": "whole"
       },
       "id": "be3c0269-950d-4858-a1de-19791d471f82"
      }
     }
    },
    "4a267ccc-e8c8-4113-80a4-d5b8070a49d0": {
     "id": "4a267ccc-e8c8-4113-80a4-d5b8070a49d0",
     "prev": "32f66289-aeff-43f8-8561-38aadf12a787",
     "regions": {
      "1de5c3ee-73a2-4066-978b-1c8cae7a9ec3": {
       "attrs": {
        "height": 0.8,
        "width": 0.8,
        "x": 0.1,
        "y": 0.1
       },
       "content": {
        "cell": "2edf457a-54ac-43f9-add9-f3ad5b0febb1",
        "part": "whole"
       },
       "id": "1de5c3ee-73a2-4066-978b-1c8cae7a9ec3"
      }
     }
    },
    "4ce953d6-b49b-47c0-9089-f14f2708d439": {
     "id": "4ce953d6-b49b-47c0-9089-f14f2708d439",
     "prev": "c8c67562-f7fb-4c56-b2b5-5f23608cedd1",
     "regions": {
      "5b0c0eb6-c8d9-4127-98e6-6b0e2aefc80c": {
       "attrs": {
        "height": 0.8,
        "width": 0.8,
        "x": 0.1,
        "y": 0.1
       },
       "content": {
        "cell": "6bbc7e23-8215-44a0-83b2-cf1f623eacad",
        "part": "whole"
       },
       "id": "5b0c0eb6-c8d9-4127-98e6-6b0e2aefc80c"
      }
     }
    },
    "51537fcf-b165-4eb6-9639-2dd7bfccd177": {
     "id": "51537fcf-b165-4eb6-9639-2dd7bfccd177",
     "prev": "353eeca0-d21f-48cd-8470-b2d2c0f40353",
     "regions": {
      "c55cc61c-aadf-4e36-8d66-9b478080e78b": {
       "attrs": {
        "height": 0.8,
        "width": 0.8,
        "x": 0.1,
        "y": 0.1
       },
       "content": {
        "cell": "9f34a4a2-6941-460e-80df-e951b02ad35d",
        "part": "whole"
       },
       "id": "c55cc61c-aadf-4e36-8d66-9b478080e78b"
      }
     }
    },
    "53a2ee81-f67d-459e-8238-afee3dd33944": {
     "id": "53a2ee81-f67d-459e-8238-afee3dd33944",
     "prev": "73f5eb53-58a3-49b2-bdda-6d464a65356f",
     "regions": {
      "fa007ae0-997b-4d5f-8627-9e5be83a701e": {
       "attrs": {
        "height": 0.8,
        "width": 0.8,
        "x": 0.1,
        "y": 0.1
       },
       "content": {
        "cell": "2b548b85-337b-4cdf-bee8-ea7796cf0075",
        "part": "whole"
       },
       "id": "fa007ae0-997b-4d5f-8627-9e5be83a701e"
      }
     }
    },
    "5ae3b70a-778a-4b7e-a0ef-26e030cfc1f1": {
     "id": "5ae3b70a-778a-4b7e-a0ef-26e030cfc1f1",
     "prev": "1757523a-b239-4c9d-9ed5-ef492a1c20a0",
     "regions": {
      "b1fb53f3-7bb8-483b-8f40-909a60c408a2": {
       "attrs": {
        "height": 0.8,
        "width": 0.8,
        "x": 0.1,
        "y": 0.1
       },
       "content": {
        "cell": "cc7047d8-9d52-4665-bc52-d10123252e83",
        "part": "whole"
       },
       "id": "b1fb53f3-7bb8-483b-8f40-909a60c408a2"
      }
     }
    },
    "5cfb548b-c96b-40a9-af82-cdb7911a84c8": {
     "id": "5cfb548b-c96b-40a9-af82-cdb7911a84c8",
     "prev": "3b65ce9c-5dea-45ce-adfe-d567b8d02527",
     "regions": {
      "b17c4c13-87bb-4d71-959c-ebaa6eebd517": {
       "attrs": {
        "height": 0.8,
        "width": 0.8,
        "x": 0.1,
        "y": 0.1
       },
       "content": {
        "cell": "5cb56c8f-efdc-4a35-9cf6-d903bf2d3fcc",
        "part": "whole"
       },
       "id": "b17c4c13-87bb-4d71-959c-ebaa6eebd517"
      }
     }
    },
    "62a3a210-016f-4fde-a045-b0801ee5058f": {
     "id": "62a3a210-016f-4fde-a045-b0801ee5058f",
     "prev": "c8ef5cb1-a0a8-40c7-9790-717b58d654b5",
     "regions": {
      "6d809e00-b783-4381-a2d7-8aa3fb7e59f7": {
       "attrs": {
        "height": 0.8,
        "width": 0.8,
        "x": 0.1,
        "y": 0.1
       },
       "content": {
        "cell": "c7795484-c944-4943-8eeb-e35d9672a4b6",
        "part": "whole"
       },
       "id": "6d809e00-b783-4381-a2d7-8aa3fb7e59f7"
      }
     }
    },
    "63e2a1a5-f0dd-4b34-8e9a-ec99307a0d64": {
     "id": "63e2a1a5-f0dd-4b34-8e9a-ec99307a0d64",
     "prev": "a26bf3a1-fefb-42d9-bda0-237782002639",
     "regions": {
      "fe23a95e-d8e6-4bbd-9b21-767fc57bb66e": {
       "attrs": {
        "height": 0.8,
        "width": 0.8,
        "x": 0.1,
        "y": 0.1
       },
       "content": {
        "cell": "5052ffd0-f3e0-4740-b9f0-77aebbe1b3a7",
        "part": "whole"
       },
       "id": "fe23a95e-d8e6-4bbd-9b21-767fc57bb66e"
      }
     }
    },
    "6753f001-7da5-449b-a986-346320dd31a1": {
     "id": "6753f001-7da5-449b-a986-346320dd31a1",
     "prev": "fadfba8d-4a3d-43ff-b6dd-18e103366a48",
     "regions": {
      "b33ae00e-7fa2-4a34-b72a-61458514a5f6": {
       "attrs": {
        "height": 0.8,
        "width": 0.8,
        "x": 0.1,
        "y": 0.1
       },
       "content": {
        "cell": "a3be24e0-ed07-45e3-81e6-88afd4fc099d",
        "part": "whole"
       },
       "id": "b33ae00e-7fa2-4a34-b72a-61458514a5f6"
      }
     }
    },
    "6edb34b8-5276-4bbd-8945-d98f6aae910c": {
     "id": "6edb34b8-5276-4bbd-8945-d98f6aae910c",
     "prev": "70399db3-2777-46f1-b0a7-e8f0ea181e2f",
     "regions": {
      "9bd759d8-784e-49a8-8e36-a5e7be3ca6d0": {
       "attrs": {
        "height": 0.8,
        "width": 0.8,
        "x": 0.1,
        "y": 0.1
       },
       "content": {
        "cell": "59adc557-af6c-468e-882a-fb75d996fbf6",
        "part": "whole"
       },
       "id": "9bd759d8-784e-49a8-8e36-a5e7be3ca6d0"
      }
     }
    },
    "70399db3-2777-46f1-b0a7-e8f0ea181e2f": {
     "id": "70399db3-2777-46f1-b0a7-e8f0ea181e2f",
     "prev": "ca498038-4be5-4a87-b462-f17d36d4a2ae",
     "regions": {
      "d22d389d-ac2b-4182-b56a-488a971ed026": {
       "attrs": {
        "height": 0.8,
        "width": 0.8,
        "x": 0.1,
        "y": 0.1
       },
       "content": {
        "cell": "76a2f815-a0ab-413a-b418-b96f0f2b9daf",
        "part": "whole"
       },
       "id": "d22d389d-ac2b-4182-b56a-488a971ed026"
      }
     }
    },
    "73f5eb53-58a3-49b2-bdda-6d464a65356f": {
     "id": "73f5eb53-58a3-49b2-bdda-6d464a65356f",
     "prev": "c407c091-af04-4007-927f-eca9c27c1f38",
     "regions": {
      "df5ab7af-64e1-405e-afb2-0bb25b010132": {
       "attrs": {
        "height": 0.8,
        "width": 0.8,
        "x": 0.1,
        "y": 0.1
       },
       "content": {
        "cell": "c678efd0-d8bf-444a-8d14-ab7d68ee8341",
        "part": "whole"
       },
       "id": "df5ab7af-64e1-405e-afb2-0bb25b010132"
      }
     }
    },
    "7c838566-8eb9-49ab-bea0-0a3197707229": {
     "id": "7c838566-8eb9-49ab-bea0-0a3197707229",
     "prev": "1f10a046-5060-49b1-bb62-fc62c7b9ad76",
     "regions": {
      "9b1852b8-174a-4ab8-acf4-49b3811500e7": {
       "attrs": {
        "height": 0.8,
        "width": 0.8,
        "x": 0.1,
        "y": 0.1
       },
       "content": {
        "cell": "14a24814-d5e0-4b9e-9b52-2531110ebfc8",
        "part": "whole"
       },
       "id": "9b1852b8-174a-4ab8-acf4-49b3811500e7"
      }
     }
    },
    "802b8279-8bef-47ae-a46e-b1aa5f1a185e": {
     "id": "802b8279-8bef-47ae-a46e-b1aa5f1a185e",
     "prev": "b61b71dc-9d7e-4ca6-8f29-476257cf1fde",
     "regions": {
      "025952ec-217d-4314-b978-172a8e61d997": {
       "attrs": {
        "height": 0.8,
        "width": 0.8,
        "x": 0.1,
        "y": 0.1
       },
       "content": {
        "cell": "7348496f-fcc8-45a1-bf17-1894e06dbceb",
        "part": "whole"
       },
       "id": "025952ec-217d-4314-b978-172a8e61d997"
      }
     }
    },
    "8256777a-0191-41b9-946e-e2c609f5e212": {
     "id": "8256777a-0191-41b9-946e-e2c609f5e212",
     "prev": "8e400211-6727-4987-a487-5354a845800a",
     "regions": {
      "7cf404d8-24cb-4e98-b79e-8cc235c129ef": {
       "attrs": {
        "height": 0.8,
        "width": 0.8,
        "x": 0.1,
        "y": 0.1
       },
       "content": {
        "cell": "04107729-d00d-4fd7-955f-d8dda441121e",
        "part": "whole"
       },
       "id": "7cf404d8-24cb-4e98-b79e-8cc235c129ef"
      }
     }
    },
    "8435bb0a-d877-4e3d-b08a-a75e9e4bf3d8": {
     "id": "8435bb0a-d877-4e3d-b08a-a75e9e4bf3d8",
     "prev": "d46cc4f9-bfb5-4943-bca5-b579a7d57f9b",
     "regions": {
      "d5ba7e92-881c-48c8-83e5-a7b9a44de6fb": {
       "attrs": {
        "height": 0.8,
        "width": 0.8,
        "x": 0.1,
        "y": 0.1
       },
       "content": {
        "cell": "ab6cbb08-b9d6-4f88-bd1c-c5012cd40381",
        "part": "whole"
       },
       "id": "d5ba7e92-881c-48c8-83e5-a7b9a44de6fb"
      }
     }
    },
    "860975fb-016b-4f80-9b85-4db86bf16c0a": {
     "id": "860975fb-016b-4f80-9b85-4db86bf16c0a",
     "prev": "b32d0844-3dc8-4393-98b2-5e62d7bb0b71",
     "regions": {
      "132257e8-12d8-4ff1-85ae-5e73428ca261": {
       "attrs": {
        "height": 0.8,
        "width": 0.8,
        "x": 0.1,
        "y": 0.1
       },
       "content": {
        "cell": "2e33bc41-dbe8-47d6-88b2-4eb9a12267fd",
        "part": "whole"
       },
       "id": "132257e8-12d8-4ff1-85ae-5e73428ca261"
      }
     }
    },
    "89cf6cee-5576-4ea3-9871-a9c68e6d1a61": {
     "id": "89cf6cee-5576-4ea3-9871-a9c68e6d1a61",
     "prev": "af708e74-20d3-4a87-8a6e-caa915868937",
     "regions": {
      "e6c4554f-1ba1-4d39-8109-c4808dacfe9e": {
       "attrs": {
        "height": 0.8,
        "width": 0.8,
        "x": 0.1,
        "y": 0.1
       },
       "content": {
        "cell": "7b69c30f-554d-4a04-8299-7bbd97321c51",
        "part": "whole"
       },
       "id": "e6c4554f-1ba1-4d39-8109-c4808dacfe9e"
      }
     }
    },
    "8b3e5ce1-1cbe-4ce0-b056-3e407b70ec9d": {
     "id": "8b3e5ce1-1cbe-4ce0-b056-3e407b70ec9d",
     "prev": "172d7872-74e4-4b16-8b0d-d872b0f5b3ea",
     "regions": {
      "57d32359-9ad4-4784-8fa8-d35f32460883": {
       "attrs": {
        "height": 0.8,
        "width": 0.8,
        "x": 0.1,
        "y": 0.1
       },
       "content": {
        "cell": "f1061284-7c6f-46ad-832d-847f3bc8760c",
        "part": "whole"
       },
       "id": "57d32359-9ad4-4784-8fa8-d35f32460883"
      }
     }
    },
    "8cb452ad-17e5-4348-9d77-0e8aea403a30": {
     "id": "8cb452ad-17e5-4348-9d77-0e8aea403a30",
     "prev": "4ce953d6-b49b-47c0-9089-f14f2708d439",
     "regions": {
      "197c030d-4c1e-4054-b31b-21194fd1d4a2": {
       "attrs": {
        "height": 0.8,
        "width": 0.8,
        "x": 0.1,
        "y": 0.1
       },
       "content": {
        "cell": "13d86a5e-7f0c-40dc-bbeb-30c58ef0acb0",
        "part": "whole"
       },
       "id": "197c030d-4c1e-4054-b31b-21194fd1d4a2"
      }
     }
    },
    "8db40449-1269-47b7-86c6-2d34100564a5": {
     "id": "8db40449-1269-47b7-86c6-2d34100564a5",
     "prev": "fe80ffbe-07bf-4b23-ac3d-d6affe68082e",
     "regions": {
      "1def0081-02c6-48bf-87c3-be3b31d6a8ab": {
       "attrs": {
        "height": 0.8,
        "width": 0.8,
        "x": 0.1,
        "y": 0.1
       },
       "content": {
        "cell": "b402db01-2ce8-4d5f-8b78-9dec5166cfee",
        "part": "whole"
       },
       "id": "1def0081-02c6-48bf-87c3-be3b31d6a8ab"
      }
     }
    },
    "8e400211-6727-4987-a487-5354a845800a": {
     "id": "8e400211-6727-4987-a487-5354a845800a",
     "prev": "04437d21-0f17-489b-a70b-6a48c7cfc545",
     "regions": {
      "30938762-29c2-40b6-9038-129c4d119a8c": {
       "attrs": {
        "height": 0.8,
        "width": 0.8,
        "x": 0.1,
        "y": 0.1
       },
       "content": {
        "cell": "49203604-2c37-4e8c-9ece-93992fb185d3",
        "part": "whole"
       },
       "id": "30938762-29c2-40b6-9038-129c4d119a8c"
      }
     }
    },
    "9326275d-5c76-4fcf-82b6-74957727ba64": {
     "id": "9326275d-5c76-4fcf-82b6-74957727ba64",
     "prev": "ab7f441d-c037-449a-b078-691ef20428c3",
     "regions": {
      "94d6ea1c-8ccb-4ecb-b9bf-968300345ad2": {
       "attrs": {
        "height": 0.8,
        "width": 0.8,
        "x": 0.1,
        "y": 0.1
       },
       "content": {
        "cell": "df7280d5-ca08-4284-81e9-c6440c38a5c2",
        "part": "whole"
       },
       "id": "94d6ea1c-8ccb-4ecb-b9bf-968300345ad2"
      }
     }
    },
    "93c6726f-e340-4494-939a-2244f1e85906": {
     "id": "93c6726f-e340-4494-939a-2244f1e85906",
     "prev": "9dd320d0-1264-4c13-a432-61a1d8eab651",
     "regions": {
      "6f2a363e-f504-43ff-aae9-2ae3f33ae53b": {
       "attrs": {
        "height": 0.8,
        "width": 0.8,
        "x": 0.1,
        "y": 0.1
       },
       "content": {
        "cell": "c06768ed-748f-4a85-bb13-6d0de4371be6",
        "part": "whole"
       },
       "id": "6f2a363e-f504-43ff-aae9-2ae3f33ae53b"
      }
     }
    },
    "99e1cc0f-33fe-4d16-8b77-82398505eb15": {
     "id": "99e1cc0f-33fe-4d16-8b77-82398505eb15",
     "prev": "b263d97f-a200-4919-8297-42e51b1f97f5",
     "regions": {
      "6ecd05ef-c7ab-437f-864b-68fcde4b41b1": {
       "attrs": {
        "height": 0.8,
        "width": 0.8,
        "x": 0.1,
        "y": 0.1
       },
       "content": {
        "cell": "b52096cd-a996-4b9e-ac98-bb9b25fe2fc4",
        "part": "whole"
       },
       "id": "6ecd05ef-c7ab-437f-864b-68fcde4b41b1"
      }
     }
    },
    "9a3ae212-b273-4018-a3fe-a18200d45b6e": {
     "id": "9a3ae212-b273-4018-a3fe-a18200d45b6e",
     "prev": "9c0f5add-a4c7-4f22-b8c3-e54f43a9f0e7",
     "regions": {
      "17021b01-0843-414a-8d39-6565d0c0d992": {
       "attrs": {
        "height": 0.8,
        "width": 0.8,
        "x": 0.1,
        "y": 0.1
       },
       "content": {
        "cell": "f9ad7c70-7f7d-404d-8b73-df147526ceb5",
        "part": "whole"
       },
       "id": "17021b01-0843-414a-8d39-6565d0c0d992"
      }
     }
    },
    "9a872a27-5f71-49f8-88be-1db32303d463": {
     "id": "9a872a27-5f71-49f8-88be-1db32303d463",
     "prev": "225b6f04-3520-402c-9a3b-fe1d949eb2f9",
     "regions": {
      "c72a454c-04c6-48c3-b477-39f38f579dc5": {
       "attrs": {
        "height": 0.8,
        "width": 0.8,
        "x": 0.1,
        "y": 0.1
       },
       "content": {
        "cell": "29a550a7-6086-49db-93e8-917b1816146f",
        "part": "whole"
       },
       "id": "c72a454c-04c6-48c3-b477-39f38f579dc5"
      }
     }
    },
    "9afedff2-0e0d-405b-b9b5-be59b3b5d1a4": {
     "id": "9afedff2-0e0d-405b-b9b5-be59b3b5d1a4",
     "prev": "078037d0-4097-45d5-963b-71d368e652f2",
     "regions": {
      "39e9b9b6-f081-4a3f-a520-1d8d7d7b8b81": {
       "attrs": {
        "height": 0.8,
        "width": 0.8,
        "x": 0.1,
        "y": 0.1
       },
       "content": {
        "cell": "940e60ba-541c-4f5d-8fd8-1f4ef60183c8",
        "part": "whole"
       },
       "id": "39e9b9b6-f081-4a3f-a520-1d8d7d7b8b81"
      }
     }
    },
    "9c0f5add-a4c7-4f22-b8c3-e54f43a9f0e7": {
     "id": "9c0f5add-a4c7-4f22-b8c3-e54f43a9f0e7",
     "prev": "6753f001-7da5-449b-a986-346320dd31a1",
     "regions": {
      "d3ef9b83-459b-4cf2-95e6-a70f1729ffa8": {
       "attrs": {
        "height": 0.8,
        "width": 0.8,
        "x": 0.1,
        "y": 0.1
       },
       "content": {
        "cell": "d026379c-6110-42b3-812e-72fd6de8c6c7",
        "part": "whole"
       },
       "id": "d3ef9b83-459b-4cf2-95e6-a70f1729ffa8"
      }
     }
    },
    "9d00fb6a-6c9f-40d7-9264-6348191683d8": {
     "id": "9d00fb6a-6c9f-40d7-9264-6348191683d8",
     "prev": "05397b8a-186a-4276-9d47-c4ac9a169327",
     "regions": {
      "cdd47fcc-c8c1-4b85-8b22-c0adda0329f9": {
       "attrs": {
        "height": 0.8,
        "width": 0.8,
        "x": 0.1,
        "y": 0.1
       },
       "content": {
        "cell": "a45d56e6-d773-41dc-a3da-177d3095f2d7",
        "part": "whole"
       },
       "id": "cdd47fcc-c8c1-4b85-8b22-c0adda0329f9"
      }
     }
    },
    "9dd320d0-1264-4c13-a432-61a1d8eab651": {
     "id": "9dd320d0-1264-4c13-a432-61a1d8eab651",
     "prev": "8256777a-0191-41b9-946e-e2c609f5e212",
     "regions": {
      "efff4cdd-1375-4b46-b22b-516a54512770": {
       "attrs": {
        "height": 0.8,
        "width": 0.8,
        "x": 0.1,
        "y": 0.1
       },
       "content": {
        "cell": "5a3dce46-e9a3-42ba-b11f-9be7e318dee2",
        "part": "whole"
       },
       "id": "efff4cdd-1375-4b46-b22b-516a54512770"
      }
     }
    },
    "9f0db258-4f69-496f-9b84-28223690ab1f": {
     "id": "9f0db258-4f69-496f-9b84-28223690ab1f",
     "prev": "f137ef09-3214-41ad-85de-6fa18729c9cd",
     "regions": {
      "b3603dcb-d3bc-402a-abeb-3fca030f9d12": {
       "attrs": {
        "height": 0.8,
        "width": 0.8,
        "x": 0.1,
        "y": 0.1
       },
       "content": {
        "cell": "cb9c23fc-029b-40ac-8ada-c4a4a873e502",
        "part": "whole"
       },
       "id": "b3603dcb-d3bc-402a-abeb-3fca030f9d12"
      }
     }
    },
    "9f322233-132f-4c86-9225-0377b77a4bd2": {
     "id": "9f322233-132f-4c86-9225-0377b77a4bd2",
     "prev": "8db40449-1269-47b7-86c6-2d34100564a5",
     "regions": {
      "4c3278dd-af6a-4304-9d7d-580727db7689": {
       "attrs": {
        "height": 0.8,
        "width": 0.8,
        "x": 0.1,
        "y": 0.1
       },
       "content": {
        "cell": "e1bf7e80-fea0-4b34-9e86-2446aaaa7b99",
        "part": "whole"
       },
       "id": "4c3278dd-af6a-4304-9d7d-580727db7689"
      }
     }
    },
    "a26bf3a1-fefb-42d9-bda0-237782002639": {
     "id": "a26bf3a1-fefb-42d9-bda0-237782002639",
     "prev": "4869f8f6-6f45-4cc9-a67d-8068f939dc18",
     "regions": {
      "53caf2e1-f455-447b-8527-64679e120760": {
       "attrs": {
        "height": 0.8,
        "width": 0.8,
        "x": 0.1,
        "y": 0.1
       },
       "content": {
        "cell": "d75c0329-4075-44b3-94e2-91505bc37083",
        "part": "whole"
       },
       "id": "53caf2e1-f455-447b-8527-64679e120760"
      }
     }
    },
    "a3208905-de1b-4009-b392-8f100dde276f": {
     "id": "a3208905-de1b-4009-b392-8f100dde276f",
     "prev": "169f4ada-50b2-4a11-8ef2-314deb7dd8e0",
     "regions": {
      "b11f2878-217d-4415-8b2c-57515b217b6c": {
       "attrs": {
        "height": 0.8,
        "width": 0.8,
        "x": 0.1,
        "y": 0.1
       },
       "content": {
        "cell": "979c2565-7eaf-4ee6-8e85-cc1923f6ac16",
        "part": "whole"
       },
       "id": "b11f2878-217d-4415-8b2c-57515b217b6c"
      }
     }
    },
    "a467135d-982a-4b2c-b8e6-9598acf2b3f7": {
     "id": "a467135d-982a-4b2c-b8e6-9598acf2b3f7",
     "prev": "cbeb2941-ddc1-4a0d-92b4-19d751903409",
     "regions": {
      "8653867f-9c2c-4ff7-a245-8c5444018eae": {
       "attrs": {
        "height": 0.8,
        "width": 0.8,
        "x": 0.1,
        "y": 0.1
       },
       "content": {
        "cell": "bba76747-f3b8-4513-9df1-2341e1abf774",
        "part": "whole"
       },
       "id": "8653867f-9c2c-4ff7-a245-8c5444018eae"
      }
     }
    },
    "a53d647f-c3e0-4fe9-a2ca-65410f456e6e": {
     "id": "a53d647f-c3e0-4fe9-a2ca-65410f456e6e",
     "prev": "d5b0825f-3a01-46a0-a1d8-beebbbeba9ea",
     "regions": {
      "51d1a0a1-8d1a-439d-a956-1b25dc9dbc6d": {
       "attrs": {
        "height": 0.8,
        "width": 0.8,
        "x": 0.1,
        "y": 0.1
       },
       "content": {
        "cell": "9551a4b1-8192-4231-b825-700f27351cda",
        "part": "whole"
       },
       "id": "51d1a0a1-8d1a-439d-a956-1b25dc9dbc6d"
      }
     }
    },
    "a5421472-b7c6-46c8-a457-cad04543691d": {
     "id": "a5421472-b7c6-46c8-a457-cad04543691d",
     "prev": "5ae3b70a-778a-4b7e-a0ef-26e030cfc1f1",
     "regions": {
      "f33bbbca-2e90-456a-aa9f-c944c3215681": {
       "attrs": {
        "height": 0.8,
        "width": 0.8,
        "x": 0.1,
        "y": 0.1
       },
       "content": {
        "cell": "aeaaafe0-aa42-445b-a071-0a3204c5bb70",
        "part": "whole"
       },
       "id": "f33bbbca-2e90-456a-aa9f-c944c3215681"
      }
     }
    },
    "a5aafe39-e075-49a5-acbc-0b0e2f7cd39a": {
     "id": "a5aafe39-e075-49a5-acbc-0b0e2f7cd39a",
     "prev": "a53d647f-c3e0-4fe9-a2ca-65410f456e6e",
     "regions": {
      "31475446-6e66-40ab-9edc-b260216c47bb": {
       "attrs": {
        "height": 0.8,
        "width": 0.8,
        "x": 0.1,
        "y": 0.1
       },
       "content": {
        "cell": "b80e0188-6313-4fd0-a78b-c071abef7510",
        "part": "whole"
       },
       "id": "31475446-6e66-40ab-9edc-b260216c47bb"
      }
     }
    },
    "a621d91f-2c83-4120-8beb-9ac54032f389": {
     "id": "a621d91f-2c83-4120-8beb-9ac54032f389",
     "prev": "9a872a27-5f71-49f8-88be-1db32303d463",
     "regions": {
      "0f906c0e-8a6f-4703-90a4-56e72b0fc1ab": {
       "attrs": {
        "height": 0.8,
        "width": 0.8,
        "x": 0.1,
        "y": 0.1
       },
       "content": {
        "cell": "5ae2fcd0-a1b0-478d-a738-854f693bae0d",
        "part": "whole"
       },
       "id": "0f906c0e-8a6f-4703-90a4-56e72b0fc1ab"
      }
     }
    },
    "a64a73e4-d4ff-4e4d-a4ac-67599e6bbe60": {
     "id": "a64a73e4-d4ff-4e4d-a4ac-67599e6bbe60",
     "prev": "a5aafe39-e075-49a5-acbc-0b0e2f7cd39a",
     "regions": {
      "9f97379a-1427-4915-a9f0-30660a0716ea": {
       "attrs": {
        "height": 0.8,
        "width": 0.8,
        "x": 0.1,
        "y": 0.1
       },
       "content": {
        "cell": "30c16304-8c40-4210-8084-2eedeeb864d5",
        "part": "whole"
       },
       "id": "9f97379a-1427-4915-a9f0-30660a0716ea"
      }
     }
    },
    "ab7f441d-c037-449a-b078-691ef20428c3": {
     "id": "ab7f441d-c037-449a-b078-691ef20428c3",
     "prev": "2e4d8493-68d1-41f8-9506-036eb5486770",
     "regions": {
      "12aeb0ca-ecb1-483e-98c8-fbe6c886d3d8": {
       "attrs": {
        "height": 0.8,
        "width": 0.8,
        "x": 0.1,
        "y": 0.1
       },
       "content": {
        "cell": "da8ee831-e22a-43ca-8360-9c93b60f3a1d",
        "part": "whole"
       },
       "id": "12aeb0ca-ecb1-483e-98c8-fbe6c886d3d8"
      }
     }
    },
    "abc09b30-6e20-4768-ac1d-d1021f42a8da": {
     "id": "abc09b30-6e20-4768-ac1d-d1021f42a8da",
     "prev": "e3153d9b-ab64-415c-af50-2f9525c84d7c",
     "regions": {
      "da05fff1-3fb4-4e71-a36c-ccc5b4ef3d15": {
       "attrs": {
        "height": 0.8,
        "width": 0.8,
        "x": 0.1,
        "y": 0.1
       },
       "content": {
        "cell": "79867c32-b11e-45ce-8984-b1c62ed607ed",
        "part": "whole"
       },
       "id": "da05fff1-3fb4-4e71-a36c-ccc5b4ef3d15"
      }
     }
    },
    "af708e74-20d3-4a87-8a6e-caa915868937": {
     "id": "af708e74-20d3-4a87-8a6e-caa915868937",
     "prev": "2ef134b5-9ae9-4008-9338-5ab66373eb8b",
     "regions": {
      "cd99f56c-350b-4ea7-98b2-e4feadcf82f1": {
       "attrs": {
        "height": 0.8,
        "width": 0.8,
        "x": 0.1,
        "y": 0.1
       },
       "content": {
        "cell": "e597ce6a-2e41-466f-80bf-cc4c9ced5a18",
        "part": "whole"
       },
       "id": "cd99f56c-350b-4ea7-98b2-e4feadcf82f1"
      }
     }
    },
    "b263d97f-a200-4919-8297-42e51b1f97f5": {
     "id": "b263d97f-a200-4919-8297-42e51b1f97f5",
     "prev": "a3208905-de1b-4009-b392-8f100dde276f",
     "regions": {
      "08d8959b-41a8-48a2-a5f8-32fc261ca343": {
       "attrs": {
        "height": 0.8,
        "width": 0.8,
        "x": 0.1,
        "y": 0.1
       },
       "content": {
        "cell": "1fb4f102-e8a0-465c-a6ce-94a2b77ee6bd",
        "part": "whole"
       },
       "id": "08d8959b-41a8-48a2-a5f8-32fc261ca343"
      }
     }
    },
    "b32d0844-3dc8-4393-98b2-5e62d7bb0b71": {
     "id": "b32d0844-3dc8-4393-98b2-5e62d7bb0b71",
     "prev": "c097e7d3-e1ac-443c-8368-22968fb8e20f",
     "regions": {
      "e4650eeb-20ba-4358-981d-d0d046bc5a91": {
       "attrs": {
        "height": 0.8,
        "width": 0.8,
        "x": 0.1,
        "y": 0.1
       },
       "content": {
        "cell": "7e534bc7-c8dc-4d1c-ab66-67d533d6c4dd",
        "part": "whole"
       },
       "id": "e4650eeb-20ba-4358-981d-d0d046bc5a91"
      }
     }
    },
    "b45db89c-4540-4afb-b1d9-d4a6cbc51561": {
     "id": "b45db89c-4540-4afb-b1d9-d4a6cbc51561",
     "prev": "ee7efefe-47c8-47f0-b6d1-70e83d617ced",
     "regions": {
      "6ebcfcae-ea52-4816-9bc1-c4638b1aac15": {
       "attrs": {
        "height": 0.8,
        "width": 0.8,
        "x": 0.1,
        "y": 0.1
       },
       "content": {
        "cell": "7ca79492-e251-4ed5-87a3-2188be2c2a8f",
        "part": "whole"
       },
       "id": "6ebcfcae-ea52-4816-9bc1-c4638b1aac15"
      }
     }
    },
    "b61b71dc-9d7e-4ca6-8f29-476257cf1fde": {
     "id": "b61b71dc-9d7e-4ca6-8f29-476257cf1fde",
     "prev": "5cfb548b-c96b-40a9-af82-cdb7911a84c8",
     "regions": {
      "3078009a-dd68-4b69-8700-01d702c6170f": {
       "attrs": {
        "height": 0.8,
        "width": 0.8,
        "x": 0.1,
        "y": 0.1
       },
       "content": {
        "cell": "0a1f9f2c-f164-4303-97f6-6117c48ced15",
        "part": "whole"
       },
       "id": "3078009a-dd68-4b69-8700-01d702c6170f"
      }
     }
    },
    "c097e7d3-e1ac-443c-8368-22968fb8e20f": {
     "id": "c097e7d3-e1ac-443c-8368-22968fb8e20f",
     "prev": "4a267ccc-e8c8-4113-80a4-d5b8070a49d0",
     "regions": {
      "861ce83d-bf64-4e66-8bde-99a16970784b": {
       "attrs": {
        "height": 0.8,
        "width": 0.8,
        "x": 0.1,
        "y": 0.1
       },
       "content": {
        "cell": "2a2226ba-22e2-4530-be9b-6976bf88b168",
        "part": "whole"
       },
       "id": "861ce83d-bf64-4e66-8bde-99a16970784b"
      }
     }
    },
    "c1f07c08-291b-40f9-a2d2-f88f7629b876": {
     "id": "c1f07c08-291b-40f9-a2d2-f88f7629b876",
     "prev": "393e26c9-a544-4368-a43b-f03547d2947c",
     "regions": {
      "6f15c1b0-1b3c-4737-a88c-e809a6cb0e25": {
       "attrs": {
        "height": 0.8,
        "width": 0.8,
        "x": 0.1,
        "y": 0.1
       },
       "content": {
        "cell": "1d5e383a-2923-41b6-9a6a-1fdd103fdd93",
        "part": "whole"
       },
       "id": "6f15c1b0-1b3c-4737-a88c-e809a6cb0e25"
      }
     }
    },
    "c4002137-2914-474d-858a-e181c45106e0": {
     "id": "c4002137-2914-474d-858a-e181c45106e0",
     "prev": "9d00fb6a-6c9f-40d7-9264-6348191683d8",
     "regions": {
      "59d1276a-f672-461b-b492-5bbf7be57d77": {
       "attrs": {
        "height": 0.8,
        "width": 0.8,
        "x": 0.1,
        "y": 0.1
       },
       "content": {
        "cell": "c4eeea41-9ac2-49fa-8995-a776bd4eb677",
        "part": "whole"
       },
       "id": "59d1276a-f672-461b-b492-5bbf7be57d77"
      }
     }
    },
    "c407c091-af04-4007-927f-eca9c27c1f38": {
     "id": "c407c091-af04-4007-927f-eca9c27c1f38",
     "prev": "43d79c23-cb27-4b91-839a-0082e5356aa3",
     "regions": {
      "7ab1243a-f835-4a65-a13a-0fc52d89ce13": {
       "attrs": {
        "height": 0.8,
        "width": 0.8,
        "x": 0.1,
        "y": 0.1
       },
       "content": {
        "cell": "2298f98f-6963-4dea-ad6e-dd0b9c2f7e9f",
        "part": "whole"
       },
       "id": "7ab1243a-f835-4a65-a13a-0fc52d89ce13"
      }
     }
    },
    "c8c67562-f7fb-4c56-b2b5-5f23608cedd1": {
     "id": "c8c67562-f7fb-4c56-b2b5-5f23608cedd1",
     "prev": "a64a73e4-d4ff-4e4d-a4ac-67599e6bbe60",
     "regions": {
      "c18b7e1e-97b1-41fa-96c5-099c329107c6": {
       "attrs": {
        "height": 0.8,
        "width": 0.8,
        "x": 0.1,
        "y": 0.1
       },
       "content": {
        "cell": "8a1014bf-438f-4499-aad1-d2f1af8afe95",
        "part": "whole"
       },
       "id": "c18b7e1e-97b1-41fa-96c5-099c329107c6"
      }
     }
    },
    "c8ef5cb1-a0a8-40c7-9790-717b58d654b5": {
     "id": "c8ef5cb1-a0a8-40c7-9790-717b58d654b5",
     "prev": "4a2581be-93b4-4d6e-9a57-a69059655398",
     "regions": {
      "a402fac2-bfe3-4def-a8c0-9dc160649abe": {
       "attrs": {
        "height": 0.8,
        "width": 0.8,
        "x": 0.1,
        "y": 0.1
       },
       "content": {
        "cell": "95677dc2-4f62-4349-9538-9d9f080daeb0",
        "part": "whole"
       },
       "id": "a402fac2-bfe3-4def-a8c0-9dc160649abe"
      }
     }
    },
    "ca498038-4be5-4a87-b462-f17d36d4a2ae": {
     "id": "ca498038-4be5-4a87-b462-f17d36d4a2ae",
     "prev": "53a2ee81-f67d-459e-8238-afee3dd33944",
     "regions": {
      "97f26447-63b3-4c11-9ae6-a98ce4ea635a": {
       "attrs": {
        "height": 0.8,
        "width": 0.8,
        "x": 0.1,
        "y": 0.1
       },
       "content": {
        "cell": "e0a4486c-c9a5-4119-a2e7-16af6e999c91",
        "part": "whole"
       },
       "id": "97f26447-63b3-4c11-9ae6-a98ce4ea635a"
      }
     }
    },
    "cbeb2941-ddc1-4a0d-92b4-19d751903409": {
     "id": "cbeb2941-ddc1-4a0d-92b4-19d751903409",
     "layout": "manual",
     "prev": null,
     "regions": {
      "a46c1b88-2aaf-4820-8e23-045f4d5daf5b": {
       "attrs": {
        "height": 1,
        "pad": 0.01,
        "treemap:weight": 1,
        "width": 1,
        "x": 0,
        "y": 0
       },
       "content": {
        "cell": "01060318-5dcd-4a10-9d2a-e48e3e62c74e",
        "part": "whole"
       },
       "id": "a46c1b88-2aaf-4820-8e23-045f4d5daf5b"
      },
      "bf816c2a-3b7a-48d5-9090-dae35805dc16": {
       "attrs": {
        "height": 0.8,
        "width": 0.8,
        "x": 0.1,
        "y": 0.1
       },
       "id": "bf816c2a-3b7a-48d5-9090-dae35805dc16"
      }
     }
    },
    "d46cc4f9-bfb5-4943-bca5-b579a7d57f9b": {
     "id": "d46cc4f9-bfb5-4943-bca5-b579a7d57f9b",
     "prev": "a467135d-982a-4b2c-b8e6-9598acf2b3f7",
     "regions": {
      "0b9eb5bc-f758-4f8c-9ac4-2fa9455a529d": {
       "attrs": {
        "height": 0.8,
        "width": 0.8,
        "x": 0.1,
        "y": 0.1
       },
       "content": {
        "cell": "ddd3e69a-8b1a-4382-970e-bd50c4ff20f3",
        "part": "whole"
       },
       "id": "0b9eb5bc-f758-4f8c-9ac4-2fa9455a529d"
      }
     }
    },
    "d5b0825f-3a01-46a0-a1d8-beebbbeba9ea": {
     "id": "d5b0825f-3a01-46a0-a1d8-beebbbeba9ea",
     "prev": "a5421472-b7c6-46c8-a457-cad04543691d",
     "regions": {
      "83d6bc23-4564-41f3-9263-bb6fc785635b": {
       "attrs": {
        "height": 0.8,
        "width": 0.8,
        "x": 0.1,
        "y": 0.1
       },
       "content": {
        "cell": "9b62e11f-e87f-435c-986d-8b6067b5cd09",
        "part": "whole"
       },
       "id": "83d6bc23-4564-41f3-9263-bb6fc785635b"
      }
     }
    },
    "da46ad4b-068c-4615-a3f6-ad2b3f9bdc1a": {
     "id": "da46ad4b-068c-4615-a3f6-ad2b3f9bdc1a",
     "prev": "e9df78b9-ac82-424f-a025-cfd33fe8b884",
     "regions": {
      "85ea55db-27b3-42b8-8d17-b820fec4e4fc": {
       "attrs": {
        "height": 0.8,
        "width": 0.8,
        "x": 0.1,
        "y": 0.1
       },
       "content": {
        "cell": "469ee0af-9826-43c3-aeb9-2db385d3ef91",
        "part": "whole"
       },
       "id": "85ea55db-27b3-42b8-8d17-b820fec4e4fc"
      }
     }
    },
    "df8dc18e-b7f6-4bba-8b09-32faec6a9adb": {
     "id": "df8dc18e-b7f6-4bba-8b09-32faec6a9adb",
     "prev": "12046e2c-58c8-4e9b-ab5d-e9910d7997f0",
     "regions": {
      "275a2f9a-1b90-4667-910f-bb303d20aa16": {
       "attrs": {
        "height": 0.8,
        "width": 0.8,
        "x": 0.1,
        "y": 0.1
       },
       "content": {
        "cell": "97f3f264-2746-4d8e-a378-0214c8f05803",
        "part": "whole"
       },
       "id": "275a2f9a-1b90-4667-910f-bb303d20aa16"
      }
     }
    },
    "e3153d9b-ab64-415c-af50-2f9525c84d7c": {
     "id": "e3153d9b-ab64-415c-af50-2f9525c84d7c",
     "prev": "9afedff2-0e0d-405b-b9b5-be59b3b5d1a4",
     "regions": {
      "2812e3be-26d4-4372-bfc3-2e288ef2e133": {
       "attrs": {
        "height": 0.8,
        "width": 0.8,
        "x": 0.1,
        "y": 0.1
       },
       "content": {
        "cell": "34c5ce33-f7bd-4e29-8a28-6c4a2acade2e",
        "part": "whole"
       },
       "id": "2812e3be-26d4-4372-bfc3-2e288ef2e133"
      }
     }
    },
    "e9df78b9-ac82-424f-a025-cfd33fe8b884": {
     "id": "e9df78b9-ac82-424f-a025-cfd33fe8b884",
     "prev": "b45db89c-4540-4afb-b1d9-d4a6cbc51561",
     "regions": {
      "ae593d5c-c042-4c2b-a0b4-745797e1e948": {
       "attrs": {
        "height": 0.8,
        "width": 0.8,
        "x": 0.1,
        "y": 0.1
       },
       "content": {
        "cell": "69a0cee6-3197-4d94-a9a2-6d5c505d566a",
        "part": "whole"
       },
       "id": "ae593d5c-c042-4c2b-a0b4-745797e1e948"
      }
     }
    },
    "ea2de6d1-a769-46b6-820a-89532e6db0f1": {
     "id": "ea2de6d1-a769-46b6-820a-89532e6db0f1",
     "prev": "6edb34b8-5276-4bbd-8945-d98f6aae910c",
     "regions": {
      "b77b0902-0641-4893-8d20-0212187ad916": {
       "attrs": {
        "height": 0.8,
        "width": 0.8,
        "x": 0.1,
        "y": 0.1
       },
       "content": {
        "cell": "eaa4b178-34b9-46ff-a45f-ed0b943efc40",
        "part": "whole"
       },
       "id": "b77b0902-0641-4893-8d20-0212187ad916"
      }
     }
    },
    "ec02e9b9-8bda-439c-9759-f66384e29fb8": {
     "id": "ec02e9b9-8bda-439c-9759-f66384e29fb8",
     "prev": "c1f07c08-291b-40f9-a2d2-f88f7629b876",
     "regions": {
      "d88549c6-43c3-4a47-9681-445d8773c5ac": {
       "attrs": {
        "height": 0.8,
        "width": 0.8,
        "x": 0.1,
        "y": 0.1
       },
       "content": {
        "cell": "6b0e4e98-05c1-4e26-a3f1-3a31197e4ff7",
        "part": "whole"
       },
       "id": "d88549c6-43c3-4a47-9681-445d8773c5ac"
      }
     }
    },
    "ee7efefe-47c8-47f0-b6d1-70e83d617ced": {
     "id": "ee7efefe-47c8-47f0-b6d1-70e83d617ced",
     "prev": "c4002137-2914-474d-858a-e181c45106e0",
     "regions": {
      "7cc60eff-9061-4f59-bbef-97f9b4c47d93": {
       "attrs": {
        "height": 0.8,
        "width": 0.8,
        "x": 0.1,
        "y": 0.1
       },
       "content": {
        "cell": "fe69fca7-9b3a-4ef7-adf4-05ca35c07619",
        "part": "whole"
       },
       "id": "7cc60eff-9061-4f59-bbef-97f9b4c47d93"
      }
     }
    },
    "f137ef09-3214-41ad-85de-6fa18729c9cd": {
     "id": "f137ef09-3214-41ad-85de-6fa18729c9cd",
     "prev": "12773f28-ee3f-40ed-98b5-beed2e6eb658",
     "regions": {
      "72c1cd8f-fa01-460f-b8f5-76c0740aa512": {
       "attrs": {
        "height": 0.8,
        "width": 0.8,
        "x": 0.1,
        "y": 0.1
       },
       "content": {
        "cell": "1fd6f876-55a9-4f35-b773-bd472e4ef546",
        "part": "whole"
       },
       "id": "72c1cd8f-fa01-460f-b8f5-76c0740aa512"
      }
     }
    },
    "f166eec3-a91e-4b18-8435-314eba97dd41": {
     "id": "f166eec3-a91e-4b18-8435-314eba97dd41",
     "prev": "21962053-5620-46c8-bc81-beb7408dc4ab",
     "regions": {
      "6ba01036-5a6f-41a7-92df-8d37ef290ebe": {
       "attrs": {
        "height": 0.8,
        "width": 0.8,
        "x": 0.1,
        "y": 0.1
       },
       "content": {
        "cell": "a09e085b-818b-44a3-a45f-a5d4ad0567e8",
        "part": "whole"
       },
       "id": "6ba01036-5a6f-41a7-92df-8d37ef290ebe"
      }
     }
    },
    "f94d9fb0-53fb-4e3f-9aa8-d33b9c176eed": {
     "id": "f94d9fb0-53fb-4e3f-9aa8-d33b9c176eed",
     "prev": "df8dc18e-b7f6-4bba-8b09-32faec6a9adb",
     "regions": {
      "3b98ebc7-6d2c-4510-934a-ec07098d7edf": {
       "attrs": {
        "height": 0.8,
        "width": 0.8,
        "x": 0.1,
        "y": 0.1
       },
       "content": {
        "cell": "15e58167-d30a-4b48-a04f-38e898f23a29",
        "part": "whole"
       },
       "id": "3b98ebc7-6d2c-4510-934a-ec07098d7edf"
      }
     }
    },
    "fadfba8d-4a3d-43ff-b6dd-18e103366a48": {
     "id": "fadfba8d-4a3d-43ff-b6dd-18e103366a48",
     "prev": "93c6726f-e340-4494-939a-2244f1e85906",
     "regions": {
      "e557a16e-7202-4103-acfc-88125f6bd744": {
       "attrs": {
        "height": 0.8,
        "width": 0.8,
        "x": 0.1,
        "y": 0.1
       },
       "content": {
        "cell": "352fe323-a0a2-4707-a277-49fa6bb0faf7",
        "part": "whole"
       },
       "id": "e557a16e-7202-4103-acfc-88125f6bd744"
      }
     }
    },
    "fe80ffbe-07bf-4b23-ac3d-d6affe68082e": {
     "id": "fe80ffbe-07bf-4b23-ac3d-d6affe68082e",
     "prev": "62a3a210-016f-4fde-a045-b0801ee5058f",
     "regions": {
      "ceaad35f-5c21-4f83-9b18-06cc9c496e47": {
       "attrs": {
        "height": 0.8,
        "width": 0.8,
        "x": 0.1,
        "y": 0.1
       },
       "content": {
        "cell": "e6af4b6d-ffce-4906-97fe-8aaad2d6307d",
        "part": "whole"
       },
       "id": "ceaad35f-5c21-4f83-9b18-06cc9c496e47"
      }
     }
    }
   },
   "themes": {}
  }
 },
 "nbformat": 4,
 "nbformat_minor": 1
}
